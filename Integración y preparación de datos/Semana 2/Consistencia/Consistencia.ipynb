{
 "cells": [
  {
   "cell_type": "markdown",
   "metadata": {},
   "source": [
    "![Banner-Preparaci-n.png](https://i.postimg.cc/q7vd5LZP/Banner-Preparaci-n.png)"
   ]
  },
  {
   "cell_type": "markdown",
   "metadata": {},
   "source": [
    "# Integración y preparación de datos\n",
    "\n",
    "## L4: Consistencia\n",
    "\n",
    "De acuerdo con el caso de uso del sector retail, vamos a cumplir los objetivos de mejorar la calidad de los datos y en este caso vamos a enfocarnos en la consistencia de los datos."
   ]
  },
  {
   "cell_type": "markdown",
   "metadata": {},
   "source": [
    "**Autor:** David Ocampo, Daniel Galindo Ruiz\n",
    "    \n",
    "d.ocampo@uniandes.edu.co, d.galindo@uniandes.edu.co"
   ]
  },
  {
   "cell_type": "markdown",
   "metadata": {},
   "source": [
    "### 1. Contexto del negocio \n",
    "\n",
    "La organización está realizando el informe de ventas totales, sin embargo encuentra que la totalización de productos por categoría no concuerda con los totales esperados. Por lo tanto en necesario familiarizarse con esta dimensión de calidad de los datos y estar en capacidad de detectar problemas relacionados con esa dimensión, para poder corregirla y si es necesario notificar a la organización para que se corrija el problema de raíz.  \n",
    "\n",
    "\n",
    "\n",
    "### Objetivos\n",
    "Familiarizarse con los datos de los productos, para identificar los problemas relacionados con la consistencia y de ser posible corregirlos.\n",
    "En particular se pretende:\n",
    "\n",
    "1. Identificar registros con problemas de consistencia tanto exacta como difusa.\n",
    "2. Plantear posibles causas de ese problema.\n",
    "3. Plantear y aplicar alternativas de solución. \n",
    "4. Reflexionar sobre alternativas para automatizar este proceso al recibir nuevas versiones de la fuente de datos analizada."
   ]
  },
  {
   "cell_type": "markdown",
   "metadata": {},
   "source": [
    "### 2. Importación de librerías y archivos\n",
    "\n",
    "En las siguientes líneas se importarán las librerías necesarias, las cuales son **Pandas** para el manejo de datos, la librería **distance**, particularmente la función Levenshtein y la librería **itertools**."
   ]
  },
  {
   "cell_type": "code",
   "execution_count": 2,
   "metadata": {},
   "outputs": [
    {
     "name": "stdout",
     "output_type": "stream",
     "text": [
      "Collecting python-Levenshtein\n",
      "  Using cached python-Levenshtein-0.12.2.tar.gz (50 kB)\n",
      "  Preparing metadata (setup.py): started\n",
      "  Preparing metadata (setup.py): finished with status 'done'\n",
      "Requirement already satisfied: setuptools in c:\\users\\edwar\\anaconda3\\lib\\site-packages (from python-Levenshtein) (61.2.0)\n",
      "Building wheels for collected packages: python-Levenshtein\n",
      "  Building wheel for python-Levenshtein (setup.py): started\n",
      "  Building wheel for python-Levenshtein (setup.py): finished with status 'error'\n",
      "  Running setup.py clean for python-Levenshtein\n",
      "Failed to build python-Levenshtein\n",
      "Installing collected packages: python-Levenshtein\n",
      "  Running setup.py install for python-Levenshtein: started\n",
      "  Running setup.py install for python-Levenshtein: finished with status 'error'Note: you may need to restart the kernel to use updated packages.\n"
     ]
    },
    {
     "name": "stderr",
     "output_type": "stream",
     "text": [
      "  error: subprocess-exited-with-error\n",
      "  \n",
      "  python setup.py bdist_wheel did not run successfully.\n",
      "  exit code: 1\n",
      "  \n",
      "  [28 lines of output]\n",
      "  running bdist_wheel\n",
      "  running build\n",
      "  running build_py\n",
      "  creating build\n",
      "  creating build\\lib.win-amd64-3.9\n",
      "  creating build\\lib.win-amd64-3.9\\Levenshtein\n",
      "  copying Levenshtein\\StringMatcher.py -> build\\lib.win-amd64-3.9\\Levenshtein\n",
      "  copying Levenshtein\\__init__.py -> build\\lib.win-amd64-3.9\\Levenshtein\n",
      "  running egg_info\n",
      "  writing python_Levenshtein.egg-info\\PKG-INFO\n",
      "  writing dependency_links to python_Levenshtein.egg-info\\dependency_links.txt\n",
      "  deleting python_Levenshtein.egg-info\\entry_points.txt\n",
      "  writing namespace_packages to python_Levenshtein.egg-info\\namespace_packages.txt\n",
      "  writing requirements to python_Levenshtein.egg-info\\requires.txt\n",
      "  writing top-level names to python_Levenshtein.egg-info\\top_level.txt\n",
      "  reading manifest file 'python_Levenshtein.egg-info\\SOURCES.txt'\n",
      "  reading manifest template 'MANIFEST.in'\n",
      "  warning: no previously-included files matching '*pyc' found anywhere in distribution\n",
      "  warning: no previously-included files matching '*so' found anywhere in distribution\n",
      "  warning: no previously-included files matching '.project' found anywhere in distribution\n",
      "  warning: no previously-included files matching '.pydevproject' found anywhere in distribution\n",
      "  adding license file 'COPYING'\n",
      "  writing manifest file 'python_Levenshtein.egg-info\\SOURCES.txt'\n",
      "  copying Levenshtein\\_levenshtein.c -> build\\lib.win-amd64-3.9\\Levenshtein\n",
      "  copying Levenshtein\\_levenshtein.h -> build\\lib.win-amd64-3.9\\Levenshtein\n",
      "  running build_ext\n",
      "  building 'Levenshtein._levenshtein' extension\n",
      "  error: Microsoft Visual C++ 14.0 or greater is required. Get it with \"Microsoft C++ Build Tools\": https://visualstudio.microsoft.com/visual-cpp-build-tools/\n",
      "  [end of output]\n",
      "  \n",
      "  note: This error originates from a subprocess, and is likely not a problem with pip.\n",
      "  ERROR: Failed building wheel for python-Levenshtein\n",
      "  error: subprocess-exited-with-error\n",
      "  \n",
      "  Running setup.py install for python-Levenshtein did not run successfully.\n",
      "  exit code: 1\n",
      "  \n",
      "  [29 lines of output]\n",
      "  running install\n",
      "  C:\\Users\\Edwar\\anaconda3\\lib\\site-packages\\setuptools\\command\\install.py:34: SetuptoolsDeprecationWarning: setup.py install is deprecated. Use build and pip and other standards-based tools.\n",
      "    warnings.warn(\n",
      "  running build\n",
      "  running build_py\n",
      "  creating build\n",
      "  creating build\\lib.win-amd64-3.9\n",
      "  creating build\\lib.win-amd64-3.9\\Levenshtein\n",
      "  copying Levenshtein\\StringMatcher.py -> build\\lib.win-amd64-3.9\\Levenshtein\n",
      "  copying Levenshtein\\__init__.py -> build\\lib.win-amd64-3.9\\Levenshtein\n",
      "  running egg_info\n",
      "  writing python_Levenshtein.egg-info\\PKG-INFO\n",
      "  writing dependency_links to python_Levenshtein.egg-info\\dependency_links.txt\n",
      "  writing namespace_packages to python_Levenshtein.egg-info\\namespace_packages.txt"
     ]
    },
    {
     "name": "stdout",
     "output_type": "stream",
     "text": [
      "\n"
     ]
    },
    {
     "name": "stderr",
     "output_type": "stream",
     "text": [
      "\n",
      "  writing requirements to python_Levenshtein.egg-info\\requires.txt\n",
      "  writing top-level names to python_Levenshtein.egg-info\\top_level.txt\n",
      "  reading manifest file 'python_Levenshtein.egg-info\\SOURCES.txt'\n",
      "  reading manifest template 'MANIFEST.in'\n",
      "  warning: no previously-included files matching '*pyc' found anywhere in distribution\n",
      "  warning: no previously-included files matching '*so' found anywhere in distribution\n",
      "  warning: no previously-included files matching '.project' found anywhere in distribution\n",
      "  warning: no previously-included files matching '.pydevproject' found anywhere in distribution\n",
      "  adding license file 'COPYING'\n",
      "  writing manifest file 'python_Levenshtein.egg-info\\SOURCES.txt'\n",
      "  copying Levenshtein\\_levenshtein.c -> build\\lib.win-amd64-3.9\\Levenshtein\n",
      "  copying Levenshtein\\_levenshtein.h -> build\\lib.win-amd64-3.9\\Levenshtein\n",
      "  running build_ext\n",
      "  building 'Levenshtein._levenshtein' extension\n",
      "  error: Microsoft Visual C++ 14.0 or greater is required. Get it with \"Microsoft C++ Build Tools\": https://visualstudio.microsoft.com/visual-cpp-build-tools/\n",
      "  [end of output]\n",
      "  \n",
      "  note: This error originates from a subprocess, and is likely not a problem with pip.\n",
      "error: legacy-install-failure\n",
      "\n",
      "Encountered error while trying to install package.\n",
      "\n",
      "python-Levenshtein\n",
      "\n",
      "note: This is an issue with the package mentioned above, not pip.\n",
      "hint: See above for output from the failure.\n"
     ]
    }
   ],
   "source": [
    "pip install python-Levenshtein"
   ]
  },
  {
   "cell_type": "code",
   "execution_count": 4,
   "metadata": {},
   "outputs": [
    {
     "ename": "ModuleNotFoundError",
     "evalue": "No module named 'Levenshtein'",
     "output_type": "error",
     "traceback": [
      "\u001b[1;31m---------------------------------------------------------------------------\u001b[0m",
      "\u001b[1;31mModuleNotFoundError\u001b[0m                       Traceback (most recent call last)",
      "Input \u001b[1;32mIn [4]\u001b[0m, in \u001b[0;36m<cell line: 7>\u001b[1;34m()\u001b[0m\n\u001b[0;32m      5\u001b[0m \u001b[38;5;28;01mimport\u001b[39;00m \u001b[38;5;21;01mitertools\u001b[39;00m\n\u001b[0;32m      6\u001b[0m \u001b[38;5;66;03m# Función de levenshtein para distancia de caracteres. Si te genera un error correr (pip install python-Leveshtein)\u001b[39;00m\n\u001b[1;32m----> 7\u001b[0m \u001b[38;5;28;01mfrom\u001b[39;00m \u001b[38;5;21;01mLevenshtein\u001b[39;00m \u001b[38;5;28;01mimport\u001b[39;00m distance \u001b[38;5;28;01mas\u001b[39;00m lev\n\u001b[0;32m      9\u001b[0m \u001b[38;5;66;03m#Librería para el manejo de audio. \u001b[39;00m\n\u001b[0;32m     10\u001b[0m \u001b[38;5;28;01mimport\u001b[39;00m \u001b[38;5;21;01mIPython\u001b[39;00m\u001b[38;5;21;01m.\u001b[39;00m\u001b[38;5;21;01mdisplay\u001b[39;00m \u001b[38;5;28;01mas\u001b[39;00m \u001b[38;5;21;01mipd\u001b[39;00m\n",
      "\u001b[1;31mModuleNotFoundError\u001b[0m: No module named 'Levenshtein'"
     ]
    }
   ],
   "source": [
    "# Importar las librerías necesarias según el análisis que se vaya a realizar\n",
    "# Librería para manejo de datos convencional\n",
    "import pandas as pd\n",
    "# generar producto cruz de listas para matriz de levenshtein\n",
    "import itertools\n",
    "# Función de levenshtein para distancia de caracteres. Si te genera un error correr (pip install python-Leveshtein)\n",
    "from Levenshtein import distance as lev\n",
    "\n",
    "#Librería para el manejo de audio. \n",
    "import IPython.display as ipd"
   ]
  },
  {
   "cell_type": "code",
   "execution_count": null,
   "metadata": {
    "scrolled": true
   },
   "outputs": [],
   "source": [
    "# Te invito a escuchar el audio donde presentamos este notebook\n",
    "#ipd.Audio('Consistencia.m4a') "
   ]
  },
  {
   "cell_type": "code",
   "execution_count": 5,
   "metadata": {
    "scrolled": true
   },
   "outputs": [
    {
     "data": {
      "text/html": [
       "<div>\n",
       "<style scoped>\n",
       "    .dataframe tbody tr th:only-of-type {\n",
       "        vertical-align: middle;\n",
       "    }\n",
       "\n",
       "    .dataframe tbody tr th {\n",
       "        vertical-align: top;\n",
       "    }\n",
       "\n",
       "    .dataframe thead th {\n",
       "        text-align: right;\n",
       "    }\n",
       "</style>\n",
       "<table border=\"1\" class=\"dataframe\">\n",
       "  <thead>\n",
       "    <tr style=\"text-align: right;\">\n",
       "      <th></th>\n",
       "      <th>orden_id</th>\n",
       "      <th>producto_id</th>\n",
       "      <th>vendedor_id</th>\n",
       "      <th>fecha_envio_limite</th>\n",
       "      <th>precio</th>\n",
       "      <th>valor_flete</th>\n",
       "      <th>codigo_postal_vendedor</th>\n",
       "      <th>ciudad_vendedor</th>\n",
       "      <th>departamento_vendedor</th>\n",
       "      <th>nombre_categoria_producto</th>\n",
       "      <th>longitud_nombre_producto</th>\n",
       "      <th>longitud_descripcion_producto</th>\n",
       "      <th>cantidad_fotos_producto</th>\n",
       "      <th>peso_g_producto</th>\n",
       "      <th>longitud_cm_producto</th>\n",
       "      <th>altura_cm_producto</th>\n",
       "      <th>ancho_cm_producto</th>\n",
       "      <th>volumen_cm3_producto</th>\n",
       "    </tr>\n",
       "  </thead>\n",
       "  <tbody>\n",
       "    <tr>\n",
       "      <th>0</th>\n",
       "      <td>1564PA53A-A</td>\n",
       "      <td>PA53</td>\n",
       "      <td>VE6785</td>\n",
       "      <td>1-ago-17</td>\n",
       "      <td>-7.27</td>\n",
       "      <td>27.12</td>\n",
       "      <td>52565</td>\n",
       "      <td>Providencia</td>\n",
       "      <td>Nariño</td>\n",
       "      <td>Electrodomésticos</td>\n",
       "      <td>19</td>\n",
       "      <td>28</td>\n",
       "      <td>29</td>\n",
       "      <td>1324</td>\n",
       "      <td>48</td>\n",
       "      <td>17</td>\n",
       "      <td>11</td>\n",
       "      <td>8976</td>\n",
       "    </tr>\n",
       "    <tr>\n",
       "      <th>1</th>\n",
       "      <td>28983PD80A-A</td>\n",
       "      <td>PD80</td>\n",
       "      <td>VE3342</td>\n",
       "      <td>31-may-18</td>\n",
       "      <td>3.22</td>\n",
       "      <td>6.01</td>\n",
       "      <td>52203</td>\n",
       "      <td>Colon</td>\n",
       "      <td>Nariño</td>\n",
       "      <td>Celulares</td>\n",
       "      <td>18</td>\n",
       "      <td>29</td>\n",
       "      <td>16</td>\n",
       "      <td>4677</td>\n",
       "      <td>26</td>\n",
       "      <td>6</td>\n",
       "      <td>16</td>\n",
       "      <td>2496</td>\n",
       "    </tr>\n",
       "    <tr>\n",
       "      <th>2</th>\n",
       "      <td>38613PB61A-A</td>\n",
       "      <td>PB61</td>\n",
       "      <td>VE7671</td>\n",
       "      <td>27-oct-17</td>\n",
       "      <td>104.18</td>\n",
       "      <td>17.70</td>\n",
       "      <td>52051</td>\n",
       "      <td>Arboleda</td>\n",
       "      <td>Nariño</td>\n",
       "      <td>Ropa_de_adultos</td>\n",
       "      <td>13</td>\n",
       "      <td>30</td>\n",
       "      <td>29</td>\n",
       "      <td>101</td>\n",
       "      <td>17</td>\n",
       "      <td>26</td>\n",
       "      <td>24</td>\n",
       "      <td>10608</td>\n",
       "    </tr>\n",
       "    <tr>\n",
       "      <th>3</th>\n",
       "      <td>4978PS63A-A</td>\n",
       "      <td>PS63</td>\n",
       "      <td>VE1492</td>\n",
       "      <td>13/12/2017</td>\n",
       "      <td>348.39</td>\n",
       "      <td>34.84</td>\n",
       "      <td>52323</td>\n",
       "      <td>Gualmatan</td>\n",
       "      <td>Nariño</td>\n",
       "      <td>Carnicería</td>\n",
       "      <td>33</td>\n",
       "      <td>26</td>\n",
       "      <td>13</td>\n",
       "      <td>514</td>\n",
       "      <td>47</td>\n",
       "      <td>16</td>\n",
       "      <td>43</td>\n",
       "      <td>32336</td>\n",
       "    </tr>\n",
       "    <tr>\n",
       "      <th>4</th>\n",
       "      <td>73781PA71A-A</td>\n",
       "      <td>PA71</td>\n",
       "      <td>VE8575</td>\n",
       "      <td>1/11/2018 0:00</td>\n",
       "      <td>29.03</td>\n",
       "      <td>30.23</td>\n",
       "      <td>5002</td>\n",
       "      <td>Abejorral</td>\n",
       "      <td>Antioquia</td>\n",
       "      <td>Electrodomésticos</td>\n",
       "      <td>27</td>\n",
       "      <td>3</td>\n",
       "      <td>13</td>\n",
       "      <td>2962</td>\n",
       "      <td>20</td>\n",
       "      <td>26</td>\n",
       "      <td>28</td>\n",
       "      <td>14560</td>\n",
       "    </tr>\n",
       "  </tbody>\n",
       "</table>\n",
       "</div>"
      ],
      "text/plain": [
       "       orden_id producto_id vendedor_id fecha_envio_limite  precio  \\\n",
       "0   1564PA53A-A        PA53      VE6785           1-ago-17   -7.27   \n",
       "1  28983PD80A-A        PD80      VE3342          31-may-18    3.22   \n",
       "2  38613PB61A-A        PB61      VE7671          27-oct-17  104.18   \n",
       "3   4978PS63A-A        PS63      VE1492         13/12/2017  348.39   \n",
       "4  73781PA71A-A        PA71      VE8575     1/11/2018 0:00   29.03   \n",
       "\n",
       "   valor_flete  codigo_postal_vendedor ciudad_vendedor departamento_vendedor  \\\n",
       "0        27.12                   52565     Providencia                Nariño   \n",
       "1         6.01                   52203           Colon                Nariño   \n",
       "2        17.70                   52051        Arboleda                Nariño   \n",
       "3        34.84                   52323       Gualmatan                Nariño   \n",
       "4        30.23                    5002       Abejorral             Antioquia   \n",
       "\n",
       "  nombre_categoria_producto  longitud_nombre_producto  \\\n",
       "0         Electrodomésticos                        19   \n",
       "1                 Celulares                        18   \n",
       "2           Ropa_de_adultos                        13   \n",
       "3                Carnicería                        33   \n",
       "4         Electrodomésticos                        27   \n",
       "\n",
       "   longitud_descripcion_producto  cantidad_fotos_producto  peso_g_producto  \\\n",
       "0                             28                       29             1324   \n",
       "1                             29                       16             4677   \n",
       "2                             30                       29              101   \n",
       "3                             26                       13              514   \n",
       "4                              3                       13             2962   \n",
       "\n",
       "   longitud_cm_producto  altura_cm_producto  ancho_cm_producto  \\\n",
       "0                    48                  17                 11   \n",
       "1                    26                   6                 16   \n",
       "2                    17                  26                 24   \n",
       "3                    47                  16                 43   \n",
       "4                    20                  26                 28   \n",
       "\n",
       "   volumen_cm3_producto  \n",
       "0                  8976  \n",
       "1                  2496  \n",
       "2                 10608  \n",
       "3                 32336  \n",
       "4                 14560  "
      ]
     },
     "execution_count": 5,
     "metadata": {},
     "output_type": "execute_result"
    }
   ],
   "source": [
    "# cargar los datos en csv\n",
    "data= pd.read_csv('ordenes_por_producto.csv', sep=';', encoding=\"utf-8\")\n",
    "# Visualizar los datos\n",
    "data.head()"
   ]
  },
  {
   "cell_type": "markdown",
   "metadata": {},
   "source": [
    "Es necesario cumplir con la integridad de los datos, por lo tanto vamos a buscar lograr una fuente de datos con: completitud, estandarización, duplicidad y consistencia."
   ]
  },
  {
   "cell_type": "markdown",
   "metadata": {},
   "source": [
    "### 3. Análisis de la fuente de los datos\n",
    "\n",
    "### 3.1. Registros y atributos\n",
    "El número de registros y atributos nos dará una guía del correcto cargue de los datos, podemos utilizar la función shape para validar este paso."
   ]
  },
  {
   "cell_type": "code",
   "execution_count": 6,
   "metadata": {},
   "outputs": [
    {
     "data": {
      "text/plain": [
       "(1651, 18)"
      ]
     },
     "execution_count": 6,
     "metadata": {},
     "output_type": "execute_result"
    }
   ],
   "source": [
    "# Tamaño del dataset (filas, columnas)\n",
    "data.shape"
   ]
  },
  {
   "cell_type": "code",
   "execution_count": 7,
   "metadata": {
    "scrolled": false
   },
   "outputs": [
    {
     "data": {
      "text/plain": [
       "Index(['orden_id', 'producto_id', 'vendedor_id', 'fecha_envio_limite',\n",
       "       'precio', 'valor_flete', 'codigo_postal_vendedor', 'ciudad_vendedor',\n",
       "       'departamento_vendedor', 'nombre_categoria_producto',\n",
       "       'longitud_nombre_producto', 'longitud_descripcion_producto',\n",
       "       'cantidad_fotos_producto', 'peso_g_producto', 'longitud_cm_producto',\n",
       "       'altura_cm_producto', 'ancho_cm_producto', 'volumen_cm3_producto'],\n",
       "      dtype='object')"
      ]
     },
     "execution_count": 7,
     "metadata": {},
     "output_type": "execute_result"
    }
   ],
   "source": [
    "# Revisión de los atributos\n",
    "data.columns"
   ]
  },
  {
   "cell_type": "markdown",
   "metadata": {},
   "source": [
    "### 3.2. Tipos de datos\n",
    "\n",
    "Debemos identificar en la fuente el tipo de datos de las variables que estamos analizando, para poder establecer su formato y su dominio."
   ]
  },
  {
   "cell_type": "code",
   "execution_count": 8,
   "metadata": {
    "scrolled": true
   },
   "outputs": [
    {
     "data": {
      "text/plain": [
       "orden_id                          object\n",
       "producto_id                       object\n",
       "vendedor_id                       object\n",
       "fecha_envio_limite                object\n",
       "precio                           float64\n",
       "valor_flete                      float64\n",
       "codigo_postal_vendedor             int64\n",
       "ciudad_vendedor                   object\n",
       "departamento_vendedor             object\n",
       "nombre_categoria_producto         object\n",
       "longitud_nombre_producto           int64\n",
       "longitud_descripcion_producto      int64\n",
       "cantidad_fotos_producto            int64\n",
       "peso_g_producto                    int64\n",
       "longitud_cm_producto               int64\n",
       "altura_cm_producto                 int64\n",
       "ancho_cm_producto                  int64\n",
       "volumen_cm3_producto               int64\n",
       "dtype: object"
      ]
     },
     "execution_count": 8,
     "metadata": {},
     "output_type": "execute_result"
    }
   ],
   "source": [
    "#identificar los tipos de datos\n",
    "data.dtypes"
   ]
  },
  {
   "cell_type": "markdown",
   "metadata": {},
   "source": [
    "### 4. Consistencia \n",
    "\n",
    "Es necesario entender el dominio y estructura de los datos para esto vamos a revisar estas características para ciertos atributos que son suceptibles de un mayor entendimiento y quizás, labores de transformación."
   ]
  },
  {
   "cell_type": "markdown",
   "metadata": {},
   "source": [
    "### 4.1. Consistencia difusa en atributos de tipo string\n",
    "En el perfilamiento de datos pudimos ver que las categorías de los productos tienen errores de escritura. Sin embargo, vamos a revisar con la función de Levenshtein qué tanto difieren y por qué se da ese problema. "
   ]
  },
  {
   "cell_type": "code",
   "execution_count": 9,
   "metadata": {
    "scrolled": true
   },
   "outputs": [
    {
     "data": {
      "text/plain": [
       "Carnicería           261\n",
       "Deportes             258\n",
       "Electrodomésticos    253\n",
       "Frutas y verduras    249\n",
       "Celulares            247\n",
       "Ropa de adultos      246\n",
       "Ropa_de_adultos       23\n",
       "Frutas_y_verduras     12\n",
       "Name: nombre_categoria_producto, dtype: int64"
      ]
     },
     "execution_count": 9,
     "metadata": {},
     "output_type": "execute_result"
    }
   ],
   "source": [
    "data['nombre_categoria_producto'].value_counts()"
   ]
  },
  {
   "cell_type": "markdown",
   "metadata": {},
   "source": [
    "En un primer análisis rápido vemos que hace falta un guión bajo para la separación de palabras, pero ¿En qué medida los nombres de las categorías de productos son distintos?"
   ]
  },
  {
   "cell_type": "code",
   "execution_count": 10,
   "metadata": {
    "scrolled": true
   },
   "outputs": [
    {
     "data": {
      "text/plain": [
       "['Electrodomésticos',\n",
       " 'Celulares',\n",
       " 'Ropa_de_adultos',\n",
       " 'Carnicería',\n",
       " 'Ropa de adultos',\n",
       " nan,\n",
       " 'Deportes',\n",
       " 'Frutas y verduras',\n",
       " 'Frutas_y_verduras']"
      ]
     },
     "execution_count": 10,
     "metadata": {},
     "output_type": "execute_result"
    }
   ],
   "source": [
    "# identificar todas las categorías\n",
    "nombre_categoria=list(data['nombre_categoria_producto'].unique())\n",
    "nombre_categoria"
   ]
  },
  {
   "cell_type": "code",
   "execution_count": 15,
   "metadata": {
    "scrolled": true
   },
   "outputs": [
    {
     "data": {
      "text/plain": [
       "[('Electrodomésticos', 'Electrodomésticos'),\n",
       " ('Electrodomésticos', 'Celulares'),\n",
       " ('Electrodomésticos', 'Ropa_de_adultos'),\n",
       " ('Electrodomésticos', 'Carnicería'),\n",
       " ('Electrodomésticos', 'Ropa de adultos')]"
      ]
     },
     "execution_count": 15,
     "metadata": {},
     "output_type": "execute_result"
    }
   ],
   "source": [
    "# crear cruce de las categorías\n",
    "producto_cruz=list(itertools.product(nombre_categoria,nombre_categoria))\n",
    "producto_cruz[0:5]"
   ]
  },
  {
   "cell_type": "code",
   "execution_count": 16,
   "metadata": {
    "scrolled": false
   },
   "outputs": [
    {
     "data": {
      "text/html": [
       "<div>\n",
       "<style scoped>\n",
       "    .dataframe tbody tr th:only-of-type {\n",
       "        vertical-align: middle;\n",
       "    }\n",
       "\n",
       "    .dataframe tbody tr th {\n",
       "        vertical-align: top;\n",
       "    }\n",
       "\n",
       "    .dataframe thead th {\n",
       "        text-align: right;\n",
       "    }\n",
       "</style>\n",
       "<table border=\"1\" class=\"dataframe\">\n",
       "  <thead>\n",
       "    <tr style=\"text-align: right;\">\n",
       "      <th></th>\n",
       "      <th>nombre_categoria_1</th>\n",
       "      <th>nombre_categoria_2</th>\n",
       "    </tr>\n",
       "  </thead>\n",
       "  <tbody>\n",
       "    <tr>\n",
       "      <th>0</th>\n",
       "      <td>Electrodomésticos</td>\n",
       "      <td>Electrodomésticos</td>\n",
       "    </tr>\n",
       "    <tr>\n",
       "      <th>1</th>\n",
       "      <td>Electrodomésticos</td>\n",
       "      <td>Celulares</td>\n",
       "    </tr>\n",
       "    <tr>\n",
       "      <th>2</th>\n",
       "      <td>Electrodomésticos</td>\n",
       "      <td>Ropa_de_adultos</td>\n",
       "    </tr>\n",
       "    <tr>\n",
       "      <th>3</th>\n",
       "      <td>Electrodomésticos</td>\n",
       "      <td>Carnicería</td>\n",
       "    </tr>\n",
       "    <tr>\n",
       "      <th>4</th>\n",
       "      <td>Electrodomésticos</td>\n",
       "      <td>Ropa de adultos</td>\n",
       "    </tr>\n",
       "  </tbody>\n",
       "</table>\n",
       "</div>"
      ],
      "text/plain": [
       "  nombre_categoria_1 nombre_categoria_2\n",
       "0  Electrodomésticos  Electrodomésticos\n",
       "1  Electrodomésticos          Celulares\n",
       "2  Electrodomésticos    Ropa_de_adultos\n",
       "3  Electrodomésticos         Carnicería\n",
       "4  Electrodomésticos    Ropa de adultos"
      ]
     },
     "execution_count": 16,
     "metadata": {},
     "output_type": "execute_result"
    }
   ],
   "source": [
    "# dataframe con los cruces\n",
    "matriz_leven = pd.DataFrame(producto_cruz, columns =['nombre_categoria_1', 'nombre_categoria_2'])\n",
    "matriz_leven.head()"
   ]
  },
  {
   "cell_type": "code",
   "execution_count": 11,
   "metadata": {},
   "outputs": [],
   "source": [
    "#aplicar función de levenshtein\n",
    "for i in range(len(matriz_leven)):\n",
    "    matriz_leven.at[i,'Levenshtein']=lev(str(matriz_leven.at[i,'nombre_categoria_1']),str(matriz_leven.at[i,'nombre_categoria_2']))"
   ]
  },
  {
   "cell_type": "code",
   "execution_count": 12,
   "metadata": {
    "scrolled": false
   },
   "outputs": [
    {
     "data": {
      "text/html": [
       "<div>\n",
       "<style scoped>\n",
       "    .dataframe tbody tr th:only-of-type {\n",
       "        vertical-align: middle;\n",
       "    }\n",
       "\n",
       "    .dataframe tbody tr th {\n",
       "        vertical-align: top;\n",
       "    }\n",
       "\n",
       "    .dataframe thead th {\n",
       "        text-align: right;\n",
       "    }\n",
       "</style>\n",
       "<table border=\"1\" class=\"dataframe\">\n",
       "  <thead>\n",
       "    <tr style=\"text-align: right;\">\n",
       "      <th>nombre_categoria_2</th>\n",
       "      <th>Carnicería</th>\n",
       "      <th>Celulares</th>\n",
       "      <th>Deportes</th>\n",
       "      <th>Electrodomésticos</th>\n",
       "      <th>Frutas y verduras</th>\n",
       "      <th>Frutas_y_verduras</th>\n",
       "      <th>Ropa de adultos</th>\n",
       "      <th>Ropa_de_adultos</th>\n",
       "    </tr>\n",
       "    <tr>\n",
       "      <th>nombre_categoria_1</th>\n",
       "      <th></th>\n",
       "      <th></th>\n",
       "      <th></th>\n",
       "      <th></th>\n",
       "      <th></th>\n",
       "      <th></th>\n",
       "      <th></th>\n",
       "      <th></th>\n",
       "    </tr>\n",
       "  </thead>\n",
       "  <tbody>\n",
       "    <tr>\n",
       "      <th>Carnicería</th>\n",
       "      <td>0.0</td>\n",
       "      <td>8.0</td>\n",
       "      <td>9.0</td>\n",
       "      <td>16.0</td>\n",
       "      <td>13.0</td>\n",
       "      <td>13.0</td>\n",
       "      <td>14.0</td>\n",
       "      <td>14.0</td>\n",
       "    </tr>\n",
       "    <tr>\n",
       "      <th>Celulares</th>\n",
       "      <td>8.0</td>\n",
       "      <td>0.0</td>\n",
       "      <td>6.0</td>\n",
       "      <td>15.0</td>\n",
       "      <td>14.0</td>\n",
       "      <td>14.0</td>\n",
       "      <td>12.0</td>\n",
       "      <td>12.0</td>\n",
       "    </tr>\n",
       "    <tr>\n",
       "      <th>Deportes</th>\n",
       "      <td>9.0</td>\n",
       "      <td>6.0</td>\n",
       "      <td>0.0</td>\n",
       "      <td>13.0</td>\n",
       "      <td>15.0</td>\n",
       "      <td>15.0</td>\n",
       "      <td>12.0</td>\n",
       "      <td>12.0</td>\n",
       "    </tr>\n",
       "    <tr>\n",
       "      <th>Electrodomésticos</th>\n",
       "      <td>16.0</td>\n",
       "      <td>15.0</td>\n",
       "      <td>13.0</td>\n",
       "      <td>0.0</td>\n",
       "      <td>16.0</td>\n",
       "      <td>16.0</td>\n",
       "      <td>14.0</td>\n",
       "      <td>14.0</td>\n",
       "    </tr>\n",
       "    <tr>\n",
       "      <th>Frutas y verduras</th>\n",
       "      <td>13.0</td>\n",
       "      <td>14.0</td>\n",
       "      <td>15.0</td>\n",
       "      <td>16.0</td>\n",
       "      <td>0.0</td>\n",
       "      <td>2.0</td>\n",
       "      <td>13.0</td>\n",
       "      <td>14.0</td>\n",
       "    </tr>\n",
       "    <tr>\n",
       "      <th>Frutas_y_verduras</th>\n",
       "      <td>13.0</td>\n",
       "      <td>14.0</td>\n",
       "      <td>15.0</td>\n",
       "      <td>16.0</td>\n",
       "      <td>2.0</td>\n",
       "      <td>0.0</td>\n",
       "      <td>14.0</td>\n",
       "      <td>13.0</td>\n",
       "    </tr>\n",
       "    <tr>\n",
       "      <th>Ropa de adultos</th>\n",
       "      <td>14.0</td>\n",
       "      <td>12.0</td>\n",
       "      <td>12.0</td>\n",
       "      <td>14.0</td>\n",
       "      <td>13.0</td>\n",
       "      <td>14.0</td>\n",
       "      <td>0.0</td>\n",
       "      <td>2.0</td>\n",
       "    </tr>\n",
       "    <tr>\n",
       "      <th>Ropa_de_adultos</th>\n",
       "      <td>14.0</td>\n",
       "      <td>12.0</td>\n",
       "      <td>12.0</td>\n",
       "      <td>14.0</td>\n",
       "      <td>14.0</td>\n",
       "      <td>13.0</td>\n",
       "      <td>2.0</td>\n",
       "      <td>0.0</td>\n",
       "    </tr>\n",
       "  </tbody>\n",
       "</table>\n",
       "</div>"
      ],
      "text/plain": [
       "nombre_categoria_2  Carnicería  Celulares  Deportes  Electrodomésticos  \\\n",
       "nombre_categoria_1                                                       \n",
       "Carnicería                 0.0        8.0       9.0               16.0   \n",
       "Celulares                  8.0        0.0       6.0               15.0   \n",
       "Deportes                   9.0        6.0       0.0               13.0   \n",
       "Electrodomésticos         16.0       15.0      13.0                0.0   \n",
       "Frutas y verduras         13.0       14.0      15.0               16.0   \n",
       "Frutas_y_verduras         13.0       14.0      15.0               16.0   \n",
       "Ropa de adultos           14.0       12.0      12.0               14.0   \n",
       "Ropa_de_adultos           14.0       12.0      12.0               14.0   \n",
       "\n",
       "nombre_categoria_2  Frutas y verduras  Frutas_y_verduras  Ropa de adultos  \\\n",
       "nombre_categoria_1                                                          \n",
       "Carnicería                       13.0               13.0             14.0   \n",
       "Celulares                        14.0               14.0             12.0   \n",
       "Deportes                         15.0               15.0             12.0   \n",
       "Electrodomésticos                16.0               16.0             14.0   \n",
       "Frutas y verduras                 0.0                2.0             13.0   \n",
       "Frutas_y_verduras                 2.0                0.0             14.0   \n",
       "Ropa de adultos                  13.0               14.0              0.0   \n",
       "Ropa_de_adultos                  14.0               13.0              2.0   \n",
       "\n",
       "nombre_categoria_2  Ropa_de_adultos  \n",
       "nombre_categoria_1                   \n",
       "Carnicería                     14.0  \n",
       "Celulares                      12.0  \n",
       "Deportes                       12.0  \n",
       "Electrodomésticos              14.0  \n",
       "Frutas y verduras              14.0  \n",
       "Frutas_y_verduras              13.0  \n",
       "Ropa de adultos                 2.0  \n",
       "Ropa_de_adultos                 0.0  "
      ]
     },
     "execution_count": 12,
     "metadata": {},
     "output_type": "execute_result"
    }
   ],
   "source": [
    "pd.crosstab(matriz_leven['nombre_categoria_1'],matriz_leven['nombre_categoria_2'],values=matriz_leven['Levenshtein'], aggfunc='sum')"
   ]
  },
  {
   "cell_type": "markdown",
   "metadata": {},
   "source": [
    "Podemos ver que por ejemplo para la categoría Frutas_y_verduras evaluada con su par sin guión, la distancia de Levenshtein solamente es 2, por lo tanto como pensamos desde el principio, la diferencia es el caracter del guión. Esto puede ser simplemente debido a un error de digitación o de alguno de los sistemas. La solución más viable es reemplazar esos espacios vacíos por el guión para determinar las categorías reales, como lo hicimos en el tutorial de estandarización."
   ]
  },
  {
   "cell_type": "code",
   "execution_count": 17,
   "metadata": {
    "scrolled": true
   },
   "outputs": [
    {
     "data": {
      "text/plain": [
       "Ropa_de_adultos      269\n",
       "Carnicería           261\n",
       "Frutas_y_verduras    261\n",
       "Deportes             258\n",
       "Electrodomésticos    253\n",
       "Celulares            247\n",
       "nan                  102\n",
       "Name: nombre_categoria_producto, dtype: int64"
      ]
     },
     "execution_count": 17,
     "metadata": {},
     "output_type": "execute_result"
    }
   ],
   "source": [
    "# reemplazar el guión\n",
    "data['nombre_categoria_producto']=data['nombre_categoria_producto'].apply(lambda x: str(x).replace(' ','_'))\n",
    "data['nombre_categoria_producto'].value_counts()"
   ]
  },
  {
   "cell_type": "markdown",
   "metadata": {},
   "source": [
    "### 4.2. Consistencia en atributos de tipo numérico\n",
    "En este escenario es un poco más fácil identificar la consistencia de los datos ya que dependiendo del dominio de los datos podemos entender cómo deberían comportarse y dónde están los posibles errores. Para este caso vamos a usar las principales estadísticas para encontrar el dominio de algunos atributos e identificar sus errores y posibles soluciones."
   ]
  },
  {
   "cell_type": "code",
   "execution_count": 18,
   "metadata": {
    "scrolled": true
   },
   "outputs": [
    {
     "data": {
      "text/html": [
       "<div>\n",
       "<style scoped>\n",
       "    .dataframe tbody tr th:only-of-type {\n",
       "        vertical-align: middle;\n",
       "    }\n",
       "\n",
       "    .dataframe tbody tr th {\n",
       "        vertical-align: top;\n",
       "    }\n",
       "\n",
       "    .dataframe thead th {\n",
       "        text-align: right;\n",
       "    }\n",
       "</style>\n",
       "<table border=\"1\" class=\"dataframe\">\n",
       "  <thead>\n",
       "    <tr style=\"text-align: right;\">\n",
       "      <th></th>\n",
       "      <th>precio</th>\n",
       "      <th>valor_flete</th>\n",
       "      <th>codigo_postal_vendedor</th>\n",
       "      <th>longitud_nombre_producto</th>\n",
       "      <th>longitud_descripcion_producto</th>\n",
       "      <th>cantidad_fotos_producto</th>\n",
       "      <th>peso_g_producto</th>\n",
       "      <th>longitud_cm_producto</th>\n",
       "      <th>altura_cm_producto</th>\n",
       "      <th>ancho_cm_producto</th>\n",
       "      <th>volumen_cm3_producto</th>\n",
       "    </tr>\n",
       "  </thead>\n",
       "  <tbody>\n",
       "    <tr>\n",
       "      <th>count</th>\n",
       "      <td>1651.000000</td>\n",
       "      <td>1549.000000</td>\n",
       "      <td>1651.000000</td>\n",
       "      <td>1651.000000</td>\n",
       "      <td>1651.000000</td>\n",
       "      <td>1651.000000</td>\n",
       "      <td>1651.000000</td>\n",
       "      <td>1651.000000</td>\n",
       "      <td>1651.000000</td>\n",
       "      <td>1651.000000</td>\n",
       "      <td>1651.000000</td>\n",
       "    </tr>\n",
       "    <tr>\n",
       "      <th>mean</th>\n",
       "      <td>105.351702</td>\n",
       "      <td>21.103428</td>\n",
       "      <td>48559.625681</td>\n",
       "      <td>20.017565</td>\n",
       "      <td>20.079952</td>\n",
       "      <td>19.268322</td>\n",
       "      <td>2110.227135</td>\n",
       "      <td>29.865536</td>\n",
       "      <td>18.109631</td>\n",
       "      <td>23.508783</td>\n",
       "      <td>11705.218050</td>\n",
       "    </tr>\n",
       "    <tr>\n",
       "      <th>std</th>\n",
       "      <td>132.496983</td>\n",
       "      <td>20.867412</td>\n",
       "      <td>12845.017466</td>\n",
       "      <td>11.741418</td>\n",
       "      <td>11.681569</td>\n",
       "      <td>11.592948</td>\n",
       "      <td>2099.076835</td>\n",
       "      <td>15.004245</td>\n",
       "      <td>11.317007</td>\n",
       "      <td>11.026377</td>\n",
       "      <td>12794.451104</td>\n",
       "    </tr>\n",
       "    <tr>\n",
       "      <th>min</th>\n",
       "      <td>-594.400000</td>\n",
       "      <td>0.000000</td>\n",
       "      <td>5001.000000</td>\n",
       "      <td>0.000000</td>\n",
       "      <td>0.000000</td>\n",
       "      <td>0.000000</td>\n",
       "      <td>0.000000</td>\n",
       "      <td>0.000000</td>\n",
       "      <td>0.000000</td>\n",
       "      <td>0.000000</td>\n",
       "      <td>0.000000</td>\n",
       "    </tr>\n",
       "    <tr>\n",
       "      <th>25%</th>\n",
       "      <td>25.730000</td>\n",
       "      <td>6.090000</td>\n",
       "      <td>52207.000000</td>\n",
       "      <td>10.000000</td>\n",
       "      <td>10.000000</td>\n",
       "      <td>9.000000</td>\n",
       "      <td>600.500000</td>\n",
       "      <td>18.000000</td>\n",
       "      <td>9.000000</td>\n",
       "      <td>16.000000</td>\n",
       "      <td>2303.000000</td>\n",
       "    </tr>\n",
       "    <tr>\n",
       "      <th>50%</th>\n",
       "      <td>71.990000</td>\n",
       "      <td>15.150000</td>\n",
       "      <td>52381.000000</td>\n",
       "      <td>20.000000</td>\n",
       "      <td>20.000000</td>\n",
       "      <td>19.000000</td>\n",
       "      <td>1445.000000</td>\n",
       "      <td>30.000000</td>\n",
       "      <td>17.000000</td>\n",
       "      <td>23.000000</td>\n",
       "      <td>7695.000000</td>\n",
       "    </tr>\n",
       "    <tr>\n",
       "      <th>75%</th>\n",
       "      <td>151.915000</td>\n",
       "      <td>28.660000</td>\n",
       "      <td>52435.000000</td>\n",
       "      <td>30.000000</td>\n",
       "      <td>30.000000</td>\n",
       "      <td>29.000000</td>\n",
       "      <td>2932.000000</td>\n",
       "      <td>41.000000</td>\n",
       "      <td>26.000000</td>\n",
       "      <td>31.000000</td>\n",
       "      <td>16290.000000</td>\n",
       "    </tr>\n",
       "    <tr>\n",
       "      <th>max</th>\n",
       "      <td>771.490000</td>\n",
       "      <td>178.160000</td>\n",
       "      <td>52565.000000</td>\n",
       "      <td>40.000000</td>\n",
       "      <td>40.000000</td>\n",
       "      <td>40.000000</td>\n",
       "      <td>17034.000000</td>\n",
       "      <td>76.000000</td>\n",
       "      <td>59.000000</td>\n",
       "      <td>62.000000</td>\n",
       "      <td>90828.000000</td>\n",
       "    </tr>\n",
       "  </tbody>\n",
       "</table>\n",
       "</div>"
      ],
      "text/plain": [
       "            precio  valor_flete  codigo_postal_vendedor  \\\n",
       "count  1651.000000  1549.000000             1651.000000   \n",
       "mean    105.351702    21.103428            48559.625681   \n",
       "std     132.496983    20.867412            12845.017466   \n",
       "min    -594.400000     0.000000             5001.000000   \n",
       "25%      25.730000     6.090000            52207.000000   \n",
       "50%      71.990000    15.150000            52381.000000   \n",
       "75%     151.915000    28.660000            52435.000000   \n",
       "max     771.490000   178.160000            52565.000000   \n",
       "\n",
       "       longitud_nombre_producto  longitud_descripcion_producto  \\\n",
       "count               1651.000000                    1651.000000   \n",
       "mean                  20.017565                      20.079952   \n",
       "std                   11.741418                      11.681569   \n",
       "min                    0.000000                       0.000000   \n",
       "25%                   10.000000                      10.000000   \n",
       "50%                   20.000000                      20.000000   \n",
       "75%                   30.000000                      30.000000   \n",
       "max                   40.000000                      40.000000   \n",
       "\n",
       "       cantidad_fotos_producto  peso_g_producto  longitud_cm_producto  \\\n",
       "count              1651.000000      1651.000000           1651.000000   \n",
       "mean                 19.268322      2110.227135             29.865536   \n",
       "std                  11.592948      2099.076835             15.004245   \n",
       "min                   0.000000         0.000000              0.000000   \n",
       "25%                   9.000000       600.500000             18.000000   \n",
       "50%                  19.000000      1445.000000             30.000000   \n",
       "75%                  29.000000      2932.000000             41.000000   \n",
       "max                  40.000000     17034.000000             76.000000   \n",
       "\n",
       "       altura_cm_producto  ancho_cm_producto  volumen_cm3_producto  \n",
       "count         1651.000000        1651.000000           1651.000000  \n",
       "mean            18.109631          23.508783          11705.218050  \n",
       "std             11.317007          11.026377          12794.451104  \n",
       "min              0.000000           0.000000              0.000000  \n",
       "25%              9.000000          16.000000           2303.000000  \n",
       "50%             17.000000          23.000000           7695.000000  \n",
       "75%             26.000000          31.000000          16290.000000  \n",
       "max             59.000000          62.000000          90828.000000  "
      ]
     },
     "execution_count": 18,
     "metadata": {},
     "output_type": "execute_result"
    }
   ],
   "source": [
    "# generar estadísticas básicas de los atributos numéricos\n",
    "data.describe()"
   ]
  },
  {
   "cell_type": "markdown",
   "metadata": {},
   "source": [
    "En este caso identificamos que existen precios negativos, es una pregunta que deberíamos hacernos muy sencilla si los precios podrían ser negativos. Esta inconsistencia nos lleva a una revisión más profunda de este atributo."
   ]
  },
  {
   "cell_type": "code",
   "execution_count": 19,
   "metadata": {
    "scrolled": true
   },
   "outputs": [
    {
     "data": {
      "text/plain": [
       "0        -7.27\n",
       "8       -14.97\n",
       "15     -229.74\n",
       "21      -52.32\n",
       "30      -55.45\n",
       "         ...  \n",
       "1595    -61.10\n",
       "1597   -149.31\n",
       "1608   -214.36\n",
       "1611    -25.70\n",
       "1633   -129.18\n",
       "Name: precio, Length: 104, dtype: float64"
      ]
     },
     "execution_count": 19,
     "metadata": {},
     "output_type": "execute_result"
    }
   ],
   "source": [
    "# filtramos los precios negativos\n",
    "data[data['precio']<0]['precio']"
   ]
  },
  {
   "cell_type": "markdown",
   "metadata": {},
   "source": [
    "Seguramente es un error de digitación, vemos que esto sucede con 104 registros. Revisando el caso con las personas de negocio, y viendo los montos involucrados representados por el total de ventas con los precios como están y luego de la transformación sugerida, llegamos a la conclusión de que es un error. Además que por alguna razón, esos registros quedaron con signo negativo, pero con el valor correcto. Es así como decidimos realizar una transformación para eliminar el signo negativo. "
   ]
  },
  {
   "cell_type": "code",
   "execution_count": 15,
   "metadata": {},
   "outputs": [
    {
     "data": {
      "text/plain": [
       "173935.66"
      ]
     },
     "execution_count": 15,
     "metadata": {},
     "output_type": "execute_result"
    }
   ],
   "source": [
    "# suma total de los productos vendidos \n",
    "data['precio'].sum()"
   ]
  },
  {
   "cell_type": "code",
   "execution_count": 16,
   "metadata": {
    "scrolled": true
   },
   "outputs": [
    {
     "data": {
      "text/plain": [
       "0         7.27\n",
       "1         3.22\n",
       "2       104.18\n",
       "3       348.39\n",
       "4        29.03\n",
       "         ...  \n",
       "1646     66.10\n",
       "1647     33.61\n",
       "1648     40.51\n",
       "1649    315.17\n",
       "1650     50.26\n",
       "Name: precio_corregido, Length: 1651, dtype: float64"
      ]
     },
     "execution_count": 16,
     "metadata": {},
     "output_type": "execute_result"
    }
   ],
   "source": [
    "# generar una nueva columna con la transformación\n",
    "data['precio_corregido']=data['precio'].apply(lambda x: abs(x))\n",
    "data['precio_corregido']"
   ]
  },
  {
   "cell_type": "code",
   "execution_count": 17,
   "metadata": {
    "scrolled": true
   },
   "outputs": [
    {
     "data": {
      "text/plain": [
       "20625.26000000001"
      ]
     },
     "execution_count": 17,
     "metadata": {},
     "output_type": "execute_result"
    }
   ],
   "source": [
    "# diferencia entre la suma del precio corregido y el original\n",
    "data['precio_corregido'].sum()- data['precio'].sum()"
   ]
  },
  {
   "cell_type": "code",
   "execution_count": 18,
   "metadata": {
    "scrolled": true
   },
   "outputs": [
    {
     "data": {
      "text/html": [
       "<div>\n",
       "<style scoped>\n",
       "    .dataframe tbody tr th:only-of-type {\n",
       "        vertical-align: middle;\n",
       "    }\n",
       "\n",
       "    .dataframe tbody tr th {\n",
       "        vertical-align: top;\n",
       "    }\n",
       "\n",
       "    .dataframe thead th {\n",
       "        text-align: right;\n",
       "    }\n",
       "</style>\n",
       "<table border=\"1\" class=\"dataframe\">\n",
       "  <thead>\n",
       "    <tr style=\"text-align: right;\">\n",
       "      <th></th>\n",
       "      <th>precio_corregido</th>\n",
       "    </tr>\n",
       "    <tr>\n",
       "      <th>nombre_categoria_producto</th>\n",
       "      <th></th>\n",
       "    </tr>\n",
       "  </thead>\n",
       "  <tbody>\n",
       "    <tr>\n",
       "      <th>Carnicería</th>\n",
       "      <td>33614.93</td>\n",
       "    </tr>\n",
       "    <tr>\n",
       "      <th>Celulares</th>\n",
       "      <td>29236.88</td>\n",
       "    </tr>\n",
       "    <tr>\n",
       "      <th>Deportes</th>\n",
       "      <td>22909.62</td>\n",
       "    </tr>\n",
       "    <tr>\n",
       "      <th>Electrodomésticos</th>\n",
       "      <td>29406.08</td>\n",
       "    </tr>\n",
       "    <tr>\n",
       "      <th>Frutas y verduras</th>\n",
       "      <td>29431.51</td>\n",
       "    </tr>\n",
       "    <tr>\n",
       "      <th>Frutas_y_verduras</th>\n",
       "      <td>2920.09</td>\n",
       "    </tr>\n",
       "    <tr>\n",
       "      <th>Ropa de adultos</th>\n",
       "      <td>29491.17</td>\n",
       "    </tr>\n",
       "    <tr>\n",
       "      <th>Ropa_de_adultos</th>\n",
       "      <td>3340.96</td>\n",
       "    </tr>\n",
       "  </tbody>\n",
       "</table>\n",
       "</div>"
      ],
      "text/plain": [
       "                           precio_corregido\n",
       "nombre_categoria_producto                  \n",
       "Carnicería                         33614.93\n",
       "Celulares                          29236.88\n",
       "Deportes                           22909.62\n",
       "Electrodomésticos                  29406.08\n",
       "Frutas y verduras                  29431.51\n",
       "Frutas_y_verduras                   2920.09\n",
       "Ropa de adultos                    29491.17\n",
       "Ropa_de_adultos                     3340.96"
      ]
     },
     "execution_count": 18,
     "metadata": {},
     "output_type": "execute_result"
    }
   ],
   "source": [
    "# suma de los precios por categoría\n",
    "data.groupby('nombre_categoria_producto').sum()[['precio_corregido']]"
   ]
  },
  {
   "cell_type": "markdown",
   "metadata": {},
   "source": [
    "Vemos que la diferencia entre los precios y precios corregidos es de cerca de 20.000: es un error supremamente grande por la falta de evaluación del dominio de este atributo. En el último resultado obtenido podemos revisar el informe real que necesita la compañía para tomar decisiones cruciales en temas de mercadeo y distribución."
   ]
  },
  {
   "cell_type": "markdown",
   "metadata": {},
   "source": [
    "### Caso de extensión\n",
    "Trabajaremos con el archivo de productos_por_fecha, en el cual se encuentran los productos que se han vendido a lo largo del tiempo. Además de realizar los siguientes puntos para el archivo dado, contempla cuales son los riesgos que corre la empresa al utilizar datos con los problemas identificados.\n",
    "\n",
    "+ Revisa la consistencia de la categoría de nombre_categoria_producto.\n",
    "+ Revisa la consistencia del volumen de los productos.\n",
    "+ Plantea alternativas de solución y en la medida de lo posible aplícalas."
   ]
  }
 ],
 "metadata": {
  "kernelspec": {
   "display_name": "Python 3 (ipykernel)",
   "language": "python",
   "name": "python3"
  },
  "language_info": {
   "codemirror_mode": {
    "name": "ipython",
    "version": 3
   },
   "file_extension": ".py",
   "mimetype": "text/x-python",
   "name": "python",
   "nbconvert_exporter": "python",
   "pygments_lexer": "ipython3",
   "version": "3.9.12"
  }
 },
 "nbformat": 4,
 "nbformat_minor": 2
}
