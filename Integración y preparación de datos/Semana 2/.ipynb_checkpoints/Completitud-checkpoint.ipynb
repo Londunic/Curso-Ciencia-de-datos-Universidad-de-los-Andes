{
 "cells": [
  {
   "cell_type": "markdown",
   "metadata": {},
   "source": [
    "![Banner-Preparaci-n.png](https://i.postimg.cc/q7vd5LZP/Banner-Preparaci-n.png)"
   ]
  },
  {
   "cell_type": "markdown",
   "metadata": {},
   "source": [
    "# Integración y preparación de datos\n",
    "\n",
    "## L1: Completitud de los datos\n",
    "\n",
    "De acuerdo con el caso de uso del sector retail, vamos a cumplir los objetivos de calidad de datos en la dimensión de completitud."
   ]
  },
  {
   "cell_type": "markdown",
   "metadata": {},
   "source": [
    "**Autor:** David Ocampo, Daniel Galindo Ruiz\n",
    "    \n",
    "d.ocampo@uniandes.edu.co, d.galindo@uniandes.edu.co"
   ]
  },
  {
   "cell_type": "markdown",
   "metadata": {},
   "source": [
    "### 1. Contexto del negocio \n",
    "\n",
    "El distribuidor de la organización está confundido porque hay registros de las órdenes que no permiten ser entregados porque están vacíos. La organización tiene que darle una pronta solución. Con los datos dados es necesario que realicemos una correcta identificación de los vacíos así como proponer soluciones viables para la organización.\n",
    "\n",
    "\n",
    "### Objetivos\n",
    "\n",
    "1. Revisar los atributos que contienen datos vacíos. \n",
    "2. Aplicar diversas formas para mejorar la dimensión de completitud de la columnas de la fuente de datos analizada."
   ]
  },
  {
   "cell_type": "markdown",
   "metadata": {},
   "source": [
    "### 2. Importación de librerías y archivos\n",
    "\n",
    "En las siguientes líneas se importará la librería necesaria, la cual es son **Pandas** para el manejo de datos. "
   ]
  },
  {
   "cell_type": "code",
   "execution_count": 1,
   "metadata": {},
   "outputs": [],
   "source": [
    "# Importar las librerías necesarias según el análisis que se vaya a realizar\n",
    "# Librería para manejo de datos convencional\n",
    "import pandas as pd\n",
    "\n",
    "#Librería para el manejo de audio. \n",
    "import IPython.display as ipd"
   ]
  },
  {
   "cell_type": "code",
   "execution_count": 2,
   "metadata": {
    "scrolled": true
   },
   "outputs": [],
   "source": [
    "# Te invito a escuchar el audio donde presentamos este notebook\n",
    "# ipd.Audio('Completitud.m4a') "
   ]
  },
  {
   "cell_type": "code",
   "execution_count": 3,
   "metadata": {
    "scrolled": true
   },
   "outputs": [
    {
     "data": {
      "text/html": [
       "<div>\n",
       "<style scoped>\n",
       "    .dataframe tbody tr th:only-of-type {\n",
       "        vertical-align: middle;\n",
       "    }\n",
       "\n",
       "    .dataframe tbody tr th {\n",
       "        vertical-align: top;\n",
       "    }\n",
       "\n",
       "    .dataframe thead th {\n",
       "        text-align: right;\n",
       "    }\n",
       "</style>\n",
       "<table border=\"1\" class=\"dataframe\">\n",
       "  <thead>\n",
       "    <tr style=\"text-align: right;\">\n",
       "      <th></th>\n",
       "      <th>orden_id</th>\n",
       "      <th>producto_id</th>\n",
       "      <th>vendedor_id</th>\n",
       "      <th>fecha_envio_limite</th>\n",
       "      <th>precio</th>\n",
       "      <th>valor_flete</th>\n",
       "      <th>codigo_postal_vendedor</th>\n",
       "      <th>ciudad_vendedor</th>\n",
       "      <th>departamento_vendedor</th>\n",
       "      <th>nombre_categoria_producto</th>\n",
       "      <th>longitud_nombre_producto</th>\n",
       "      <th>longitud_descripcion_producto</th>\n",
       "      <th>cantidad_fotos_producto</th>\n",
       "      <th>peso_g_producto</th>\n",
       "      <th>longitud_cm_producto</th>\n",
       "      <th>altura_cm_producto</th>\n",
       "      <th>ancho_cm_producto</th>\n",
       "      <th>volumen_cm3_producto</th>\n",
       "    </tr>\n",
       "  </thead>\n",
       "  <tbody>\n",
       "    <tr>\n",
       "      <th>0</th>\n",
       "      <td>1564PA53A-A</td>\n",
       "      <td>PA53</td>\n",
       "      <td>VE6785</td>\n",
       "      <td>1-ago-17</td>\n",
       "      <td>-7.27</td>\n",
       "      <td>27.12</td>\n",
       "      <td>52565</td>\n",
       "      <td>Providencia</td>\n",
       "      <td>Nariño</td>\n",
       "      <td>Electrodomésticos</td>\n",
       "      <td>19</td>\n",
       "      <td>28</td>\n",
       "      <td>29</td>\n",
       "      <td>1324</td>\n",
       "      <td>48</td>\n",
       "      <td>17</td>\n",
       "      <td>11</td>\n",
       "      <td>8976</td>\n",
       "    </tr>\n",
       "    <tr>\n",
       "      <th>1</th>\n",
       "      <td>28983PD80A-A</td>\n",
       "      <td>PD80</td>\n",
       "      <td>VE3342</td>\n",
       "      <td>31-may-18</td>\n",
       "      <td>3.22</td>\n",
       "      <td>6.01</td>\n",
       "      <td>52203</td>\n",
       "      <td>Colon</td>\n",
       "      <td>Nariño</td>\n",
       "      <td>Celulares</td>\n",
       "      <td>18</td>\n",
       "      <td>29</td>\n",
       "      <td>16</td>\n",
       "      <td>4677</td>\n",
       "      <td>26</td>\n",
       "      <td>6</td>\n",
       "      <td>16</td>\n",
       "      <td>2496</td>\n",
       "    </tr>\n",
       "    <tr>\n",
       "      <th>2</th>\n",
       "      <td>38613PB61A-A</td>\n",
       "      <td>PB61</td>\n",
       "      <td>VE7671</td>\n",
       "      <td>27-oct-17</td>\n",
       "      <td>104.18</td>\n",
       "      <td>17.70</td>\n",
       "      <td>52051</td>\n",
       "      <td>Arboleda</td>\n",
       "      <td>Nariño</td>\n",
       "      <td>Ropa_de_adultos</td>\n",
       "      <td>13</td>\n",
       "      <td>30</td>\n",
       "      <td>29</td>\n",
       "      <td>101</td>\n",
       "      <td>17</td>\n",
       "      <td>26</td>\n",
       "      <td>24</td>\n",
       "      <td>10608</td>\n",
       "    </tr>\n",
       "    <tr>\n",
       "      <th>3</th>\n",
       "      <td>4978PS63A-A</td>\n",
       "      <td>PS63</td>\n",
       "      <td>VE1492</td>\n",
       "      <td>13/12/2017</td>\n",
       "      <td>348.39</td>\n",
       "      <td>34.84</td>\n",
       "      <td>52323</td>\n",
       "      <td>Gualmatan</td>\n",
       "      <td>Nariño</td>\n",
       "      <td>Carnicería</td>\n",
       "      <td>33</td>\n",
       "      <td>26</td>\n",
       "      <td>13</td>\n",
       "      <td>514</td>\n",
       "      <td>47</td>\n",
       "      <td>16</td>\n",
       "      <td>43</td>\n",
       "      <td>32336</td>\n",
       "    </tr>\n",
       "    <tr>\n",
       "      <th>4</th>\n",
       "      <td>73781PA71A-A</td>\n",
       "      <td>PA71</td>\n",
       "      <td>VE8575</td>\n",
       "      <td>1/11/2018 0:00</td>\n",
       "      <td>29.03</td>\n",
       "      <td>30.23</td>\n",
       "      <td>5002</td>\n",
       "      <td>Abejorral</td>\n",
       "      <td>Antioquia</td>\n",
       "      <td>Electrodomésticos</td>\n",
       "      <td>27</td>\n",
       "      <td>3</td>\n",
       "      <td>13</td>\n",
       "      <td>2962</td>\n",
       "      <td>20</td>\n",
       "      <td>26</td>\n",
       "      <td>28</td>\n",
       "      <td>14560</td>\n",
       "    </tr>\n",
       "  </tbody>\n",
       "</table>\n",
       "</div>"
      ],
      "text/plain": [
       "       orden_id producto_id vendedor_id fecha_envio_limite  precio  \\\n",
       "0   1564PA53A-A        PA53      VE6785           1-ago-17   -7.27   \n",
       "1  28983PD80A-A        PD80      VE3342          31-may-18    3.22   \n",
       "2  38613PB61A-A        PB61      VE7671          27-oct-17  104.18   \n",
       "3   4978PS63A-A        PS63      VE1492         13/12/2017  348.39   \n",
       "4  73781PA71A-A        PA71      VE8575     1/11/2018 0:00   29.03   \n",
       "\n",
       "   valor_flete  codigo_postal_vendedor ciudad_vendedor departamento_vendedor  \\\n",
       "0        27.12                   52565     Providencia                Nariño   \n",
       "1         6.01                   52203           Colon                Nariño   \n",
       "2        17.70                   52051        Arboleda                Nariño   \n",
       "3        34.84                   52323       Gualmatan                Nariño   \n",
       "4        30.23                    5002       Abejorral             Antioquia   \n",
       "\n",
       "  nombre_categoria_producto  longitud_nombre_producto  \\\n",
       "0         Electrodomésticos                        19   \n",
       "1                 Celulares                        18   \n",
       "2           Ropa_de_adultos                        13   \n",
       "3                Carnicería                        33   \n",
       "4         Electrodomésticos                        27   \n",
       "\n",
       "   longitud_descripcion_producto  cantidad_fotos_producto  peso_g_producto  \\\n",
       "0                             28                       29             1324   \n",
       "1                             29                       16             4677   \n",
       "2                             30                       29              101   \n",
       "3                             26                       13              514   \n",
       "4                              3                       13             2962   \n",
       "\n",
       "   longitud_cm_producto  altura_cm_producto  ancho_cm_producto  \\\n",
       "0                    48                  17                 11   \n",
       "1                    26                   6                 16   \n",
       "2                    17                  26                 24   \n",
       "3                    47                  16                 43   \n",
       "4                    20                  26                 28   \n",
       "\n",
       "   volumen_cm3_producto  \n",
       "0                  8976  \n",
       "1                  2496  \n",
       "2                 10608  \n",
       "3                 32336  \n",
       "4                 14560  "
      ]
     },
     "execution_count": 3,
     "metadata": {},
     "output_type": "execute_result"
    }
   ],
   "source": [
    "# cargar los datos en csv\n",
    "data= pd.read_csv('ordenes_por_producto.csv', sep=';')\n",
    "# Visualizar los datos\n",
    "data.head()"
   ]
  },
  {
   "cell_type": "markdown",
   "metadata": {},
   "source": [
    "### 3. Análisis de la fuente de los datos\n",
    "\n",
    "### 3.1. Registros y atributos\n",
    "El número de registros y atributos nos dará una guía del correcto cargue de los datos, podemos utilizar la función shape para la revisión de este dato."
   ]
  },
  {
   "cell_type": "code",
   "execution_count": 4,
   "metadata": {},
   "outputs": [
    {
     "data": {
      "text/plain": [
       "(1651, 18)"
      ]
     },
     "execution_count": 4,
     "metadata": {},
     "output_type": "execute_result"
    }
   ],
   "source": [
    "# Tamaño del dataset (filas, columnas)\n",
    "data.shape"
   ]
  },
  {
   "cell_type": "code",
   "execution_count": 5,
   "metadata": {},
   "outputs": [
    {
     "data": {
      "text/plain": [
       "Index(['orden_id', 'producto_id', 'vendedor_id', 'fecha_envio_limite',\n",
       "       'precio', 'valor_flete', 'codigo_postal_vendedor', 'ciudad_vendedor',\n",
       "       'departamento_vendedor', 'nombre_categoria_producto',\n",
       "       'longitud_nombre_producto', 'longitud_descripcion_producto',\n",
       "       'cantidad_fotos_producto', 'peso_g_producto', 'longitud_cm_producto',\n",
       "       'altura_cm_producto', 'ancho_cm_producto', 'volumen_cm3_producto'],\n",
       "      dtype='object')"
      ]
     },
     "execution_count": 5,
     "metadata": {},
     "output_type": "execute_result"
    }
   ],
   "source": [
    "# Revisión de los atributos\n",
    "data.columns"
   ]
  },
  {
   "cell_type": "markdown",
   "metadata": {},
   "source": [
    "### 3.2. Tipos de datos\n",
    "\n",
    "Debemos identificar en la fuente el tipo de datos de las variables que estamos analizando, para poder establecer su formato y su dominio."
   ]
  },
  {
   "cell_type": "code",
   "execution_count": 6,
   "metadata": {},
   "outputs": [
    {
     "data": {
      "text/plain": [
       "orden_id                          object\n",
       "producto_id                       object\n",
       "vendedor_id                       object\n",
       "fecha_envio_limite                object\n",
       "precio                           float64\n",
       "valor_flete                      float64\n",
       "codigo_postal_vendedor             int64\n",
       "ciudad_vendedor                   object\n",
       "departamento_vendedor             object\n",
       "nombre_categoria_producto         object\n",
       "longitud_nombre_producto           int64\n",
       "longitud_descripcion_producto      int64\n",
       "cantidad_fotos_producto            int64\n",
       "peso_g_producto                    int64\n",
       "longitud_cm_producto               int64\n",
       "altura_cm_producto                 int64\n",
       "ancho_cm_producto                  int64\n",
       "volumen_cm3_producto               int64\n",
       "dtype: object"
      ]
     },
     "execution_count": 6,
     "metadata": {},
     "output_type": "execute_result"
    }
   ],
   "source": [
    "#identificar los tipos de datos\n",
    "data.dtypes"
   ]
  },
  {
   "cell_type": "markdown",
   "metadata": {},
   "source": [
    "### 4. Completitud\n",
    "\n",
    "Como parte del proceso de mejora de calidad de datos, es importante identificar y proponer soluciones para el problema de datos faltantes. De hecho, es una tarea obligatoria en la transformación de los datos que resulta muy valiosa en temas de analítica."
   ]
  },
  {
   "cell_type": "markdown",
   "metadata": {},
   "source": [
    "### 4.1. Identificar los atributos vacíos\n",
    "\n",
    "Es necesario identificar qué atributos están vacíos, ya que esto puede alterar los resultados de los análisis que se están presentando, e incluso, en algunos casos, generar alguna pérdida económica si no está bien identificado."
   ]
  },
  {
   "cell_type": "code",
   "execution_count": 8,
   "metadata": {
    "scrolled": true
   },
   "outputs": [
    {
     "data": {
      "text/plain": [
       "orden_id                           0\n",
       "producto_id                        0\n",
       "vendedor_id                        0\n",
       "fecha_envio_limite                 0\n",
       "precio                             0\n",
       "valor_flete                      102\n",
       "codigo_postal_vendedor             0\n",
       "ciudad_vendedor                    0\n",
       "departamento_vendedor              0\n",
       "nombre_categoria_producto        102\n",
       "longitud_nombre_producto           0\n",
       "longitud_descripcion_producto      0\n",
       "cantidad_fotos_producto            0\n",
       "peso_g_producto                    0\n",
       "longitud_cm_producto               0\n",
       "altura_cm_producto                 0\n",
       "ancho_cm_producto                  0\n",
       "volumen_cm3_producto               0\n",
       "dtype: int64"
      ]
     },
     "execution_count": 8,
     "metadata": {},
     "output_type": "execute_result"
    }
   ],
   "source": [
    "# conteo de los datos vacíos por atributo\n",
    "data.isna().sum()"
   ]
  },
  {
   "cell_type": "code",
   "execution_count": 9,
   "metadata": {
    "scrolled": true
   },
   "outputs": [
    {
     "data": {
      "text/plain": [
       "valor_flete                  0.061781\n",
       "nombre_categoria_producto    0.061781\n",
       "dtype: float64"
      ]
     },
     "execution_count": 9,
     "metadata": {},
     "output_type": "execute_result"
    }
   ],
   "source": [
    "# porcentaje de los datos vacíos por atributo\n",
    "data[['valor_flete','nombre_categoria_producto']].isna().sum()/len(data)"
   ]
  },
  {
   "cell_type": "markdown",
   "metadata": {},
   "source": [
    "Vemos que los datos vacíos se centran en datos fundamentales como el valor del flete y el nombre de la categoría de producto, dato que puede ser reemplazado si se tiene bien identificado el producto. Este último error pudo generarse al extraerse los datos del sistema fuente."
   ]
  },
  {
   "cell_type": "markdown",
   "metadata": {},
   "source": [
    "### 4.2. Eliminación de registros\n",
    "Como existen atributos que no son fundamentales para algunos de los análisis que quiere hacer la empresa, se puede proceder a su eliminación en esta etapa del proceso y se continua con los análisis que no la requieren. Este es el caso de la variable nombre_categoria_producto, que fue analizado junto con las personas de la empresa y se llegó al acuerdo de que van a generar un nuevo archivo con la corrección requerida para todas órdenes. Así que, procedemos a eliminar esa columna del dataframe, en espera de la nueva fuente."
   ]
  },
  {
   "cell_type": "code",
   "execution_count": 10,
   "metadata": {
    "scrolled": true
   },
   "outputs": [
    {
     "data": {
      "text/html": [
       "<div>\n",
       "<style scoped>\n",
       "    .dataframe tbody tr th:only-of-type {\n",
       "        vertical-align: middle;\n",
       "    }\n",
       "\n",
       "    .dataframe tbody tr th {\n",
       "        vertical-align: top;\n",
       "    }\n",
       "\n",
       "    .dataframe thead th {\n",
       "        text-align: right;\n",
       "    }\n",
       "</style>\n",
       "<table border=\"1\" class=\"dataframe\">\n",
       "  <thead>\n",
       "    <tr style=\"text-align: right;\">\n",
       "      <th></th>\n",
       "      <th>orden_id</th>\n",
       "      <th>producto_id</th>\n",
       "      <th>vendedor_id</th>\n",
       "      <th>fecha_envio_limite</th>\n",
       "      <th>precio</th>\n",
       "      <th>valor_flete</th>\n",
       "      <th>codigo_postal_vendedor</th>\n",
       "      <th>ciudad_vendedor</th>\n",
       "      <th>departamento_vendedor</th>\n",
       "      <th>nombre_categoria_producto</th>\n",
       "      <th>longitud_nombre_producto</th>\n",
       "      <th>longitud_descripcion_producto</th>\n",
       "      <th>cantidad_fotos_producto</th>\n",
       "      <th>peso_g_producto</th>\n",
       "      <th>longitud_cm_producto</th>\n",
       "      <th>altura_cm_producto</th>\n",
       "      <th>ancho_cm_producto</th>\n",
       "      <th>volumen_cm3_producto</th>\n",
       "    </tr>\n",
       "  </thead>\n",
       "  <tbody>\n",
       "    <tr>\n",
       "      <th>8</th>\n",
       "      <td>81437PS10A-A</td>\n",
       "      <td>PS10</td>\n",
       "      <td>VE3482</td>\n",
       "      <td>14/02/2018 0:09</td>\n",
       "      <td>-14.97</td>\n",
       "      <td>NaN</td>\n",
       "      <td>52051</td>\n",
       "      <td>Arboleda</td>\n",
       "      <td>Nariño</td>\n",
       "      <td>NaN</td>\n",
       "      <td>6</td>\n",
       "      <td>5</td>\n",
       "      <td>0</td>\n",
       "      <td>2032</td>\n",
       "      <td>50</td>\n",
       "      <td>12</td>\n",
       "      <td>21</td>\n",
       "      <td>12600</td>\n",
       "    </tr>\n",
       "    <tr>\n",
       "      <th>44</th>\n",
       "      <td>4860PK64A-A</td>\n",
       "      <td>PK64</td>\n",
       "      <td>VE4052</td>\n",
       "      <td>15/11/2017 3:03</td>\n",
       "      <td>14.98</td>\n",
       "      <td>NaN</td>\n",
       "      <td>52411</td>\n",
       "      <td>Linares</td>\n",
       "      <td>Nariño</td>\n",
       "      <td>NaN</td>\n",
       "      <td>7</td>\n",
       "      <td>13</td>\n",
       "      <td>16</td>\n",
       "      <td>474</td>\n",
       "      <td>12</td>\n",
       "      <td>6</td>\n",
       "      <td>30</td>\n",
       "      <td>2160</td>\n",
       "    </tr>\n",
       "    <tr>\n",
       "      <th>48</th>\n",
       "      <td>55480PR47A-A</td>\n",
       "      <td>PR47</td>\n",
       "      <td>VE8634</td>\n",
       "      <td>28/01/2257 17:52</td>\n",
       "      <td>70.97</td>\n",
       "      <td>NaN</td>\n",
       "      <td>52051</td>\n",
       "      <td>Arboleda</td>\n",
       "      <td>Nariño</td>\n",
       "      <td>NaN</td>\n",
       "      <td>24</td>\n",
       "      <td>4</td>\n",
       "      <td>32</td>\n",
       "      <td>7659</td>\n",
       "      <td>43</td>\n",
       "      <td>11</td>\n",
       "      <td>41</td>\n",
       "      <td>19393</td>\n",
       "    </tr>\n",
       "    <tr>\n",
       "      <th>75</th>\n",
       "      <td>54805PA82A-A</td>\n",
       "      <td>PA82</td>\n",
       "      <td>VE1504</td>\n",
       "      <td>23/01/2018 17:08</td>\n",
       "      <td>376.08</td>\n",
       "      <td>NaN</td>\n",
       "      <td>52210</td>\n",
       "      <td>Contadero</td>\n",
       "      <td>Nariño</td>\n",
       "      <td>NaN</td>\n",
       "      <td>12</td>\n",
       "      <td>12</td>\n",
       "      <td>35</td>\n",
       "      <td>74</td>\n",
       "      <td>31</td>\n",
       "      <td>12</td>\n",
       "      <td>39</td>\n",
       "      <td>0</td>\n",
       "    </tr>\n",
       "    <tr>\n",
       "      <th>76</th>\n",
       "      <td>31738PA13A-A</td>\n",
       "      <td>PA13</td>\n",
       "      <td>VE4819</td>\n",
       "      <td>20/10/2017 9:28</td>\n",
       "      <td>619.77</td>\n",
       "      <td>NaN</td>\n",
       "      <td>52210</td>\n",
       "      <td>Contadero</td>\n",
       "      <td>Nariño</td>\n",
       "      <td>NaN</td>\n",
       "      <td>27</td>\n",
       "      <td>39</td>\n",
       "      <td>6</td>\n",
       "      <td>458</td>\n",
       "      <td>32</td>\n",
       "      <td>9</td>\n",
       "      <td>31</td>\n",
       "      <td>0</td>\n",
       "    </tr>\n",
       "  </tbody>\n",
       "</table>\n",
       "</div>"
      ],
      "text/plain": [
       "        orden_id producto_id vendedor_id fecha_envio_limite  precio  \\\n",
       "8   81437PS10A-A        PS10      VE3482    14/02/2018 0:09  -14.97   \n",
       "44   4860PK64A-A        PK64      VE4052    15/11/2017 3:03   14.98   \n",
       "48  55480PR47A-A        PR47      VE8634   28/01/2257 17:52   70.97   \n",
       "75  54805PA82A-A        PA82      VE1504   23/01/2018 17:08  376.08   \n",
       "76  31738PA13A-A        PA13      VE4819    20/10/2017 9:28  619.77   \n",
       "\n",
       "    valor_flete  codigo_postal_vendedor ciudad_vendedor departamento_vendedor  \\\n",
       "8           NaN                   52051        Arboleda                Nariño   \n",
       "44          NaN                   52411         Linares                Nariño   \n",
       "48          NaN                   52051        Arboleda                Nariño   \n",
       "75          NaN                   52210       Contadero                Nariño   \n",
       "76          NaN                   52210       Contadero                Nariño   \n",
       "\n",
       "   nombre_categoria_producto  longitud_nombre_producto  \\\n",
       "8                        NaN                         6   \n",
       "44                       NaN                         7   \n",
       "48                       NaN                        24   \n",
       "75                       NaN                        12   \n",
       "76                       NaN                        27   \n",
       "\n",
       "    longitud_descripcion_producto  cantidad_fotos_producto  peso_g_producto  \\\n",
       "8                               5                        0             2032   \n",
       "44                             13                       16              474   \n",
       "48                              4                       32             7659   \n",
       "75                             12                       35               74   \n",
       "76                             39                        6              458   \n",
       "\n",
       "    longitud_cm_producto  altura_cm_producto  ancho_cm_producto  \\\n",
       "8                     50                  12                 21   \n",
       "44                    12                   6                 30   \n",
       "48                    43                  11                 41   \n",
       "75                    31                  12                 39   \n",
       "76                    32                   9                 31   \n",
       "\n",
       "    volumen_cm3_producto  \n",
       "8                  12600  \n",
       "44                  2160  \n",
       "48                 19393  \n",
       "75                     0  \n",
       "76                     0  "
      ]
     },
     "execution_count": 10,
     "metadata": {},
     "output_type": "execute_result"
    }
   ],
   "source": [
    "# revisar los registros con vacíos\n",
    "data[data['nombre_categoria_producto'].isna()].head()"
   ]
  },
  {
   "cell_type": "code",
   "execution_count": 11,
   "metadata": {
    "scrolled": true
   },
   "outputs": [
    {
     "data": {
      "text/html": [
       "<div>\n",
       "<style scoped>\n",
       "    .dataframe tbody tr th:only-of-type {\n",
       "        vertical-align: middle;\n",
       "    }\n",
       "\n",
       "    .dataframe tbody tr th {\n",
       "        vertical-align: top;\n",
       "    }\n",
       "\n",
       "    .dataframe thead th {\n",
       "        text-align: right;\n",
       "    }\n",
       "</style>\n",
       "<table border=\"1\" class=\"dataframe\">\n",
       "  <thead>\n",
       "    <tr style=\"text-align: right;\">\n",
       "      <th></th>\n",
       "      <th>orden_id</th>\n",
       "      <th>producto_id</th>\n",
       "      <th>vendedor_id</th>\n",
       "      <th>fecha_envio_limite</th>\n",
       "      <th>precio</th>\n",
       "      <th>valor_flete</th>\n",
       "      <th>codigo_postal_vendedor</th>\n",
       "      <th>ciudad_vendedor</th>\n",
       "      <th>departamento_vendedor</th>\n",
       "      <th>longitud_nombre_producto</th>\n",
       "      <th>longitud_descripcion_producto</th>\n",
       "      <th>cantidad_fotos_producto</th>\n",
       "      <th>peso_g_producto</th>\n",
       "      <th>longitud_cm_producto</th>\n",
       "      <th>altura_cm_producto</th>\n",
       "      <th>ancho_cm_producto</th>\n",
       "      <th>volumen_cm3_producto</th>\n",
       "    </tr>\n",
       "  </thead>\n",
       "  <tbody>\n",
       "    <tr>\n",
       "      <th>0</th>\n",
       "      <td>1564PA53A-A</td>\n",
       "      <td>PA53</td>\n",
       "      <td>VE6785</td>\n",
       "      <td>1-ago-17</td>\n",
       "      <td>-7.27</td>\n",
       "      <td>27.12</td>\n",
       "      <td>52565</td>\n",
       "      <td>Providencia</td>\n",
       "      <td>Nariño</td>\n",
       "      <td>19</td>\n",
       "      <td>28</td>\n",
       "      <td>29</td>\n",
       "      <td>1324</td>\n",
       "      <td>48</td>\n",
       "      <td>17</td>\n",
       "      <td>11</td>\n",
       "      <td>8976</td>\n",
       "    </tr>\n",
       "    <tr>\n",
       "      <th>1</th>\n",
       "      <td>28983PD80A-A</td>\n",
       "      <td>PD80</td>\n",
       "      <td>VE3342</td>\n",
       "      <td>31-may-18</td>\n",
       "      <td>3.22</td>\n",
       "      <td>6.01</td>\n",
       "      <td>52203</td>\n",
       "      <td>Colon</td>\n",
       "      <td>Nariño</td>\n",
       "      <td>18</td>\n",
       "      <td>29</td>\n",
       "      <td>16</td>\n",
       "      <td>4677</td>\n",
       "      <td>26</td>\n",
       "      <td>6</td>\n",
       "      <td>16</td>\n",
       "      <td>2496</td>\n",
       "    </tr>\n",
       "    <tr>\n",
       "      <th>2</th>\n",
       "      <td>38613PB61A-A</td>\n",
       "      <td>PB61</td>\n",
       "      <td>VE7671</td>\n",
       "      <td>27-oct-17</td>\n",
       "      <td>104.18</td>\n",
       "      <td>17.70</td>\n",
       "      <td>52051</td>\n",
       "      <td>Arboleda</td>\n",
       "      <td>Nariño</td>\n",
       "      <td>13</td>\n",
       "      <td>30</td>\n",
       "      <td>29</td>\n",
       "      <td>101</td>\n",
       "      <td>17</td>\n",
       "      <td>26</td>\n",
       "      <td>24</td>\n",
       "      <td>10608</td>\n",
       "    </tr>\n",
       "    <tr>\n",
       "      <th>3</th>\n",
       "      <td>4978PS63A-A</td>\n",
       "      <td>PS63</td>\n",
       "      <td>VE1492</td>\n",
       "      <td>13/12/2017</td>\n",
       "      <td>348.39</td>\n",
       "      <td>34.84</td>\n",
       "      <td>52323</td>\n",
       "      <td>Gualmatan</td>\n",
       "      <td>Nariño</td>\n",
       "      <td>33</td>\n",
       "      <td>26</td>\n",
       "      <td>13</td>\n",
       "      <td>514</td>\n",
       "      <td>47</td>\n",
       "      <td>16</td>\n",
       "      <td>43</td>\n",
       "      <td>32336</td>\n",
       "    </tr>\n",
       "    <tr>\n",
       "      <th>4</th>\n",
       "      <td>73781PA71A-A</td>\n",
       "      <td>PA71</td>\n",
       "      <td>VE8575</td>\n",
       "      <td>1/11/2018 0:00</td>\n",
       "      <td>29.03</td>\n",
       "      <td>30.23</td>\n",
       "      <td>5002</td>\n",
       "      <td>Abejorral</td>\n",
       "      <td>Antioquia</td>\n",
       "      <td>27</td>\n",
       "      <td>3</td>\n",
       "      <td>13</td>\n",
       "      <td>2962</td>\n",
       "      <td>20</td>\n",
       "      <td>26</td>\n",
       "      <td>28</td>\n",
       "      <td>14560</td>\n",
       "    </tr>\n",
       "  </tbody>\n",
       "</table>\n",
       "</div>"
      ],
      "text/plain": [
       "       orden_id producto_id vendedor_id fecha_envio_limite  precio  \\\n",
       "0   1564PA53A-A        PA53      VE6785           1-ago-17   -7.27   \n",
       "1  28983PD80A-A        PD80      VE3342          31-may-18    3.22   \n",
       "2  38613PB61A-A        PB61      VE7671          27-oct-17  104.18   \n",
       "3   4978PS63A-A        PS63      VE1492         13/12/2017  348.39   \n",
       "4  73781PA71A-A        PA71      VE8575     1/11/2018 0:00   29.03   \n",
       "\n",
       "   valor_flete  codigo_postal_vendedor ciudad_vendedor departamento_vendedor  \\\n",
       "0        27.12                   52565     Providencia                Nariño   \n",
       "1         6.01                   52203           Colon                Nariño   \n",
       "2        17.70                   52051        Arboleda                Nariño   \n",
       "3        34.84                   52323       Gualmatan                Nariño   \n",
       "4        30.23                    5002       Abejorral             Antioquia   \n",
       "\n",
       "   longitud_nombre_producto  longitud_descripcion_producto  \\\n",
       "0                        19                             28   \n",
       "1                        18                             29   \n",
       "2                        13                             30   \n",
       "3                        33                             26   \n",
       "4                        27                              3   \n",
       "\n",
       "   cantidad_fotos_producto  peso_g_producto  longitud_cm_producto  \\\n",
       "0                       29             1324                    48   \n",
       "1                       16             4677                    26   \n",
       "2                       29              101                    17   \n",
       "3                       13              514                    47   \n",
       "4                       13             2962                    20   \n",
       "\n",
       "   altura_cm_producto  ancho_cm_producto  volumen_cm3_producto  \n",
       "0                  17                 11                  8976  \n",
       "1                   6                 16                  2496  \n",
       "2                  26                 24                 10608  \n",
       "3                  16                 43                 32336  \n",
       "4                  26                 28                 14560  "
      ]
     },
     "execution_count": 11,
     "metadata": {},
     "output_type": "execute_result"
    }
   ],
   "source": [
    "#eliminación del atributo nombre_categoria_producto del dataframe\n",
    "data=data.drop('nombre_categoria_producto',axis=1)\n",
    "data.head()"
   ]
  },
  {
   "cell_type": "markdown",
   "metadata": {},
   "source": [
    "### 4.2. Sustitución por la media\n",
    "\n",
    "La sustitución de medias es un método en el que las observaciones que tienen datos faltantes en un determinado atributo, son reemplazados por el valor promedio del atributo, en la fuente de análisis.\n",
    "\n",
    "Como el valor del flete es algo que podríamos interpretar como un atributo con poca variabilidad, se procede a realizar la sustitución por la media.\n"
   ]
  },
  {
   "cell_type": "code",
   "execution_count": 12,
   "metadata": {
    "scrolled": true
   },
   "outputs": [
    {
     "data": {
      "text/plain": [
       "21.10342801807621"
      ]
     },
     "execution_count": 12,
     "metadata": {},
     "output_type": "execute_result"
    }
   ],
   "source": [
    "# calcular la media\n",
    "media_flete=data['valor_flete'].mean()\n",
    "media_flete"
   ]
  },
  {
   "cell_type": "code",
   "execution_count": 13,
   "metadata": {
    "scrolled": true
   },
   "outputs": [
    {
     "data": {
      "text/plain": [
       "0       27.12\n",
       "1        6.01\n",
       "2       17.70\n",
       "3       34.84\n",
       "4       30.23\n",
       "        ...  \n",
       "1646    48.81\n",
       "1647    10.47\n",
       "1648    18.96\n",
       "1649    32.78\n",
       "1650     2.01\n",
       "Name: valor_flete, Length: 1651, dtype: float64"
      ]
     },
     "execution_count": 13,
     "metadata": {},
     "output_type": "execute_result"
    }
   ],
   "source": [
    "# reemplazar el valor\n",
    "data['valor_flete']=data['valor_flete'].fillna(media_flete)\n",
    "data['valor_flete']"
   ]
  },
  {
   "cell_type": "markdown",
   "metadata": {},
   "source": [
    "Para asegurarnos de que ya no hay valores faltantes en la columna 'valor_flete' vamos a sumar todos los valores con NaN en dicha columna. El resultado de esto debería ser cero, pues los valores faltantes fueron sustituidos con la media."
   ]
  },
  {
   "cell_type": "code",
   "execution_count": 14,
   "metadata": {},
   "outputs": [
    {
     "data": {
      "text/plain": [
       "0"
      ]
     },
     "execution_count": 14,
     "metadata": {},
     "output_type": "execute_result"
    }
   ],
   "source": [
    "# verificamos que no existan vacíos luego de completar la información\n",
    "data['valor_flete'].isna().sum()"
   ]
  },
  {
   "cell_type": "markdown",
   "metadata": {},
   "source": [
    "Luego de esto, tendremos los datos completos para realizar análisis sobre la fuente de datos con una pérdida mínima de información. Esto nos muestra que los diferentes métodos para completar los datos están sujetos al contexto de nuestros datos."
   ]
  },
  {
   "cell_type": "markdown",
   "metadata": {},
   "source": [
    "### Caso de extensión\n",
    "Trabajaremos con el archivo de productos_por_fecha, en el cual se encuentran los productos que se han vendido a lo largo del tiempo. Además de realizar los siguientes puntos para el archivo dado, analiza el problema que tendría el negocio si utiliza datos con este problema de completitud.\n",
    "\n",
    "+ Revisa los datos vacíos o nulos.\n",
    "+ Calcula el porcentaje de completitud.\n",
    "+ Propón una solución con los métodos aprendidos.\n",
    "+ Aplica la solución y valida los efectos de la misma."
   ]
  },
  {
   "cell_type": "code",
   "execution_count": null,
   "metadata": {},
   "outputs": [],
   "source": []
  }
 ],
 "metadata": {
  "kernelspec": {
   "display_name": "Python 3 (ipykernel)",
   "language": "python",
   "name": "python3"
  },
  "language_info": {
   "codemirror_mode": {
    "name": "ipython",
    "version": 3
   },
   "file_extension": ".py",
   "mimetype": "text/x-python",
   "name": "python",
   "nbconvert_exporter": "python",
   "pygments_lexer": "ipython3",
   "version": "3.9.12"
  }
 },
 "nbformat": 4,
 "nbformat_minor": 4
}
