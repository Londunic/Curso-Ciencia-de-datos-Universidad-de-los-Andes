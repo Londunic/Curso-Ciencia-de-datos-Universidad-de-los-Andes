{
 "cells": [
  {
   "cell_type": "markdown",
   "metadata": {},
   "source": [
    "# Integración y preparación de datos\n",
    "\n",
    "## Completitud de los datos"
   ]
  },
  {
   "cell_type": "markdown",
   "metadata": {},
   "source": [
    "### 1. Importación de librerías y archivos\n",
    "\n",
    "En las siguientes líneas se importará la librería necesaria, la cual es son **Pandas** para el manejo de datos. "
   ]
  },
  {
   "cell_type": "code",
   "execution_count": 1,
   "metadata": {},
   "outputs": [],
   "source": [
    "# Importar las librerías necesarias según el análisis que se vaya a realizar\n",
    "# Librería para manejo de datos convencional\n",
    "import pandas as pd"
   ]
  },
  {
   "cell_type": "code",
   "execution_count": 3,
   "metadata": {
    "scrolled": true
   },
   "outputs": [
    {
     "data": {
      "text/html": [
       "<div>\n",
       "<style scoped>\n",
       "    .dataframe tbody tr th:only-of-type {\n",
       "        vertical-align: middle;\n",
       "    }\n",
       "\n",
       "    .dataframe tbody tr th {\n",
       "        vertical-align: top;\n",
       "    }\n",
       "\n",
       "    .dataframe thead th {\n",
       "        text-align: right;\n",
       "    }\n",
       "</style>\n",
       "<table border=\"1\" class=\"dataframe\">\n",
       "  <thead>\n",
       "    <tr style=\"text-align: right;\">\n",
       "      <th></th>\n",
       "      <th>producto_id</th>\n",
       "      <th>fecha_envio_limite</th>\n",
       "      <th>nombre_categoria_producto</th>\n",
       "      <th>longitud_nombre_producto</th>\n",
       "      <th>longitud_descripcion_producto</th>\n",
       "      <th>cantidad_fotos_producto</th>\n",
       "      <th>longitud_cm_producto</th>\n",
       "      <th>altura_cm_producto</th>\n",
       "      <th>ancho_cm_producto</th>\n",
       "    </tr>\n",
       "  </thead>\n",
       "  <tbody>\n",
       "    <tr>\n",
       "      <th>0</th>\n",
       "      <td>PT66</td>\n",
       "      <td>19/09/2017 07:24</td>\n",
       "      <td>Tarjetas regalo</td>\n",
       "      <td>6</td>\n",
       "      <td>34</td>\n",
       "      <td>18</td>\n",
       "      <td>50</td>\n",
       "      <td>9</td>\n",
       "      <td>12</td>\n",
       "    </tr>\n",
       "    <tr>\n",
       "      <th>1</th>\n",
       "      <td>PB76</td>\n",
       "      <td>22/01/2018 11:30</td>\n",
       "      <td>Ropa de adultos</td>\n",
       "      <td>10</td>\n",
       "      <td>39</td>\n",
       "      <td>0</td>\n",
       "      <td>26</td>\n",
       "      <td>24</td>\n",
       "      <td>23</td>\n",
       "    </tr>\n",
       "    <tr>\n",
       "      <th>2</th>\n",
       "      <td>PJ55</td>\n",
       "      <td>09/12/2017 15:09</td>\n",
       "      <td>Mascotas</td>\n",
       "      <td>25</td>\n",
       "      <td>12</td>\n",
       "      <td>3</td>\n",
       "      <td>51</td>\n",
       "      <td>2</td>\n",
       "      <td>28</td>\n",
       "    </tr>\n",
       "    <tr>\n",
       "      <th>3</th>\n",
       "      <td>PO85</td>\n",
       "      <td>04/05/2018 04:15</td>\n",
       "      <td>Productos ecoamigables</td>\n",
       "      <td>33</td>\n",
       "      <td>25</td>\n",
       "      <td>25</td>\n",
       "      <td>19</td>\n",
       "      <td>26</td>\n",
       "      <td>28</td>\n",
       "    </tr>\n",
       "    <tr>\n",
       "      <th>4</th>\n",
       "      <td>PG31</td>\n",
       "      <td>17/09/2017 23:24</td>\n",
       "      <td>Salud</td>\n",
       "      <td>34</td>\n",
       "      <td>22</td>\n",
       "      <td>11</td>\n",
       "      <td>39</td>\n",
       "      <td>19</td>\n",
       "      <td>40</td>\n",
       "    </tr>\n",
       "  </tbody>\n",
       "</table>\n",
       "</div>"
      ],
      "text/plain": [
       "  producto_id fecha_envio_limite nombre_categoria_producto  \\\n",
       "0        PT66   19/09/2017 07:24           Tarjetas regalo   \n",
       "1        PB76   22/01/2018 11:30           Ropa de adultos   \n",
       "2        PJ55   09/12/2017 15:09                  Mascotas   \n",
       "3        PO85   04/05/2018 04:15    Productos ecoamigables   \n",
       "4        PG31   17/09/2017 23:24                     Salud   \n",
       "\n",
       "   longitud_nombre_producto  longitud_descripcion_producto  \\\n",
       "0                         6                             34   \n",
       "1                        10                             39   \n",
       "2                        25                             12   \n",
       "3                        33                             25   \n",
       "4                        34                             22   \n",
       "\n",
       "   cantidad_fotos_producto  longitud_cm_producto  altura_cm_producto  \\\n",
       "0                       18                    50                   9   \n",
       "1                        0                    26                  24   \n",
       "2                        3                    51                   2   \n",
       "3                       25                    19                  26   \n",
       "4                       11                    39                  19   \n",
       "\n",
       "   ancho_cm_producto  \n",
       "0                 12  \n",
       "1                 23  \n",
       "2                 28  \n",
       "3                 28  \n",
       "4                 40  "
      ]
     },
     "execution_count": 3,
     "metadata": {},
     "output_type": "execute_result"
    }
   ],
   "source": [
    "# cargar los datos en csv\n",
    "data= pd.read_csv('productos_por_fecha.csv', sep=';', encoding='latin-1')\n",
    "# Visualizar los datos\n",
    "data.head()"
   ]
  },
  {
   "cell_type": "markdown",
   "metadata": {},
   "source": [
    "### 2. Análisis de la fuente de los datos\n",
    "\n",
    "### 2.1. Registros y atributos\n",
    "El número de registros y atributos nos dará una guía del correcto cargue de los datos, podemos utilizar la función shape para la revisión de este dato."
   ]
  },
  {
   "cell_type": "code",
   "execution_count": 4,
   "metadata": {},
   "outputs": [
    {
     "data": {
      "text/plain": [
       "(1000, 9)"
      ]
     },
     "execution_count": 4,
     "metadata": {},
     "output_type": "execute_result"
    }
   ],
   "source": [
    "# Tamaño del dataset (filas, columnas)\n",
    "data.shape"
   ]
  },
  {
   "cell_type": "code",
   "execution_count": 5,
   "metadata": {},
   "outputs": [
    {
     "data": {
      "text/plain": [
       "Index(['producto_id', 'fecha_envio_limite', 'nombre_categoria_producto',\n",
       "       'longitud_nombre_producto', 'longitud_descripcion_producto',\n",
       "       'cantidad_fotos_producto', 'longitud_cm_producto', 'altura_cm_producto',\n",
       "       'ancho_cm_producto'],\n",
       "      dtype='object')"
      ]
     },
     "execution_count": 5,
     "metadata": {},
     "output_type": "execute_result"
    }
   ],
   "source": [
    "# Revisión de los atributos\n",
    "data.columns"
   ]
  },
  {
   "cell_type": "markdown",
   "metadata": {},
   "source": [
    "### 2.2. Tipos de datos\n",
    "\n",
    "Debemos identificar en la fuente el tipo de datos de las variables que estamos analizando, para poder establecer su formato y su dominio."
   ]
  },
  {
   "cell_type": "code",
   "execution_count": 6,
   "metadata": {},
   "outputs": [
    {
     "data": {
      "text/plain": [
       "producto_id                      object\n",
       "fecha_envio_limite               object\n",
       "nombre_categoria_producto        object\n",
       "longitud_nombre_producto          int64\n",
       "longitud_descripcion_producto     int64\n",
       "cantidad_fotos_producto           int64\n",
       "longitud_cm_producto              int64\n",
       "altura_cm_producto                int64\n",
       "ancho_cm_producto                 int64\n",
       "dtype: object"
      ]
     },
     "execution_count": 6,
     "metadata": {},
     "output_type": "execute_result"
    }
   ],
   "source": [
    "#identificar los tipos de datos\n",
    "data.dtypes"
   ]
  },
  {
   "cell_type": "markdown",
   "metadata": {},
   "source": [
    "### 3. Completitud\n",
    "\n",
    "Como parte del proceso de mejora de calidad de datos, es importante identificar y proponer soluciones para el problema de datos faltantes. De hecho, es una tarea obligatoria en la transformación de los datos que resulta muy valiosa en temas de analítica."
   ]
  },
  {
   "cell_type": "markdown",
   "metadata": {},
   "source": [
    "### 3.1. Identificar los atributos vacíos\n",
    "\n",
    "Es necesario identificar qué atributos están vacíos, ya que esto puede alterar los resultados de los análisis que se están presentando, e incluso, en algunos casos, generar alguna pérdida económica si no está bien identificado."
   ]
  },
  {
   "cell_type": "code",
   "execution_count": 7,
   "metadata": {
    "scrolled": true
   },
   "outputs": [
    {
     "data": {
      "text/plain": [
       "producto_id                      0\n",
       "fecha_envio_limite               0\n",
       "nombre_categoria_producto        0\n",
       "longitud_nombre_producto         0\n",
       "longitud_descripcion_producto    0\n",
       "cantidad_fotos_producto          0\n",
       "longitud_cm_producto             0\n",
       "altura_cm_producto               0\n",
       "ancho_cm_producto                0\n",
       "dtype: int64"
      ]
     },
     "execution_count": 7,
     "metadata": {},
     "output_type": "execute_result"
    }
   ],
   "source": [
    "# conteo de los datos vacíos por atributo\n",
    "data.isna().sum()"
   ]
  },
  {
   "cell_type": "markdown",
   "metadata": {
    "scrolled": true
   },
   "source": [
    "No existen datos vacios en los atributos."
   ]
  }
 ],
 "metadata": {
  "kernelspec": {
   "display_name": "Python 3 (ipykernel)",
   "language": "python",
   "name": "python3"
  },
  "language_info": {
   "codemirror_mode": {
    "name": "ipython",
    "version": 3
   },
   "file_extension": ".py",
   "mimetype": "text/x-python",
   "name": "python",
   "nbconvert_exporter": "python",
   "pygments_lexer": "ipython3",
   "version": "3.9.12"
  }
 },
 "nbformat": 4,
 "nbformat_minor": 4
}
