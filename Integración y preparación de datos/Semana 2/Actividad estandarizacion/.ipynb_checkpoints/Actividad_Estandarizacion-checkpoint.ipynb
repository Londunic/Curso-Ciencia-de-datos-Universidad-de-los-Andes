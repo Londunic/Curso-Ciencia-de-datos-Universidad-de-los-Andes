{
 "cells": [
  {
   "cell_type": "markdown",
   "metadata": {},
   "source": [
    "# Integración y preparación de datos\n",
    "\n",
    "## Estandarización "
   ]
  },
  {
   "cell_type": "markdown",
   "metadata": {},
   "source": [
    "### 1. Importación de librerías y archivos\n",
    "\n",
    "En las siguientes líneas se importarán las librerías necesarias, las cuales son **Pandas** para el manejo de datos."
   ]
  },
  {
   "cell_type": "code",
   "execution_count": 1,
   "metadata": {},
   "outputs": [],
   "source": [
    "# Importar las librerías necesarias según el análisis que se vaya a realizar\n",
    "# Librería para manejo de datos convensional\n",
    "import pandas as pd"
   ]
  },
  {
   "cell_type": "code",
   "execution_count": 3,
   "metadata": {
    "scrolled": true
   },
   "outputs": [
    {
     "data": {
      "text/html": [
       "<div>\n",
       "<style scoped>\n",
       "    .dataframe tbody tr th:only-of-type {\n",
       "        vertical-align: middle;\n",
       "    }\n",
       "\n",
       "    .dataframe tbody tr th {\n",
       "        vertical-align: top;\n",
       "    }\n",
       "\n",
       "    .dataframe thead th {\n",
       "        text-align: right;\n",
       "    }\n",
       "</style>\n",
       "<table border=\"1\" class=\"dataframe\">\n",
       "  <thead>\n",
       "    <tr style=\"text-align: right;\">\n",
       "      <th></th>\n",
       "      <th>producto_id</th>\n",
       "      <th>fecha_envio_limite</th>\n",
       "      <th>nombre_categoria_producto</th>\n",
       "      <th>longitud_nombre_producto</th>\n",
       "      <th>longitud_descripcion_producto</th>\n",
       "      <th>cantidad_fotos_producto</th>\n",
       "      <th>longitud_cm_producto</th>\n",
       "      <th>altura_cm_producto</th>\n",
       "      <th>ancho_cm_producto</th>\n",
       "      <th>volumen_cm3_producto</th>\n",
       "    </tr>\n",
       "  </thead>\n",
       "  <tbody>\n",
       "    <tr>\n",
       "      <th>0</th>\n",
       "      <td>PA53</td>\n",
       "      <td>9-may-18</td>\n",
       "      <td>Electrodomésticos</td>\n",
       "      <td>19</td>\n",
       "      <td>28</td>\n",
       "      <td>29</td>\n",
       "      <td>48</td>\n",
       "      <td>17</td>\n",
       "      <td>11</td>\n",
       "      <td>8976</td>\n",
       "    </tr>\n",
       "    <tr>\n",
       "      <th>1</th>\n",
       "      <td>PD80</td>\n",
       "      <td>18-oct-17</td>\n",
       "      <td>Celulares</td>\n",
       "      <td>18</td>\n",
       "      <td>29</td>\n",
       "      <td>16</td>\n",
       "      <td>26</td>\n",
       "      <td>6</td>\n",
       "      <td>16</td>\n",
       "      <td>2496</td>\n",
       "    </tr>\n",
       "    <tr>\n",
       "      <th>2</th>\n",
       "      <td>PB61</td>\n",
       "      <td>10-sep-17</td>\n",
       "      <td>Ropa_de_adultos</td>\n",
       "      <td>13</td>\n",
       "      <td>30</td>\n",
       "      <td>29</td>\n",
       "      <td>17</td>\n",
       "      <td>26</td>\n",
       "      <td>24</td>\n",
       "      <td>10608</td>\n",
       "    </tr>\n",
       "    <tr>\n",
       "      <th>3</th>\n",
       "      <td>PS63</td>\n",
       "      <td>1/11/2018</td>\n",
       "      <td>Carnicería</td>\n",
       "      <td>33</td>\n",
       "      <td>26</td>\n",
       "      <td>13</td>\n",
       "      <td>47</td>\n",
       "      <td>16</td>\n",
       "      <td>43</td>\n",
       "      <td>32336</td>\n",
       "    </tr>\n",
       "    <tr>\n",
       "      <th>4</th>\n",
       "      <td>PA71</td>\n",
       "      <td>17/11/2017</td>\n",
       "      <td>Electrodomésticos</td>\n",
       "      <td>27</td>\n",
       "      <td>3</td>\n",
       "      <td>13</td>\n",
       "      <td>20</td>\n",
       "      <td>26</td>\n",
       "      <td>28</td>\n",
       "      <td>14560</td>\n",
       "    </tr>\n",
       "  </tbody>\n",
       "</table>\n",
       "</div>"
      ],
      "text/plain": [
       "  producto_id fecha_envio_limite nombre_categoria_producto  \\\n",
       "0        PA53           9-may-18         Electrodomésticos   \n",
       "1        PD80          18-oct-17                 Celulares   \n",
       "2        PB61          10-sep-17           Ropa_de_adultos   \n",
       "3        PS63          1/11/2018                Carnicería   \n",
       "4        PA71         17/11/2017         Electrodomésticos   \n",
       "\n",
       "   longitud_nombre_producto  longitud_descripcion_producto  \\\n",
       "0                        19                             28   \n",
       "1                        18                             29   \n",
       "2                        13                             30   \n",
       "3                        33                             26   \n",
       "4                        27                              3   \n",
       "\n",
       "   cantidad_fotos_producto  longitud_cm_producto  altura_cm_producto  \\\n",
       "0                       29                    48                  17   \n",
       "1                       16                    26                   6   \n",
       "2                       29                    17                  26   \n",
       "3                       13                    47                  16   \n",
       "4                       13                    20                  26   \n",
       "\n",
       "   ancho_cm_producto  volumen_cm3_producto  \n",
       "0                 11                  8976  \n",
       "1                 16                  2496  \n",
       "2                 24                 10608  \n",
       "3                 43                 32336  \n",
       "4                 28                 14560  "
      ]
     },
     "execution_count": 3,
     "metadata": {},
     "output_type": "execute_result"
    }
   ],
   "source": [
    "# cargar los datos en csv\n",
    "data= pd.read_csv('productos_por_fecha.csv', sep=';', encoding='latin-1')\n",
    "# Visualizar los datos\n",
    "data.head()"
   ]
  },
  {
   "cell_type": "markdown",
   "metadata": {},
   "source": [
    "### 2. Análisis de la fuente de los datos\n",
    "\n",
    "### 2.1. Registros y atributos\n",
    "El número de registros y atributos nos dará una guía del correcto cargue de los datos, podemos utilizar la función shape para lograr este objetivo."
   ]
  },
  {
   "cell_type": "code",
   "execution_count": 4,
   "metadata": {},
   "outputs": [
    {
     "data": {
      "text/plain": [
       "(1161, 10)"
      ]
     },
     "execution_count": 4,
     "metadata": {},
     "output_type": "execute_result"
    }
   ],
   "source": [
    "# Tamaño del dataset (filas, columnas)\n",
    "data.shape"
   ]
  },
  {
   "cell_type": "code",
   "execution_count": 5,
   "metadata": {
    "scrolled": false
   },
   "outputs": [
    {
     "data": {
      "text/plain": [
       "Index(['producto_id', 'fecha_envio_limite', 'nombre_categoria_producto',\n",
       "       'longitud_nombre_producto', 'longitud_descripcion_producto',\n",
       "       'cantidad_fotos_producto', 'longitud_cm_producto', 'altura_cm_producto',\n",
       "       'ancho_cm_producto', 'volumen_cm3_producto'],\n",
       "      dtype='object')"
      ]
     },
     "execution_count": 5,
     "metadata": {},
     "output_type": "execute_result"
    }
   ],
   "source": [
    "# Revisión de los atributos\n",
    "data.columns"
   ]
  },
  {
   "cell_type": "markdown",
   "metadata": {},
   "source": [
    "### 2.2. Tipos de datos\n",
    "\n",
    "Debemos identificar en la fuente el tipo de datos de las variables que estamos analizando, para poder establecer su formato y su dominio. Recordemos en este punto lo importante de corroborarlos con el diccionario de datos de la fuente."
   ]
  },
  {
   "cell_type": "code",
   "execution_count": 6,
   "metadata": {
    "scrolled": true
   },
   "outputs": [
    {
     "data": {
      "text/plain": [
       "producto_id                      object\n",
       "fecha_envio_limite               object\n",
       "nombre_categoria_producto        object\n",
       "longitud_nombre_producto          int64\n",
       "longitud_descripcion_producto     int64\n",
       "cantidad_fotos_producto           int64\n",
       "longitud_cm_producto              int64\n",
       "altura_cm_producto                int64\n",
       "ancho_cm_producto                 int64\n",
       "volumen_cm3_producto              int64\n",
       "dtype: object"
      ]
     },
     "execution_count": 6,
     "metadata": {},
     "output_type": "execute_result"
    }
   ],
   "source": [
    "#identificar los tipos de datos\n",
    "data.dtypes"
   ]
  },
  {
   "cell_type": "markdown",
   "metadata": {},
   "source": [
    "En nuestra fuente de datos tenemos tipo de datos numérico y string, esto corresponde con las características del producto y los datos que se especifican en el diccionario, a excepción de los primeros identificadores y del atributo fecha_envio_limite que debemos transformar a Datetime."
   ]
  },
  {
   "cell_type": "code",
   "execution_count": 7,
   "metadata": {},
   "outputs": [
    {
     "data": {
      "text/html": [
       "<div>\n",
       "<style scoped>\n",
       "    .dataframe tbody tr th:only-of-type {\n",
       "        vertical-align: middle;\n",
       "    }\n",
       "\n",
       "    .dataframe tbody tr th {\n",
       "        vertical-align: top;\n",
       "    }\n",
       "\n",
       "    .dataframe thead th {\n",
       "        text-align: right;\n",
       "    }\n",
       "</style>\n",
       "<table border=\"1\" class=\"dataframe\">\n",
       "  <thead>\n",
       "    <tr style=\"text-align: right;\">\n",
       "      <th></th>\n",
       "      <th>longitud_nombre_producto</th>\n",
       "      <th>longitud_descripcion_producto</th>\n",
       "      <th>cantidad_fotos_producto</th>\n",
       "      <th>longitud_cm_producto</th>\n",
       "      <th>altura_cm_producto</th>\n",
       "      <th>ancho_cm_producto</th>\n",
       "      <th>volumen_cm3_producto</th>\n",
       "    </tr>\n",
       "  </thead>\n",
       "  <tbody>\n",
       "    <tr>\n",
       "      <th>count</th>\n",
       "      <td>1161.000000</td>\n",
       "      <td>1161.000000</td>\n",
       "      <td>1161.000000</td>\n",
       "      <td>1161.000000</td>\n",
       "      <td>1161.000000</td>\n",
       "      <td>1161.000000</td>\n",
       "      <td>1161.000000</td>\n",
       "    </tr>\n",
       "    <tr>\n",
       "      <th>mean</th>\n",
       "      <td>20.046512</td>\n",
       "      <td>20.046512</td>\n",
       "      <td>16.951766</td>\n",
       "      <td>29.891473</td>\n",
       "      <td>18.114556</td>\n",
       "      <td>23.364341</td>\n",
       "      <td>9549.582257</td>\n",
       "    </tr>\n",
       "    <tr>\n",
       "      <th>std</th>\n",
       "      <td>11.687876</td>\n",
       "      <td>11.663585</td>\n",
       "      <td>14.782367</td>\n",
       "      <td>14.960878</td>\n",
       "      <td>11.331516</td>\n",
       "      <td>10.993293</td>\n",
       "      <td>14323.671275</td>\n",
       "    </tr>\n",
       "    <tr>\n",
       "      <th>min</th>\n",
       "      <td>0.000000</td>\n",
       "      <td>0.000000</td>\n",
       "      <td>-39.000000</td>\n",
       "      <td>0.000000</td>\n",
       "      <td>0.000000</td>\n",
       "      <td>0.000000</td>\n",
       "      <td>-90828.000000</td>\n",
       "    </tr>\n",
       "    <tr>\n",
       "      <th>25%</th>\n",
       "      <td>10.000000</td>\n",
       "      <td>10.000000</td>\n",
       "      <td>7.000000</td>\n",
       "      <td>19.000000</td>\n",
       "      <td>9.000000</td>\n",
       "      <td>16.000000</td>\n",
       "      <td>1080.000000</td>\n",
       "    </tr>\n",
       "    <tr>\n",
       "      <th>50%</th>\n",
       "      <td>20.000000</td>\n",
       "      <td>20.000000</td>\n",
       "      <td>18.000000</td>\n",
       "      <td>30.000000</td>\n",
       "      <td>17.000000</td>\n",
       "      <td>23.000000</td>\n",
       "      <td>5814.000000</td>\n",
       "    </tr>\n",
       "    <tr>\n",
       "      <th>75%</th>\n",
       "      <td>30.000000</td>\n",
       "      <td>30.000000</td>\n",
       "      <td>28.000000</td>\n",
       "      <td>41.000000</td>\n",
       "      <td>26.000000</td>\n",
       "      <td>31.000000</td>\n",
       "      <td>14868.000000</td>\n",
       "    </tr>\n",
       "    <tr>\n",
       "      <th>max</th>\n",
       "      <td>40.000000</td>\n",
       "      <td>40.000000</td>\n",
       "      <td>40.000000</td>\n",
       "      <td>76.000000</td>\n",
       "      <td>59.000000</td>\n",
       "      <td>62.000000</td>\n",
       "      <td>78925.000000</td>\n",
       "    </tr>\n",
       "  </tbody>\n",
       "</table>\n",
       "</div>"
      ],
      "text/plain": [
       "       longitud_nombre_producto  longitud_descripcion_producto  \\\n",
       "count               1161.000000                    1161.000000   \n",
       "mean                  20.046512                      20.046512   \n",
       "std                   11.687876                      11.663585   \n",
       "min                    0.000000                       0.000000   \n",
       "25%                   10.000000                      10.000000   \n",
       "50%                   20.000000                      20.000000   \n",
       "75%                   30.000000                      30.000000   \n",
       "max                   40.000000                      40.000000   \n",
       "\n",
       "       cantidad_fotos_producto  longitud_cm_producto  altura_cm_producto  \\\n",
       "count              1161.000000           1161.000000         1161.000000   \n",
       "mean                 16.951766             29.891473           18.114556   \n",
       "std                  14.782367             14.960878           11.331516   \n",
       "min                 -39.000000              0.000000            0.000000   \n",
       "25%                   7.000000             19.000000            9.000000   \n",
       "50%                  18.000000             30.000000           17.000000   \n",
       "75%                  28.000000             41.000000           26.000000   \n",
       "max                  40.000000             76.000000           59.000000   \n",
       "\n",
       "       ancho_cm_producto  volumen_cm3_producto  \n",
       "count        1161.000000           1161.000000  \n",
       "mean           23.364341           9549.582257  \n",
       "std            10.993293          14323.671275  \n",
       "min             0.000000         -90828.000000  \n",
       "25%            16.000000           1080.000000  \n",
       "50%            23.000000           5814.000000  \n",
       "75%            31.000000          14868.000000  \n",
       "max            62.000000          78925.000000  "
      ]
     },
     "execution_count": 7,
     "metadata": {},
     "output_type": "execute_result"
    }
   ],
   "source": [
    "#describir el dominio de los atributos y otras características estadísticas\n",
    "data.describe()"
   ]
  },
  {
   "cell_type": "markdown",
   "metadata": {},
   "source": [
    "Con este resumen de los datos, podemos identificar rápidamente el dominio de atributos de caracter numérico lo cuales deberían cumplir ciertos requisitos como por ejemplo, para el precio, ser un atributo numérico, en principio, positivo."
   ]
  },
  {
   "cell_type": "markdown",
   "metadata": {},
   "source": [
    "### 4. Estandarización \n",
    "\n",
    "La identificación de estos problemas de estandarización es muy costoso. Sin embargo, como proceso para lograrlo, inicialmente se debe realizar de forma manual, para luego proponer la automatización de los mismos. Es en este punto donde la identificación de patrones que cumplen los registros aporta en la solución de estos problemos de calidad de datos. \n",
    "\n",
    "En el perfilamiento identificamos problemas con los siguientes atributos:\n",
    "* fecha_envio_limite: Existen diferentes formatos de la fecha.\n",
    "* departamento_vendedor: Tiene caracteres anómalos que no complen con el estándar de la base.\n",
    "* nombre_categoria_producto: no cumple con las características definidas.\n",
    "\n",
    "En las siguientes líneas vamos a proponer soluciones para estandarizar estas variables.\n"
   ]
  },
  {
   "cell_type": "markdown",
   "metadata": {},
   "source": [
    "### 4.1. Estandarizar un atributo tipo fecha\n",
    "Inicialmente identificamos que en la fuente de datos el valor del atributo es de tipo string, por lo que debemos transformarlo a datetime, sin embargo, primero debemos revisar el formato tiene."
   ]
  },
  {
   "cell_type": "code",
   "execution_count": 8,
   "metadata": {
    "scrolled": true
   },
   "outputs": [
    {
     "data": {
      "text/html": [
       "<div>\n",
       "<style scoped>\n",
       "    .dataframe tbody tr th:only-of-type {\n",
       "        vertical-align: middle;\n",
       "    }\n",
       "\n",
       "    .dataframe tbody tr th {\n",
       "        vertical-align: top;\n",
       "    }\n",
       "\n",
       "    .dataframe thead th {\n",
       "        text-align: right;\n",
       "    }\n",
       "</style>\n",
       "<table border=\"1\" class=\"dataframe\">\n",
       "  <thead>\n",
       "    <tr style=\"text-align: right;\">\n",
       "      <th></th>\n",
       "      <th>fecha_envio_limite</th>\n",
       "    </tr>\n",
       "  </thead>\n",
       "  <tbody>\n",
       "    <tr>\n",
       "      <th>0</th>\n",
       "      <td>1-ago-17</td>\n",
       "    </tr>\n",
       "    <tr>\n",
       "      <th>1</th>\n",
       "      <td>31-may-18</td>\n",
       "    </tr>\n",
       "    <tr>\n",
       "      <th>2</th>\n",
       "      <td>27-oct-17</td>\n",
       "    </tr>\n",
       "    <tr>\n",
       "      <th>3</th>\n",
       "      <td>13/12/2017</td>\n",
       "    </tr>\n",
       "    <tr>\n",
       "      <th>4</th>\n",
       "      <td>1/11/2018 0:00</td>\n",
       "    </tr>\n",
       "    <tr>\n",
       "      <th>5</th>\n",
       "      <td>6/11/1901 21:06</td>\n",
       "    </tr>\n",
       "    <tr>\n",
       "      <th>6</th>\n",
       "      <td>20/09/2017 4:24</td>\n",
       "    </tr>\n",
       "    <tr>\n",
       "      <th>7</th>\n",
       "      <td>25/10/2017 16:35</td>\n",
       "    </tr>\n",
       "    <tr>\n",
       "      <th>8</th>\n",
       "      <td>14/02/2018 0:09</td>\n",
       "    </tr>\n",
       "    <tr>\n",
       "      <th>9</th>\n",
       "      <td>14/01/2018 21:46</td>\n",
       "    </tr>\n",
       "    <tr>\n",
       "      <th>10</th>\n",
       "      <td>3/10/2017 11:00</td>\n",
       "    </tr>\n",
       "    <tr>\n",
       "      <th>11</th>\n",
       "      <td>13/10/2017 14:21</td>\n",
       "    </tr>\n",
       "    <tr>\n",
       "      <th>12</th>\n",
       "      <td>24/03/2018 9:44</td>\n",
       "    </tr>\n",
       "    <tr>\n",
       "      <th>13</th>\n",
       "      <td>10/02/2018 4:07</td>\n",
       "    </tr>\n",
       "    <tr>\n",
       "      <th>14</th>\n",
       "      <td>15/03/2018 10:42</td>\n",
       "    </tr>\n",
       "    <tr>\n",
       "      <th>15</th>\n",
       "      <td>2/11/2017 7:10</td>\n",
       "    </tr>\n",
       "    <tr>\n",
       "      <th>16</th>\n",
       "      <td>18/08/2017 14:28</td>\n",
       "    </tr>\n",
       "    <tr>\n",
       "      <th>17</th>\n",
       "      <td>22/09/2017 5:08</td>\n",
       "    </tr>\n",
       "    <tr>\n",
       "      <th>18</th>\n",
       "      <td>11/08/2017 19:45</td>\n",
       "    </tr>\n",
       "    <tr>\n",
       "      <th>19</th>\n",
       "      <td>19/09/2017 11:04</td>\n",
       "    </tr>\n",
       "  </tbody>\n",
       "</table>\n",
       "</div>"
      ],
      "text/plain": [
       "   fecha_envio_limite\n",
       "0            1-ago-17\n",
       "1           31-may-18\n",
       "2           27-oct-17\n",
       "3          13/12/2017\n",
       "4      1/11/2018 0:00\n",
       "5     6/11/1901 21:06\n",
       "6     20/09/2017 4:24\n",
       "7    25/10/2017 16:35\n",
       "8     14/02/2018 0:09\n",
       "9    14/01/2018 21:46\n",
       "10    3/10/2017 11:00\n",
       "11   13/10/2017 14:21\n",
       "12    24/03/2018 9:44\n",
       "13    10/02/2018 4:07\n",
       "14   15/03/2018 10:42\n",
       "15     2/11/2017 7:10\n",
       "16   18/08/2017 14:28\n",
       "17    22/09/2017 5:08\n",
       "18   11/08/2017 19:45\n",
       "19   19/09/2017 11:04"
      ]
     },
     "execution_count": 8,
     "metadata": {},
     "output_type": "execute_result"
    }
   ],
   "source": [
    "# revisar el formato del atributo  fecha_envío_límite\n",
    "data[['fecha_envio_limite']].head(20)"
   ]
  },
  {
   "cell_type": "markdown",
   "metadata": {},
   "source": [
    "debemos generar una función para transformar los datos al formato estándar de la mayoría de registros que es: **dd/mm/AAAA hh:mm**\n",
    "\n",
    "Esto lo logramos entender cuando vemos los 3 formatos utilizados para la fecha e identificamos el formato más frecuente, lo cual se se hace en un proceso manual. Al aplicarlo a este caso, identificamos los siguientes patrones:\n",
    "\n",
    "* dd - mes - AA\n",
    "* AAAA - mm - dd\n",
    "* dd/mm/AAAA hh:mm\n",
    "\n",
    "donde dd: es día en con 2 dígitos, mes: primeras 3 letras del mes, mm: el mes con 2 dígitos, AAAA: año con 4 dígitos, AA: año con dos dígitos, hh: la hora con 2 dígitos y mm: los minutos con 2 dígitos "
   ]
  },
  {
   "cell_type": "markdown",
   "metadata": {},
   "source": [
    "Con la identificación de los patrones estamos listos para continuar. La estrategia es crear dos funciones adicionales que van a aportar en la identificación del mes asociado a la fecha y en el caracter utilizado como separador."
   ]
  },
  {
   "cell_type": "code",
   "execution_count": 9,
   "metadata": {},
   "outputs": [],
   "source": [
    "# función para pasar el mes que están en letras a números\n",
    "def mes_a_numero(mes):\n",
    "    if mes=='ene':\n",
    "        numero='01'\n",
    "    if mes=='feb':\n",
    "        numero='02'\n",
    "    if mes=='mar':\n",
    "        numero='03'\n",
    "    if mes=='abr':\n",
    "        numero='04'\n",
    "    if mes=='may':\n",
    "        numero='05'\n",
    "    if mes=='jun':\n",
    "        numero='06'\n",
    "    if mes=='jul':\n",
    "        numero='07'\n",
    "    if mes=='ago':\n",
    "        numero='08'\n",
    "    if mes=='sep':\n",
    "        numero='09'\n",
    "    if mes=='oct':\n",
    "        numero='10'\n",
    "    if mes=='nov':\n",
    "        numero='11'\n",
    "    if mes=='dic':\n",
    "        numero='12'\n",
    "    return numero\n",
    "        \n",
    "# función para validar que es correcto el separador utilizado para la fecha\n",
    "def validar_corregir_fecha(fecha):\n",
    "    # revisar que el guión es el separador\n",
    "    if '-' in fecha:\n",
    "        vector_fecha=fecha.split('-')\n",
    "        # si el primer registro es el año sabemos cómo rearmar el formato\n",
    "        if len(vector_fecha[0])==4:\n",
    "            fecha_nueva= vector_fecha[2]+'/'+vector_fecha[1]+'/'+vector_fecha[0]+' 00:00' # consstruir el formato adecuado\n",
    "        else:\n",
    "            fecha_nueva= vector_fecha[0]+'/'+mes_a_numero(vector_fecha[1])+'/20'+vector_fecha[2]+' 00:00'\n",
    "    # si el guión no está en el registro el formato es correcto\n",
    "    else:\n",
    "        vector_fecha = fecha.split('/')\n",
    "        if len(vector_fecha) == 3:\n",
    "            fecha_nueva = vector_fecha[0]+'/'+vector_fecha[1]+'/'+vector_fecha[2]+' 00:00'\n",
    "        else:\n",
    "            fecha_nueva=fecha\n",
    "    return fecha_nueva"
   ]
  },
  {
   "cell_type": "code",
   "execution_count": 10,
   "metadata": {},
   "outputs": [
    {
     "name": "stdout",
     "output_type": "stream",
     "text": [
      "1-ago-17\n"
     ]
    },
    {
     "data": {
      "text/plain": [
       "'1/08/2017 00:00'"
      ]
     },
     "execution_count": 10,
     "metadata": {},
     "output_type": "execute_result"
    }
   ],
   "source": [
    "# validamos y si es necesario corregimos el formato de la fecha con la función validar_corregir_fecha\n",
    "print(data.at[0,'fecha_envio_limite'])\n",
    "validar_corregir_fecha(data.at[0,'fecha_envio_limite'])\n"
   ]
  },
  {
   "cell_type": "code",
   "execution_count": 11,
   "metadata": {},
   "outputs": [
    {
     "name": "stdout",
     "output_type": "stream",
     "text": [
      "13/12/2017\n"
     ]
    },
    {
     "data": {
      "text/plain": [
       "'13/12/2017 00:00'"
      ]
     },
     "execution_count": 11,
     "metadata": {},
     "output_type": "execute_result"
    }
   ],
   "source": [
    "# validamos y si es necesario corregimos el formato de la fecha con la función validar_corregir_fecha\n",
    "print(data.at[3,'fecha_envio_limite'])\n",
    "validar_corregir_fecha(data.at[3,'fecha_envio_limite'])\n"
   ]
  },
  {
   "cell_type": "code",
   "execution_count": 12,
   "metadata": {
    "scrolled": true
   },
   "outputs": [
    {
     "name": "stdout",
     "output_type": "stream",
     "text": [
      "6/11/1901 21:06\n"
     ]
    },
    {
     "data": {
      "text/plain": [
       "'6/11/1901 21:06 00:00'"
      ]
     },
     "execution_count": 12,
     "metadata": {},
     "output_type": "execute_result"
    }
   ],
   "source": [
    "# validamos y si es necesario corregimos el formato de la fecha con la función validar_corregir_fecha\n",
    "print(data.at[5,'fecha_envio_limite'])\n",
    "validar_corregir_fecha(data.at[5,'fecha_envio_limite'])\n"
   ]
  },
  {
   "cell_type": "markdown",
   "metadata": {},
   "source": [
    "Vemos cómo los registros 0, 3 y 5 que son los que tienen los 3 formatos distintos se pueden transformar fácilmente con la función creada, por lo tanto podemos proceder a automatizar y aplicar la función sobre toda la fuente de datos."
   ]
  },
  {
   "cell_type": "code",
   "execution_count": 13,
   "metadata": {},
   "outputs": [
    {
     "data": {
      "text/html": [
       "<div>\n",
       "<style scoped>\n",
       "    .dataframe tbody tr th:only-of-type {\n",
       "        vertical-align: middle;\n",
       "    }\n",
       "\n",
       "    .dataframe tbody tr th {\n",
       "        vertical-align: top;\n",
       "    }\n",
       "\n",
       "    .dataframe thead th {\n",
       "        text-align: right;\n",
       "    }\n",
       "</style>\n",
       "<table border=\"1\" class=\"dataframe\">\n",
       "  <thead>\n",
       "    <tr style=\"text-align: right;\">\n",
       "      <th></th>\n",
       "      <th>fecha_envio_limite</th>\n",
       "    </tr>\n",
       "  </thead>\n",
       "  <tbody>\n",
       "    <tr>\n",
       "      <th>0</th>\n",
       "      <td>1/08/2017 00:00</td>\n",
       "    </tr>\n",
       "    <tr>\n",
       "      <th>1</th>\n",
       "      <td>31/05/2018 00:00</td>\n",
       "    </tr>\n",
       "    <tr>\n",
       "      <th>2</th>\n",
       "      <td>27/10/2017 00:00</td>\n",
       "    </tr>\n",
       "    <tr>\n",
       "      <th>3</th>\n",
       "      <td>13/12/2017 00:00</td>\n",
       "    </tr>\n",
       "    <tr>\n",
       "      <th>4</th>\n",
       "      <td>1/11/2018 0:00 00:00</td>\n",
       "    </tr>\n",
       "    <tr>\n",
       "      <th>...</th>\n",
       "      <td>...</td>\n",
       "    </tr>\n",
       "    <tr>\n",
       "      <th>1646</th>\n",
       "      <td>18/10/2017 22:51 00:00</td>\n",
       "    </tr>\n",
       "    <tr>\n",
       "      <th>1647</th>\n",
       "      <td>3/05/2018 11:57 00:00</td>\n",
       "    </tr>\n",
       "    <tr>\n",
       "      <th>1648</th>\n",
       "      <td>27/10/2017 22:10 00:00</td>\n",
       "    </tr>\n",
       "    <tr>\n",
       "      <th>1649</th>\n",
       "      <td>27/11/2017 19:44 00:00</td>\n",
       "    </tr>\n",
       "    <tr>\n",
       "      <th>1650</th>\n",
       "      <td>19/02/2018 4:27 00:00</td>\n",
       "    </tr>\n",
       "  </tbody>\n",
       "</table>\n",
       "<p>1651 rows × 1 columns</p>\n",
       "</div>"
      ],
      "text/plain": [
       "          fecha_envio_limite\n",
       "0            1/08/2017 00:00\n",
       "1           31/05/2018 00:00\n",
       "2           27/10/2017 00:00\n",
       "3           13/12/2017 00:00\n",
       "4       1/11/2018 0:00 00:00\n",
       "...                      ...\n",
       "1646  18/10/2017 22:51 00:00\n",
       "1647   3/05/2018 11:57 00:00\n",
       "1648  27/10/2017 22:10 00:00\n",
       "1649  27/11/2017 19:44 00:00\n",
       "1650   19/02/2018 4:27 00:00\n",
       "\n",
       "[1651 rows x 1 columns]"
      ]
     },
     "execution_count": 13,
     "metadata": {},
     "output_type": "execute_result"
    }
   ],
   "source": [
    "# se aplica la función a todo el atributo de fecha\n",
    "data['fecha_envio_limite']=data['fecha_envio_limite'].apply(validar_corregir_fecha)\n",
    "data[['fecha_envio_limite']]"
   ]
  },
  {
   "cell_type": "code",
   "execution_count": 14,
   "metadata": {},
   "outputs": [
    {
     "data": {
      "text/html": [
       "<div>\n",
       "<style scoped>\n",
       "    .dataframe tbody tr th:only-of-type {\n",
       "        vertical-align: middle;\n",
       "    }\n",
       "\n",
       "    .dataframe tbody tr th {\n",
       "        vertical-align: top;\n",
       "    }\n",
       "\n",
       "    .dataframe thead th {\n",
       "        text-align: right;\n",
       "    }\n",
       "</style>\n",
       "<table border=\"1\" class=\"dataframe\">\n",
       "  <thead>\n",
       "    <tr style=\"text-align: right;\">\n",
       "      <th></th>\n",
       "      <th>fecha_envio_limite</th>\n",
       "    </tr>\n",
       "  </thead>\n",
       "  <tbody>\n",
       "    <tr>\n",
       "      <th>0</th>\n",
       "      <td>2017-01-08</td>\n",
       "    </tr>\n",
       "    <tr>\n",
       "      <th>1</th>\n",
       "      <td>2018-05-31</td>\n",
       "    </tr>\n",
       "    <tr>\n",
       "      <th>2</th>\n",
       "      <td>2017-10-27</td>\n",
       "    </tr>\n",
       "    <tr>\n",
       "      <th>3</th>\n",
       "      <td>2017-12-13</td>\n",
       "    </tr>\n",
       "    <tr>\n",
       "      <th>4</th>\n",
       "      <td>2018-01-11</td>\n",
       "    </tr>\n",
       "  </tbody>\n",
       "</table>\n",
       "</div>"
      ],
      "text/plain": [
       "  fecha_envio_limite\n",
       "0         2017-01-08\n",
       "1         2018-05-31\n",
       "2         2017-10-27\n",
       "3         2017-12-13\n",
       "4         2018-01-11"
      ]
     },
     "execution_count": 14,
     "metadata": {},
     "output_type": "execute_result"
    }
   ],
   "source": [
    "# convertir a datetime el atributo fecha_envio_limite\n",
    "data['fecha_envio_limite']=pd.to_datetime(data['fecha_envio_limite'])\n",
    "data[['fecha_envio_limite']].head()"
   ]
  },
  {
   "cell_type": "code",
   "execution_count": 15,
   "metadata": {},
   "outputs": [
    {
     "data": {
      "text/plain": [
       "fecha_envio_limite    datetime64[ns]\n",
       "dtype: object"
      ]
     },
     "execution_count": 15,
     "metadata": {},
     "output_type": "execute_result"
    }
   ],
   "source": [
    "# revisar que el tipo de dato haya quedado correcto\n",
    "data[['fecha_envio_limite']].dtypes"
   ]
  },
  {
   "cell_type": "markdown",
   "metadata": {},
   "source": [
    "Pudimos ver que el proceso de encontrar el estándar para cada variable puede ser costoso en tiempo, en especial este tipo de campos como el de fecha, cuyo contenido se puede escribir de varias formas aunque represente lo mismo. Sin embargo, con la revisión manual y funciones automatizadas se puede lograr tener el contenido del dato correcto. "
   ]
  },
  {
   "cell_type": "markdown",
   "metadata": {},
   "source": [
    "### 4.2. Estandarizar un atributo categórico\n",
    "En el perfilamiento de los datos logramos identificar un patrón erróneo en dos variables de tipo string, que tienen unas categorías asignadas. Vamos a realizar la revisión manual para luego pasar a la automatización."
   ]
  },
  {
   "cell_type": "code",
   "execution_count": 16,
   "metadata": {
    "scrolled": false
   },
   "outputs": [
    {
     "data": {
      "text/plain": [
       "Nariño         1428\n",
       "Antioquia       121\n",
       "Nariño++         91\n",
       "Antioquia++      11\n",
       "Name: departamento_vendedor, dtype: int64"
      ]
     },
     "execution_count": 16,
     "metadata": {},
     "output_type": "execute_result"
    }
   ],
   "source": [
    "# Consultar los datos del atributo departamento\n",
    "data['departamento_vendedor'].value_counts()"
   ]
  },
  {
   "cell_type": "markdown",
   "metadata": {},
   "source": [
    "En el análisis vemos que existen solamente 4 departamentos escritos correctamente, los demás no cumplen con el formato establecido en el diccionario que son solamente 2 letras para cada departamento. El registro registro con valor 0, puede ser un dato anómalo y no es posible estandarizarlo, de acuerdo a lo validado con la organización, por lo tanto podemos tratarlo como un campo vacío."
   ]
  },
  {
   "cell_type": "code",
   "execution_count": 17,
   "metadata": {
    "scrolled": true
   },
   "outputs": [],
   "source": [
    "# función para limpiar el atributo departamento y llevarlo a que cumpla el formato establecido\n",
    "def transformar_departamento(departamento):\n",
    "    if '++' in departamento:  \n",
    "        nuevo_departamento=str(departamento)[0:-2] #tomar los primeros 2 caracteres del campo\n",
    "    else:\n",
    "        nuevo_departamento = departamento\n",
    "    return nuevo_departamento    "
   ]
  },
  {
   "cell_type": "code",
   "execution_count": 18,
   "metadata": {
    "scrolled": true
   },
   "outputs": [
    {
     "data": {
      "text/plain": [
       "0          Nariño\n",
       "1          Nariño\n",
       "2          Nariño\n",
       "3          Nariño\n",
       "4       Antioquia\n",
       "          ...    \n",
       "1646       Nariño\n",
       "1647       Nariño\n",
       "1648       Nariño\n",
       "1649       Nariño\n",
       "1650       Nariño\n",
       "Name: departamento_vendedor, Length: 1651, dtype: object"
      ]
     },
     "execution_count": 18,
     "metadata": {},
     "output_type": "execute_result"
    }
   ],
   "source": [
    "# utilizar la función sobre toda la columna\n",
    "data['departamento_vendedor']=data['departamento_vendedor'].apply(transformar_departamento)\n",
    "data['departamento_vendedor']"
   ]
  },
  {
   "cell_type": "code",
   "execution_count": 19,
   "metadata": {
    "scrolled": false
   },
   "outputs": [
    {
     "data": {
      "text/plain": [
       "Nariño       1519\n",
       "Antioquia     132\n",
       "Name: departamento_vendedor, dtype: int64"
      ]
     },
     "execution_count": 19,
     "metadata": {},
     "output_type": "execute_result"
    }
   ],
   "source": [
    "# validar que se haya estandarizado la variable\n",
    "data['departamento_vendedor'].value_counts()"
   ]
  },
  {
   "cell_type": "markdown",
   "metadata": {},
   "source": [
    "En efecto con la función utilizada se logró realizar la estandarización de los datos, ahora se va a realizar el mismo proceso de análisis para la variable **nombre_categoria_producto**"
   ]
  },
  {
   "cell_type": "code",
   "execution_count": 20,
   "metadata": {
    "scrolled": true
   },
   "outputs": [
    {
     "data": {
      "text/plain": [
       "Carnicería           261\n",
       "Deportes             258\n",
       "Electrodomésticos    253\n",
       "Frutas y verduras    249\n",
       "Celulares            247\n",
       "Ropa de adultos      246\n",
       "Ropa_de_adultos       23\n",
       "Frutas_y_verduras     12\n",
       "Name: nombre_categoria_producto, dtype: int64"
      ]
     },
     "execution_count": 20,
     "metadata": {},
     "output_type": "execute_result"
    }
   ],
   "source": [
    "# Consultar las categorías existentes\n",
    "data['nombre_categoria_producto'].value_counts()"
   ]
  },
  {
   "cell_type": "markdown",
   "metadata": {},
   "source": [
    "Vemos en el análisis que algunas de las categorías están escritas con un guión bajo para la separación entre palabras (\"Frutas_y_verduras\") y otras no (\"Tarjetas regalo\"). Esto se puede atribuir a los tipos de sistemas que utiliza la empresa y puede estar afectando los análisis y quizás procesos como el de envío, ya que de cara a los procesos las categorías sin el guión bajo son diferentes a las que sí lo tienen. Realizado este proceso manual, podemos proceder a realizar la automatización para todos los registros del atributo e incluir para todos el caracter **\"_\"** como separador."
   ]
  },
  {
   "cell_type": "code",
   "execution_count": 21,
   "metadata": {},
   "outputs": [],
   "source": [
    "# función para incluir el guión bajo\n",
    "def transformar_categoria(nombre_categoria):\n",
    "    nuevo_nombre=str(nombre_categoria).replace('_',' ') # reemplazamos los espacios en blanco por guión bajo\n",
    "    return nuevo_nombre"
   ]
  },
  {
   "cell_type": "code",
   "execution_count": 22,
   "metadata": {
    "scrolled": true
   },
   "outputs": [
    {
     "data": {
      "text/plain": [
       "0       Electrodomésticos\n",
       "1               Celulares\n",
       "2         Ropa de adultos\n",
       "3              Carnicería\n",
       "4       Electrodomésticos\n",
       "              ...        \n",
       "1646      Ropa de adultos\n",
       "1647    Frutas y verduras\n",
       "1648             Deportes\n",
       "1649    Frutas y verduras\n",
       "1650             Deportes\n",
       "Name: nombre_categoria_producto, Length: 1651, dtype: object"
      ]
     },
     "execution_count": 22,
     "metadata": {},
     "output_type": "execute_result"
    }
   ],
   "source": [
    "# aplicamos la función a todos los registros del atributo\n",
    "data['nombre_categoria_producto']=data['nombre_categoria_producto'].apply(transformar_categoria)\n",
    "data['nombre_categoria_producto']"
   ]
  },
  {
   "cell_type": "code",
   "execution_count": 23,
   "metadata": {
    "scrolled": true
   },
   "outputs": [
    {
     "data": {
      "text/plain": [
       "Ropa de adultos      269\n",
       "Carnicería           261\n",
       "Frutas y verduras    261\n",
       "Deportes             258\n",
       "Electrodomésticos    253\n",
       "Celulares            247\n",
       "nan                  102\n",
       "Name: nombre_categoria_producto, dtype: int64"
      ]
     },
     "execution_count": 23,
     "metadata": {},
     "output_type": "execute_result"
    }
   ],
   "source": [
    "# validamos las categorías\n",
    "data['nombre_categoria_producto'].value_counts()"
   ]
  },
  {
   "cell_type": "markdown",
   "metadata": {},
   "source": [
    "Podemos ver que en este último caso, también encontramos campos vacíos o mal escritos. Esto lo vamos a corregir en una siguiente lección."
   ]
  },
  {
   "cell_type": "markdown",
   "metadata": {},
   "source": [
    "### Caso de extensión\n",
    "Utiliza el archivo de productos_por_fecha, en el cual se encuentran los productos que se han vendido a lo largo del tiempo, para realizar el proceso de análisis relacionado con la dimensión de calidad de datos de estandarización. Además de realizar los siguientes puntos para el archivo dado, contempla cuál sería el problema para el negocio con los problemas identificados y los riesgos, con las soluciones propuestas.\n",
    "\n",
    "+ Revisa el estándar de los datos para fecha y nombre_categoria_producto.\n",
    "+ Identifica el problema en los atributos.\n",
    "+ Automatiza el proceso de estandarización."
   ]
  }
 ],
 "metadata": {
  "kernelspec": {
   "display_name": "Python 3 (ipykernel)",
   "language": "python",
   "name": "python3"
  },
  "language_info": {
   "codemirror_mode": {
    "name": "ipython",
    "version": 3
   },
   "file_extension": ".py",
   "mimetype": "text/x-python",
   "name": "python",
   "nbconvert_exporter": "python",
   "pygments_lexer": "ipython3",
   "version": "3.9.12"
  }
 },
 "nbformat": 4,
 "nbformat_minor": 2
}
