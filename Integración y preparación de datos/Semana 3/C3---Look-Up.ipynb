{
 "cells": [
  {
   "cell_type": "markdown",
   "id": "c6f7f93e",
   "metadata": {},
   "source": [
    "![Banner-Preparaci-n.png](https://i.postimg.cc/q7vd5LZP/Banner-Preparaci-n.png)"
   ]
  },
  {
   "cell_type": "markdown",
   "id": "81b4021f",
   "metadata": {},
   "source": [
    "# Integración y preparación de datos\n",
    "\n",
    "## L2: Lookups y complemento de datos\n",
    "\n",
    "De acuerdo al caso de uso del sector retail se va a revisar algunas funciones útiles para realizar búsqueda tanto puntuales como a nivel condición, esto para permitir un mayor análisis y revisión de nuestra fuente de datos."
   ]
  },
  {
   "cell_type": "markdown",
   "id": "1877f23a",
   "metadata": {},
   "source": [
    "**Autor:** David Ocampo, Daniel Galindo Ruiz\n",
    "\n",
    "d.ocampo@uniandes.edu.co, d.galindo@uniandes.edu.co"
   ]
  },
  {
   "cell_type": "markdown",
   "id": "60d32d40",
   "metadata": {},
   "source": [
    "### 1. Contexto del negocio \n",
    "El gerente general de la compañía se ha enterado que existen varios casos de reclamos relacionados con el destino final del envío, esto se debe a que el área de ciencia de datos no tiene manera de revisar estos casos particulares, pues solamente se han realizado cálculos y arreglos en los datos para mejorar su calidad global. Sin embargo, esto ha permitido que sean recurrentes estos errores. Por lo tanto, se debe establecer un método para encontrar las ciudades de envío en específico y determinar cuántos del total de envíos están generando un volumen muy grande a la hora de embalaje y despacho para así poder tomar medidas con la mensajería de elección.\n",
    "\n",
    "\n",
    "### Objetivos\n",
    "\n",
    "1. Realizar consultas de puntos en particular de la fuente de datos.\n",
    "2. Indexar una fuente de datos con alguna columna de interés.\n",
    "3. Realizar una condición para crear una nueva columna con información relevante."
   ]
  },
  {
   "cell_type": "markdown",
   "id": "f919fe67",
   "metadata": {},
   "source": [
    "### 2. Importación de librerías y archivos\n",
    "\n",
    "En las siguientes líneas se importarán las librerías necesarias, las cuales son **Pandas** para el manejo de datos y **Numpy** para manejar condiciones sobre los datos:"
   ]
  },
  {
   "cell_type": "code",
   "execution_count": 1,
   "id": "cc87ad16",
   "metadata": {},
   "outputs": [],
   "source": [
    "# Importar las librerías necesarias según el análisis que se vaya a realizar\n",
    "# Librería para manejo de datos\n",
    "import pandas as pd\n",
    "# Librería para manejo de condicionales\n",
    "import numpy as np"
   ]
  },
  {
   "cell_type": "code",
   "execution_count": 2,
   "id": "5312dd0b",
   "metadata": {},
   "outputs": [],
   "source": [
    "#Cargar los datos de las órdenes\n",
    "data=pd.read_csv('ordenes_por_fecha.csv', sep=';',encoding=\"latin-1\")"
   ]
  },
  {
   "cell_type": "code",
   "execution_count": 3,
   "id": "5ce3e783",
   "metadata": {},
   "outputs": [
    {
     "data": {
      "text/html": [
       "<div>\n",
       "<style scoped>\n",
       "    .dataframe tbody tr th:only-of-type {\n",
       "        vertical-align: middle;\n",
       "    }\n",
       "\n",
       "    .dataframe tbody tr th {\n",
       "        vertical-align: top;\n",
       "    }\n",
       "\n",
       "    .dataframe thead th {\n",
       "        text-align: right;\n",
       "    }\n",
       "</style>\n",
       "<table border=\"1\" class=\"dataframe\">\n",
       "  <thead>\n",
       "    <tr style=\"text-align: right;\">\n",
       "      <th></th>\n",
       "      <th>producto_id</th>\n",
       "      <th>fecha_envio_limite</th>\n",
       "      <th>nombre_categoria_producto</th>\n",
       "      <th>longitud_nombre_producto</th>\n",
       "      <th>longitud_descripcion_producto</th>\n",
       "      <th>cantidad_fotos_producto</th>\n",
       "      <th>peso_g_producto</th>\n",
       "      <th>longitud_cm_producto</th>\n",
       "      <th>altura_cm_producto</th>\n",
       "      <th>ancho_cm_producto</th>\n",
       "      <th>orden_id</th>\n",
       "      <th>order_item_id</th>\n",
       "      <th>vendedor_id</th>\n",
       "      <th>precio</th>\n",
       "      <th>valor_flete</th>\n",
       "      <th>codigo_postal_vendedor</th>\n",
       "      <th>ciudad_vendedor</th>\n",
       "      <th>departamento_vendedor</th>\n",
       "    </tr>\n",
       "  </thead>\n",
       "  <tbody>\n",
       "    <tr>\n",
       "      <th>0</th>\n",
       "      <td>PA10</td>\n",
       "      <td>2017-08-30</td>\n",
       "      <td>Electrodomésticos</td>\n",
       "      <td>8</td>\n",
       "      <td>21</td>\n",
       "      <td>28</td>\n",
       "      <td>25</td>\n",
       "      <td>35</td>\n",
       "      <td>1</td>\n",
       "      <td>28</td>\n",
       "      <td>51806PA10B</td>\n",
       "      <td>B</td>\n",
       "      <td>VE1402</td>\n",
       "      <td>348.72</td>\n",
       "      <td>1.69</td>\n",
       "      <td>52490</td>\n",
       "      <td>Olaya herrera</td>\n",
       "      <td>Nariño</td>\n",
       "    </tr>\n",
       "    <tr>\n",
       "      <th>1</th>\n",
       "      <td>PA10</td>\n",
       "      <td>2017-08-30</td>\n",
       "      <td>Electrodomésticos</td>\n",
       "      <td>8</td>\n",
       "      <td>21</td>\n",
       "      <td>28</td>\n",
       "      <td>25</td>\n",
       "      <td>35</td>\n",
       "      <td>1</td>\n",
       "      <td>28</td>\n",
       "      <td>17905PA10A</td>\n",
       "      <td>A</td>\n",
       "      <td>VE4937</td>\n",
       "      <td>92.34</td>\n",
       "      <td>12.61</td>\n",
       "      <td>52323</td>\n",
       "      <td>Gualmatan</td>\n",
       "      <td>Nariño</td>\n",
       "    </tr>\n",
       "    <tr>\n",
       "      <th>2</th>\n",
       "      <td>PA10</td>\n",
       "      <td>2017-08-30</td>\n",
       "      <td>Electrodomésticos</td>\n",
       "      <td>8</td>\n",
       "      <td>21</td>\n",
       "      <td>28</td>\n",
       "      <td>25</td>\n",
       "      <td>35</td>\n",
       "      <td>1</td>\n",
       "      <td>28</td>\n",
       "      <td>19498PA10A</td>\n",
       "      <td>A</td>\n",
       "      <td>VE3549</td>\n",
       "      <td>168.52</td>\n",
       "      <td>2.55</td>\n",
       "      <td>52385</td>\n",
       "      <td>La llanada</td>\n",
       "      <td>Nariño</td>\n",
       "    </tr>\n",
       "    <tr>\n",
       "      <th>3</th>\n",
       "      <td>PA10</td>\n",
       "      <td>2017-08-30</td>\n",
       "      <td>Electrodomésticos</td>\n",
       "      <td>8</td>\n",
       "      <td>21</td>\n",
       "      <td>28</td>\n",
       "      <td>25</td>\n",
       "      <td>35</td>\n",
       "      <td>1</td>\n",
       "      <td>28</td>\n",
       "      <td>51131PA10C</td>\n",
       "      <td>C</td>\n",
       "      <td>VE9609</td>\n",
       "      <td>2.16</td>\n",
       "      <td>6.95</td>\n",
       "      <td>52323</td>\n",
       "      <td>Gualmatan</td>\n",
       "      <td>Nariño</td>\n",
       "    </tr>\n",
       "    <tr>\n",
       "      <th>4</th>\n",
       "      <td>PA10</td>\n",
       "      <td>2017-08-30</td>\n",
       "      <td>Electrodomésticos</td>\n",
       "      <td>8</td>\n",
       "      <td>21</td>\n",
       "      <td>28</td>\n",
       "      <td>25</td>\n",
       "      <td>35</td>\n",
       "      <td>1</td>\n",
       "      <td>28</td>\n",
       "      <td>107500PO59A</td>\n",
       "      <td>A</td>\n",
       "      <td>VE3159</td>\n",
       "      <td>108.38</td>\n",
       "      <td>35.39</td>\n",
       "      <td>54003</td>\n",
       "      <td>Abrego</td>\n",
       "      <td>Norte de santander</td>\n",
       "    </tr>\n",
       "  </tbody>\n",
       "</table>\n",
       "</div>"
      ],
      "text/plain": [
       "  producto_id fecha_envio_limite nombre_categoria_producto  \\\n",
       "0        PA10         2017-08-30         Electrodomésticos   \n",
       "1        PA10         2017-08-30         Electrodomésticos   \n",
       "2        PA10         2017-08-30         Electrodomésticos   \n",
       "3        PA10         2017-08-30         Electrodomésticos   \n",
       "4        PA10         2017-08-30         Electrodomésticos   \n",
       "\n",
       "   longitud_nombre_producto  longitud_descripcion_producto  \\\n",
       "0                         8                             21   \n",
       "1                         8                             21   \n",
       "2                         8                             21   \n",
       "3                         8                             21   \n",
       "4                         8                             21   \n",
       "\n",
       "   cantidad_fotos_producto  peso_g_producto  longitud_cm_producto  \\\n",
       "0                       28               25                    35   \n",
       "1                       28               25                    35   \n",
       "2                       28               25                    35   \n",
       "3                       28               25                    35   \n",
       "4                       28               25                    35   \n",
       "\n",
       "   altura_cm_producto  ancho_cm_producto     orden_id order_item_id  \\\n",
       "0                   1                 28   51806PA10B             B   \n",
       "1                   1                 28   17905PA10A             A   \n",
       "2                   1                 28   19498PA10A             A   \n",
       "3                   1                 28   51131PA10C             C   \n",
       "4                   1                 28  107500PO59A             A   \n",
       "\n",
       "  vendedor_id  precio  valor_flete  codigo_postal_vendedor ciudad_vendedor  \\\n",
       "0      VE1402  348.72         1.69                   52490   Olaya herrera   \n",
       "1      VE4937   92.34        12.61                   52323       Gualmatan   \n",
       "2      VE3549  168.52         2.55                   52385      La llanada   \n",
       "3      VE9609    2.16         6.95                   52323       Gualmatan   \n",
       "4      VE3159  108.38        35.39                   54003          Abrego   \n",
       "\n",
       "  departamento_vendedor  \n",
       "0                Nariño  \n",
       "1                Nariño  \n",
       "2                Nariño  \n",
       "3                Nariño  \n",
       "4    Norte de santander  "
      ]
     },
     "execution_count": 3,
     "metadata": {},
     "output_type": "execute_result"
    }
   ],
   "source": [
    "#Visualizar los datos\n",
    "data.head()"
   ]
  },
  {
   "cell_type": "markdown",
   "id": "071e51d0",
   "metadata": {},
   "source": [
    "### 3. Uso de Lookups\n",
    "\n",
    "Nos encontramos en un punto donde ya tenemos la data cargada y podemos hacer varias operaciones de utilidad para el manejo, arreglo, visualización y operación de datos, sin embargo, también sería muy interesante poder seleccionar subconjuntos o simplemente una celda para poder revisar qué datos contienen. Como lo hemos mostrado durante todos los cursos, la visualización de datos es clave para entender qué datos estamos cargando. En los siguientes ejercicios vamos a revisar:\n",
    "\n",
    "* Cómo indexar una fuente de datos por una columna de interés.\n",
    "* Cómo seleccionar una celda en particular."
   ]
  },
  {
   "cell_type": "code",
   "execution_count": 4,
   "id": "d1d38d55",
   "metadata": {},
   "outputs": [
    {
     "name": "stderr",
     "output_type": "stream",
     "text": [
      "<ipython-input-4-6e2faa61aaab>:5: FutureWarning: The 'lookup' method is deprecated and will beremoved in a future version.You can use DataFrame.melt and DataFrame.locas a substitute.\n",
      "  data.lookup([0],['ciudad_vendedor'])\n"
     ]
    },
    {
     "data": {
      "text/plain": [
       "array(['Olaya herrera'], dtype=object)"
      ]
     },
     "execution_count": 4,
     "metadata": {},
     "output_type": "execute_result"
    }
   ],
   "source": [
    "# Vamos a seleccionar el primer envío y buscar a qué ciudad se envío\n",
    "# la selección de lookups se realiza con lookup(índice de filas, índice de columnas)\n",
    "# Seleccionamos la fila 0 que sería el primer registro\n",
    "# Y la columna ciudad vendedor\n",
    "data.lookup([0],['ciudad_vendedor'])"
   ]
  },
  {
   "cell_type": "code",
   "execution_count": 5,
   "id": "3b8a9ac8",
   "metadata": {
    "scrolled": true
   },
   "outputs": [
    {
     "data": {
      "text/html": [
       "<div>\n",
       "<style scoped>\n",
       "    .dataframe tbody tr th:only-of-type {\n",
       "        vertical-align: middle;\n",
       "    }\n",
       "\n",
       "    .dataframe tbody tr th {\n",
       "        vertical-align: top;\n",
       "    }\n",
       "\n",
       "    .dataframe thead th {\n",
       "        text-align: right;\n",
       "    }\n",
       "</style>\n",
       "<table border=\"1\" class=\"dataframe\">\n",
       "  <thead>\n",
       "    <tr style=\"text-align: right;\">\n",
       "      <th></th>\n",
       "      <th>producto_id</th>\n",
       "      <th>fecha_envio_limite</th>\n",
       "      <th>nombre_categoria_producto</th>\n",
       "      <th>longitud_nombre_producto</th>\n",
       "      <th>longitud_descripcion_producto</th>\n",
       "      <th>cantidad_fotos_producto</th>\n",
       "      <th>peso_g_producto</th>\n",
       "      <th>longitud_cm_producto</th>\n",
       "      <th>altura_cm_producto</th>\n",
       "      <th>ancho_cm_producto</th>\n",
       "      <th>order_item_id</th>\n",
       "      <th>vendedor_id</th>\n",
       "      <th>precio</th>\n",
       "      <th>valor_flete</th>\n",
       "      <th>codigo_postal_vendedor</th>\n",
       "      <th>ciudad_vendedor</th>\n",
       "      <th>departamento_vendedor</th>\n",
       "    </tr>\n",
       "    <tr>\n",
       "      <th>orden_id</th>\n",
       "      <th></th>\n",
       "      <th></th>\n",
       "      <th></th>\n",
       "      <th></th>\n",
       "      <th></th>\n",
       "      <th></th>\n",
       "      <th></th>\n",
       "      <th></th>\n",
       "      <th></th>\n",
       "      <th></th>\n",
       "      <th></th>\n",
       "      <th></th>\n",
       "      <th></th>\n",
       "      <th></th>\n",
       "      <th></th>\n",
       "      <th></th>\n",
       "      <th></th>\n",
       "    </tr>\n",
       "  </thead>\n",
       "  <tbody>\n",
       "    <tr>\n",
       "      <th>51806PA10B</th>\n",
       "      <td>PA10</td>\n",
       "      <td>2017-08-30</td>\n",
       "      <td>Electrodomésticos</td>\n",
       "      <td>8</td>\n",
       "      <td>21</td>\n",
       "      <td>28</td>\n",
       "      <td>25</td>\n",
       "      <td>35</td>\n",
       "      <td>1</td>\n",
       "      <td>28</td>\n",
       "      <td>B</td>\n",
       "      <td>VE1402</td>\n",
       "      <td>348.72</td>\n",
       "      <td>1.69</td>\n",
       "      <td>52490</td>\n",
       "      <td>Olaya herrera</td>\n",
       "      <td>Nariño</td>\n",
       "    </tr>\n",
       "    <tr>\n",
       "      <th>17905PA10A</th>\n",
       "      <td>PA10</td>\n",
       "      <td>2017-08-30</td>\n",
       "      <td>Electrodomésticos</td>\n",
       "      <td>8</td>\n",
       "      <td>21</td>\n",
       "      <td>28</td>\n",
       "      <td>25</td>\n",
       "      <td>35</td>\n",
       "      <td>1</td>\n",
       "      <td>28</td>\n",
       "      <td>A</td>\n",
       "      <td>VE4937</td>\n",
       "      <td>92.34</td>\n",
       "      <td>12.61</td>\n",
       "      <td>52323</td>\n",
       "      <td>Gualmatan</td>\n",
       "      <td>Nariño</td>\n",
       "    </tr>\n",
       "    <tr>\n",
       "      <th>19498PA10A</th>\n",
       "      <td>PA10</td>\n",
       "      <td>2017-08-30</td>\n",
       "      <td>Electrodomésticos</td>\n",
       "      <td>8</td>\n",
       "      <td>21</td>\n",
       "      <td>28</td>\n",
       "      <td>25</td>\n",
       "      <td>35</td>\n",
       "      <td>1</td>\n",
       "      <td>28</td>\n",
       "      <td>A</td>\n",
       "      <td>VE3549</td>\n",
       "      <td>168.52</td>\n",
       "      <td>2.55</td>\n",
       "      <td>52385</td>\n",
       "      <td>La llanada</td>\n",
       "      <td>Nariño</td>\n",
       "    </tr>\n",
       "    <tr>\n",
       "      <th>51131PA10C</th>\n",
       "      <td>PA10</td>\n",
       "      <td>2017-08-30</td>\n",
       "      <td>Electrodomésticos</td>\n",
       "      <td>8</td>\n",
       "      <td>21</td>\n",
       "      <td>28</td>\n",
       "      <td>25</td>\n",
       "      <td>35</td>\n",
       "      <td>1</td>\n",
       "      <td>28</td>\n",
       "      <td>C</td>\n",
       "      <td>VE9609</td>\n",
       "      <td>2.16</td>\n",
       "      <td>6.95</td>\n",
       "      <td>52323</td>\n",
       "      <td>Gualmatan</td>\n",
       "      <td>Nariño</td>\n",
       "    </tr>\n",
       "    <tr>\n",
       "      <th>107500PO59A</th>\n",
       "      <td>PA10</td>\n",
       "      <td>2017-08-30</td>\n",
       "      <td>Electrodomésticos</td>\n",
       "      <td>8</td>\n",
       "      <td>21</td>\n",
       "      <td>28</td>\n",
       "      <td>25</td>\n",
       "      <td>35</td>\n",
       "      <td>1</td>\n",
       "      <td>28</td>\n",
       "      <td>A</td>\n",
       "      <td>VE3159</td>\n",
       "      <td>108.38</td>\n",
       "      <td>35.39</td>\n",
       "      <td>54003</td>\n",
       "      <td>Abrego</td>\n",
       "      <td>Norte de santander</td>\n",
       "    </tr>\n",
       "  </tbody>\n",
       "</table>\n",
       "</div>"
      ],
      "text/plain": [
       "            producto_id fecha_envio_limite nombre_categoria_producto  \\\n",
       "orden_id                                                               \n",
       "51806PA10B         PA10         2017-08-30         Electrodomésticos   \n",
       "17905PA10A         PA10         2017-08-30         Electrodomésticos   \n",
       "19498PA10A         PA10         2017-08-30         Electrodomésticos   \n",
       "51131PA10C         PA10         2017-08-30         Electrodomésticos   \n",
       "107500PO59A        PA10         2017-08-30         Electrodomésticos   \n",
       "\n",
       "             longitud_nombre_producto  longitud_descripcion_producto  \\\n",
       "orden_id                                                               \n",
       "51806PA10B                          8                             21   \n",
       "17905PA10A                          8                             21   \n",
       "19498PA10A                          8                             21   \n",
       "51131PA10C                          8                             21   \n",
       "107500PO59A                         8                             21   \n",
       "\n",
       "             cantidad_fotos_producto  peso_g_producto  longitud_cm_producto  \\\n",
       "orden_id                                                                      \n",
       "51806PA10B                        28               25                    35   \n",
       "17905PA10A                        28               25                    35   \n",
       "19498PA10A                        28               25                    35   \n",
       "51131PA10C                        28               25                    35   \n",
       "107500PO59A                       28               25                    35   \n",
       "\n",
       "             altura_cm_producto  ancho_cm_producto order_item_id vendedor_id  \\\n",
       "orden_id                                                                       \n",
       "51806PA10B                    1                 28             B      VE1402   \n",
       "17905PA10A                    1                 28             A      VE4937   \n",
       "19498PA10A                    1                 28             A      VE3549   \n",
       "51131PA10C                    1                 28             C      VE9609   \n",
       "107500PO59A                   1                 28             A      VE3159   \n",
       "\n",
       "             precio  valor_flete  codigo_postal_vendedor ciudad_vendedor  \\\n",
       "orden_id                                                                   \n",
       "51806PA10B   348.72         1.69                   52490   Olaya herrera   \n",
       "17905PA10A    92.34        12.61                   52323       Gualmatan   \n",
       "19498PA10A   168.52         2.55                   52385      La llanada   \n",
       "51131PA10C     2.16         6.95                   52323       Gualmatan   \n",
       "107500PO59A  108.38        35.39                   54003          Abrego   \n",
       "\n",
       "            departamento_vendedor  \n",
       "orden_id                           \n",
       "51806PA10B                 Nariño  \n",
       "17905PA10A                 Nariño  \n",
       "19498PA10A                 Nariño  \n",
       "51131PA10C                 Nariño  \n",
       "107500PO59A    Norte de santander  "
      ]
     },
     "execution_count": 5,
     "metadata": {},
     "output_type": "execute_result"
    }
   ],
   "source": [
    "# Ahora vamos a indexar la base por el id de la orden así podremos encontrar el la ciudad de envío \n",
    "data=data.drop_duplicates(subset=['orden_id'])\n",
    "# Es muy importante realizar el paso anterior para garantizar que el índice sea único\n",
    "data=data.set_index('orden_id')\n",
    "data.head()"
   ]
  },
  {
   "cell_type": "code",
   "execution_count": 10,
   "id": "f569b236",
   "metadata": {
    "scrolled": false
   },
   "outputs": [
    {
     "name": "stderr",
     "output_type": "stream",
     "text": [
      "<ipython-input-10-729e978eae88>:3: FutureWarning: The 'lookup' method is deprecated and will beremoved in a future version.You can use DataFrame.melt and DataFrame.locas a substitute.\n",
      "  data.lookup(['51806PA10B'],['ciudad_vendedor'])\n"
     ]
    },
    {
     "data": {
      "text/plain": [
       "array(['Olaya herrera'], dtype=object)"
      ]
     },
     "execution_count": 10,
     "metadata": {},
     "output_type": "execute_result"
    }
   ],
   "source": [
    "# Ahora vamor a buscar el envío:\n",
    "# 51806PA10B\n",
    "data.lookup(['51806PA10B'],['ciudad_vendedor'])"
   ]
  },
  {
   "cell_type": "markdown",
   "id": "0204af47",
   "metadata": {},
   "source": [
    "Al final vemos que podemos identificar las ciudades de los envíos que tanto el científico de datos como los encargados de despacho puedan verificar que sí se está realizando los pedidos a la ciudad adecuada, esto, tomando un caso en particular para analizar la ciudad. Sin embargo, es siempre posible cambiar el índice de la fuente para obtener información de otras columnas en particular."
   ]
  },
  {
   "cell_type": "markdown",
   "id": "3367a202",
   "metadata": {},
   "source": [
    "### 4. Uso de función Where\n",
    "\n",
    "La función where es una aplicación del algoritmo Si - Entonces (if-then) muy similar a la función de Excel ya conocida. Para cada elemento en la fuente de datos que llama, si la condición es verdadera, se usa el elemento; de lo contrario, se utiliza el otro elemento de la función correspondiente.\n",
    "\n",
    "```python\n",
    "fuente_datos.where(condición, elemento_si_verdadero, elemento_si_falso)\n",
    "\n",
    "```\n",
    "\n",
    "![If-else](https://picodotdev.github.io/blog-bitix/2020/06/las-sentencias-de-control-de-flujo-en-java-if-switch-for-while-do-while-try-catch-break-continue-e-invocacion/images/sentencia-if-else_hu869d4585cc82fedd18187c9eb1e4060a_23522_750x750_fit_box_3.png)\n",
    "\n",
    "Para la práctica de esta función vamos a revisar una función sencilla que nos permita a identificar el tamaño del producto si es mayor a 30 centímetros de largo, así las características de la función serían:\n",
    "\n",
    "* **Condición:** Longitud del producto mayor a 30cm \n",
    "* **Valor si verdadero**: Grande\n",
    "* **Valor si falso**: Pequeño\n"
   ]
  },
  {
   "cell_type": "code",
   "execution_count": 7,
   "id": "d7d373dd",
   "metadata": {},
   "outputs": [
    {
     "data": {
      "text/plain": [
       "array(['GRANDE', 'GRANDE', 'GRANDE', ..., 'GRANDE', 'GRANDE', 'GRANDE'],\n",
       "      dtype='<U7')"
      ]
     },
     "execution_count": 7,
     "metadata": {},
     "output_type": "execute_result"
    }
   ],
   "source": [
    "# Creación de la condición\n",
    "np.where(data['longitud_cm_producto']>30, #Condición\n",
    "         'GRANDE', #Valor si verdadero\n",
    "         'PEQUEÑO') #Valor si falso"
   ]
  },
  {
   "cell_type": "code",
   "execution_count": 8,
   "id": "80b22b22",
   "metadata": {
    "scrolled": true
   },
   "outputs": [
    {
     "data": {
      "text/html": [
       "<div>\n",
       "<style scoped>\n",
       "    .dataframe tbody tr th:only-of-type {\n",
       "        vertical-align: middle;\n",
       "    }\n",
       "\n",
       "    .dataframe tbody tr th {\n",
       "        vertical-align: top;\n",
       "    }\n",
       "\n",
       "    .dataframe thead th {\n",
       "        text-align: right;\n",
       "    }\n",
       "</style>\n",
       "<table border=\"1\" class=\"dataframe\">\n",
       "  <thead>\n",
       "    <tr style=\"text-align: right;\">\n",
       "      <th></th>\n",
       "      <th>tipo_tamano_producto</th>\n",
       "    </tr>\n",
       "    <tr>\n",
       "      <th>orden_id</th>\n",
       "      <th></th>\n",
       "    </tr>\n",
       "  </thead>\n",
       "  <tbody>\n",
       "    <tr>\n",
       "      <th>51806PA10B</th>\n",
       "      <td>GRANDE</td>\n",
       "    </tr>\n",
       "    <tr>\n",
       "      <th>17905PA10A</th>\n",
       "      <td>GRANDE</td>\n",
       "    </tr>\n",
       "    <tr>\n",
       "      <th>19498PA10A</th>\n",
       "      <td>GRANDE</td>\n",
       "    </tr>\n",
       "    <tr>\n",
       "      <th>51131PA10C</th>\n",
       "      <td>GRANDE</td>\n",
       "    </tr>\n",
       "    <tr>\n",
       "      <th>107500PO59A</th>\n",
       "      <td>GRANDE</td>\n",
       "    </tr>\n",
       "  </tbody>\n",
       "</table>\n",
       "</div>"
      ],
      "text/plain": [
       "            tipo_tamano_producto\n",
       "orden_id                        \n",
       "51806PA10B                GRANDE\n",
       "17905PA10A                GRANDE\n",
       "19498PA10A                GRANDE\n",
       "51131PA10C                GRANDE\n",
       "107500PO59A               GRANDE"
      ]
     },
     "execution_count": 8,
     "metadata": {},
     "output_type": "execute_result"
    }
   ],
   "source": [
    "# asignarlo a una columna nueva de la fuente de datos\n",
    "data['tipo_tamano_producto']=np.where(data['longitud_cm_producto']>30, 'GRANDE','PEQUEÑO')\n",
    "# visualizar la columna nueva\n",
    "data[['tipo_tamano_producto']].head()"
   ]
  },
  {
   "cell_type": "code",
   "execution_count": 9,
   "id": "6df1ad08",
   "metadata": {
    "scrolled": true
   },
   "outputs": [
    {
     "data": {
      "text/plain": [
       "PEQUEÑO    5207\n",
       "GRANDE     4789\n",
       "Name: tipo_tamano_producto, dtype: int64"
      ]
     },
     "execution_count": 9,
     "metadata": {},
     "output_type": "execute_result"
    }
   ],
   "source": [
    "data['tipo_tamano_producto'].value_counts()"
   ]
  },
  {
   "cell_type": "markdown",
   "id": "4ca2058c",
   "metadata": {},
   "source": [
    "Con esta función podemos encontrar rápidamente subconjuntos de los datos para realizar información complementaria que nos aporte el análisis del negocio."
   ]
  },
  {
   "cell_type": "markdown",
   "id": "0505e1c2",
   "metadata": {},
   "source": [
    "### Caso de Extensión\n",
    "\n",
    "Con el caso de empleados de los Alpes, vamos a llevar lo aprendido a la práctica, para lo cual se ha planteado una pregunta de negocio, en este momento se quiere conocer a cuáles departamentos se realizan la mayor cantidad de viajes, además identificar qué tipo de empleado está teniendo una mayor tasa de deserción.\n",
    "\n",
    "* La empresa quiere saber los 2 departamentos más frecuentes de los empleados allí.\n",
    "* Genera una columna extra para saber si el empleado es administrativo o técnico. Un empleado es técnico si proviene del depto de I+D, y administrativo de lo contrario.\n",
    "* Con esta nueva columna, genera un histograma que nos cuente la tasa de deserción de empleados técnicos vs. administrativos."
   ]
  }
 ],
 "metadata": {
  "kernelspec": {
   "display_name": "Python 3 (ipykernel)",
   "language": "python",
   "name": "python3"
  },
  "language_info": {
   "codemirror_mode": {
    "name": "ipython",
    "version": 3
   },
   "file_extension": ".py",
   "mimetype": "text/x-python",
   "name": "python",
   "nbconvert_exporter": "python",
   "pygments_lexer": "ipython3",
   "version": "3.9.12"
  }
 },
 "nbformat": 4,
 "nbformat_minor": 5
}
