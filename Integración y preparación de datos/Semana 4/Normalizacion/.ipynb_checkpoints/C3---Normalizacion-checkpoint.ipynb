{
 "cells": [
  {
   "cell_type": "markdown",
   "metadata": {},
   "source": [
    "![Banner-Preparaci-n.png](https://i.postimg.cc/q7vd5LZP/Banner-Preparaci-n.png)"
   ]
  },
  {
   "cell_type": "markdown",
   "metadata": {},
   "source": [
    "# Integración y preparación de datos\n",
    "\n",
    "## L2: Normalizar y Reducir atributos\n",
    "\n",
    "En este notebook veremos cómo solucionar un problema en una empresa de retail con normalización de atributos."
   ]
  },
  {
   "cell_type": "markdown",
   "metadata": {},
   "source": [
    "**Autor:** David Ocampo, Daniel Galindo Ruiz\n",
    "\n",
    "d.ocampo@uniandes.edu.co, d.galindo@uniandes.edu.co"
   ]
  },
  {
   "cell_type": "markdown",
   "metadata": {},
   "source": [
    "### 1. Contexto del negocio \n",
    "El área de ciencia de datos está preparando un estudio de similaridad entre items con sus características intrínsecas, su precio, su envío, su categoría, así como sus caracteríticas físicas, por lo tanto es necesario empezar con la normalización de variables.\n",
    "\n",
    "\n",
    "### Objetivos\n",
    "\n",
    "1. Conocer cómo a través de la distribución se puede ver la calidad de los datos.\n",
    "2. Crear histogramas para una rápida inspección de la distribución.\n",
    "3. Normalizar una variable para identificar los posibles cambios."
   ]
  },
  {
   "cell_type": "markdown",
   "metadata": {},
   "source": [
    "### 2. Importación de librerías y archivos\n",
    "\n",
    "En las siguientes líneas se importarán las librerías necesarias, las cuales son **Pandas** para el manejo de datos, **Scikit Learn** (particularmente el paquete 'preprocessing' del cual usaremos la función MinMaxScaler) y finalmente, la librería **Numpy** para aplicar expresiones matemáticas sobre los datos."
   ]
  },
  {
   "cell_type": "code",
   "execution_count": 1,
   "metadata": {},
   "outputs": [],
   "source": [
    "# Importar las librerías necesarias según el análisis que se vaya a realizar\n",
    "# Librería para manejo de datos\n",
    "import pandas as pd\n",
    "# Librería para normalización\n",
    "from sklearn.preprocessing import MinMaxScaler\n",
    "# Librería para utilización de expresiones matemáticas\n",
    "import numpy as np"
   ]
  },
  {
   "cell_type": "code",
   "execution_count": 2,
   "metadata": {},
   "outputs": [
    {
     "data": {
      "text/html": [
       "<div>\n",
       "<style scoped>\n",
       "    .dataframe tbody tr th:only-of-type {\n",
       "        vertical-align: middle;\n",
       "    }\n",
       "\n",
       "    .dataframe tbody tr th {\n",
       "        vertical-align: top;\n",
       "    }\n",
       "\n",
       "    .dataframe thead th {\n",
       "        text-align: right;\n",
       "    }\n",
       "</style>\n",
       "<table border=\"1\" class=\"dataframe\">\n",
       "  <thead>\n",
       "    <tr style=\"text-align: right;\">\n",
       "      <th></th>\n",
       "      <th>producto_id</th>\n",
       "      <th>fecha_envio_limite</th>\n",
       "      <th>nombre_categoria_producto</th>\n",
       "      <th>longitud_nombre_producto</th>\n",
       "      <th>longitud_descripcion_producto</th>\n",
       "      <th>cantidad_fotos_producto</th>\n",
       "      <th>peso_g_producto</th>\n",
       "      <th>longitud_cm_producto</th>\n",
       "      <th>altura_cm_producto</th>\n",
       "      <th>ancho_cm_producto</th>\n",
       "    </tr>\n",
       "  </thead>\n",
       "  <tbody>\n",
       "    <tr>\n",
       "      <th>0</th>\n",
       "      <td>PT66</td>\n",
       "      <td>19/09/2017 7:24</td>\n",
       "      <td>Tarjetas regalo</td>\n",
       "      <td>6</td>\n",
       "      <td>34</td>\n",
       "      <td>18</td>\n",
       "      <td>6291</td>\n",
       "      <td>50</td>\n",
       "      <td>9</td>\n",
       "      <td>12</td>\n",
       "    </tr>\n",
       "    <tr>\n",
       "      <th>1</th>\n",
       "      <td>PB76</td>\n",
       "      <td>22/01/2018 11:30</td>\n",
       "      <td>Ropa de adultos</td>\n",
       "      <td>10</td>\n",
       "      <td>39</td>\n",
       "      <td>0</td>\n",
       "      <td>616</td>\n",
       "      <td>26</td>\n",
       "      <td>24</td>\n",
       "      <td>23</td>\n",
       "    </tr>\n",
       "    <tr>\n",
       "      <th>2</th>\n",
       "      <td>PJ55</td>\n",
       "      <td>9/12/2017 15:09</td>\n",
       "      <td>Mascotas</td>\n",
       "      <td>25</td>\n",
       "      <td>12</td>\n",
       "      <td>3</td>\n",
       "      <td>2431</td>\n",
       "      <td>51</td>\n",
       "      <td>2</td>\n",
       "      <td>28</td>\n",
       "    </tr>\n",
       "    <tr>\n",
       "      <th>3</th>\n",
       "      <td>PO85</td>\n",
       "      <td>4/05/2018 4:15</td>\n",
       "      <td>Productos ecoamigables</td>\n",
       "      <td>33</td>\n",
       "      <td>25</td>\n",
       "      <td>25</td>\n",
       "      <td>2061</td>\n",
       "      <td>19</td>\n",
       "      <td>26</td>\n",
       "      <td>28</td>\n",
       "    </tr>\n",
       "    <tr>\n",
       "      <th>4</th>\n",
       "      <td>PG31</td>\n",
       "      <td>17/09/2017 23:24</td>\n",
       "      <td>Salud</td>\n",
       "      <td>34</td>\n",
       "      <td>22</td>\n",
       "      <td>11</td>\n",
       "      <td>2639</td>\n",
       "      <td>39</td>\n",
       "      <td>19</td>\n",
       "      <td>40</td>\n",
       "    </tr>\n",
       "  </tbody>\n",
       "</table>\n",
       "</div>"
      ],
      "text/plain": [
       "  producto_id fecha_envio_limite nombre_categoria_producto  \\\n",
       "0        PT66    19/09/2017 7:24           Tarjetas regalo   \n",
       "1        PB76   22/01/2018 11:30           Ropa de adultos   \n",
       "2        PJ55    9/12/2017 15:09                  Mascotas   \n",
       "3        PO85     4/05/2018 4:15    Productos ecoamigables   \n",
       "4        PG31   17/09/2017 23:24                     Salud   \n",
       "\n",
       "   longitud_nombre_producto  longitud_descripcion_producto  \\\n",
       "0                         6                             34   \n",
       "1                        10                             39   \n",
       "2                        25                             12   \n",
       "3                        33                             25   \n",
       "4                        34                             22   \n",
       "\n",
       "   cantidad_fotos_producto  peso_g_producto  longitud_cm_producto  \\\n",
       "0                       18             6291                    50   \n",
       "1                        0              616                    26   \n",
       "2                        3             2431                    51   \n",
       "3                       25             2061                    19   \n",
       "4                       11             2639                    39   \n",
       "\n",
       "   altura_cm_producto  ancho_cm_producto  \n",
       "0                   9                 12  \n",
       "1                  24                 23  \n",
       "2                   2                 28  \n",
       "3                  26                 28  \n",
       "4                  19                 40  "
      ]
     },
     "execution_count": 2,
     "metadata": {},
     "output_type": "execute_result"
    }
   ],
   "source": [
    "# cargar los datos en csv\n",
    "data= pd.read_csv('productos_por_fecha.csv', sep=';',encoding=\"latin-1\")\n",
    "#Visualizar los datos\n",
    "data.head()"
   ]
  },
  {
   "cell_type": "markdown",
   "metadata": {},
   "source": [
    "### 3. Revisando la distribución\n",
    "\n",
    "Como hemos vistos en lecciones anteriores, conocer la distribución de los datos nos ayuda a tomar decisiones de valor para la compañía, además que nos da una guía de cómo tratar los datos en los siguientes pasos. A continuación se muestran algunas unas razones por las cuales revisar la distribución es importante:\n",
    "\n",
    "* La distribución de una variable muestra qué valores toma y con qué frecuencia toma estos valores.\n",
    "* Las distribuciones se pueden mostrar usando una variedad de herramientas gráficas. La elección adecuada de la gráfica depende de la naturaleza de la variable.\n",
    "* El objetivo de utilizar gráficos es ilustrar la distribución de cada variable.\n",
    "* Esto significa mostrar el valor que toma la variable entre los individuos de la muestra.\n",
    "* El objetivo es mostrar visualmente el rango de valores, así como los valores que ocurren con mayor frecuencia."
   ]
  },
  {
   "cell_type": "code",
   "execution_count": 3,
   "metadata": {},
   "outputs": [
    {
     "data": {
      "text/plain": [
       "<AxesSubplot:>"
      ]
     },
     "execution_count": 3,
     "metadata": {},
     "output_type": "execute_result"
    },
    {
     "data": {
      "image/png": "[encoded data removed]",
      "text/plain": [
       "<Figure size 432x288 with 1 Axes>"
      ]
     },
     "metadata": {
      "needs_background": "light"
     },
     "output_type": "display_data"
    }
   ],
   "source": [
    "#Graficar el histograma\n",
    "hist = data['longitud_cm_producto'].hist(bins=10)\n",
    "hist"
   ]
  },
  {
   "cell_type": "markdown",
   "metadata": {},
   "source": [
    "Vemos a través del histograma que se graficó, que no se tiene una campana gausina, ergo, no se cumple la normalidad en los datos. Vamos a ver por qué es importante la estandarización de los datos.\n",
    "\n",
    "La normalización es una buena técnica para usar cuando no conoce la distribución de los datos o cuando sabe que la distribución no es gaussiana (una curva de campana). La normalización es útil cuando sus datos tienen escalas variables y el algoritmo que está utilizando no hace suposiciones sobre la distribución de sus datos, como k vecinos más cercanos y redes neuronales artificiales.\n",
    "\n",
    "### 4. Normalización\n",
    "La estandarización de las características para que se distribuyan alrededor del centro de la campana gaussiana (con promedio de 0) y con una desviación estándar de 1 es importante cuando comparamos medidas que tienen diferentes unidades. Las variables que se miden a diferentes escalas no contribuyen por igual al análisis y podrían terminar creando errores en el análisis.\n",
    "\n",
    "El objetivo de la normalización es cambiar los valores de las columnas numéricas en el conjunto de datos a una escala común, sin distorsionar las diferencias en los rangos de valores. Para el aprendizaje automático, no todos los conjuntos de datos requieren normalización. Solo se requiere cuando las variables numéricas tienen diferentes rangos."
   ]
  },
  {
   "cell_type": "code",
   "execution_count": 4,
   "metadata": {
    "scrolled": true
   },
   "outputs": [
    {
     "data": {
      "text/html": [
       "<div>\n",
       "<style scoped>\n",
       "    .dataframe tbody tr th:only-of-type {\n",
       "        vertical-align: middle;\n",
       "    }\n",
       "\n",
       "    .dataframe tbody tr th {\n",
       "        vertical-align: top;\n",
       "    }\n",
       "\n",
       "    .dataframe thead th {\n",
       "        text-align: right;\n",
       "    }\n",
       "</style>\n",
       "<table border=\"1\" class=\"dataframe\">\n",
       "  <thead>\n",
       "    <tr style=\"text-align: right;\">\n",
       "      <th></th>\n",
       "      <th>longitud_normalizada</th>\n",
       "    </tr>\n",
       "  </thead>\n",
       "  <tbody>\n",
       "    <tr>\n",
       "      <th>0</th>\n",
       "      <td>0.544444</td>\n",
       "    </tr>\n",
       "    <tr>\n",
       "      <th>1</th>\n",
       "      <td>0.277778</td>\n",
       "    </tr>\n",
       "    <tr>\n",
       "      <th>2</th>\n",
       "      <td>0.555556</td>\n",
       "    </tr>\n",
       "    <tr>\n",
       "      <th>3</th>\n",
       "      <td>0.200000</td>\n",
       "    </tr>\n",
       "    <tr>\n",
       "      <th>4</th>\n",
       "      <td>0.422222</td>\n",
       "    </tr>\n",
       "  </tbody>\n",
       "</table>\n",
       "</div>"
      ],
      "text/plain": [
       "   longitud_normalizada\n",
       "0              0.544444\n",
       "1              0.277778\n",
       "2              0.555556\n",
       "3              0.200000\n",
       "4              0.422222"
      ]
     },
     "execution_count": 4,
     "metadata": {},
     "output_type": "execute_result"
    }
   ],
   "source": [
    "#Normalizar\n",
    "#Se crea el normalizador\n",
    "normalizador = MinMaxScaler()\n",
    "#Se ajusta los datos requeridos\n",
    "data[['longitud_normalizada']] = normalizador.fit_transform(data[['longitud_cm_producto']])\n",
    "data[['longitud_normalizada']].head()"
   ]
  },
  {
   "cell_type": "code",
   "execution_count": 5,
   "metadata": {
    "scrolled": true
   },
   "outputs": [
    {
     "data": {
      "text/plain": [
       "<AxesSubplot:>"
      ]
     },
     "execution_count": 5,
     "metadata": {},
     "output_type": "execute_result"
    },
    {
     "data": {
      "image/png": "[encoded data removed]",
      "text/plain": [
       "<Figure size 432x288 with 1 Axes>"
      ]
     },
     "metadata": {
      "needs_background": "light"
     },
     "output_type": "display_data"
    }
   ],
   "source": [
    "#Graficar el histograma\n",
    "hist = data['longitud_normalizada'].hist(bins=10)\n",
    "hist"
   ]
  },
  {
   "cell_type": "markdown",
   "metadata": {},
   "source": [
    "Vemos que no se cumple tampoco la curva gaussiana, sin embargo la normalización de los datos no pretende hacer que los datos tengan una distribución normal, en lugar de eso lo que haces es estandarizar para que sus datos tengan media cero y varianza unitaria."
   ]
  },
  {
   "cell_type": "markdown",
   "metadata": {},
   "source": [
    "### 5. Transformación Logarítmica\n",
    "\n",
    "La utilización de logaritmo es una transformación fuerte que tiene un efecto importante en la forma de la distribución. Esta técnica, como el método de la raíz cuadrada, se utiliza a menudo para reducir la asimetría de los datos. Sin embargo, cabe señalar que no se puede aplicar a valores cero o negativos, porque para estos valores no se puede calcular un logaritmo.\n",
    "\n",
    "Como en la normalización no logramos obtener la curva gaussiana que es importante para que los datos que tenemos sean de forma normal (también conocido como seguir una curva de campana o gaussiana) es importante para la mayoría de las pruebas paramétricas que deseamos realizar. Esto incluye el análisis de regresión, la prueba T de dos muestras y el análisis de varianza que se puede realizar en Python, que hemos revisado en otras lecciones."
   ]
  },
  {
   "cell_type": "code",
   "execution_count": 6,
   "metadata": {
    "scrolled": true
   },
   "outputs": [
    {
     "data": {
      "text/html": [
       "<div>\n",
       "<style scoped>\n",
       "    .dataframe tbody tr th:only-of-type {\n",
       "        vertical-align: middle;\n",
       "    }\n",
       "\n",
       "    .dataframe tbody tr th {\n",
       "        vertical-align: top;\n",
       "    }\n",
       "\n",
       "    .dataframe thead th {\n",
       "        text-align: right;\n",
       "    }\n",
       "</style>\n",
       "<table border=\"1\" class=\"dataframe\">\n",
       "  <thead>\n",
       "    <tr style=\"text-align: right;\">\n",
       "      <th></th>\n",
       "      <th>longitud_log</th>\n",
       "    </tr>\n",
       "  </thead>\n",
       "  <tbody>\n",
       "    <tr>\n",
       "      <th>0</th>\n",
       "      <td>3.912023</td>\n",
       "    </tr>\n",
       "    <tr>\n",
       "      <th>1</th>\n",
       "      <td>3.258097</td>\n",
       "    </tr>\n",
       "    <tr>\n",
       "      <th>2</th>\n",
       "      <td>3.931826</td>\n",
       "    </tr>\n",
       "    <tr>\n",
       "      <th>3</th>\n",
       "      <td>2.944439</td>\n",
       "    </tr>\n",
       "    <tr>\n",
       "      <th>4</th>\n",
       "      <td>3.663562</td>\n",
       "    </tr>\n",
       "  </tbody>\n",
       "</table>\n",
       "</div>"
      ],
      "text/plain": [
       "   longitud_log\n",
       "0      3.912023\n",
       "1      3.258097\n",
       "2      3.931826\n",
       "3      2.944439\n",
       "4      3.663562"
      ]
     },
     "execution_count": 6,
     "metadata": {},
     "output_type": "execute_result"
    }
   ],
   "source": [
    "# Realizamos una columna nueva aplicando el logarítmo\n",
    "data['longitud_log']=data['longitud_cm_producto'].apply(np.log)\n",
    "data[['longitud_log']].head()"
   ]
  },
  {
   "cell_type": "code",
   "execution_count": 7,
   "metadata": {},
   "outputs": [
    {
     "data": {
      "text/plain": [
       "<AxesSubplot:>"
      ]
     },
     "execution_count": 7,
     "metadata": {},
     "output_type": "execute_result"
    },
    {
     "data": {
      "image/png": "[encoded data removed]",
      "text/plain": [
       "<Figure size 432x288 with 1 Axes>"
      ]
     },
     "metadata": {
      "needs_background": "light"
     },
     "output_type": "display_data"
    }
   ],
   "source": [
    "#Graficar el histograma\n",
    "hist = data['longitud_log'].hist(bins=10)\n",
    "hist"
   ]
  },
  {
   "cell_type": "markdown",
   "metadata": {},
   "source": [
    "Vemos que con esta transformación nos acercamos mucho más a la curva de campana, sin embargo se podría intentar aplicar un par de veces más para reducir la asimetría y obtener lo deseado."
   ]
  },
  {
   "cell_type": "markdown",
   "metadata": {},
   "source": [
    "### Extensión\n",
    "En la empresa de Tecnología de los Alpes, está buscando realizar una caracterízación de los datos con los que se cuentan. Para esto vamos a empezar con las siguientes tareas:\n",
    "\n",
    "* Utiliza la columna PorcentajeIncrementoSalarioUltimoAnnio para calcular el salario el año anterior. \n",
    "* Normaliza la distancia al trabajo entre 0 y 1. \n"
   ]
  }
 ],
 "metadata": {
  "kernelspec": {
   "display_name": "Python 3 (ipykernel)",
   "language": "python",
   "name": "python3"
  },
  "language_info": {
   "codemirror_mode": {
    "name": "ipython",
    "version": 3
   },
   "file_extension": ".py",
   "mimetype": "text/x-python",
   "name": "python",
   "nbconvert_exporter": "python",
   "pygments_lexer": "ipython3",
   "version": "3.9.12"
  }
 },
 "nbformat": 4,
 "nbformat_minor": 2
}
