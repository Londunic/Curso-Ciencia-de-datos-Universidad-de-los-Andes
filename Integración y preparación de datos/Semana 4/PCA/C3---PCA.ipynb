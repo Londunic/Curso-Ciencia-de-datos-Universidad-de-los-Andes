{
 "cells": [
  {
   "cell_type": "markdown",
   "id": "3b0b73e8",
   "metadata": {},
   "source": [
    "![Banner-Preparaci-n.png](https://i.postimg.cc/q7vd5LZP/Banner-Preparaci-n.png)"
   ]
  },
  {
   "cell_type": "markdown",
   "id": "c16c2e3c",
   "metadata": {},
   "source": [
    "# Integración y preparación de datos\n",
    "\n",
    "## L3: Reducir dimensionalidad - PCA\n",
    "\n",
    "En este notebook veremos cómo solucionar un problema en una empresa de retail a través de una transformación de datos en la cual se reducen los datos para obtener la mayor cantidad de información con menos variables(reduciendo dimensionalidad)"
   ]
  },
  {
   "cell_type": "markdown",
   "id": "fcfd6125",
   "metadata": {},
   "source": [
    "**Autor:** David Ocampo \n",
    "\n",
    "d.ocampo@uniandes.edu.co"
   ]
  },
  {
   "cell_type": "markdown",
   "id": "5a1c5115",
   "metadata": {},
   "source": [
    "### 1. Contexto del negocio \n",
    "\n",
    "La organización se ha dado cuenta que por el volúmen de datos que actualmente se maneja los análisis cada vez se tardan mucho más tiempo en finalizar, esto se debe a que el origen de los datos todos los días crece(así como las ventas), por lo tanto se ha propuesto realizar una reducción de dimensionalidad para poder realizar análisis más rápidos y eficientes\n",
    "\n",
    "\n",
    "### Objetivos\n",
    "\n",
    "1. Identificar las variables que son de utilidad para un PCA\n",
    "2. Crear un PCA \n",
    "3. Tener elementos para decidir cómo seleccionar el número de componentes en un PCA"
   ]
  },
  {
   "cell_type": "markdown",
   "id": "93969304",
   "metadata": {},
   "source": [
    "### 2. Importación de librerías y archivos\n",
    "\n",
    "En las siguientes líneas se importarán las librerías necesarias, las cuales son **Pandas** para el manejo de datos  y **ScikitLearn** para la reducción de dimensionalidad"
   ]
  },
  {
   "cell_type": "code",
   "execution_count": 1,
   "id": "fd6e67a9",
   "metadata": {},
   "outputs": [],
   "source": [
    "# Importar las librerías necesarias según el análisis que se vaya a realizar\n",
    "# Librería para manejo de datos\n",
    "import pandas as pd\n",
    "# Librería para estandarizar los datos\n",
    "from sklearn.preprocessing import StandardScaler\n",
    "# Librería para realizar PCA\n",
    "from sklearn.decomposition import PCA\n",
    "# Librería para graficar\n",
    "import matplotlib.pyplot as plt\n",
    "# Obtener colores aletorios\n",
    "import random\n",
    "get_colors = lambda n: list(map(lambda i: \"#\" + \"%06x\" % random.randint(0, 0xFFFFFF),range(n)))\n"
   ]
  },
  {
   "cell_type": "code",
   "execution_count": 2,
   "id": "b3fff3d8",
   "metadata": {},
   "outputs": [
    {
     "data": {
      "text/html": [
       "<div>\n",
       "<style scoped>\n",
       "    .dataframe tbody tr th:only-of-type {\n",
       "        vertical-align: middle;\n",
       "    }\n",
       "\n",
       "    .dataframe tbody tr th {\n",
       "        vertical-align: top;\n",
       "    }\n",
       "\n",
       "    .dataframe thead th {\n",
       "        text-align: right;\n",
       "    }\n",
       "</style>\n",
       "<table border=\"1\" class=\"dataframe\">\n",
       "  <thead>\n",
       "    <tr style=\"text-align: right;\">\n",
       "      <th></th>\n",
       "      <th>orden_id</th>\n",
       "      <th>producto_id</th>\n",
       "      <th>vendedor_id</th>\n",
       "      <th>fecha_envio_limite</th>\n",
       "      <th>precio</th>\n",
       "      <th>valor_flete</th>\n",
       "      <th>codigo_postal_vendedor</th>\n",
       "      <th>ciudad_vendedor</th>\n",
       "      <th>departamento_vendedor</th>\n",
       "      <th>nombre_categoria_producto</th>\n",
       "      <th>longitud_nombre_producto</th>\n",
       "      <th>longitud_descripcion_producto</th>\n",
       "      <th>cantidad_fotos_producto</th>\n",
       "      <th>peso_g_producto</th>\n",
       "      <th>longitud_cm_producto</th>\n",
       "      <th>altura_cm_producto</th>\n",
       "      <th>ancho_cm_producto</th>\n",
       "      <th>volumen_cm3_producto</th>\n",
       "    </tr>\n",
       "  </thead>\n",
       "  <tbody>\n",
       "    <tr>\n",
       "      <th>0</th>\n",
       "      <td>1564PA53A-A</td>\n",
       "      <td>PA53</td>\n",
       "      <td>VE6785</td>\n",
       "      <td>1-ago-17</td>\n",
       "      <td>-7.27</td>\n",
       "      <td>27.12</td>\n",
       "      <td>52565</td>\n",
       "      <td>Providencia</td>\n",
       "      <td>NariÃ±o</td>\n",
       "      <td>ElectrodomÃ©sticos</td>\n",
       "      <td>19</td>\n",
       "      <td>28</td>\n",
       "      <td>29</td>\n",
       "      <td>1324</td>\n",
       "      <td>48</td>\n",
       "      <td>17</td>\n",
       "      <td>11</td>\n",
       "      <td>8976</td>\n",
       "    </tr>\n",
       "    <tr>\n",
       "      <th>1</th>\n",
       "      <td>28983PD80A-A</td>\n",
       "      <td>PD80</td>\n",
       "      <td>VE3342</td>\n",
       "      <td>31-may-18</td>\n",
       "      <td>3.22</td>\n",
       "      <td>6.01</td>\n",
       "      <td>52203</td>\n",
       "      <td>Colon</td>\n",
       "      <td>NariÃ±o</td>\n",
       "      <td>Celulares</td>\n",
       "      <td>18</td>\n",
       "      <td>29</td>\n",
       "      <td>16</td>\n",
       "      <td>4677</td>\n",
       "      <td>26</td>\n",
       "      <td>6</td>\n",
       "      <td>16</td>\n",
       "      <td>2496</td>\n",
       "    </tr>\n",
       "    <tr>\n",
       "      <th>2</th>\n",
       "      <td>38613PB61A-A</td>\n",
       "      <td>PB61</td>\n",
       "      <td>VE7671</td>\n",
       "      <td>27-oct-17</td>\n",
       "      <td>104.18</td>\n",
       "      <td>17.70</td>\n",
       "      <td>52051</td>\n",
       "      <td>Arboleda</td>\n",
       "      <td>NariÃ±o</td>\n",
       "      <td>Ropa_de_adultos</td>\n",
       "      <td>13</td>\n",
       "      <td>30</td>\n",
       "      <td>29</td>\n",
       "      <td>101</td>\n",
       "      <td>17</td>\n",
       "      <td>26</td>\n",
       "      <td>24</td>\n",
       "      <td>10608</td>\n",
       "    </tr>\n",
       "    <tr>\n",
       "      <th>3</th>\n",
       "      <td>4978PS63A-A</td>\n",
       "      <td>PS63</td>\n",
       "      <td>VE1492</td>\n",
       "      <td>13/12/2017</td>\n",
       "      <td>348.39</td>\n",
       "      <td>34.84</td>\n",
       "      <td>52323</td>\n",
       "      <td>Gualmatan</td>\n",
       "      <td>NariÃ±o</td>\n",
       "      <td>CarnicerÃ­a</td>\n",
       "      <td>33</td>\n",
       "      <td>26</td>\n",
       "      <td>13</td>\n",
       "      <td>514</td>\n",
       "      <td>47</td>\n",
       "      <td>16</td>\n",
       "      <td>43</td>\n",
       "      <td>32336</td>\n",
       "    </tr>\n",
       "    <tr>\n",
       "      <th>4</th>\n",
       "      <td>73781PA71A-A</td>\n",
       "      <td>PA71</td>\n",
       "      <td>VE8575</td>\n",
       "      <td>1/11/2018 0:00</td>\n",
       "      <td>29.03</td>\n",
       "      <td>30.23</td>\n",
       "      <td>5002</td>\n",
       "      <td>Abejorral</td>\n",
       "      <td>Antioquia</td>\n",
       "      <td>ElectrodomÃ©sticos</td>\n",
       "      <td>27</td>\n",
       "      <td>3</td>\n",
       "      <td>13</td>\n",
       "      <td>2962</td>\n",
       "      <td>20</td>\n",
       "      <td>26</td>\n",
       "      <td>28</td>\n",
       "      <td>14560</td>\n",
       "    </tr>\n",
       "  </tbody>\n",
       "</table>\n",
       "</div>"
      ],
      "text/plain": [
       "       orden_id producto_id vendedor_id fecha_envio_limite  precio  \\\n",
       "0   1564PA53A-A        PA53      VE6785           1-ago-17   -7.27   \n",
       "1  28983PD80A-A        PD80      VE3342          31-may-18    3.22   \n",
       "2  38613PB61A-A        PB61      VE7671          27-oct-17  104.18   \n",
       "3   4978PS63A-A        PS63      VE1492         13/12/2017  348.39   \n",
       "4  73781PA71A-A        PA71      VE8575     1/11/2018 0:00   29.03   \n",
       "\n",
       "   valor_flete  codigo_postal_vendedor ciudad_vendedor departamento_vendedor  \\\n",
       "0        27.12                   52565     Providencia               NariÃ±o   \n",
       "1         6.01                   52203           Colon               NariÃ±o   \n",
       "2        17.70                   52051        Arboleda               NariÃ±o   \n",
       "3        34.84                   52323       Gualmatan               NariÃ±o   \n",
       "4        30.23                    5002       Abejorral             Antioquia   \n",
       "\n",
       "  nombre_categoria_producto  longitud_nombre_producto  \\\n",
       "0        ElectrodomÃ©sticos                        19   \n",
       "1                 Celulares                        18   \n",
       "2           Ropa_de_adultos                        13   \n",
       "3               CarnicerÃ­a                        33   \n",
       "4        ElectrodomÃ©sticos                        27   \n",
       "\n",
       "   longitud_descripcion_producto  cantidad_fotos_producto  peso_g_producto  \\\n",
       "0                             28                       29             1324   \n",
       "1                             29                       16             4677   \n",
       "2                             30                       29              101   \n",
       "3                             26                       13              514   \n",
       "4                              3                       13             2962   \n",
       "\n",
       "   longitud_cm_producto  altura_cm_producto  ancho_cm_producto  \\\n",
       "0                    48                  17                 11   \n",
       "1                    26                   6                 16   \n",
       "2                    17                  26                 24   \n",
       "3                    47                  16                 43   \n",
       "4                    20                  26                 28   \n",
       "\n",
       "   volumen_cm3_producto  \n",
       "0                  8976  \n",
       "1                  2496  \n",
       "2                 10608  \n",
       "3                 32336  \n",
       "4                 14560  "
      ]
     },
     "execution_count": 2,
     "metadata": {},
     "output_type": "execute_result"
    }
   ],
   "source": [
    "#Cargar los datos\n",
    "data=pd.read_csv('Ordenes_productos_C3.csv',sep=';',encoding='latin-1')\n",
    "#Visualizar la carga de datos\n",
    "data.head()"
   ]
  },
  {
   "cell_type": "markdown",
   "id": "e9f9acb1",
   "metadata": {},
   "source": [
    "Vemos que en la fuente de datos existe una gran cantidad de datos numéricos, estos datos nos aportan bastante información sin embargo es bastante demorado procesar tanta información, tengamos en cuenta que para la explicación del notebook tenemos una muestra de los datos totales, sin embargo, en un comercio real podemos llegar a hablar de millones de transacciones, incluso diarias, y para nuestro interés es mucho mejor trabajar con la mayor cantidad de información pero con la menor cantidad de dimensiones, esto lo vamos a lograr con el uso del **PCA(Principal component analysis) o en español análisis de componentes principales**"
   ]
  },
  {
   "cell_type": "markdown",
   "id": "b2fc1c22",
   "metadata": {},
   "source": [
    "### 3. PCA - Análisis de componentes principales\n",
    "\n",
    "Principal Component Analysis (PCA) es un método estadístico que permite simplificar la complejidad de espacios muestrales con muchos atributos a la vez que conserva su información. Supóngase que existe una muestra con *n* individuos cada uno con *p* atributos, es decir, el espacio muestral tiene p dimensiones. PCA permite encontrar un número de factores menores que los atributos originales que explican aproximadamente lo mismo que los *p* atributos originales. Donde antes se necesitaban p valores para caracterizar a cada individuo, ahora bastan menos valores. Cada una de estos nuevos atributos se llama componente principal.\n",
    "\n",
    "Para este ejercicio únicamente vamos a trabajar con las variables numéricas de la fuente de datos para así no tener que convertir las variables categóricas y se pueda entender el concepto mucho más fácil\n",
    "\n",
    "### 3.1. Selección de atributos\n",
    "\n",
    "Vamos a elegir los atributos que nos aportan información numérica:\n",
    "* longitud_nombre_producto\n",
    "* longitud_descripcion_producto\n",
    "* cantidad_fotos_producto\n",
    "* longitud_cm_producto\n",
    "* altura_cm_producto\n",
    "* ancho_cm_producto\n",
    "* precio\n",
    "* valor_flete\n",
    "\n",
    "Adicionalmente la categoría del producto, ya que esta nos va a permitir luego graficar los datos y entenderlos de una manera más sencilla y entender la utilidad de la reducción de variables\n",
    "* nombre_categoria_producto"
   ]
  },
  {
   "cell_type": "code",
   "execution_count": 3,
   "id": "cc249f03",
   "metadata": {
    "scrolled": false
   },
   "outputs": [
    {
     "data": {
      "text/html": [
       "<div>\n",
       "<style scoped>\n",
       "    .dataframe tbody tr th:only-of-type {\n",
       "        vertical-align: middle;\n",
       "    }\n",
       "\n",
       "    .dataframe tbody tr th {\n",
       "        vertical-align: top;\n",
       "    }\n",
       "\n",
       "    .dataframe thead th {\n",
       "        text-align: right;\n",
       "    }\n",
       "</style>\n",
       "<table border=\"1\" class=\"dataframe\">\n",
       "  <thead>\n",
       "    <tr style=\"text-align: right;\">\n",
       "      <th></th>\n",
       "      <th>nombre_categoria_producto</th>\n",
       "      <th>longitud_nombre_producto</th>\n",
       "      <th>longitud_descripcion_producto</th>\n",
       "      <th>cantidad_fotos_producto</th>\n",
       "      <th>longitud_cm_producto</th>\n",
       "      <th>altura_cm_producto</th>\n",
       "      <th>ancho_cm_producto</th>\n",
       "      <th>precio</th>\n",
       "      <th>valor_flete</th>\n",
       "    </tr>\n",
       "  </thead>\n",
       "  <tbody>\n",
       "    <tr>\n",
       "      <th>0</th>\n",
       "      <td>ElectrodomÃ©sticos</td>\n",
       "      <td>19</td>\n",
       "      <td>28</td>\n",
       "      <td>29</td>\n",
       "      <td>48</td>\n",
       "      <td>17</td>\n",
       "      <td>11</td>\n",
       "      <td>-7.27</td>\n",
       "      <td>27.12</td>\n",
       "    </tr>\n",
       "    <tr>\n",
       "      <th>1</th>\n",
       "      <td>Celulares</td>\n",
       "      <td>18</td>\n",
       "      <td>29</td>\n",
       "      <td>16</td>\n",
       "      <td>26</td>\n",
       "      <td>6</td>\n",
       "      <td>16</td>\n",
       "      <td>3.22</td>\n",
       "      <td>6.01</td>\n",
       "    </tr>\n",
       "    <tr>\n",
       "      <th>2</th>\n",
       "      <td>Ropa_de_adultos</td>\n",
       "      <td>13</td>\n",
       "      <td>30</td>\n",
       "      <td>29</td>\n",
       "      <td>17</td>\n",
       "      <td>26</td>\n",
       "      <td>24</td>\n",
       "      <td>104.18</td>\n",
       "      <td>17.70</td>\n",
       "    </tr>\n",
       "    <tr>\n",
       "      <th>3</th>\n",
       "      <td>CarnicerÃ­a</td>\n",
       "      <td>33</td>\n",
       "      <td>26</td>\n",
       "      <td>13</td>\n",
       "      <td>47</td>\n",
       "      <td>16</td>\n",
       "      <td>43</td>\n",
       "      <td>348.39</td>\n",
       "      <td>34.84</td>\n",
       "    </tr>\n",
       "    <tr>\n",
       "      <th>4</th>\n",
       "      <td>ElectrodomÃ©sticos</td>\n",
       "      <td>27</td>\n",
       "      <td>3</td>\n",
       "      <td>13</td>\n",
       "      <td>20</td>\n",
       "      <td>26</td>\n",
       "      <td>28</td>\n",
       "      <td>29.03</td>\n",
       "      <td>30.23</td>\n",
       "    </tr>\n",
       "  </tbody>\n",
       "</table>\n",
       "</div>"
      ],
      "text/plain": [
       "  nombre_categoria_producto  longitud_nombre_producto  \\\n",
       "0        ElectrodomÃ©sticos                        19   \n",
       "1                 Celulares                        18   \n",
       "2           Ropa_de_adultos                        13   \n",
       "3               CarnicerÃ­a                        33   \n",
       "4        ElectrodomÃ©sticos                        27   \n",
       "\n",
       "   longitud_descripcion_producto  cantidad_fotos_producto  \\\n",
       "0                             28                       29   \n",
       "1                             29                       16   \n",
       "2                             30                       29   \n",
       "3                             26                       13   \n",
       "4                              3                       13   \n",
       "\n",
       "   longitud_cm_producto  altura_cm_producto  ancho_cm_producto  precio  \\\n",
       "0                    48                  17                 11   -7.27   \n",
       "1                    26                   6                 16    3.22   \n",
       "2                    17                  26                 24  104.18   \n",
       "3                    47                  16                 43  348.39   \n",
       "4                    20                  26                 28   29.03   \n",
       "\n",
       "   valor_flete  \n",
       "0        27.12  \n",
       "1         6.01  \n",
       "2        17.70  \n",
       "3        34.84  \n",
       "4        30.23  "
      ]
     },
     "execution_count": 3,
     "metadata": {},
     "output_type": "execute_result"
    }
   ],
   "source": [
    "# Seleccionar las variables de interés\n",
    "data_num=data[['nombre_categoria_producto',\n",
    "       'longitud_nombre_producto', 'longitud_descripcion_producto',\n",
    "       'cantidad_fotos_producto', 'longitud_cm_producto', 'altura_cm_producto',\n",
    "       'ancho_cm_producto','precio', 'valor_flete']]\n",
    "#Convertimos los datos vacíos a cero\n",
    "data_num=data_num.fillna(0)\n",
    "# visualizar el subconjunto seleccionado \n",
    "data_num.head()"
   ]
  },
  {
   "cell_type": "markdown",
   "id": "d0e8fd51",
   "metadata": {},
   "source": [
    "### 3.2. Estandarizar los datos\n",
    "\n",
    "La PCA se efectúa por escala, por lo que debe escalar las características de sus datos antes de aplicar la PCA. Podemos utilizar StandardScaler para ayudarlo a estandarizar las características del conjunto de datos en una escala unitaria (media = 0 y varianza = 1) como vimos en los anteriores video tutoriales, este es un requisito para el rendimiento óptimo de muchos algoritmos de aprendizaje automático. "
   ]
  },
  {
   "cell_type": "code",
   "execution_count": 4,
   "id": "4c0a3aaa",
   "metadata": {
    "scrolled": true
   },
   "outputs": [
    {
     "data": {
      "text/plain": [
       "array([[-0.08669084,  0.67820068,  0.8397024 , ..., -1.13478551,\n",
       "        -0.850252  ,  0.35134904],\n",
       "       [-0.17188523,  0.76383155, -0.28200872, ..., -0.68119   ,\n",
       "        -0.7710564 , -0.66184988],\n",
       "       [-0.59785719,  0.84946242,  0.8397024 , ...,  0.0445628 ,\n",
       "        -0.00884591, -0.10077478],\n",
       "       ...,\n",
       "       [-1.02382915,  0.50693893,  0.32198957, ..., -0.1368754 ,\n",
       "        -0.48953075, -0.04029962],\n",
       "       [ 1.4468082 , -0.00684632, -1.66257626, ..., -0.0461563 ,\n",
       "         1.58405018,  0.6230073 ],\n",
       "       [ 1.10603064,  1.6201403 ,  0.92598787, ..., -0.68119   ,\n",
       "        -0.41592188, -0.85383452]])"
      ]
     },
     "execution_count": 4,
     "metadata": {},
     "output_type": "execute_result"
    }
   ],
   "source": [
    "# Separamos los atributos de la etiqueta(categoría)\n",
    "atributos = data_num.drop(['nombre_categoria_producto'],axis=1)\n",
    "categoria = data_num[['nombre_categoria_producto']]\n",
    "# crear el objeto de estandarizar\n",
    "estandar = StandardScaler()\n",
    "# aplicar la transformación\n",
    "atributo_estandar=estandar.fit_transform(atributos)\n",
    "#Visulizar la transformación\n",
    "atributo_estandar"
   ]
  },
  {
   "cell_type": "markdown",
   "id": "3a24213d",
   "metadata": {},
   "source": [
    "### 3.3. Proyección PCA a n dimensiones\n",
    "\n",
    "Los datos originales tienen 8 columnas (que están mencionadas arriba en el documento). En esta sección, el código proyecta los datos originales que tienen 8 dimensiones en n dimensiones, esta cantidad de dimensiones son elegidas por el usuario y por el criterio de varianza total explicada. Es importante aclarar que después de la reducción de dimensionalidad, generalmente no hay un significado particular asignado a cada componente principal. Los nuevos componentes son solo las dos dimensiones principales de variación.\n",
    "\n",
    "Vamos a realizar el PCA con 5 dimensiones, luego veremos cómo influye en la varianza explicada esta cantidad de componentes elegidos"
   ]
  },
  {
   "cell_type": "code",
   "execution_count": 5,
   "id": "4ac5e615",
   "metadata": {},
   "outputs": [
    {
     "data": {
      "text/html": [
       "<div>\n",
       "<style scoped>\n",
       "    .dataframe tbody tr th:only-of-type {\n",
       "        vertical-align: middle;\n",
       "    }\n",
       "\n",
       "    .dataframe tbody tr th {\n",
       "        vertical-align: top;\n",
       "    }\n",
       "\n",
       "    .dataframe thead th {\n",
       "        text-align: right;\n",
       "    }\n",
       "</style>\n",
       "<table border=\"1\" class=\"dataframe\">\n",
       "  <thead>\n",
       "    <tr style=\"text-align: right;\">\n",
       "      <th></th>\n",
       "      <th>componente principal 1</th>\n",
       "      <th>componente principal 2</th>\n",
       "      <th>componente principal 3</th>\n",
       "      <th>componente principal 4</th>\n",
       "      <th>componente principal 5</th>\n",
       "    </tr>\n",
       "  </thead>\n",
       "  <tbody>\n",
       "    <tr>\n",
       "      <th>0</th>\n",
       "      <td>-0.165477</td>\n",
       "      <td>-1.105732</td>\n",
       "      <td>-0.650255</td>\n",
       "      <td>0.877043</td>\n",
       "      <td>0.937284</td>\n",
       "    </tr>\n",
       "    <tr>\n",
       "      <th>1</th>\n",
       "      <td>-0.514386</td>\n",
       "      <td>-0.605951</td>\n",
       "      <td>-0.900786</td>\n",
       "      <td>-0.139876</td>\n",
       "      <td>-0.662208</td>\n",
       "    </tr>\n",
       "    <tr>\n",
       "      <th>2</th>\n",
       "      <td>0.948670</td>\n",
       "      <td>-0.356064</td>\n",
       "      <td>0.442002</td>\n",
       "      <td>0.827765</td>\n",
       "      <td>-0.018589</td>\n",
       "    </tr>\n",
       "    <tr>\n",
       "      <th>3</th>\n",
       "      <td>1.475139</td>\n",
       "      <td>0.215796</td>\n",
       "      <td>0.185729</td>\n",
       "      <td>-1.172187</td>\n",
       "      <td>-0.653629</td>\n",
       "    </tr>\n",
       "    <tr>\n",
       "      <th>4</th>\n",
       "      <td>-0.695579</td>\n",
       "      <td>1.570005</td>\n",
       "      <td>0.836503</td>\n",
       "      <td>0.142639</td>\n",
       "      <td>-0.017694</td>\n",
       "    </tr>\n",
       "  </tbody>\n",
       "</table>\n",
       "</div>"
      ],
      "text/plain": [
       "   componente principal 1  componente principal 2  componente principal 3  \\\n",
       "0               -0.165477               -1.105732               -0.650255   \n",
       "1               -0.514386               -0.605951               -0.900786   \n",
       "2                0.948670               -0.356064                0.442002   \n",
       "3                1.475139                0.215796                0.185729   \n",
       "4               -0.695579                1.570005                0.836503   \n",
       "\n",
       "   componente principal 4  componente principal 5  \n",
       "0                0.877043                0.937284  \n",
       "1               -0.139876               -0.662208  \n",
       "2                0.827765               -0.018589  \n",
       "3               -1.172187               -0.653629  \n",
       "4                0.142639               -0.017694  "
      ]
     },
     "execution_count": 5,
     "metadata": {},
     "output_type": "execute_result"
    }
   ],
   "source": [
    "# Elegir numero de componentes\n",
    "n_comp=5\n",
    "# Creamos el objeto pca\n",
    "pca = PCA(n_components=n_comp)\n",
    "# Realizamos la transformación\n",
    "componentes_principales = pca.fit_transform(atributo_estandar)\n",
    "# Crear la tabla con los componentes\n",
    "data_componentes = pd.DataFrame(data = componentes_principales\n",
    "             , columns = ['componente principal 1', 'componente principal 2',\n",
    "                         'componente principal 3','componente principal 4',\n",
    "                         'componente principal 5'])\n",
    "#Visualizar la nueva tabla creada\n",
    "data_componentes.head()"
   ]
  },
  {
   "cell_type": "markdown",
   "id": "00ffed59",
   "metadata": {},
   "source": [
    "Vemos que la transformación a componentes ya está realizada, y como se mencionó antes los componentes no tienen ninguna interpretación sin embargo debemos ver cuánta es la varianza expliada por estos, así será el criterio de decisión para elegir el número final de componentes\n",
    "\n",
    "### 3.4. Varianza explicada\n",
    "\n",
    "La varianza explicada le dice cuánta información (varianza) se puede atribuir a cada uno de los componentes principales. Esto es importante ya que, si bien puede convertir un espacio de 8 dimensiones en un espacio de 4 dimensiones, se pierde información relacionada a las variables de entrada, como lo es la varianza.\n",
    "Al usar el atributo:\n",
    "\n",
    "\n",
    "```python\n",
    "pca.explained_variance_ratio_\n",
    "```\n",
    "\n",
    "\n",
    "Se puede ver que el primer la cantidad de varianza que tiene cada componente y la conjunta cuánto nos suma en total"
   ]
  },
  {
   "cell_type": "code",
   "execution_count": 6,
   "id": "2d365017",
   "metadata": {},
   "outputs": [
    {
     "data": {
      "text/plain": [
       "array([0.14480469, 0.13670964, 0.12881321, 0.12464447, 0.12152866])"
      ]
     },
     "execution_count": 6,
     "metadata": {},
     "output_type": "execute_result"
    }
   ],
   "source": [
    "# Varianza explicada por los n componentes elegidos \n",
    "pca.explained_variance_ratio_"
   ]
  },
  {
   "cell_type": "code",
   "execution_count": 7,
   "id": "9fba09b2",
   "metadata": {},
   "outputs": [
    {
     "data": {
      "text/plain": [
       "0.656500657118252"
      ]
     },
     "execution_count": 7,
     "metadata": {},
     "output_type": "execute_result"
    }
   ],
   "source": [
    "# Suma de varianza explicada\n",
    "sum(pca.explained_variance_ratio_)"
   ]
  },
  {
   "cell_type": "code",
   "execution_count": 8,
   "id": "6225e6d0",
   "metadata": {},
   "outputs": [
    {
     "data": {
      "text/plain": [
       "array([0.14480469, 0.28151432, 0.41032753, 0.534972  , 0.65650066])"
      ]
     },
     "execution_count": 8,
     "metadata": {},
     "output_type": "execute_result"
    }
   ],
   "source": [
    "# suma acumulativa\n",
    "pca.explained_variance_ratio_.cumsum()"
   ]
  },
  {
   "cell_type": "markdown",
   "id": "1c63f985",
   "metadata": {},
   "source": [
    "Vemos que la varianza explicada por el primer componente es de 13% aproximadamente y el segundo 12.7% en conjunto no suma más de 25% por tanto debemos elegir más componentes para obtener mayor varianza, sin embargo podemos graficar la totalidad de varianza explicada para eso utilizamos una cantidad más grande de componentes y graficamos, la elección de componentes máximos puede ser la misma cantidad de atributos, en este caso 8 "
   ]
  },
  {
   "cell_type": "code",
   "execution_count": 9,
   "id": "2d155983",
   "metadata": {},
   "outputs": [
    {
     "data": {
      "text/plain": [
       "array([[-0.16547733, -1.10573155, -0.65025483, ..., -0.37690686,\n",
       "         1.07689895, -0.39449381],\n",
       "       [-0.51438635, -0.60595064, -0.90078634, ..., -1.11980845,\n",
       "         0.06700979, -0.49138819],\n",
       "       [ 0.94866997, -0.35606449,  0.44200168, ..., -0.72047636,\n",
       "        -0.76226754, -0.10306573],\n",
       "       ...,\n",
       "       [ 0.32589476, -0.3566301 ,  0.03331459, ..., -1.83102865,\n",
       "        -0.58892569, -0.03320057],\n",
       "       [ 0.77408045,  2.47862548, -1.02384636, ...,  0.2000493 ,\n",
       "        -0.39998563, -0.65052793],\n",
       "       [ 0.4234929 , -1.12574574, -1.13833454, ...,  0.56500463,\n",
       "         0.61080038, -0.40202229]])"
      ]
     },
     "execution_count": 9,
     "metadata": {},
     "output_type": "execute_result"
    }
   ],
   "source": [
    "# Elegir numero de componentes máximo\n",
    "n_comp=8\n",
    "# Creamos el objeto pca\n",
    "pca_max = PCA(n_components=n_comp)\n",
    "# Ajustamos los atributos al pca\n",
    "pca_max.fit_transform(atributo_estandar)"
   ]
  },
  {
   "cell_type": "code",
   "execution_count": 10,
   "id": "fd151582",
   "metadata": {
    "scrolled": true
   },
   "outputs": [
    {
     "data": {
      "text/plain": [
       "<BarContainer object of 8 artists>"
      ]
     },
     "execution_count": 10,
     "metadata": {},
     "output_type": "execute_result"
    },
    {
     "data": {
      "image/png": "[encoded data removed]",
      "text/plain": [
       "<Figure size 432x288 with 1 Axes>"
      ]
     },
     "metadata": {
      "needs_background": "light"
     },
     "output_type": "display_data"
    }
   ],
   "source": [
    "# Revisamos la varianza explicada con un gráfica\n",
    "componentes = list(range(1,9))\n",
    "varianza = list(pca_max.explained_variance_ratio_)\n",
    "plt.bar(componentes,varianza)"
   ]
  },
  {
   "cell_type": "code",
   "execution_count": 11,
   "id": "a9dacbca",
   "metadata": {
    "scrolled": true
   },
   "outputs": [
    {
     "data": {
      "text/plain": [
       "[<matplotlib.lines.Line2D at 0x17cd88fe490>]"
      ]
     },
     "execution_count": 11,
     "metadata": {},
     "output_type": "execute_result"
    },
    {
     "data": {
      "image/png": "[encoded data removed]",
      "text/plain": [
       "<Figure size 432x288 with 1 Axes>"
      ]
     },
     "metadata": {
      "needs_background": "light"
     },
     "output_type": "display_data"
    }
   ],
   "source": [
    "# Revisamos gráfico acumulado de varianza\n",
    "varianza_acumulada = list(pca_max.explained_variance_ratio_.cumsum())\n",
    "plt.plot(componentes,varianza_acumulada)"
   ]
  },
  {
   "cell_type": "markdown",
   "id": "65bb9723",
   "metadata": {},
   "source": [
    "Vemos que con 5 componentes principales podemos tener casi el 70% de varianza y estamos reduciendo la dimensión a prácticamente la mitad, por lo tanto vamos a usar 5 componentes para el análisis y luego vamos a graficar los componentes con las diferentes etiquetas"
   ]
  },
  {
   "cell_type": "code",
   "execution_count": 12,
   "id": "0f245117",
   "metadata": {
    "scrolled": true
   },
   "outputs": [
    {
     "data": {
      "text/html": [
       "<div>\n",
       "<style scoped>\n",
       "    .dataframe tbody tr th:only-of-type {\n",
       "        vertical-align: middle;\n",
       "    }\n",
       "\n",
       "    .dataframe tbody tr th {\n",
       "        vertical-align: top;\n",
       "    }\n",
       "\n",
       "    .dataframe thead th {\n",
       "        text-align: right;\n",
       "    }\n",
       "</style>\n",
       "<table border=\"1\" class=\"dataframe\">\n",
       "  <thead>\n",
       "    <tr style=\"text-align: right;\">\n",
       "      <th></th>\n",
       "      <th>componente principal 1</th>\n",
       "      <th>componente principal 2</th>\n",
       "      <th>componente principal 3</th>\n",
       "      <th>componente principal 4</th>\n",
       "      <th>componente principal 5</th>\n",
       "    </tr>\n",
       "  </thead>\n",
       "  <tbody>\n",
       "    <tr>\n",
       "      <th>0</th>\n",
       "      <td>-0.165477</td>\n",
       "      <td>-1.105732</td>\n",
       "      <td>-0.650255</td>\n",
       "      <td>0.877043</td>\n",
       "      <td>0.937284</td>\n",
       "    </tr>\n",
       "    <tr>\n",
       "      <th>1</th>\n",
       "      <td>-0.514386</td>\n",
       "      <td>-0.605951</td>\n",
       "      <td>-0.900786</td>\n",
       "      <td>-0.139876</td>\n",
       "      <td>-0.662208</td>\n",
       "    </tr>\n",
       "    <tr>\n",
       "      <th>2</th>\n",
       "      <td>0.948670</td>\n",
       "      <td>-0.356064</td>\n",
       "      <td>0.442002</td>\n",
       "      <td>0.827765</td>\n",
       "      <td>-0.018589</td>\n",
       "    </tr>\n",
       "    <tr>\n",
       "      <th>3</th>\n",
       "      <td>1.475139</td>\n",
       "      <td>0.215796</td>\n",
       "      <td>0.185729</td>\n",
       "      <td>-1.172187</td>\n",
       "      <td>-0.653629</td>\n",
       "    </tr>\n",
       "    <tr>\n",
       "      <th>4</th>\n",
       "      <td>-0.695579</td>\n",
       "      <td>1.570005</td>\n",
       "      <td>0.836503</td>\n",
       "      <td>0.142639</td>\n",
       "      <td>-0.017694</td>\n",
       "    </tr>\n",
       "  </tbody>\n",
       "</table>\n",
       "</div>"
      ],
      "text/plain": [
       "   componente principal 1  componente principal 2  componente principal 3  \\\n",
       "0               -0.165477               -1.105732               -0.650255   \n",
       "1               -0.514386               -0.605951               -0.900786   \n",
       "2                0.948670               -0.356064                0.442002   \n",
       "3                1.475139                0.215796                0.185729   \n",
       "4               -0.695579                1.570005                0.836503   \n",
       "\n",
       "   componente principal 4  componente principal 5  \n",
       "0                0.877043                0.937284  \n",
       "1               -0.139876               -0.662208  \n",
       "2                0.827765               -0.018589  \n",
       "3               -1.172187               -0.653629  \n",
       "4                0.142639               -0.017694  "
      ]
     },
     "execution_count": 12,
     "metadata": {},
     "output_type": "execute_result"
    }
   ],
   "source": [
    "# Elegir numero de componentes\n",
    "n_comp=5\n",
    "# Creamos el objeto pca\n",
    "pca = PCA(n_components=n_comp)\n",
    "# Realizamos la transformación\n",
    "componentes_principales = pca.fit_transform(atributo_estandar)\n",
    "# Crear la tabla con los componentes\n",
    "data_componentes = pd.DataFrame(data = componentes_principales\n",
    "             , columns = ['componente principal 1', 'componente principal 2',\n",
    "                         'componente principal 3', 'componente principal 4',\n",
    "                         'componente principal 5'])\n",
    "# Visualizamos la tabla\n",
    "data_componentes.head()"
   ]
  },
  {
   "cell_type": "code",
   "execution_count": 13,
   "id": "34163661",
   "metadata": {},
   "outputs": [
    {
     "data": {
      "text/html": [
       "<div>\n",
       "<style scoped>\n",
       "    .dataframe tbody tr th:only-of-type {\n",
       "        vertical-align: middle;\n",
       "    }\n",
       "\n",
       "    .dataframe tbody tr th {\n",
       "        vertical-align: top;\n",
       "    }\n",
       "\n",
       "    .dataframe thead th {\n",
       "        text-align: right;\n",
       "    }\n",
       "</style>\n",
       "<table border=\"1\" class=\"dataframe\">\n",
       "  <thead>\n",
       "    <tr style=\"text-align: right;\">\n",
       "      <th></th>\n",
       "      <th>componente principal 1</th>\n",
       "      <th>componente principal 2</th>\n",
       "      <th>componente principal 3</th>\n",
       "      <th>componente principal 4</th>\n",
       "      <th>componente principal 5</th>\n",
       "      <th>nombre_categoria_producto</th>\n",
       "    </tr>\n",
       "  </thead>\n",
       "  <tbody>\n",
       "    <tr>\n",
       "      <th>0</th>\n",
       "      <td>-0.165477</td>\n",
       "      <td>-1.105732</td>\n",
       "      <td>-0.650255</td>\n",
       "      <td>0.877043</td>\n",
       "      <td>0.937284</td>\n",
       "      <td>ElectrodomÃ©sticos</td>\n",
       "    </tr>\n",
       "    <tr>\n",
       "      <th>1</th>\n",
       "      <td>-0.514386</td>\n",
       "      <td>-0.605951</td>\n",
       "      <td>-0.900786</td>\n",
       "      <td>-0.139876</td>\n",
       "      <td>-0.662208</td>\n",
       "      <td>Celulares</td>\n",
       "    </tr>\n",
       "    <tr>\n",
       "      <th>2</th>\n",
       "      <td>0.948670</td>\n",
       "      <td>-0.356064</td>\n",
       "      <td>0.442002</td>\n",
       "      <td>0.827765</td>\n",
       "      <td>-0.018589</td>\n",
       "      <td>Ropa_de_adultos</td>\n",
       "    </tr>\n",
       "    <tr>\n",
       "      <th>3</th>\n",
       "      <td>1.475139</td>\n",
       "      <td>0.215796</td>\n",
       "      <td>0.185729</td>\n",
       "      <td>-1.172187</td>\n",
       "      <td>-0.653629</td>\n",
       "      <td>CarnicerÃ­a</td>\n",
       "    </tr>\n",
       "    <tr>\n",
       "      <th>4</th>\n",
       "      <td>-0.695579</td>\n",
       "      <td>1.570005</td>\n",
       "      <td>0.836503</td>\n",
       "      <td>0.142639</td>\n",
       "      <td>-0.017694</td>\n",
       "      <td>ElectrodomÃ©sticos</td>\n",
       "    </tr>\n",
       "  </tbody>\n",
       "</table>\n",
       "</div>"
      ],
      "text/plain": [
       "   componente principal 1  componente principal 2  componente principal 3  \\\n",
       "0               -0.165477               -1.105732               -0.650255   \n",
       "1               -0.514386               -0.605951               -0.900786   \n",
       "2                0.948670               -0.356064                0.442002   \n",
       "3                1.475139                0.215796                0.185729   \n",
       "4               -0.695579                1.570005                0.836503   \n",
       "\n",
       "   componente principal 4  componente principal 5 nombre_categoria_producto  \n",
       "0                0.877043                0.937284        ElectrodomÃ©sticos  \n",
       "1               -0.139876               -0.662208                 Celulares  \n",
       "2                0.827765               -0.018589           Ropa_de_adultos  \n",
       "3               -1.172187               -0.653629               CarnicerÃ­a  \n",
       "4                0.142639               -0.017694        ElectrodomÃ©sticos  "
      ]
     },
     "execution_count": 13,
     "metadata": {},
     "output_type": "execute_result"
    }
   ],
   "source": [
    "# Unir el data set con las categorías\n",
    "data_final = pd.concat([data_componentes, categoria], axis = 1)\n",
    "data_final.head()"
   ]
  },
  {
   "cell_type": "code",
   "execution_count": 14,
   "id": "947385ab",
   "metadata": {},
   "outputs": [
    {
     "data": {
      "image/png": "[encoded data removed]",
      "text/plain": [
       "<Figure size 576x576 with 1 Axes>"
      ]
     },
     "metadata": {
      "needs_background": "light"
     },
     "output_type": "display_data"
    }
   ],
   "source": [
    "fig = plt.figure(figsize = (8,8))\n",
    "ax = fig.add_subplot(1,1,1) \n",
    "ax.set_xlabel('Componte principal 1', fontsize = 15)\n",
    "ax.set_ylabel('Componente principal 2', fontsize = 15)\n",
    "ax.set_title('2 componentes - PCA', fontsize = 20)\n",
    "targets = list(categoria['nombre_categoria_producto'].unique())\n",
    "colors = get_colors(len(targets))\n",
    "for target, color in zip(targets,colors):\n",
    "    indicesToKeep = data_final['nombre_categoria_producto'] == target\n",
    "    ax.scatter(data_final.loc[indicesToKeep, 'componente principal 1']\n",
    "               , data_final.loc[indicesToKeep, 'componente principal 2']\n",
    "               , c = color\n",
    "               , s = 50)\n",
    "ax.legend(targets,bbox_to_anchor=(1.05, 1), loc='upper left')\n",
    "ax.grid()"
   ]
  },
  {
   "cell_type": "markdown",
   "id": "3c375af2",
   "metadata": {},
   "source": [
    "Vemos que por la gran cantidad de datos nos es posible ver fácilmente diferentes categorías, además los primeros cuatro componentes recogen menos del 50% de la varianza, por lo tanto este gráfico nos pude ayudar cuando se obtenga mayor varianza en los primeros componentes"
   ]
  },
  {
   "cell_type": "markdown",
   "id": "9ca11b7c",
   "metadata": {},
   "source": [
    "![Banner-Preparaci-n.png](https://i.postimg.cc/q7vd5LZP/Banner-Preparaci-n.png)"
   ]
  }
 ],
 "metadata": {
  "kernelspec": {
   "display_name": "Python 3 (ipykernel)",
   "language": "python",
   "name": "python3"
  },
  "language_info": {
   "codemirror_mode": {
    "name": "ipython",
    "version": 3
   },
   "file_extension": ".py",
   "mimetype": "text/x-python",
   "name": "python",
   "nbconvert_exporter": "python",
   "pygments_lexer": "ipython3",
   "version": "3.9.12"
  }
 },
 "nbformat": 4,
 "nbformat_minor": 5
}
