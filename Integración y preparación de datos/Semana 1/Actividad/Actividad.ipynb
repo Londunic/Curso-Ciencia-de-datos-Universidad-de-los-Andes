{
 "cells": [
  {
   "cell_type": "markdown",
   "metadata": {},
   "source": [
    "# Integración y preparación de datos\n",
    "\n",
    "## Lectura de fuentes de datos en diferentes formatos  "
   ]
  },
  {
   "cell_type": "markdown",
   "metadata": {},
   "source": [
    "### 1. Importación de librerías\n",
    "\n",
    "Las principales librerías para realizar este proceso de manipulación de las fuentes de datos a manejar en este tutorial son:   **Pandas y JSON** las cuales se importan a continuación."
   ]
  },
  {
   "cell_type": "code",
   "execution_count": 1,
   "metadata": {},
   "outputs": [],
   "source": [
    "# Importar las librerías necesarias según el análisis que se vaya a realizar\n",
    "# Librería para comando de sistema\n",
    "import os\n",
    "# Librería para manejo de datos convencional\n",
    "import pandas as pd\n",
    "# Libería para formato JSON\n",
    "import json"
   ]
  },
  {
   "cell_type": "markdown",
   "metadata": {},
   "source": [
    "\n",
    "### 2. **CSV**\n",
    "\n",
    "Un archivo \".csv\" o de valores separados por comas (CSV comma-separated values) es un archivo de texto delimitado por un separador, que típicamente usa una coma para separar los valores, pero también puede utilizar caracteres como punto y coma o tabuladores. Cada línea del archivo es un registro de datos. Cada registro consta de uno o más campos, separados por ejemplo, por coma.\n",
    "Estos tipos de fuentes vamos a leerlos utilizando la librería Pandas, de la cual puedes encontrar más información en [este enlace.](https://pandas.pydata.org/pandas-docs/stable/reference/api/pandas.read_csv.html)"
   ]
  },
  {
   "cell_type": "code",
   "execution_count": 2,
   "metadata": {
    "scrolled": false
   },
   "outputs": [
    {
     "data": {
      "text/html": [
       "<div>\n",
       "<style scoped>\n",
       "    .dataframe tbody tr th:only-of-type {\n",
       "        vertical-align: middle;\n",
       "    }\n",
       "\n",
       "    .dataframe tbody tr th {\n",
       "        vertical-align: top;\n",
       "    }\n",
       "\n",
       "    .dataframe thead th {\n",
       "        text-align: right;\n",
       "    }\n",
       "</style>\n",
       "<table border=\"1\" class=\"dataframe\">\n",
       "  <thead>\n",
       "    <tr style=\"text-align: right;\">\n",
       "      <th></th>\n",
       "      <th>producto_id</th>\n",
       "      <th>fecha_envio_limite</th>\n",
       "      <th>nombre_categoria_producto</th>\n",
       "      <th>longitud_nombre_producto</th>\n",
       "      <th>longitud_descripcion_producto</th>\n",
       "      <th>cantidad_fotos_producto</th>\n",
       "      <th>longitud_cm_producto</th>\n",
       "      <th>altura_cm_producto</th>\n",
       "      <th>ancho_cm_producto</th>\n",
       "    </tr>\n",
       "  </thead>\n",
       "  <tbody>\n",
       "    <tr>\n",
       "      <th>0</th>\n",
       "      <td>PT66</td>\n",
       "      <td>19/09/2017 07:24</td>\n",
       "      <td>Tarjetas regalo</td>\n",
       "      <td>6</td>\n",
       "      <td>34</td>\n",
       "      <td>18</td>\n",
       "      <td>50</td>\n",
       "      <td>9</td>\n",
       "      <td>12</td>\n",
       "    </tr>\n",
       "    <tr>\n",
       "      <th>1</th>\n",
       "      <td>PB76</td>\n",
       "      <td>22/01/2018 11:30</td>\n",
       "      <td>Ropa de adultos</td>\n",
       "      <td>10</td>\n",
       "      <td>39</td>\n",
       "      <td>0</td>\n",
       "      <td>26</td>\n",
       "      <td>24</td>\n",
       "      <td>23</td>\n",
       "    </tr>\n",
       "    <tr>\n",
       "      <th>2</th>\n",
       "      <td>PJ55</td>\n",
       "      <td>09/12/2017 15:09</td>\n",
       "      <td>Mascotas</td>\n",
       "      <td>25</td>\n",
       "      <td>12</td>\n",
       "      <td>3</td>\n",
       "      <td>51</td>\n",
       "      <td>2</td>\n",
       "      <td>28</td>\n",
       "    </tr>\n",
       "    <tr>\n",
       "      <th>3</th>\n",
       "      <td>PO85</td>\n",
       "      <td>04/05/2018 04:15</td>\n",
       "      <td>Productos ecoamigables</td>\n",
       "      <td>33</td>\n",
       "      <td>25</td>\n",
       "      <td>25</td>\n",
       "      <td>19</td>\n",
       "      <td>26</td>\n",
       "      <td>28</td>\n",
       "    </tr>\n",
       "    <tr>\n",
       "      <th>4</th>\n",
       "      <td>PG31</td>\n",
       "      <td>17/09/2017 23:24</td>\n",
       "      <td>Salud</td>\n",
       "      <td>34</td>\n",
       "      <td>22</td>\n",
       "      <td>11</td>\n",
       "      <td>39</td>\n",
       "      <td>19</td>\n",
       "      <td>40</td>\n",
       "    </tr>\n",
       "  </tbody>\n",
       "</table>\n",
       "</div>"
      ],
      "text/plain": [
       "  producto_id fecha_envio_limite nombre_categoria_producto  \\\n",
       "0        PT66   19/09/2017 07:24           Tarjetas regalo   \n",
       "1        PB76   22/01/2018 11:30           Ropa de adultos   \n",
       "2        PJ55   09/12/2017 15:09                  Mascotas   \n",
       "3        PO85   04/05/2018 04:15    Productos ecoamigables   \n",
       "4        PG31   17/09/2017 23:24                     Salud   \n",
       "\n",
       "   longitud_nombre_producto  longitud_descripcion_producto  \\\n",
       "0                         6                             34   \n",
       "1                        10                             39   \n",
       "2                        25                             12   \n",
       "3                        33                             25   \n",
       "4                        34                             22   \n",
       "\n",
       "   cantidad_fotos_producto  longitud_cm_producto  altura_cm_producto  \\\n",
       "0                       18                    50                   9   \n",
       "1                        0                    26                  24   \n",
       "2                        3                    51                   2   \n",
       "3                       25                    19                  26   \n",
       "4                       11                    39                  19   \n",
       "\n",
       "   ancho_cm_producto  \n",
       "0                 12  \n",
       "1                 23  \n",
       "2                 28  \n",
       "3                 28  \n",
       "4                 40  "
      ]
     },
     "execution_count": 2,
     "metadata": {},
     "output_type": "execute_result"
    }
   ],
   "source": [
    "# Abrir el archivo desde un csv\n",
    "# Los archivos csv son los más sencillos y comunes en procesos de carga de datos\n",
    "# En la función para leer el archivo, se debe especificar la ruta donde se ubica el archivo y algunos parámetros, como por ejemplo, el separador\n",
    "\n",
    "data_csv=pd.read_csv('productos_por_fecha.csv', sep=';',encoding='latin-1')\n",
    "data_csv.head(5)"
   ]
  },
  {
   "cell_type": "code",
   "execution_count": 3,
   "metadata": {
    "scrolled": true
   },
   "outputs": [
    {
     "data": {
      "text/plain": [
       "(1000, 9)"
      ]
     },
     "execution_count": 3,
     "metadata": {},
     "output_type": "execute_result"
    }
   ],
   "source": [
    "# Tamaño de la fuente de datos en número de filas y columnas\n",
    "data_csv.shape"
   ]
  },
  {
   "cell_type": "markdown",
   "metadata": {},
   "source": [
    "### 2.1. Tipos de datos de las variables o atributos de las fuentes de datos"
   ]
  },
  {
   "cell_type": "code",
   "execution_count": 4,
   "metadata": {
    "scrolled": true
   },
   "outputs": [
    {
     "data": {
      "text/plain": [
       "producto_id                      object\n",
       "fecha_envio_limite               object\n",
       "nombre_categoria_producto        object\n",
       "longitud_nombre_producto          int64\n",
       "longitud_descripcion_producto     int64\n",
       "cantidad_fotos_producto           int64\n",
       "longitud_cm_producto              int64\n",
       "altura_cm_producto                int64\n",
       "ancho_cm_producto                 int64\n",
       "dtype: object"
      ]
     },
     "execution_count": 4,
     "metadata": {},
     "output_type": "execute_result"
    }
   ],
   "source": [
    "# En esta línea vamos a ver los tipos de dato que tiene el csv\n",
    "# Fíjate en el campo Fecha_envio_limite que más adelante vamos a revisar.\n",
    "data_csv.dtypes"
   ]
  },
  {
   "cell_type": "markdown",
   "metadata": {},
   "source": [
    "### 2.2. Manipulación del tipo de dato numérico\n",
    "Con este tipo de datos, es posible realizar un par de cálculos entre los cuales vamos a ver los siguientes:\n",
    "\n",
    "+ Estadísticas básicas de una variable.\n",
    "+ Cálculos matemáticos como por ejemplo, el área de los productos."
   ]
  },
  {
   "cell_type": "code",
   "execution_count": 6,
   "metadata": {
    "pycharm": {
     "name": "#%%\n"
    }
   },
   "outputs": [
    {
     "data": {
      "text/plain": [
       "count    1000.000000\n",
       "mean       30.104000\n",
       "std        14.870316\n",
       "min         0.000000\n",
       "25%        19.000000\n",
       "50%        29.000000\n",
       "75%        40.000000\n",
       "max        74.000000\n",
       "Name: longitud_cm_producto, dtype: float64"
      ]
     },
     "execution_count": 6,
     "metadata": {},
     "output_type": "execute_result"
    }
   ],
   "source": [
    "# Estadísticas de una variable numérica\n",
    "data_csv['longitud_cm_producto'].describe()"
   ]
  },
  {
   "cell_type": "markdown",
   "metadata": {
    "pycharm": {
     "name": "#%% md\n"
    },
    "scrolled": true
   },
   "source": [
    "Con la función utilizada y como el tipo de datos es numérico (float64) se pueden obtener el mínimo, el máximo, el promedio y la desviación estándar, también información sobre los percentiles 25, 50 y 75."
   ]
  },
  {
   "cell_type": "code",
   "execution_count": 7,
   "metadata": {
    "pycharm": {
     "name": "#%%\n"
    }
   },
   "outputs": [
    {
     "data": {
      "text/plain": [
       "0    108\n",
       "1    552\n",
       "2     56\n",
       "3    728\n",
       "4    760\n",
       "Name: area_cm2_producto, dtype: int64"
      ]
     },
     "execution_count": 7,
     "metadata": {},
     "output_type": "execute_result"
    }
   ],
   "source": [
    "# Cálculo del área del producto\n",
    "# Área= Alto * Ancho\n",
    "data_csv['area_cm2_producto']=data_csv['altura_cm_producto'] * data_csv['ancho_cm_producto']\n",
    "data_csv['area_cm2_producto'][0:5]"
   ]
  },
  {
   "cell_type": "markdown",
   "metadata": {
    "pycharm": {
     "name": "#%% md\n"
    },
    "scrolled": true
   },
   "source": [
    "Para verificar el área del producto en particular vamos a tomar el dato de una sola fila, así podremos ver todos los datos y validar el cálculo realizado."
   ]
  },
  {
   "cell_type": "code",
   "execution_count": 8,
   "metadata": {
    "scrolled": true
   },
   "outputs": [
    {
     "data": {
      "text/html": [
       "<div>\n",
       "<style scoped>\n",
       "    .dataframe tbody tr th:only-of-type {\n",
       "        vertical-align: middle;\n",
       "    }\n",
       "\n",
       "    .dataframe tbody tr th {\n",
       "        vertical-align: top;\n",
       "    }\n",
       "\n",
       "    .dataframe thead th {\n",
       "        text-align: right;\n",
       "    }\n",
       "</style>\n",
       "<table border=\"1\" class=\"dataframe\">\n",
       "  <thead>\n",
       "    <tr style=\"text-align: right;\">\n",
       "      <th></th>\n",
       "      <th>area_cm2_producto</th>\n",
       "      <th>ancho_cm_producto</th>\n",
       "      <th>altura_cm_producto</th>\n",
       "    </tr>\n",
       "  </thead>\n",
       "  <tbody>\n",
       "    <tr>\n",
       "      <th>0</th>\n",
       "      <td>108</td>\n",
       "      <td>12</td>\n",
       "      <td>9</td>\n",
       "    </tr>\n",
       "    <tr>\n",
       "      <th>1</th>\n",
       "      <td>552</td>\n",
       "      <td>23</td>\n",
       "      <td>24</td>\n",
       "    </tr>\n",
       "    <tr>\n",
       "      <th>2</th>\n",
       "      <td>56</td>\n",
       "      <td>28</td>\n",
       "      <td>2</td>\n",
       "    </tr>\n",
       "    <tr>\n",
       "      <th>3</th>\n",
       "      <td>728</td>\n",
       "      <td>28</td>\n",
       "      <td>26</td>\n",
       "    </tr>\n",
       "    <tr>\n",
       "      <th>4</th>\n",
       "      <td>760</td>\n",
       "      <td>40</td>\n",
       "      <td>19</td>\n",
       "    </tr>\n",
       "  </tbody>\n",
       "</table>\n",
       "</div>"
      ],
      "text/plain": [
       "   area_cm2_producto  ancho_cm_producto  altura_cm_producto\n",
       "0                108                 12                   9\n",
       "1                552                 23                  24\n",
       "2                 56                 28                   2\n",
       "3                728                 28                  26\n",
       "4                760                 40                  19"
      ]
     },
     "execution_count": 8,
     "metadata": {},
     "output_type": "execute_result"
    }
   ],
   "source": [
    "# Primero tomamos un subconjuntos de los datos\n",
    "data_area=data_csv[['area_cm2_producto','ancho_cm_producto','altura_cm_producto']]\n",
    "data_area.head(5)"
   ]
  },
  {
   "cell_type": "code",
   "execution_count": 9,
   "metadata": {
    "pycharm": {
     "name": "#%%\n"
    }
   },
   "outputs": [
    {
     "data": {
      "text/html": [
       "<div>\n",
       "<style scoped>\n",
       "    .dataframe tbody tr th:only-of-type {\n",
       "        vertical-align: middle;\n",
       "    }\n",
       "\n",
       "    .dataframe tbody tr th {\n",
       "        vertical-align: top;\n",
       "    }\n",
       "\n",
       "    .dataframe thead th {\n",
       "        text-align: right;\n",
       "    }\n",
       "</style>\n",
       "<table border=\"1\" class=\"dataframe\">\n",
       "  <thead>\n",
       "    <tr style=\"text-align: right;\">\n",
       "      <th></th>\n",
       "      <th>area_cm2_producto</th>\n",
       "      <th>ancho_cm_producto</th>\n",
       "      <th>altura_cm_producto</th>\n",
       "    </tr>\n",
       "  </thead>\n",
       "  <tbody>\n",
       "    <tr>\n",
       "      <th>0</th>\n",
       "      <td>108</td>\n",
       "      <td>12</td>\n",
       "      <td>9</td>\n",
       "    </tr>\n",
       "  </tbody>\n",
       "</table>\n",
       "</div>"
      ],
      "text/plain": [
       "   area_cm2_producto  ancho_cm_producto  altura_cm_producto\n",
       "0                108                 12                   9"
      ]
     },
     "execution_count": 9,
     "metadata": {},
     "output_type": "execute_result"
    }
   ],
   "source": [
    "# Ahora vamos a tomar una fila en particular\n",
    "data_area.loc[0:0]"
   ]
  },
  {
   "cell_type": "markdown",
   "metadata": {},
   "source": [
    "Al selececcionar esa única fila vemos que en efecto el alto y el ancho son respectivamente 9 y 12, y el área es 9*12=108 lo que corrobora la operación realizada. Además vimos cómo seleccionar un subconjunto de datos y una fila en particular."
   ]
  },
  {
   "cell_type": "markdown",
   "metadata": {},
   "source": [
    "### 4.3. Manipulación del tipo dato cadena - string\n",
    "\n",
    "Para continuar con los posibles cálculos sobre columnas de un cierto tipo de datos, vamos a:\n",
    "\n",
    "+ Analizar las principales estadísticas de variables categóricas. Una variable categórica representa características de las variables o atributos, por lo tanto, puede representar cosas como el género, el idioma, etc. de una persona. Los datos categóricos pueden tener un orden, en este caso hablaremos de ordinales o no tenerlo, y los llamaremos nominales. Si bien estas variables pueden\n",
    "también tomar valores numéricos (ejemplo: 1 para mujeres y 0 para hombres), estos valores no representan un dato continuo y no tiene sentido aplicar sobre ellos cálculos matemáticos.\n"
   ]
  },
  {
   "cell_type": "code",
   "execution_count": 10,
   "metadata": {
    "pycharm": {
     "name": "#%%\n"
    }
   },
   "outputs": [
    {
     "data": {
      "text/plain": [
       "Ropa de adultos      70\n",
       "Mascotas             69\n",
       "Juguetes             65\n",
       "Tarjetas regalo      60\n",
       "Frutas y verduras    57\n",
       "Name: nombre_categoria_producto, dtype: int64"
      ]
     },
     "execution_count": 10,
     "metadata": {},
     "output_type": "execute_result"
    }
   ],
   "source": [
    "# conteos de una variable categórica para identificar anomalías en los datos, o entender categorías con más o menos número de registros.\n",
    "data_csv['nombre_categoria_producto'].value_counts()[0:5]"
   ]
  },
  {
   "cell_type": "code",
   "execution_count": 13,
   "metadata": {},
   "outputs": [
    {
     "data": {
      "text/plain": [
       "Ropa de adultos           70\n",
       "Mascotas                  69\n",
       "Juguetes                  65\n",
       "Tarjetas regalo           60\n",
       "Frutas y verduras         57\n",
       "Tecnología                55\n",
       "Celulares                 51\n",
       "Bebés                     50\n",
       "Libros                    49\n",
       "Deportes                  48\n",
       "Licor                     48\n",
       "Ropa infantil             46\n",
       "Ferretería                45\n",
       "Lácteos                   44\n",
       "Muebles                   44\n",
       "Productos ecoamigables    43\n",
       "Electrodomésticos         42\n",
       "Dormitorio                41\n",
       "Salud                     39\n",
       "Carnicería                34\n",
       "Name: nombre_categoria_producto, dtype: int64"
      ]
     },
     "execution_count": 13,
     "metadata": {},
     "output_type": "execute_result"
    }
   ],
   "source": [
    "# Visualizacion completa.\n",
    "data_csv['nombre_categoria_producto'].value_counts()"
   ]
  },
  {
   "cell_type": "code",
   "execution_count": 14,
   "metadata": {
    "scrolled": false
   },
   "outputs": [
    {
     "data": {
      "text/plain": [
       "count                1000\n",
       "unique                 20\n",
       "top       Ropa de adultos\n",
       "freq                   70\n",
       "Name: nombre_categoria_producto, dtype: object"
      ]
     },
     "execution_count": 14,
     "metadata": {},
     "output_type": "execute_result"
    }
   ],
   "source": [
    "# estadísticas básicas de una variable categórica\n",
    "data_csv['nombre_categoria_producto'].describe()"
   ]
  },
  {
   "cell_type": "markdown",
   "metadata": {
    "pycharm": {
     "name": "#%% md\n"
    },
    "scrolled": true
   },
   "source": [
    "En la tabla anterior, es posible ver: la cantidad de registros, los regístros únicos, la categoría top y la frecuencia de esta. Estos valores son importantes para detectar por ejemplo, datos atípicos o valores que no fueron reportados como válidos en el diccionario de datos.\n"
   ]
  },
  {
   "cell_type": "markdown",
   "metadata": {
    "pycharm": {
     "name": "#%% md\n"
    }
   },
   "source": [
    "### 5. **Excel**\n",
    "\n",
    "Excel es una de las herramientas de datos más populares y utilizadas; es difícil encontrar una organización que no trabaje con ella de alguna manera. Desde analistas hasta vicepresidentes de ventas y directores ejecutivos, varios profesionales usan Excel tanto para estadísticas rápidas como para procesar datos serios.\n",
    "\n",
    "**Pandas** tiene métodos excelentes para leer todo tipo de datos de archivos de Excel. También puede exportar sus resultados de pandas a Excel, si así lo prefiere el público objetivo. \n",
    "\n",
    "Pandas es ideal para otras tareas de análisis de datos de rutina, como:\n",
    "\n",
    "+ Análisis rápido de datos exploratorios.\n",
    "+ Transformación y arreglo de datos.\n",
    "+ Aprendizaje automático.\n",
    "+ Construir modelos.\n",
    "\n",
    "Puedes leer más sobre la librería de Pandas [en este enlace.](https://pandas.pydata.org/pandas-docs/stable/reference/api/pandas.read_excel.html)"
   ]
  },
  {
   "cell_type": "markdown",
   "metadata": {},
   "source": [
    "En las siguientes líneas vamos a cargar dos datos desde un archivo excel, que están en diferentas hojas. En este punto, es necesario utilizar el parámetro *sheet_name* para elegir las hojas de interés, que en este caso se llaman \"Datos\" y \"Datos defectuosos\"."
   ]
  },
  {
   "cell_type": "code",
   "execution_count": 15,
   "metadata": {
    "pycharm": {
     "name": "#%%\n"
    }
   },
   "outputs": [
    {
     "data": {
      "text/html": [
       "<div>\n",
       "<style scoped>\n",
       "    .dataframe tbody tr th:only-of-type {\n",
       "        vertical-align: middle;\n",
       "    }\n",
       "\n",
       "    .dataframe tbody tr th {\n",
       "        vertical-align: top;\n",
       "    }\n",
       "\n",
       "    .dataframe thead th {\n",
       "        text-align: right;\n",
       "    }\n",
       "</style>\n",
       "<table border=\"1\" class=\"dataframe\">\n",
       "  <thead>\n",
       "    <tr style=\"text-align: right;\">\n",
       "      <th></th>\n",
       "      <th>producto_id</th>\n",
       "      <th>fecha_envio_limite</th>\n",
       "      <th>nombre_categoria_producto</th>\n",
       "      <th>longitud_nombre_producto</th>\n",
       "      <th>longitud_descripcion_producto</th>\n",
       "      <th>cantidad_fotos_producto</th>\n",
       "      <th>longitud_cm_producto</th>\n",
       "      <th>altura_cm_producto</th>\n",
       "      <th>ancho_cm_producto</th>\n",
       "    </tr>\n",
       "  </thead>\n",
       "  <tbody>\n",
       "    <tr>\n",
       "      <th>0</th>\n",
       "      <td>PT66</td>\n",
       "      <td>19/09/2017 07:24</td>\n",
       "      <td>Tarjetas regalo</td>\n",
       "      <td>6</td>\n",
       "      <td>34</td>\n",
       "      <td>18</td>\n",
       "      <td>50</td>\n",
       "      <td>9</td>\n",
       "      <td>12</td>\n",
       "    </tr>\n",
       "    <tr>\n",
       "      <th>1</th>\n",
       "      <td>PB76</td>\n",
       "      <td>22/01/2018 11:30</td>\n",
       "      <td>Ropa de adultos</td>\n",
       "      <td>10</td>\n",
       "      <td>39</td>\n",
       "      <td>0</td>\n",
       "      <td>26</td>\n",
       "      <td>24</td>\n",
       "      <td>23</td>\n",
       "    </tr>\n",
       "    <tr>\n",
       "      <th>2</th>\n",
       "      <td>PJ55</td>\n",
       "      <td>09/12/2017 15:09</td>\n",
       "      <td>Mascotas</td>\n",
       "      <td>25</td>\n",
       "      <td>12</td>\n",
       "      <td>3</td>\n",
       "      <td>51</td>\n",
       "      <td>2</td>\n",
       "      <td>28</td>\n",
       "    </tr>\n",
       "    <tr>\n",
       "      <th>3</th>\n",
       "      <td>PO85</td>\n",
       "      <td>04/05/2018 04:15</td>\n",
       "      <td>Productos ecoamigables</td>\n",
       "      <td>33</td>\n",
       "      <td>25</td>\n",
       "      <td>25</td>\n",
       "      <td>19</td>\n",
       "      <td>26</td>\n",
       "      <td>28</td>\n",
       "    </tr>\n",
       "    <tr>\n",
       "      <th>4</th>\n",
       "      <td>PG31</td>\n",
       "      <td>17/09/2017 23:24</td>\n",
       "      <td>Salud</td>\n",
       "      <td>34</td>\n",
       "      <td>22</td>\n",
       "      <td>11</td>\n",
       "      <td>39</td>\n",
       "      <td>19</td>\n",
       "      <td>40</td>\n",
       "    </tr>\n",
       "  </tbody>\n",
       "</table>\n",
       "</div>"
      ],
      "text/plain": [
       "  producto_id fecha_envio_limite nombre_categoria_producto  \\\n",
       "0        PT66   19/09/2017 07:24           Tarjetas regalo   \n",
       "1        PB76   22/01/2018 11:30           Ropa de adultos   \n",
       "2        PJ55   09/12/2017 15:09                  Mascotas   \n",
       "3        PO85   04/05/2018 04:15    Productos ecoamigables   \n",
       "4        PG31   17/09/2017 23:24                     Salud   \n",
       "\n",
       "   longitud_nombre_producto  longitud_descripcion_producto  \\\n",
       "0                         6                             34   \n",
       "1                        10                             39   \n",
       "2                        25                             12   \n",
       "3                        33                             25   \n",
       "4                        34                             22   \n",
       "\n",
       "   cantidad_fotos_producto  longitud_cm_producto  altura_cm_producto  \\\n",
       "0                       18                    50                   9   \n",
       "1                        0                    26                  24   \n",
       "2                        3                    51                   2   \n",
       "3                       25                    19                  26   \n",
       "4                       11                    39                  19   \n",
       "\n",
       "   ancho_cm_producto  \n",
       "0                 12  \n",
       "1                 23  \n",
       "2                 28  \n",
       "3                 28  \n",
       "4                 40  "
      ]
     },
     "execution_count": 15,
     "metadata": {},
     "output_type": "execute_result"
    }
   ],
   "source": [
    "# Abrir el archivo desde un excel utilizando la hoja Datos\n",
    "data_excel=pd.read_excel('productos_por_fecha.xlsx', sheet_name='Datos 2')\n",
    "data_excel.head(5)"
   ]
  },
  {
   "cell_type": "code",
   "execution_count": 16,
   "metadata": {
    "scrolled": true
   },
   "outputs": [
    {
     "data": {
      "text/html": [
       "<div>\n",
       "<style scoped>\n",
       "    .dataframe tbody tr th:only-of-type {\n",
       "        vertical-align: middle;\n",
       "    }\n",
       "\n",
       "    .dataframe tbody tr th {\n",
       "        vertical-align: top;\n",
       "    }\n",
       "\n",
       "    .dataframe thead th {\n",
       "        text-align: right;\n",
       "    }\n",
       "</style>\n",
       "<table border=\"1\" class=\"dataframe\">\n",
       "  <thead>\n",
       "    <tr style=\"text-align: right;\">\n",
       "      <th></th>\n",
       "      <th>producto_id</th>\n",
       "      <th>fecha_envio_limite</th>\n",
       "      <th>nombre_categoria_producto</th>\n",
       "      <th>0</th>\n",
       "      <th>1</th>\n",
       "      <th>2</th>\n",
       "      <th>4</th>\n",
       "      <th>altura_cm_producto</th>\n",
       "      <th>ancho_cm_producto</th>\n",
       "    </tr>\n",
       "  </thead>\n",
       "  <tbody>\n",
       "    <tr>\n",
       "      <th>0</th>\n",
       "      <td>PT66</td>\n",
       "      <td>19/09/2017 07:24</td>\n",
       "      <td>Tarjetas regalo</td>\n",
       "      <td>6</td>\n",
       "      <td>34</td>\n",
       "      <td>18</td>\n",
       "      <td>50</td>\n",
       "      <td>9</td>\n",
       "      <td>12</td>\n",
       "    </tr>\n",
       "    <tr>\n",
       "      <th>1</th>\n",
       "      <td>PB76</td>\n",
       "      <td>22/01/2018 11:30</td>\n",
       "      <td>Ropa de adultos</td>\n",
       "      <td>10</td>\n",
       "      <td>39</td>\n",
       "      <td>0</td>\n",
       "      <td>26</td>\n",
       "      <td>24</td>\n",
       "      <td>23</td>\n",
       "    </tr>\n",
       "    <tr>\n",
       "      <th>2</th>\n",
       "      <td>PJ55</td>\n",
       "      <td>09/12/2017 15:09</td>\n",
       "      <td>Mascotas</td>\n",
       "      <td>25</td>\n",
       "      <td>12</td>\n",
       "      <td>3</td>\n",
       "      <td>51</td>\n",
       "      <td>2</td>\n",
       "      <td>28</td>\n",
       "    </tr>\n",
       "    <tr>\n",
       "      <th>3</th>\n",
       "      <td>PO85</td>\n",
       "      <td>04/05/2018 04:15</td>\n",
       "      <td>Productos ecoamigables</td>\n",
       "      <td>33</td>\n",
       "      <td>25</td>\n",
       "      <td>25</td>\n",
       "      <td>19</td>\n",
       "      <td>26</td>\n",
       "      <td>28</td>\n",
       "    </tr>\n",
       "    <tr>\n",
       "      <th>4</th>\n",
       "      <td>PG31</td>\n",
       "      <td>17/09/2017 23:24</td>\n",
       "      <td>Salud</td>\n",
       "      <td>34</td>\n",
       "      <td>22</td>\n",
       "      <td>11</td>\n",
       "      <td>39</td>\n",
       "      <td>19</td>\n",
       "      <td>40</td>\n",
       "    </tr>\n",
       "  </tbody>\n",
       "</table>\n",
       "</div>"
      ],
      "text/plain": [
       "  producto_id fecha_envio_limite nombre_categoria_producto   0   1   2   4  \\\n",
       "0        PT66   19/09/2017 07:24           Tarjetas regalo   6  34  18  50   \n",
       "1        PB76   22/01/2018 11:30           Ropa de adultos  10  39   0  26   \n",
       "2        PJ55   09/12/2017 15:09                  Mascotas  25  12   3  51   \n",
       "3        PO85   04/05/2018 04:15    Productos ecoamigables  33  25  25  19   \n",
       "4        PG31   17/09/2017 23:24                     Salud  34  22  11  39   \n",
       "\n",
       "   altura_cm_producto  ancho_cm_producto  \n",
       "0                   9                 12  \n",
       "1                  24                 23  \n",
       "2                   2                 28  \n",
       "3                  26                 28  \n",
       "4                  19                 40  "
      ]
     },
     "execution_count": 16,
     "metadata": {},
     "output_type": "execute_result"
    }
   ],
   "source": [
    "# Abrir el archivo desde un excel utilizando la hoja Datos defectuosos\n",
    "data_excel_def=pd.read_excel('productos_por_fecha.xlsx', sheet_name='Datos 1')\n",
    "data_excel_def.head(5)"
   ]
  },
  {
   "cell_type": "code",
   "execution_count": 17,
   "metadata": {},
   "outputs": [
    {
     "name": "stdout",
     "output_type": "stream",
     "text": [
      "(1000, 9)\n",
      "(100, 9)\n"
     ]
    }
   ],
   "source": [
    "# ver el tamaño de las dos fuentes cargadas\n",
    "print(data_excel.shape)\n",
    "print(data_excel_def.shape)"
   ]
  },
  {
   "cell_type": "markdown",
   "metadata": {},
   "source": [
    "### 5.1. Tipos de fuentes de datos\n",
    "\n",
    "Los datos cargados desde excel mantienen su tipo de dato por las características que tiene esta hoja de cálculo."
   ]
  },
  {
   "cell_type": "code",
   "execution_count": 18,
   "metadata": {
    "pycharm": {
     "name": "#%%\n"
    },
    "scrolled": true
   },
   "outputs": [
    {
     "name": "stdout",
     "output_type": "stream",
     "text": [
      "Tipos de datos de hoja 'Datos':\n",
      "\n",
      "producto_id                      object\n",
      "fecha_envio_limite               object\n",
      "nombre_categoria_producto        object\n",
      "longitud_nombre_producto          int64\n",
      "longitud_descripcion_producto     int64\n",
      "cantidad_fotos_producto           int64\n",
      "longitud_cm_producto              int64\n",
      "altura_cm_producto                int64\n",
      "ancho_cm_producto                 int64\n",
      "dtype: object\n",
      "\n",
      "Tipos de datos de hoja 'Datos Defectuosos':\n",
      "\n",
      "producto_id                  object\n",
      "fecha_envio_limite           object\n",
      "nombre_categoria_producto    object\n",
      "0                             int64\n",
      "1                             int64\n",
      "2                             int64\n",
      "4                             int64\n",
      "altura_cm_producto            int64\n",
      "ancho_cm_producto             int64\n",
      "dtype: object\n"
     ]
    }
   ],
   "source": [
    "# ver las columnas y tipos de datos de las dos fuentes cargadas\n",
    "print(\"Tipos de datos de hoja 'Datos':\\n\")\n",
    "print(data_excel.dtypes)\n",
    "print(\"\\nTipos de datos de hoja 'Datos Defectuosos':\\n\")\n",
    "print(data_excel_def.dtypes)"
   ]
  },
  {
   "cell_type": "markdown",
   "metadata": {},
   "source": [
    "Como vemos, simplemente revisando las columnas podemos comparar las hojas cargadas, y ver que los nombres de las columnas no están totalmente definidos en la hoja \"Datos defectuosos\".\n",
    "Además, la segunda fuente es una subconjunto de la primera. El análisis básico sobre las columnas cargadas de una fuente de datos, permite tener una guía rápida de las características de las fuentes y en casos puntuales, de las diferencias entre fuentes similares."
   ]
  },
  {
   "cell_type": "markdown",
   "metadata": {},
   "source": [
    "### 5.2. Manipulación del tipo dato fecha\n",
    "\n",
    "Para continuar con los posibles cálculos sobre columnas de un cierto tipo de datos, vamos a obtener el año de alguna fecha."
   ]
  },
  {
   "cell_type": "code",
   "execution_count": 19,
   "metadata": {
    "scrolled": true
   },
   "outputs": [
    {
     "data": {
      "text/plain": [
       "0    19/09/2017 07:24\n",
       "1    22/01/2018 11:30\n",
       "2    09/12/2017 15:09\n",
       "3    04/05/2018 04:15\n",
       "4    17/09/2017 23:24\n",
       "Name: fecha_envio_limite, dtype: object"
      ]
     },
     "execution_count": 19,
     "metadata": {},
     "output_type": "execute_result"
    }
   ],
   "source": [
    "# Obtener año de alguna fecha, para esto es necesario ver que en los datos cargados se tenga el tipo de dato correcto. Si no es así, debes hacer la conversión al tipo de dato requerido.\n",
    "data_excel['fecha_envio_limite'][0:5]"
   ]
  },
  {
   "cell_type": "code",
   "execution_count": 21,
   "metadata": {
    "scrolled": true
   },
   "outputs": [],
   "source": [
    "# En el único archivo que tiene los datos correctos es la que se carga desde el excel\n",
    "# Por lo tanto se puede realizar el cálculo del año\n",
    "\n",
    "#EL SIGUIENTE fragmento no se puede ejecutar debido a que el formato de la columna es object.\n",
    "data_excel['año_envio']=data_excel['fecha_envio_limite'].dt.year\n",
    "data_excel['año_envio'].head(5)"
   ]
  },
  {
   "cell_type": "markdown",
   "metadata": {},
   "source": [
    "### 6. **JSON**\n",
    "\n",
    "Los archivos JSON cuyo nombre viene de JavaScript Object Notation, es un archivo de texto que se utiliza típicamente para el intercambio de datos.\n",
    "\n"
   ]
  },
  {
   "cell_type": "code",
   "execution_count": 23,
   "metadata": {
    "scrolled": true
   },
   "outputs": [],
   "source": [
    "# Utilizando la librería Json, previamente importada, abrir el archivo \"json\"\n",
    "f = open('productos_por_fecha.json',)  \n",
    "# tomar el json como un diccionario\n",
    "data_json = json.load(f)\n"
   ]
  },
  {
   "cell_type": "code",
   "execution_count": 24,
   "metadata": {},
   "outputs": [
    {
     "data": {
      "text/plain": [
       "dict_keys(['producto_id', 'fecha_envio_limite', 'nombre_categoria_producto', 'longitud_nombre_producto', 'longitud_descripcion_producto', 'cantidad_fotos_producto', 'longitud_cm_producto', 'altura_cm_producto', 'ancho_cm_producto'])"
      ]
     },
     "execution_count": 24,
     "metadata": {},
     "output_type": "execute_result"
    }
   ],
   "source": [
    "# Vamos a revisar las columnas que se cargan de la fuente de datos tipo Json\n",
    "data_json.keys()"
   ]
  },
  {
   "cell_type": "code",
   "execution_count": 26,
   "metadata": {
    "scrolled": true
   },
   "outputs": [
    {
     "data": {
      "text/plain": [
       "{'8657': 'PT66',\n",
       " '5070': 'PB76',\n",
       " '2412': 'PJ55',\n",
       " '5147': 'PO85',\n",
       " '4667': 'PG31'}"
      ]
     },
     "execution_count": 26,
     "metadata": {},
     "output_type": "execute_result"
    }
   ],
   "source": [
    "# vamos a revisar la columna order_id\n",
    "dict(list(data_json['producto_id'].items())[0:5])"
   ]
  },
  {
   "cell_type": "code",
   "execution_count": 27,
   "metadata": {},
   "outputs": [
    {
     "data": {
      "text/plain": [
       "'PT66'"
      ]
     },
     "execution_count": 27,
     "metadata": {},
     "output_type": "execute_result"
    }
   ],
   "source": [
    "# en particular vamos a revisar la fila 8657\n",
    "data_json['producto_id']['8657']"
   ]
  },
  {
   "cell_type": "code",
   "execution_count": 28,
   "metadata": {
    "scrolled": true
   },
   "outputs": [
    {
     "data": {
      "text/html": [
       "<div>\n",
       "<style scoped>\n",
       "    .dataframe tbody tr th:only-of-type {\n",
       "        vertical-align: middle;\n",
       "    }\n",
       "\n",
       "    .dataframe tbody tr th {\n",
       "        vertical-align: top;\n",
       "    }\n",
       "\n",
       "    .dataframe thead th {\n",
       "        text-align: right;\n",
       "    }\n",
       "</style>\n",
       "<table border=\"1\" class=\"dataframe\">\n",
       "  <thead>\n",
       "    <tr style=\"text-align: right;\">\n",
       "      <th></th>\n",
       "      <th>producto_id</th>\n",
       "      <th>fecha_envio_limite</th>\n",
       "      <th>nombre_categoria_producto</th>\n",
       "      <th>longitud_nombre_producto</th>\n",
       "      <th>longitud_descripcion_producto</th>\n",
       "      <th>cantidad_fotos_producto</th>\n",
       "      <th>longitud_cm_producto</th>\n",
       "      <th>altura_cm_producto</th>\n",
       "      <th>ancho_cm_producto</th>\n",
       "    </tr>\n",
       "  </thead>\n",
       "  <tbody>\n",
       "    <tr>\n",
       "      <th>8657</th>\n",
       "      <td>PT66</td>\n",
       "      <td>19/09/2017 07:24</td>\n",
       "      <td>Tarjetas regalo</td>\n",
       "      <td>6</td>\n",
       "      <td>34</td>\n",
       "      <td>18</td>\n",
       "      <td>50</td>\n",
       "      <td>9</td>\n",
       "      <td>12</td>\n",
       "    </tr>\n",
       "    <tr>\n",
       "      <th>5070</th>\n",
       "      <td>PB76</td>\n",
       "      <td>22/01/2018 11:30</td>\n",
       "      <td>Ropa de adultos</td>\n",
       "      <td>10</td>\n",
       "      <td>39</td>\n",
       "      <td>0</td>\n",
       "      <td>26</td>\n",
       "      <td>24</td>\n",
       "      <td>23</td>\n",
       "    </tr>\n",
       "    <tr>\n",
       "      <th>2412</th>\n",
       "      <td>PJ55</td>\n",
       "      <td>09/12/2017 15:09</td>\n",
       "      <td>Mascotas</td>\n",
       "      <td>25</td>\n",
       "      <td>12</td>\n",
       "      <td>3</td>\n",
       "      <td>51</td>\n",
       "      <td>2</td>\n",
       "      <td>28</td>\n",
       "    </tr>\n",
       "    <tr>\n",
       "      <th>5147</th>\n",
       "      <td>PO85</td>\n",
       "      <td>04/05/2018 04:15</td>\n",
       "      <td>Productos ecoamigables</td>\n",
       "      <td>33</td>\n",
       "      <td>25</td>\n",
       "      <td>25</td>\n",
       "      <td>19</td>\n",
       "      <td>26</td>\n",
       "      <td>28</td>\n",
       "    </tr>\n",
       "    <tr>\n",
       "      <th>4667</th>\n",
       "      <td>PG31</td>\n",
       "      <td>17/09/2017 23:24</td>\n",
       "      <td>Salud</td>\n",
       "      <td>34</td>\n",
       "      <td>22</td>\n",
       "      <td>11</td>\n",
       "      <td>39</td>\n",
       "      <td>19</td>\n",
       "      <td>40</td>\n",
       "    </tr>\n",
       "  </tbody>\n",
       "</table>\n",
       "</div>"
      ],
      "text/plain": [
       "     producto_id fecha_envio_limite nombre_categoria_producto  \\\n",
       "8657        PT66   19/09/2017 07:24           Tarjetas regalo   \n",
       "5070        PB76   22/01/2018 11:30           Ropa de adultos   \n",
       "2412        PJ55   09/12/2017 15:09                  Mascotas   \n",
       "5147        PO85   04/05/2018 04:15    Productos ecoamigables   \n",
       "4667        PG31   17/09/2017 23:24                     Salud   \n",
       "\n",
       "      longitud_nombre_producto  longitud_descripcion_producto  \\\n",
       "8657                         6                             34   \n",
       "5070                        10                             39   \n",
       "2412                        25                             12   \n",
       "5147                        33                             25   \n",
       "4667                        34                             22   \n",
       "\n",
       "      cantidad_fotos_producto  longitud_cm_producto  altura_cm_producto  \\\n",
       "8657                       18                    50                   9   \n",
       "5070                        0                    26                  24   \n",
       "2412                        3                    51                   2   \n",
       "5147                       25                    19                  26   \n",
       "4667                       11                    39                  19   \n",
       "\n",
       "      ancho_cm_producto  \n",
       "8657                 12  \n",
       "5070                 23  \n",
       "2412                 28  \n",
       "5147                 28  \n",
       "4667                 40  "
      ]
     },
     "execution_count": 28,
     "metadata": {},
     "output_type": "execute_result"
    }
   ],
   "source": [
    "# Convertir el diccionario a dataframe y a partir de este punto podemos realizar las operaciones que hemos hecho previamente sobre otros dataframes.\n",
    "data_json=pd.DataFrame(data_json)\n",
    "data_json.head(5)"
   ]
  },
  {
   "cell_type": "markdown",
   "metadata": {},
   "source": [
    "### 6.1. Transformación de datos\n",
    "La transformación de datos es el proceso de cambiar los datos originales a un nuevo valor que permita facilitar su manipulación, corregirlos en caso de error o generar nuevos datos a partir de lo existente.\n",
    "En este caso particular, estamos transformando los datos para llevarlos al tipo de dato correcto y tener a disposición las funciones existentes para dichos datos.\n",
    "\n",
    "En el formato JSON no todos los tipos de datos se interpretan de la manera correcta, por lo tanto es importante hacer la revisión de cuál tipo de datos se tiene para cada variable antes de determinar las transformaciones a realizar."
   ]
  },
  {
   "cell_type": "code",
   "execution_count": 29,
   "metadata": {},
   "outputs": [
    {
     "data": {
      "text/plain": [
       "producto_id                      object\n",
       "fecha_envio_limite               object\n",
       "nombre_categoria_producto        object\n",
       "longitud_nombre_producto          int64\n",
       "longitud_descripcion_producto     int64\n",
       "cantidad_fotos_producto           int64\n",
       "longitud_cm_producto              int64\n",
       "altura_cm_producto                int64\n",
       "ancho_cm_producto                 int64\n",
       "dtype: object"
      ]
     },
     "execution_count": 29,
     "metadata": {},
     "output_type": "execute_result"
    }
   ],
   "source": [
    "data_json.dtypes"
   ]
  },
  {
   "cell_type": "code",
   "execution_count": 30,
   "metadata": {
    "pycharm": {
     "name": "#%%\n"
    }
   },
   "outputs": [
    {
     "data": {
      "text/plain": [
       "8657   2017-09-19 07:24:00\n",
       "5070   2018-01-22 11:30:00\n",
       "2412   2017-09-12 15:09:00\n",
       "5147   2018-04-05 04:15:00\n",
       "4667   2017-09-17 23:24:00\n",
       "Name: fecha_envio_limite_pd, dtype: datetime64[ns]"
      ]
     },
     "execution_count": 30,
     "metadata": {},
     "output_type": "execute_result"
    }
   ],
   "source": [
    "#En este caso vemos que es necesario llevar la variable fecha_envio_limite_pd a tipo Datetime utilizando la libreria Pandas.\n",
    "data_json['fecha_envio_limite_pd']=pd.to_datetime(data_json['fecha_envio_limite'].astype(str))\n",
    "data_json['fecha_envio_limite_pd'][0:5]"
   ]
  },
  {
   "cell_type": "code",
   "execution_count": 31,
   "metadata": {
    "pycharm": {
     "name": "#%%\n"
    }
   },
   "outputs": [
    {
     "data": {
      "text/plain": [
       "8657    9\n",
       "5070    1\n",
       "2412    9\n",
       "5147    4\n",
       "4667    9\n",
       "Name: mes_envio, dtype: int64"
      ]
     },
     "execution_count": 31,
     "metadata": {},
     "output_type": "execute_result"
    }
   ],
   "source": [
    "# Ahora ya es posible extraer el mes y convertirlo en dato categórico en vez de número\n",
    "data_json['mes_envio']=data_json['fecha_envio_limite_pd'].dt.month\n",
    "data_json['mes_envio'][0:5]"
   ]
  },
  {
   "cell_type": "code",
   "execution_count": 32,
   "metadata": {
    "pycharm": {
     "name": "#%%\n"
    }
   },
   "outputs": [
    {
     "data": {
      "text/plain": [
       "count    10.000000\n",
       "mean      5.700000\n",
       "std       3.497618\n",
       "min       1.000000\n",
       "25%       3.250000\n",
       "50%       4.500000\n",
       "75%       9.000000\n",
       "max      11.000000\n",
       "Name: mes_envio, dtype: float64"
      ]
     },
     "execution_count": 32,
     "metadata": {},
     "output_type": "execute_result"
    }
   ],
   "source": [
    "# Como el número de mes es una etiqueta, se puede realizar un análisis de dato categórico\n",
    "data_json['mes_envio'].describe()"
   ]
  },
  {
   "cell_type": "markdown",
   "metadata": {
    "pycharm": {
     "name": "#%% md\n"
    }
   },
   "source": [
    "Como vemos es necesario en muchos casos convertir los datos para poder realizar los análisis correcto, en estos últimos trabajamos con los datos de la fecha de envío.\n",
    "Esto nos va a servir en retail para agilizar envíos, elegir fechas promocionales y un sin número de conclusiones que van aportar valor al negocio.\n"
   ]
  }
 ],
 "metadata": {
  "kernelspec": {
   "display_name": "Python 3 (ipykernel)",
   "language": "python",
   "name": "python3"
  },
  "language_info": {
   "codemirror_mode": {
    "name": "ipython",
    "version": 3
   },
   "file_extension": ".py",
   "mimetype": "text/x-python",
   "name": "python",
   "nbconvert_exporter": "python",
   "pygments_lexer": "ipython3",
   "version": "3.9.12"
  }
 },
 "nbformat": 4,
 "nbformat_minor": 2
}
