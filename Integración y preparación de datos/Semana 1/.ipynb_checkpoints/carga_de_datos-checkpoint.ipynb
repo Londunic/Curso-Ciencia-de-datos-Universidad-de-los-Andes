{
 "cells": [
  {
   "cell_type": "markdown",
   "metadata": {},
   "source": [
    "![Banner-Preparaci-n.png](https://i.postimg.cc/q7vd5LZP/Banner-Preparaci-n.png)"
   ]
  },
  {
   "cell_type": "markdown",
   "metadata": {},
   "source": [
    "# Integración y preparación de datos\n",
    "\n",
    "## L2: Lectura de fuentes de datos en diferentes formatos  \n",
    "\n",
    "Iniciamos nuestros tutoriales para lo cual trabajaremos en la industria de Retail. Recuerda complementar este recurso con los videos, lecturas e infografías del curso."
   ]
  },
  {
   "cell_type": "markdown",
   "metadata": {},
   "source": [
    "**Autor:** David Ocampo, Daniel Galindo Ruiz\n",
    "    \n",
    "d.ocampo@uniandes.edu.co, d.galindo@uniandes.edu.co"
   ]
  },
  {
   "cell_type": "markdown",
   "metadata": {},
   "source": [
    "### 1. Objetivos del tutorial\n",
    "1. Manipular fuentes de datos en diferentes formatos (csv, excel, json), usando código Python en jupyter notebooks.\n",
    "2. Identificar los principales retos asociados a este proceso de manipulación de datos para comprender como están los datos y empezar su preparación.\n",
    "\n"
   ]
  },
  {
   "cell_type": "markdown",
   "metadata": {},
   "source": [
    "### 2. Contexto del caso\n",
    "\n",
    "La industria de retail ha implementado soluciones tecnológicas con el fin de atraer y retener clientes y de esta manera aumentar sus ingresos. En particular, ofrece las ventas por marketplace que brindan la oportunidad de conocer el compartamiento de los clientes y sus intereses, utilizando los datos asociados a este canal de venta.\n",
    "La existencia de estos datos, abre posibilidades de desarrollar proyectos de big data y analytics con la participación de diferentes actores tales como personas con roles corporativos, grupos de investigación, entre otros, en los cuales la calidad del talento humano es fundamental, al igual que la metodología de trabajo.\n",
    "Es en estos proyectos donde los datos son fundamentales, los cuales deben ser analizados, idealmente por áreas de ciencia de datos para su entendimiento y uso en análisis futuros.\n",
    "\n",
    "Antes de iniciar la manipulación de datos, es necesario entender con qué fuentes de datos se va a trabajar, con el fin de determinar las librerias y tareas específicas que se requieren para cargar las fuentes, transformalas y posteriormente realizar análisis más sofisticados.\n",
    "En este tutorial trabajaremos tres tipos de fuentes de datos: \".csv\", archivos excel y archivos JSON."
   ]
  },
  {
   "cell_type": "markdown",
   "metadata": {},
   "source": [
    "### 3. Importación de librerías\n",
    "\n",
    "Las principales librerías para realizar este proceso de manipulación de las fuentes de datos a manejar en este tutorial son:   **Pandas y JSON** las cuales se importan a continuación."
   ]
  },
  {
   "cell_type": "code",
   "execution_count": 1,
   "metadata": {},
   "outputs": [],
   "source": [
    "# Importar las librerías necesarias según el análisis que se vaya a realizar\n",
    "# Librería para comando de sistema\n",
    "import os\n",
    "# Librería para manejo de datos convencional\n",
    "import pandas as pd\n",
    "# Libería para formato JSON\n",
    "import json"
   ]
  },
  {
   "cell_type": "markdown",
   "metadata": {},
   "source": [
    "\n",
    "### 4. **CSV**\n",
    "\n",
    "Un archivo \".csv\" o de valores separados por comas (CSV comma-separated values) es un archivo de texto delimitado por un separador, que típicamente usa una coma para separar los valores, pero también puede utilizar caracteres como punto y coma o tabuladores. Cada línea del archivo es un registro de datos. Cada registro consta de uno o más campos, separados por ejemplo, por coma.\n",
    "Estos tipos de fuentes vamos a leerlos utilizando la librería Pandas, de la cual puedes encontrar más información en [este enlace.](https://pandas.pydata.org/pandas-docs/stable/reference/api/pandas.read_csv.html)"
   ]
  },
  {
   "cell_type": "code",
   "execution_count": 2,
   "metadata": {
    "scrolled": false
   },
   "outputs": [
    {
     "data": {
      "text/html": [
       "<div>\n",
       "<style scoped>\n",
       "    .dataframe tbody tr th:only-of-type {\n",
       "        vertical-align: middle;\n",
       "    }\n",
       "\n",
       "    .dataframe tbody tr th {\n",
       "        vertical-align: top;\n",
       "    }\n",
       "\n",
       "    .dataframe thead th {\n",
       "        text-align: right;\n",
       "    }\n",
       "</style>\n",
       "<table border=\"1\" class=\"dataframe\">\n",
       "  <thead>\n",
       "    <tr style=\"text-align: right;\">\n",
       "      <th></th>\n",
       "      <th>orden_id</th>\n",
       "      <th>order_item_id</th>\n",
       "      <th>producto_id</th>\n",
       "      <th>vendedor_id</th>\n",
       "      <th>fecha_envio_limite</th>\n",
       "      <th>precio</th>\n",
       "      <th>valor_flete</th>\n",
       "      <th>codigo_postal_vendedor</th>\n",
       "      <th>ciudad_vendedor</th>\n",
       "      <th>departamento_vendedor</th>\n",
       "      <th>nombre_categoria_producto</th>\n",
       "      <th>longitud_nombre_producto</th>\n",
       "      <th>longitud_descripcion_producto</th>\n",
       "      <th>cantidad_fotos_producto</th>\n",
       "      <th>peso_g_producto</th>\n",
       "      <th>longitud_cm_producto</th>\n",
       "      <th>altura_cm_producto</th>\n",
       "      <th>ancho_cm_producto</th>\n",
       "    </tr>\n",
       "  </thead>\n",
       "  <tbody>\n",
       "    <tr>\n",
       "      <th>0</th>\n",
       "      <td>88176PT66A</td>\n",
       "      <td>A</td>\n",
       "      <td>PT66</td>\n",
       "      <td>VE3877</td>\n",
       "      <td>19/09/2017 07:24</td>\n",
       "      <td>226.31</td>\n",
       "      <td>2.86</td>\n",
       "      <td>11001</td>\n",
       "      <td>Bogota d.c.</td>\n",
       "      <td>Bogota d.c.</td>\n",
       "      <td>Tarjetas regalo</td>\n",
       "      <td>6</td>\n",
       "      <td>34</td>\n",
       "      <td>18</td>\n",
       "      <td>6291</td>\n",
       "      <td>50</td>\n",
       "      <td>9</td>\n",
       "      <td>12</td>\n",
       "    </tr>\n",
       "    <tr>\n",
       "      <th>1</th>\n",
       "      <td>61602PB76A</td>\n",
       "      <td>A</td>\n",
       "      <td>PB76</td>\n",
       "      <td>VE8568</td>\n",
       "      <td>22/01/2018 11:30</td>\n",
       "      <td>338.38</td>\n",
       "      <td>3.28</td>\n",
       "      <td>27001</td>\n",
       "      <td>Quibdo</td>\n",
       "      <td>Choco</td>\n",
       "      <td>Ropa de adultos</td>\n",
       "      <td>10</td>\n",
       "      <td>39</td>\n",
       "      <td>0</td>\n",
       "      <td>616</td>\n",
       "      <td>26</td>\n",
       "      <td>24</td>\n",
       "      <td>23</td>\n",
       "    </tr>\n",
       "    <tr>\n",
       "      <th>2</th>\n",
       "      <td>106573PJ55A</td>\n",
       "      <td>A</td>\n",
       "      <td>PJ55</td>\n",
       "      <td>VE4333</td>\n",
       "      <td>09/12/2017 15:09</td>\n",
       "      <td>155.29</td>\n",
       "      <td>11.48</td>\n",
       "      <td>70001</td>\n",
       "      <td>Sincelejo</td>\n",
       "      <td>Sucre</td>\n",
       "      <td>Mascotas</td>\n",
       "      <td>25</td>\n",
       "      <td>12</td>\n",
       "      <td>3</td>\n",
       "      <td>2431</td>\n",
       "      <td>51</td>\n",
       "      <td>2</td>\n",
       "      <td>28</td>\n",
       "    </tr>\n",
       "    <tr>\n",
       "      <th>3</th>\n",
       "      <td>15563PO85A</td>\n",
       "      <td>A</td>\n",
       "      <td>PO85</td>\n",
       "      <td>VE7960</td>\n",
       "      <td>04/05/2018 04:15</td>\n",
       "      <td>137.82</td>\n",
       "      <td>25.39</td>\n",
       "      <td>85001</td>\n",
       "      <td>Yopal</td>\n",
       "      <td>Casanare</td>\n",
       "      <td>Productos ecoamigables</td>\n",
       "      <td>33</td>\n",
       "      <td>25</td>\n",
       "      <td>25</td>\n",
       "      <td>2061</td>\n",
       "      <td>19</td>\n",
       "      <td>26</td>\n",
       "      <td>28</td>\n",
       "    </tr>\n",
       "    <tr>\n",
       "      <th>4</th>\n",
       "      <td>11468PG31A</td>\n",
       "      <td>A</td>\n",
       "      <td>PG31</td>\n",
       "      <td>VE1019</td>\n",
       "      <td>17/09/2017 23:24</td>\n",
       "      <td>141.90</td>\n",
       "      <td>22.94</td>\n",
       "      <td>52480</td>\n",
       "      <td>Nariño</td>\n",
       "      <td>Nariño</td>\n",
       "      <td>Salud</td>\n",
       "      <td>34</td>\n",
       "      <td>22</td>\n",
       "      <td>11</td>\n",
       "      <td>2639</td>\n",
       "      <td>39</td>\n",
       "      <td>19</td>\n",
       "      <td>40</td>\n",
       "    </tr>\n",
       "  </tbody>\n",
       "</table>\n",
       "</div>"
      ],
      "text/plain": [
       "      orden_id order_item_id producto_id vendedor_id fecha_envio_limite  \\\n",
       "0   88176PT66A             A        PT66      VE3877   19/09/2017 07:24   \n",
       "1   61602PB76A             A        PB76      VE8568   22/01/2018 11:30   \n",
       "2  106573PJ55A             A        PJ55      VE4333   09/12/2017 15:09   \n",
       "3   15563PO85A             A        PO85      VE7960   04/05/2018 04:15   \n",
       "4   11468PG31A             A        PG31      VE1019   17/09/2017 23:24   \n",
       "\n",
       "   precio  valor_flete  codigo_postal_vendedor ciudad_vendedor  \\\n",
       "0  226.31         2.86                   11001     Bogota d.c.   \n",
       "1  338.38         3.28                   27001          Quibdo   \n",
       "2  155.29        11.48                   70001       Sincelejo   \n",
       "3  137.82        25.39                   85001           Yopal   \n",
       "4  141.90        22.94                   52480          Nariño   \n",
       "\n",
       "  departamento_vendedor nombre_categoria_producto  longitud_nombre_producto  \\\n",
       "0           Bogota d.c.           Tarjetas regalo                         6   \n",
       "1                 Choco           Ropa de adultos                        10   \n",
       "2                 Sucre                  Mascotas                        25   \n",
       "3              Casanare    Productos ecoamigables                        33   \n",
       "4                Nariño                     Salud                        34   \n",
       "\n",
       "   longitud_descripcion_producto  cantidad_fotos_producto  peso_g_producto  \\\n",
       "0                             34                       18             6291   \n",
       "1                             39                        0              616   \n",
       "2                             12                        3             2431   \n",
       "3                             25                       25             2061   \n",
       "4                             22                       11             2639   \n",
       "\n",
       "   longitud_cm_producto  altura_cm_producto  ancho_cm_producto  \n",
       "0                    50                   9                 12  \n",
       "1                    26                  24                 23  \n",
       "2                    51                   2                 28  \n",
       "3                    19                  26                 28  \n",
       "4                    39                  19                 40  "
      ]
     },
     "execution_count": 2,
     "metadata": {},
     "output_type": "execute_result"
    }
   ],
   "source": [
    "# Abrir el archivo desde un csv\n",
    "# Los archivos csv son los más sencillos y comunes en procesos de carga de datos\n",
    "# En la función para leer el archivo, se debe especificar la ruta donde se ubica el archivo y algunos parámetros, como por ejemplo, el separador\n",
    "\n",
    "data_csv=pd.read_csv('ordenes_por_producto.csv', sep=';',encoding='latin-1')\n",
    "data_csv.head(5)"
   ]
  },
  {
   "cell_type": "code",
   "execution_count": 3,
   "metadata": {
    "scrolled": true
   },
   "outputs": [
    {
     "data": {
      "text/plain": [
       "(10000, 18)"
      ]
     },
     "execution_count": 3,
     "metadata": {},
     "output_type": "execute_result"
    }
   ],
   "source": [
    "# Tamaño de la fuente de datos en número de filas y columnas\n",
    "data_csv.shape"
   ]
  },
  {
   "cell_type": "markdown",
   "metadata": {},
   "source": [
    "### 4.1. Tipos de datos de las variables o atributos de las fuentes de datos\n",
    "En los tipos de datos tenemos datos numéricos, cadenas de caracteres, fechas y en general objetos.\n",
    "En este punto vamos a validar el tipo de dato de las columnas asociadas a la fuente de datos que acabamos de leer.\n",
    "Este proceso es impotante ya que puede ser necesario hacer algunas transformaciones para ajustar el tipo de dato de las columnas y, así poder hacer operaciones específicas sobre ellos.\n",
    "En particular en los datos compartidos debemos observar los siguientes tipos de datos:\n",
    "+ string\n",
    "+ object\n",
    "+ int\n",
    "+ float\n",
    "+ datetime\n",
    "\n",
    "\n",
    "Los datos numéricos son un tipo de datos expresados ​​en números, en lugar de una descripción en lenguaje natural. A veces llamados datos cuantitativos, los datos numéricos siempre se recopilan en forma de números. Los datos numéricos se diferencian de otros tipos de datos en forma de números por su capacidad para realizar operaciones aritméticas con estos números. En python se pueden incluir los siguientes tipos: object, int64, float 64, Datetime entre otros.\n",
    "\n",
    "\n"
   ]
  },
  {
   "cell_type": "code",
   "execution_count": 4,
   "metadata": {
    "scrolled": true
   },
   "outputs": [
    {
     "data": {
      "text/plain": [
       "orden_id                          object\n",
       "order_item_id                     object\n",
       "producto_id                       object\n",
       "vendedor_id                       object\n",
       "fecha_envio_limite                object\n",
       "precio                           float64\n",
       "valor_flete                      float64\n",
       "codigo_postal_vendedor             int64\n",
       "ciudad_vendedor                   object\n",
       "departamento_vendedor             object\n",
       "nombre_categoria_producto         object\n",
       "longitud_nombre_producto           int64\n",
       "longitud_descripcion_producto      int64\n",
       "cantidad_fotos_producto            int64\n",
       "peso_g_producto                    int64\n",
       "longitud_cm_producto               int64\n",
       "altura_cm_producto                 int64\n",
       "ancho_cm_producto                  int64\n",
       "dtype: object"
      ]
     },
     "execution_count": 4,
     "metadata": {},
     "output_type": "execute_result"
    }
   ],
   "source": [
    "# En esta línea vamos a ver los tipos de dato que tiene el csv\n",
    "# Fíjate en el campo Fecha_envio_limite que más adelante vamos a revisar.\n",
    "data_csv.dtypes"
   ]
  },
  {
   "cell_type": "markdown",
   "metadata": {},
   "source": [
    "### 4.2. Manipulación del tipo de dato numérico\n",
    "Con este tipo de datos, es posible realizar un par de cálculos entre los cuales vamos a ver los siguientes:\n",
    "\n",
    "+ Estadísticas básicas de una variable.\n",
    "+ Cálculos matemáticos como por ejemplo, el área de los productos."
   ]
  },
  {
   "cell_type": "code",
   "execution_count": 5,
   "metadata": {
    "pycharm": {
     "name": "#%%\n"
    }
   },
   "outputs": [
    {
     "data": {
      "text/plain": [
       "count    10000.000000\n",
       "mean       119.751497\n",
       "std        119.319770\n",
       "min          0.010000\n",
       "25%         34.177500\n",
       "50%         83.055000\n",
       "75%        165.470000\n",
       "max       1262.940000\n",
       "Name: precio, dtype: float64"
      ]
     },
     "execution_count": 5,
     "metadata": {},
     "output_type": "execute_result"
    }
   ],
   "source": [
    "# Estadísticas de una variable numérica\n",
    "data_csv['precio'].describe()"
   ]
  },
  {
   "cell_type": "markdown",
   "metadata": {
    "pycharm": {
     "name": "#%% md\n"
    },
    "scrolled": true
   },
   "source": [
    "Con la función utilizada y como el tipo de datos es numérico (float64) se pueden obtener el mínimo, el máximo, el promedio y la desviación estándar, también información sobre los percentiles 25, 50 y 75."
   ]
  },
  {
   "cell_type": "code",
   "execution_count": 6,
   "metadata": {
    "pycharm": {
     "name": "#%%\n"
    }
   },
   "outputs": [
    {
     "data": {
      "text/plain": [
       "0    108\n",
       "1    552\n",
       "2     56\n",
       "3    728\n",
       "4    760\n",
       "Name: area_cm2_producto, dtype: int64"
      ]
     },
     "execution_count": 6,
     "metadata": {},
     "output_type": "execute_result"
    }
   ],
   "source": [
    "# Cálculo del área del producto\n",
    "# Área= Alto * Ancho\n",
    "data_csv['area_cm2_producto']=data_csv['altura_cm_producto'] * data_csv['ancho_cm_producto']\n",
    "data_csv['area_cm2_producto'][0:5]"
   ]
  },
  {
   "cell_type": "markdown",
   "metadata": {
    "pycharm": {
     "name": "#%% md\n"
    },
    "scrolled": true
   },
   "source": [
    "Para verificar el área del producto en particular vamos a tomar el dato de una sola fila, así podremos ver todos los datos y validar el cálculo realizado."
   ]
  },
  {
   "cell_type": "code",
   "execution_count": 7,
   "metadata": {
    "scrolled": true
   },
   "outputs": [
    {
     "data": {
      "text/html": [
       "<div>\n",
       "<style scoped>\n",
       "    .dataframe tbody tr th:only-of-type {\n",
       "        vertical-align: middle;\n",
       "    }\n",
       "\n",
       "    .dataframe tbody tr th {\n",
       "        vertical-align: top;\n",
       "    }\n",
       "\n",
       "    .dataframe thead th {\n",
       "        text-align: right;\n",
       "    }\n",
       "</style>\n",
       "<table border=\"1\" class=\"dataframe\">\n",
       "  <thead>\n",
       "    <tr style=\"text-align: right;\">\n",
       "      <th></th>\n",
       "      <th>area_cm2_producto</th>\n",
       "      <th>ancho_cm_producto</th>\n",
       "      <th>altura_cm_producto</th>\n",
       "    </tr>\n",
       "  </thead>\n",
       "  <tbody>\n",
       "    <tr>\n",
       "      <th>0</th>\n",
       "      <td>108</td>\n",
       "      <td>12</td>\n",
       "      <td>9</td>\n",
       "    </tr>\n",
       "    <tr>\n",
       "      <th>1</th>\n",
       "      <td>552</td>\n",
       "      <td>23</td>\n",
       "      <td>24</td>\n",
       "    </tr>\n",
       "    <tr>\n",
       "      <th>2</th>\n",
       "      <td>56</td>\n",
       "      <td>28</td>\n",
       "      <td>2</td>\n",
       "    </tr>\n",
       "    <tr>\n",
       "      <th>3</th>\n",
       "      <td>728</td>\n",
       "      <td>28</td>\n",
       "      <td>26</td>\n",
       "    </tr>\n",
       "    <tr>\n",
       "      <th>4</th>\n",
       "      <td>760</td>\n",
       "      <td>40</td>\n",
       "      <td>19</td>\n",
       "    </tr>\n",
       "  </tbody>\n",
       "</table>\n",
       "</div>"
      ],
      "text/plain": [
       "   area_cm2_producto  ancho_cm_producto  altura_cm_producto\n",
       "0                108                 12                   9\n",
       "1                552                 23                  24\n",
       "2                 56                 28                   2\n",
       "3                728                 28                  26\n",
       "4                760                 40                  19"
      ]
     },
     "execution_count": 7,
     "metadata": {},
     "output_type": "execute_result"
    }
   ],
   "source": [
    "# Primero tomamos un subconjuntos de los datos\n",
    "data_area=data_csv[['area_cm2_producto','ancho_cm_producto','altura_cm_producto']]\n",
    "data_area.head(5)"
   ]
  },
  {
   "cell_type": "code",
   "execution_count": 8,
   "metadata": {
    "pycharm": {
     "name": "#%%\n"
    }
   },
   "outputs": [
    {
     "data": {
      "text/html": [
       "<div>\n",
       "<style scoped>\n",
       "    .dataframe tbody tr th:only-of-type {\n",
       "        vertical-align: middle;\n",
       "    }\n",
       "\n",
       "    .dataframe tbody tr th {\n",
       "        vertical-align: top;\n",
       "    }\n",
       "\n",
       "    .dataframe thead th {\n",
       "        text-align: right;\n",
       "    }\n",
       "</style>\n",
       "<table border=\"1\" class=\"dataframe\">\n",
       "  <thead>\n",
       "    <tr style=\"text-align: right;\">\n",
       "      <th></th>\n",
       "      <th>area_cm2_producto</th>\n",
       "      <th>ancho_cm_producto</th>\n",
       "      <th>altura_cm_producto</th>\n",
       "    </tr>\n",
       "  </thead>\n",
       "  <tbody>\n",
       "    <tr>\n",
       "      <th>0</th>\n",
       "      <td>108</td>\n",
       "      <td>12</td>\n",
       "      <td>9</td>\n",
       "    </tr>\n",
       "  </tbody>\n",
       "</table>\n",
       "</div>"
      ],
      "text/plain": [
       "   area_cm2_producto  ancho_cm_producto  altura_cm_producto\n",
       "0                108                 12                   9"
      ]
     },
     "execution_count": 8,
     "metadata": {},
     "output_type": "execute_result"
    }
   ],
   "source": [
    "# Ahora vamos a tomar una fila en particular\n",
    "data_area.loc[0:0]"
   ]
  },
  {
   "cell_type": "markdown",
   "metadata": {},
   "source": [
    "Al selececcionar esa única fila vemos que en efecto el alto y el ancho son respectivamente 9 y 12, y el área es 9*12=108 lo que corrobora la operación realizada. Además vimos cómo seleccionar un subconjunto de datos y una fila en particular."
   ]
  },
  {
   "cell_type": "markdown",
   "metadata": {},
   "source": [
    "### 4.3. Manipulación del tipo dato cadena - string\n",
    "\n",
    "Para continuar con los posibles cálculos sobre columnas de un cierto tipo de datos, vamos a:\n",
    "\n",
    "+ Analizar las principales estadísticas de variables categóricas. Una variable categórica representa características de las variables o atributos, por lo tanto, puede representar cosas como el género, el idioma, etc. de una persona. Los datos categóricos pueden tener un orden, en este caso hablaremos de ordinales o no tenerlo, y los llamaremos nominales. Si bien estas variables pueden\n",
    "también tomar valores numéricos (ejemplo: 1 para mujeres y 0 para hombres), estos valores no representan un dato continuo y no tiene sentido aplicar sobre ellos cálculos matemáticos.\n"
   ]
  },
  {
   "cell_type": "code",
   "execution_count": 9,
   "metadata": {
    "pycharm": {
     "name": "#%%\n"
    }
   },
   "outputs": [
    {
     "data": {
      "text/plain": [
       "Tecnología           532\n",
       "Deportes             528\n",
       "Frutas y verduras    526\n",
       "Carnicería           519\n",
       "Ropa de adultos      513\n",
       "Name: nombre_categoria_producto, dtype: int64"
      ]
     },
     "execution_count": 9,
     "metadata": {},
     "output_type": "execute_result"
    }
   ],
   "source": [
    "# conteos de una variable categórica para identificar anomalías en los datos, o entender categorías con más o menos número de registros.\n",
    "data_csv['nombre_categoria_producto'].value_counts()[0:5]"
   ]
  },
  {
   "cell_type": "code",
   "execution_count": 10,
   "metadata": {
    "scrolled": false
   },
   "outputs": [
    {
     "data": {
      "text/plain": [
       "count          10000\n",
       "unique            20\n",
       "top       Tecnología\n",
       "freq             532\n",
       "Name: nombre_categoria_producto, dtype: object"
      ]
     },
     "execution_count": 10,
     "metadata": {},
     "output_type": "execute_result"
    }
   ],
   "source": [
    "# estadísticas básicas de una variable categórica\n",
    "data_csv['nombre_categoria_producto'].describe()"
   ]
  },
  {
   "cell_type": "markdown",
   "metadata": {
    "pycharm": {
     "name": "#%% md\n"
    },
    "scrolled": true
   },
   "source": [
    "En la tabla anterior, es posible ver: la cantidad de registros, los regístros únicos, la categoría top y la frecuencia de esta. Estos valores son importantes para detectar por ejemplo, datos atípicos o valores que no fueron reportados como válidos en el diccionario de datos.\n"
   ]
  },
  {
   "cell_type": "markdown",
   "metadata": {
    "pycharm": {
     "name": "#%% md\n"
    }
   },
   "source": [
    "### 5. **Excel**\n",
    "\n",
    "Excel es una de las herramientas de datos más populares y utilizadas; es difícil encontrar una organización que no trabaje con ella de alguna manera. Desde analistas hasta vicepresidentes de ventas y directores ejecutivos, varios profesionales usan Excel tanto para estadísticas rápidas como para procesar datos serios.\n",
    "\n",
    "**Pandas** tiene métodos excelentes para leer todo tipo de datos de archivos de Excel. También puede exportar sus resultados de pandas a Excel, si así lo prefiere el público objetivo. \n",
    "\n",
    "Pandas es ideal para otras tareas de análisis de datos de rutina, como:\n",
    "\n",
    "+ Análisis rápido de datos exploratorios.\n",
    "+ Transformación y arreglo de datos.\n",
    "+ Aprendizaje automático.\n",
    "+ Construir modelos.\n",
    "\n",
    "Puedes leer más sobre la librería de Pandas [en este enlace.](https://pandas.pydata.org/pandas-docs/stable/reference/api/pandas.read_excel.html)"
   ]
  },
  {
   "cell_type": "markdown",
   "metadata": {},
   "source": [
    "En las siguientes líneas vamos a cargar dos datos desde un archivo excel, que están en diferentas hojas. En este punto, es necesario utilizar el parámetro *sheet_name* para elegir las hojas de interés, que en este caso se llaman \"Datos\" y \"Datos defectuosos\"."
   ]
  },
  {
   "cell_type": "code",
   "execution_count": 11,
   "metadata": {
    "pycharm": {
     "name": "#%%\n"
    }
   },
   "outputs": [
    {
     "data": {
      "text/html": [
       "<div>\n",
       "<style scoped>\n",
       "    .dataframe tbody tr th:only-of-type {\n",
       "        vertical-align: middle;\n",
       "    }\n",
       "\n",
       "    .dataframe tbody tr th {\n",
       "        vertical-align: top;\n",
       "    }\n",
       "\n",
       "    .dataframe thead th {\n",
       "        text-align: right;\n",
       "    }\n",
       "</style>\n",
       "<table border=\"1\" class=\"dataframe\">\n",
       "  <thead>\n",
       "    <tr style=\"text-align: right;\">\n",
       "      <th></th>\n",
       "      <th>orden_id</th>\n",
       "      <th>order_item_id</th>\n",
       "      <th>producto_id</th>\n",
       "      <th>vendedor_id</th>\n",
       "      <th>fecha_envio_limite</th>\n",
       "      <th>precio</th>\n",
       "      <th>valor_flete</th>\n",
       "      <th>codigo_postal_vendedor</th>\n",
       "      <th>ciudad_vendedor</th>\n",
       "      <th>departamento_vendedor</th>\n",
       "      <th>nombre_categoria_producto</th>\n",
       "      <th>longitud_nombre_producto</th>\n",
       "      <th>longitud_descripcion_producto</th>\n",
       "      <th>cantidad_fotos_producto</th>\n",
       "      <th>peso_g_producto</th>\n",
       "      <th>longitud_cm_producto</th>\n",
       "      <th>altura_cm_producto</th>\n",
       "      <th>ancho_cm_producto</th>\n",
       "    </tr>\n",
       "  </thead>\n",
       "  <tbody>\n",
       "    <tr>\n",
       "      <th>0</th>\n",
       "      <td>88176PT66A</td>\n",
       "      <td>A</td>\n",
       "      <td>PT66</td>\n",
       "      <td>VE3877</td>\n",
       "      <td>2017-09-19 07:24:00</td>\n",
       "      <td>226.31</td>\n",
       "      <td>2.86</td>\n",
       "      <td>11001</td>\n",
       "      <td>Bogota d.c.</td>\n",
       "      <td>Bogota d.c.</td>\n",
       "      <td>Tarjetas regalo</td>\n",
       "      <td>6</td>\n",
       "      <td>34</td>\n",
       "      <td>18</td>\n",
       "      <td>6291</td>\n",
       "      <td>50</td>\n",
       "      <td>9</td>\n",
       "      <td>12</td>\n",
       "    </tr>\n",
       "    <tr>\n",
       "      <th>1</th>\n",
       "      <td>61602PB76A</td>\n",
       "      <td>A</td>\n",
       "      <td>PB76</td>\n",
       "      <td>VE8568</td>\n",
       "      <td>2018-01-22 11:30:00</td>\n",
       "      <td>338.38</td>\n",
       "      <td>3.28</td>\n",
       "      <td>27001</td>\n",
       "      <td>Quibdo</td>\n",
       "      <td>Choco</td>\n",
       "      <td>Ropa de adultos</td>\n",
       "      <td>10</td>\n",
       "      <td>39</td>\n",
       "      <td>0</td>\n",
       "      <td>616</td>\n",
       "      <td>26</td>\n",
       "      <td>24</td>\n",
       "      <td>23</td>\n",
       "    </tr>\n",
       "    <tr>\n",
       "      <th>2</th>\n",
       "      <td>106573PJ55A</td>\n",
       "      <td>A</td>\n",
       "      <td>PJ55</td>\n",
       "      <td>VE4333</td>\n",
       "      <td>2017-09-12 15:09:00</td>\n",
       "      <td>155.29</td>\n",
       "      <td>11.48</td>\n",
       "      <td>70001</td>\n",
       "      <td>Sincelejo</td>\n",
       "      <td>Sucre</td>\n",
       "      <td>Mascotas</td>\n",
       "      <td>25</td>\n",
       "      <td>12</td>\n",
       "      <td>3</td>\n",
       "      <td>2431</td>\n",
       "      <td>51</td>\n",
       "      <td>2</td>\n",
       "      <td>28</td>\n",
       "    </tr>\n",
       "    <tr>\n",
       "      <th>3</th>\n",
       "      <td>15563PO85A</td>\n",
       "      <td>A</td>\n",
       "      <td>PO85</td>\n",
       "      <td>VE7960</td>\n",
       "      <td>2018-04-05 04:15:00</td>\n",
       "      <td>137.82</td>\n",
       "      <td>25.39</td>\n",
       "      <td>85001</td>\n",
       "      <td>Yopal</td>\n",
       "      <td>Casanare</td>\n",
       "      <td>Productos ecoamigables</td>\n",
       "      <td>33</td>\n",
       "      <td>25</td>\n",
       "      <td>25</td>\n",
       "      <td>2061</td>\n",
       "      <td>19</td>\n",
       "      <td>26</td>\n",
       "      <td>28</td>\n",
       "    </tr>\n",
       "    <tr>\n",
       "      <th>4</th>\n",
       "      <td>11468PG31A</td>\n",
       "      <td>A</td>\n",
       "      <td>PG31</td>\n",
       "      <td>VE1019</td>\n",
       "      <td>2017-09-17 23:24:00</td>\n",
       "      <td>141.90</td>\n",
       "      <td>22.94</td>\n",
       "      <td>52480</td>\n",
       "      <td>Nariño</td>\n",
       "      <td>Nariño</td>\n",
       "      <td>Salud</td>\n",
       "      <td>34</td>\n",
       "      <td>22</td>\n",
       "      <td>11</td>\n",
       "      <td>2639</td>\n",
       "      <td>39</td>\n",
       "      <td>19</td>\n",
       "      <td>40</td>\n",
       "    </tr>\n",
       "  </tbody>\n",
       "</table>\n",
       "</div>"
      ],
      "text/plain": [
       "      orden_id order_item_id producto_id vendedor_id  fecha_envio_limite  \\\n",
       "0   88176PT66A             A        PT66      VE3877 2017-09-19 07:24:00   \n",
       "1   61602PB76A             A        PB76      VE8568 2018-01-22 11:30:00   \n",
       "2  106573PJ55A             A        PJ55      VE4333 2017-09-12 15:09:00   \n",
       "3   15563PO85A             A        PO85      VE7960 2018-04-05 04:15:00   \n",
       "4   11468PG31A             A        PG31      VE1019 2017-09-17 23:24:00   \n",
       "\n",
       "   precio  valor_flete  codigo_postal_vendedor ciudad_vendedor  \\\n",
       "0  226.31         2.86                   11001     Bogota d.c.   \n",
       "1  338.38         3.28                   27001          Quibdo   \n",
       "2  155.29        11.48                   70001       Sincelejo   \n",
       "3  137.82        25.39                   85001           Yopal   \n",
       "4  141.90        22.94                   52480          Nariño   \n",
       "\n",
       "  departamento_vendedor nombre_categoria_producto  longitud_nombre_producto  \\\n",
       "0           Bogota d.c.           Tarjetas regalo                         6   \n",
       "1                 Choco           Ropa de adultos                        10   \n",
       "2                 Sucre                  Mascotas                        25   \n",
       "3              Casanare    Productos ecoamigables                        33   \n",
       "4                Nariño                     Salud                        34   \n",
       "\n",
       "   longitud_descripcion_producto  cantidad_fotos_producto  peso_g_producto  \\\n",
       "0                             34                       18             6291   \n",
       "1                             39                        0              616   \n",
       "2                             12                        3             2431   \n",
       "3                             25                       25             2061   \n",
       "4                             22                       11             2639   \n",
       "\n",
       "   longitud_cm_producto  altura_cm_producto  ancho_cm_producto  \n",
       "0                    50                   9                 12  \n",
       "1                    26                  24                 23  \n",
       "2                    51                   2                 28  \n",
       "3                    19                  26                 28  \n",
       "4                    39                  19                 40  "
      ]
     },
     "execution_count": 11,
     "metadata": {},
     "output_type": "execute_result"
    }
   ],
   "source": [
    "# Abrir el archivo desde un excel utilizando la hoja Datos\n",
    "data_excel=pd.read_excel('ordenes_por_producto.xlsx', sheet_name='Datos')\n",
    "data_excel.head(5)"
   ]
  },
  {
   "cell_type": "code",
   "execution_count": 12,
   "metadata": {
    "scrolled": true
   },
   "outputs": [
    {
     "data": {
      "text/html": [
       "<div>\n",
       "<style scoped>\n",
       "    .dataframe tbody tr th:only-of-type {\n",
       "        vertical-align: middle;\n",
       "    }\n",
       "\n",
       "    .dataframe tbody tr th {\n",
       "        vertical-align: top;\n",
       "    }\n",
       "\n",
       "    .dataframe thead th {\n",
       "        text-align: right;\n",
       "    }\n",
       "</style>\n",
       "<table border=\"1\" class=\"dataframe\">\n",
       "  <thead>\n",
       "    <tr style=\"text-align: right;\">\n",
       "      <th></th>\n",
       "      <th>Unnamed: 0</th>\n",
       "      <th>order_item_id</th>\n",
       "      <th>vendedor_id</th>\n",
       "      <th>fecha_envio_limite</th>\n",
       "      <th>precio</th>\n",
       "      <th>valor_flete</th>\n",
       "      <th>codigo_postal_vendedor</th>\n",
       "      <th>ciudad_vendedor</th>\n",
       "      <th>departamento_vendedor</th>\n",
       "      <th>nombre_categoria_producto</th>\n",
       "      <th>0</th>\n",
       "      <th>1</th>\n",
       "      <th>2</th>\n",
       "      <th>3</th>\n",
       "      <th>4</th>\n",
       "      <th>altura_cm_producto</th>\n",
       "      <th>ancho_cm_producto</th>\n",
       "    </tr>\n",
       "  </thead>\n",
       "  <tbody>\n",
       "    <tr>\n",
       "      <th>0</th>\n",
       "      <td>0</td>\n",
       "      <td>A</td>\n",
       "      <td>VE3877</td>\n",
       "      <td>2017-09-19 07:24:00</td>\n",
       "      <td>226.31</td>\n",
       "      <td>2.86</td>\n",
       "      <td>11001</td>\n",
       "      <td>Bogota d.c.</td>\n",
       "      <td>Bogota d.c.</td>\n",
       "      <td>Tarjetas regalo</td>\n",
       "      <td>6</td>\n",
       "      <td>34</td>\n",
       "      <td>18</td>\n",
       "      <td>6291</td>\n",
       "      <td>50</td>\n",
       "      <td>9</td>\n",
       "      <td>12</td>\n",
       "    </tr>\n",
       "    <tr>\n",
       "      <th>1</th>\n",
       "      <td>1</td>\n",
       "      <td>A</td>\n",
       "      <td>VE8568</td>\n",
       "      <td>2018-01-22 11:30:00</td>\n",
       "      <td>338.38</td>\n",
       "      <td>3.28</td>\n",
       "      <td>27001</td>\n",
       "      <td>Quibdo</td>\n",
       "      <td>Choco</td>\n",
       "      <td>Ropa de adultos</td>\n",
       "      <td>10</td>\n",
       "      <td>39</td>\n",
       "      <td>0</td>\n",
       "      <td>616</td>\n",
       "      <td>26</td>\n",
       "      <td>24</td>\n",
       "      <td>23</td>\n",
       "    </tr>\n",
       "    <tr>\n",
       "      <th>2</th>\n",
       "      <td>2</td>\n",
       "      <td>A</td>\n",
       "      <td>VE4333</td>\n",
       "      <td>2017-09-12 15:09:00</td>\n",
       "      <td>155.29</td>\n",
       "      <td>11.48</td>\n",
       "      <td>70001</td>\n",
       "      <td>Sincelejo</td>\n",
       "      <td>Sucre</td>\n",
       "      <td>Mascotas</td>\n",
       "      <td>25</td>\n",
       "      <td>12</td>\n",
       "      <td>3</td>\n",
       "      <td>2431</td>\n",
       "      <td>51</td>\n",
       "      <td>2</td>\n",
       "      <td>28</td>\n",
       "    </tr>\n",
       "    <tr>\n",
       "      <th>3</th>\n",
       "      <td>3</td>\n",
       "      <td>A</td>\n",
       "      <td>VE7960</td>\n",
       "      <td>2018-04-05 04:15:00</td>\n",
       "      <td>137.82</td>\n",
       "      <td>25.39</td>\n",
       "      <td>85001</td>\n",
       "      <td>Yopal</td>\n",
       "      <td>Casanare</td>\n",
       "      <td>Productos ecoamigables</td>\n",
       "      <td>33</td>\n",
       "      <td>25</td>\n",
       "      <td>25</td>\n",
       "      <td>2061</td>\n",
       "      <td>19</td>\n",
       "      <td>26</td>\n",
       "      <td>28</td>\n",
       "    </tr>\n",
       "    <tr>\n",
       "      <th>4</th>\n",
       "      <td>4</td>\n",
       "      <td>A</td>\n",
       "      <td>VE1019</td>\n",
       "      <td>2017-09-17 23:24:00</td>\n",
       "      <td>141.90</td>\n",
       "      <td>22.94</td>\n",
       "      <td>52480</td>\n",
       "      <td>Nariño</td>\n",
       "      <td>Nariño</td>\n",
       "      <td>Salud</td>\n",
       "      <td>34</td>\n",
       "      <td>22</td>\n",
       "      <td>11</td>\n",
       "      <td>2639</td>\n",
       "      <td>39</td>\n",
       "      <td>19</td>\n",
       "      <td>40</td>\n",
       "    </tr>\n",
       "  </tbody>\n",
       "</table>\n",
       "</div>"
      ],
      "text/plain": [
       "   Unnamed: 0 order_item_id vendedor_id  fecha_envio_limite  precio  \\\n",
       "0           0             A      VE3877 2017-09-19 07:24:00  226.31   \n",
       "1           1             A      VE8568 2018-01-22 11:30:00  338.38   \n",
       "2           2             A      VE4333 2017-09-12 15:09:00  155.29   \n",
       "3           3             A      VE7960 2018-04-05 04:15:00  137.82   \n",
       "4           4             A      VE1019 2017-09-17 23:24:00  141.90   \n",
       "\n",
       "   valor_flete  codigo_postal_vendedor ciudad_vendedor departamento_vendedor  \\\n",
       "0         2.86                   11001     Bogota d.c.           Bogota d.c.   \n",
       "1         3.28                   27001          Quibdo                 Choco   \n",
       "2        11.48                   70001       Sincelejo                 Sucre   \n",
       "3        25.39                   85001           Yopal              Casanare   \n",
       "4        22.94                   52480          Nariño                Nariño   \n",
       "\n",
       "  nombre_categoria_producto   0   1   2     3   4  altura_cm_producto  \\\n",
       "0           Tarjetas regalo   6  34  18  6291  50                   9   \n",
       "1           Ropa de adultos  10  39   0   616  26                  24   \n",
       "2                  Mascotas  25  12   3  2431  51                   2   \n",
       "3    Productos ecoamigables  33  25  25  2061  19                  26   \n",
       "4                     Salud  34  22  11  2639  39                  19   \n",
       "\n",
       "   ancho_cm_producto  \n",
       "0                 12  \n",
       "1                 23  \n",
       "2                 28  \n",
       "3                 28  \n",
       "4                 40  "
      ]
     },
     "execution_count": 12,
     "metadata": {},
     "output_type": "execute_result"
    }
   ],
   "source": [
    "# Abrir el archivo desde un excel utilizando la hoja Datos defectuosos\n",
    "data_excel_def=pd.read_excel('ordenes_por_producto.xlsx', sheet_name='Datos Defectuosos')\n",
    "data_excel_def.head(5)"
   ]
  },
  {
   "cell_type": "code",
   "execution_count": 13,
   "metadata": {},
   "outputs": [
    {
     "name": "stdout",
     "output_type": "stream",
     "text": [
      "(10000, 18)\n",
      "(10000, 17)\n"
     ]
    }
   ],
   "source": [
    "# ver el tamaño de las dos fuentes cargadas\n",
    "print(data_excel.shape)\n",
    "print(data_excel_def.shape)"
   ]
  },
  {
   "cell_type": "markdown",
   "metadata": {},
   "source": [
    "### 5.1. Tipos de fuentes de datos\n",
    "\n",
    "Los datos cargados desde excel mantienen su tipo de dato por las características que tiene esta hoja de cálculo."
   ]
  },
  {
   "cell_type": "code",
   "execution_count": 14,
   "metadata": {
    "pycharm": {
     "name": "#%%\n"
    },
    "scrolled": true
   },
   "outputs": [
    {
     "name": "stdout",
     "output_type": "stream",
     "text": [
      "Tipos de datos de hoja 'Datos':\n",
      "\n",
      "orden_id                                 object\n",
      "order_item_id                            object\n",
      "producto_id                              object\n",
      "vendedor_id                              object\n",
      "fecha_envio_limite               datetime64[ns]\n",
      "precio                                  float64\n",
      "valor_flete                             float64\n",
      "codigo_postal_vendedor                    int64\n",
      "ciudad_vendedor                          object\n",
      "departamento_vendedor                    object\n",
      "nombre_categoria_producto                object\n",
      "longitud_nombre_producto                  int64\n",
      "longitud_descripcion_producto             int64\n",
      "cantidad_fotos_producto                   int64\n",
      "peso_g_producto                           int64\n",
      "longitud_cm_producto                      int64\n",
      "altura_cm_producto                        int64\n",
      "ancho_cm_producto                         int64\n",
      "dtype: object\n",
      "\n",
      "Tipos de datos de hoja 'Datos Defectuosos':\n",
      "\n",
      "Unnamed: 0                            int64\n",
      "order_item_id                        object\n",
      "vendedor_id                          object\n",
      "fecha_envio_limite           datetime64[ns]\n",
      "precio                              float64\n",
      "valor_flete                         float64\n",
      "codigo_postal_vendedor                int64\n",
      "ciudad_vendedor                      object\n",
      "departamento_vendedor                object\n",
      "nombre_categoria_producto            object\n",
      "0                                     int64\n",
      "1                                     int64\n",
      "2                                     int64\n",
      "3                                     int64\n",
      "4                                     int64\n",
      "altura_cm_producto                    int64\n",
      "ancho_cm_producto                     int64\n",
      "dtype: object\n"
     ]
    }
   ],
   "source": [
    "# ver las columnas y tipos de datos de las dos fuentes cargadas\n",
    "print(\"Tipos de datos de hoja 'Datos':\\n\")\n",
    "print(data_excel.dtypes)\n",
    "print(\"\\nTipos de datos de hoja 'Datos Defectuosos':\\n\")\n",
    "print(data_excel_def.dtypes)"
   ]
  },
  {
   "cell_type": "markdown",
   "metadata": {},
   "source": [
    "Como vemos, simplemente revisando las columnas podemos comparar las hojas cargadas, y ver que los nombres de las columnas no están totalmente definidos en la hoja \"Datos defectuosos\".\n",
    "Además, la segunda fuente es una subconjunto de la primera. El análisis básico sobre las columnas cargadas de una fuente de datos, permite tener una guía rápida de las características de las fuentes y en casos puntuales, de las diferencias entre fuentes similares."
   ]
  },
  {
   "cell_type": "markdown",
   "metadata": {},
   "source": [
    "### 5.2. Manipulación del tipo dato fecha\n",
    "\n",
    "Para continuar con los posibles cálculos sobre columnas de un cierto tipo de datos, vamos a obtener el año de alguna fecha."
   ]
  },
  {
   "cell_type": "code",
   "execution_count": 15,
   "metadata": {
    "scrolled": true
   },
   "outputs": [
    {
     "data": {
      "text/plain": [
       "0   2017-09-19 07:24:00\n",
       "1   2018-01-22 11:30:00\n",
       "2   2017-09-12 15:09:00\n",
       "3   2018-04-05 04:15:00\n",
       "4   2017-09-17 23:24:00\n",
       "Name: fecha_envio_limite, dtype: datetime64[ns]"
      ]
     },
     "execution_count": 15,
     "metadata": {},
     "output_type": "execute_result"
    }
   ],
   "source": [
    "# Obtener año de alguna fecha, para esto es necesario ver que en los datos cargados se tenga el tipo de dato correcto. Si no es así, debes hacer la conversión al tipo de dato requerido.\n",
    "data_excel['fecha_envio_limite'][0:5]"
   ]
  },
  {
   "cell_type": "code",
   "execution_count": 16,
   "metadata": {
    "scrolled": true
   },
   "outputs": [
    {
     "data": {
      "text/plain": [
       "0    2017\n",
       "1    2018\n",
       "2    2017\n",
       "3    2018\n",
       "4    2017\n",
       "Name: año_envio, dtype: int64"
      ]
     },
     "execution_count": 16,
     "metadata": {},
     "output_type": "execute_result"
    }
   ],
   "source": [
    "# En el único archivo que tiene los datos correctos es la que se carga desde el excel\n",
    "# Por lo tanto se puede realizar el cálculo del año\n",
    "data_excel['año_envio']=data_excel['fecha_envio_limite'].dt.year\n",
    "data_excel['año_envio'].head(5)"
   ]
  },
  {
   "cell_type": "code",
   "execution_count": 17,
   "metadata": {
    "scrolled": true
   },
   "outputs": [
    {
     "data": {
      "text/plain": [
       "count    10000.000000\n",
       "mean      2017.504400\n",
       "std          0.500006\n",
       "min       2017.000000\n",
       "25%       2017.000000\n",
       "50%       2018.000000\n",
       "75%       2018.000000\n",
       "max       2018.000000\n",
       "Name: año_envio, dtype: float64"
      ]
     },
     "execution_count": 17,
     "metadata": {},
     "output_type": "execute_result"
    }
   ],
   "source": [
    "# Cálcular estadísticas para concer la distribución de los datos\n",
    "data_excel['año_envio'].describe()"
   ]
  },
  {
   "cell_type": "markdown",
   "metadata": {},
   "source": [
    "Vemos que con el tipo de dato fecha es posible extraer el año y otros cálculos mas que se pueden consultar [en este enlace.](https://pandas.pydata.org/pandas-docs/stable/reference/api/pandas.Series.dt.html) Esto nos sirve por ejemplo, para ver entre qué fechas se han realizado los envíos, que para este caso particular, se realizaron\n",
    "entre los años 2017 y 2018, lo que podemos observar en la estadística de valor mínimo y máximo. En este punto es importante resaltar que a pesar de tener un valor promedio para los años, este valor no tiene mucho sentido."
   ]
  },
  {
   "cell_type": "markdown",
   "metadata": {},
   "source": [
    "### 6. **JSON**\n",
    "\n",
    "Los archivos JSON cuyo nombre viene de JavaScript Object Notation, es un archivo de texto que se utiliza típicamente para el intercambio de datos.\n",
    "\n"
   ]
  },
  {
   "cell_type": "markdown",
   "metadata": {},
   "source": [
    "Para poder entender un archivo JSON primero exploraremos los diccionarios. Estos son los objetos que se exportan a JSON para poder almacenar los datos y hacer las operaciones necesarias con estos.\n",
    "En las siguientes líneas vamos a explorar las funciones básicas de un **diccionario** para entender su estructura."
   ]
  },
  {
   "cell_type": "code",
   "execution_count": 18,
   "metadata": {
    "scrolled": true
   },
   "outputs": [
    {
     "data": {
      "text/plain": [
       "{'orden': '8rghmflep334ll-hl',\n",
       " 'precio': 220,\n",
       " 'productos': ['Lavadora hkl45', 'Computador 89ls', 'Televisor 32jh']}"
      ]
     },
     "execution_count": 18,
     "metadata": {},
     "output_type": "execute_result"
    }
   ],
   "source": [
    "#Estructura de un diccionario\n",
    "# el diccionario se compone de llaves y valores\n",
    "# estos están separados por comas para cada llave-valor\n",
    "diccionario = {'orden' : '8rghmflep334ll-hl', \n",
    "               'precio' : 220, \n",
    "               'productos': ['Lavadora hkl45','Computador 89ls','Televisor 32jh'] }\n",
    "diccionario"
   ]
  },
  {
   "cell_type": "code",
   "execution_count": 19,
   "metadata": {},
   "outputs": [
    {
     "data": {
      "text/plain": [
       "dict_keys(['orden', 'precio', 'productos'])"
      ]
     },
     "execution_count": 19,
     "metadata": {},
     "output_type": "execute_result"
    }
   ],
   "source": [
    "#También se pueden ver las llaves a través de la siguiente función\n",
    "diccionario.keys()"
   ]
  },
  {
   "cell_type": "code",
   "execution_count": 20,
   "metadata": {
    "scrolled": true
   },
   "outputs": [
    {
     "data": {
      "text/plain": [
       "dict_items([('orden', '8rghmflep334ll-hl'), ('precio', 220), ('productos', ['Lavadora hkl45', 'Computador 89ls', 'Televisor 32jh'])])"
      ]
     },
     "execution_count": 20,
     "metadata": {},
     "output_type": "execute_result"
    }
   ],
   "source": [
    "# Y las llave-valor con la siguiente función\n",
    "diccionario.items()"
   ]
  },
  {
   "cell_type": "code",
   "execution_count": 21,
   "metadata": {},
   "outputs": [
    {
     "data": {
      "text/plain": [
       "'8rghmflep334ll-hl'"
      ]
     },
     "execution_count": 21,
     "metadata": {},
     "output_type": "execute_result"
    }
   ],
   "source": [
    "# Se puede consultar con la llave el valor que toma\n",
    "diccionario['orden']"
   ]
  },
  {
   "cell_type": "markdown",
   "metadata": {},
   "source": [
    "Así, una tabla que se convierte en un diccionario tiene las llaves (que son las columnas) y los índices (que son el número de fila). En el siguiente ejemplo, vamos a ver la relación entre este objeto diccionario y un archivo JSON."
   ]
  },
  {
   "cell_type": "code",
   "execution_count": 22,
   "metadata": {
    "scrolled": true
   },
   "outputs": [
    {
     "data": {
      "text/plain": [
       "{'orden_id': {'8657': '88176PT66A',\n",
       "  '5070': '61602PB76A',\n",
       "  '2412': '106573PJ55A',\n",
       "  '5147': '15563PO85A',\n",
       "  '4667': '11468PG31A'},\n",
       " 'order_item_id': {'8657': 'A',\n",
       "  '5070': 'A',\n",
       "  '2412': 'A',\n",
       "  '5147': 'A',\n",
       "  '4667': 'A'},\n",
       " 'producto_id': {'8657': 'PT66',\n",
       "  '5070': 'PB76',\n",
       "  '2412': 'PJ55',\n",
       "  '5147': 'PO85',\n",
       "  '4667': 'PG31'},\n",
       " 'vendedor_id': {'8657': 'VE3877',\n",
       "  '5070': 'VE8568',\n",
       "  '2412': 'VE4333',\n",
       "  '5147': 'VE7960',\n",
       "  '4667': 'VE1019'},\n",
       " 'fecha_envio_limite': {'8657': '19/09/2017 07:24',\n",
       "  '5070': '22/01/2018 11:30',\n",
       "  '2412': '09/12/2017 15:09',\n",
       "  '5147': '04/05/2018 04:15',\n",
       "  '4667': '17/09/2017 23:24'},\n",
       " 'precio': {'8657': 226.31,\n",
       "  '5070': 338.38,\n",
       "  '2412': 155.29,\n",
       "  '5147': 137.82,\n",
       "  '4667': 141.9},\n",
       " 'valor_flete': {'8657': 2.86,\n",
       "  '5070': 3.28,\n",
       "  '2412': 11.48,\n",
       "  '5147': 25.39,\n",
       "  '4667': 22.94},\n",
       " 'codigo_postal_vendedor': {'8657': 11001,\n",
       "  '5070': 27001,\n",
       "  '2412': 70001,\n",
       "  '5147': 85001,\n",
       "  '4667': 52480},\n",
       " 'ciudad_vendedor': {'8657': 'Bogota d.c.',\n",
       "  '5070': 'Quibdo',\n",
       "  '2412': 'Sincelejo',\n",
       "  '5147': 'Yopal',\n",
       "  '4667': 'Nariño'},\n",
       " 'departamento_vendedor': {'8657': 'Bogota d.c.',\n",
       "  '5070': 'Choco',\n",
       "  '2412': 'Sucre',\n",
       "  '5147': 'Casanare',\n",
       "  '4667': 'Nariño'},\n",
       " 'nombre_categoria_producto': {'8657': 'Tarjetas regalo',\n",
       "  '5070': 'Ropa de adultos',\n",
       "  '2412': 'Mascotas',\n",
       "  '5147': 'Productos ecoamigables',\n",
       "  '4667': 'Salud'},\n",
       " 'longitud_nombre_producto': {'8657': 6,\n",
       "  '5070': 10,\n",
       "  '2412': 25,\n",
       "  '5147': 33,\n",
       "  '4667': 34},\n",
       " 'longitud_descripcion_producto': {'8657': 34,\n",
       "  '5070': 39,\n",
       "  '2412': 12,\n",
       "  '5147': 25,\n",
       "  '4667': 22},\n",
       " 'cantidad_fotos_producto': {'8657': 18,\n",
       "  '5070': 0,\n",
       "  '2412': 3,\n",
       "  '5147': 25,\n",
       "  '4667': 11},\n",
       " 'peso_g_producto': {'8657': 6291,\n",
       "  '5070': 616,\n",
       "  '2412': 2431,\n",
       "  '5147': 2061,\n",
       "  '4667': 2639},\n",
       " 'longitud_cm_producto': {'8657': 50,\n",
       "  '5070': 26,\n",
       "  '2412': 51,\n",
       "  '5147': 19,\n",
       "  '4667': 39},\n",
       " 'altura_cm_producto': {'8657': 9,\n",
       "  '5070': 24,\n",
       "  '2412': 2,\n",
       "  '5147': 26,\n",
       "  '4667': 19},\n",
       " 'ancho_cm_producto': {'8657': 12,\n",
       "  '5070': 23,\n",
       "  '2412': 28,\n",
       "  '5147': 28,\n",
       "  '4667': 40}}"
      ]
     },
     "execution_count": 22,
     "metadata": {},
     "output_type": "execute_result"
    }
   ],
   "source": [
    "# Utilizando la librería Json, previamente importada, abrir el archivo \"json\"\n",
    "f = open('ordenes_por_producto.json',)  \n",
    "# tomar el json como un diccionario\n",
    "data_json = json.load(f)\n",
    "# ver el diccionario \n",
    "# vamos a ver una parte del diccionario, para la comprensión creamos un diccionario más pequeño\n",
    "ver_data_json={}\n",
    "for i in data_json.keys(): #recorremos las llaves del diccionario\n",
    "    ver_data_json[i]=dict(list(data_json[i].items())[0:5]) # Se asigna los primeros 5 valores a cada llave\n",
    "\n",
    "ver_data_json"
   ]
  },
  {
   "cell_type": "code",
   "execution_count": 23,
   "metadata": {},
   "outputs": [
    {
     "data": {
      "text/plain": [
       "dict_keys(['orden_id', 'order_item_id', 'producto_id', 'vendedor_id', 'fecha_envio_limite', 'precio', 'valor_flete', 'codigo_postal_vendedor', 'ciudad_vendedor', 'departamento_vendedor', 'nombre_categoria_producto', 'longitud_nombre_producto', 'longitud_descripcion_producto', 'cantidad_fotos_producto', 'peso_g_producto', 'longitud_cm_producto', 'altura_cm_producto', 'ancho_cm_producto'])"
      ]
     },
     "execution_count": 23,
     "metadata": {},
     "output_type": "execute_result"
    }
   ],
   "source": [
    "# Vamos a revisar las columnas que se cargan de la fuente de datos tipo Json\n",
    "data_json.keys()"
   ]
  },
  {
   "cell_type": "code",
   "execution_count": 24,
   "metadata": {
    "scrolled": true
   },
   "outputs": [
    {
     "data": {
      "text/plain": [
       "{'8657': '88176PT66A',\n",
       " '5070': '61602PB76A',\n",
       " '2412': '106573PJ55A',\n",
       " '5147': '15563PO85A',\n",
       " '4667': '11468PG31A'}"
      ]
     },
     "execution_count": 24,
     "metadata": {},
     "output_type": "execute_result"
    }
   ],
   "source": [
    "# vamos a revisar la columna order_id\n",
    "dict(list(data_json['orden_id'].items())[0:5])"
   ]
  },
  {
   "cell_type": "code",
   "execution_count": 25,
   "metadata": {},
   "outputs": [
    {
     "data": {
      "text/plain": [
       "'88176PT66A'"
      ]
     },
     "execution_count": 25,
     "metadata": {},
     "output_type": "execute_result"
    }
   ],
   "source": [
    "# en particular vamos a revisar la fila 8657\n",
    "data_json['orden_id']['8657']"
   ]
  },
  {
   "cell_type": "code",
   "execution_count": 26,
   "metadata": {
    "scrolled": true
   },
   "outputs": [
    {
     "data": {
      "text/html": [
       "<div>\n",
       "<style scoped>\n",
       "    .dataframe tbody tr th:only-of-type {\n",
       "        vertical-align: middle;\n",
       "    }\n",
       "\n",
       "    .dataframe tbody tr th {\n",
       "        vertical-align: top;\n",
       "    }\n",
       "\n",
       "    .dataframe thead th {\n",
       "        text-align: right;\n",
       "    }\n",
       "</style>\n",
       "<table border=\"1\" class=\"dataframe\">\n",
       "  <thead>\n",
       "    <tr style=\"text-align: right;\">\n",
       "      <th></th>\n",
       "      <th>orden_id</th>\n",
       "      <th>order_item_id</th>\n",
       "      <th>producto_id</th>\n",
       "      <th>vendedor_id</th>\n",
       "      <th>fecha_envio_limite</th>\n",
       "      <th>precio</th>\n",
       "      <th>valor_flete</th>\n",
       "      <th>codigo_postal_vendedor</th>\n",
       "      <th>ciudad_vendedor</th>\n",
       "      <th>departamento_vendedor</th>\n",
       "      <th>nombre_categoria_producto</th>\n",
       "      <th>longitud_nombre_producto</th>\n",
       "      <th>longitud_descripcion_producto</th>\n",
       "      <th>cantidad_fotos_producto</th>\n",
       "      <th>peso_g_producto</th>\n",
       "      <th>longitud_cm_producto</th>\n",
       "      <th>altura_cm_producto</th>\n",
       "      <th>ancho_cm_producto</th>\n",
       "    </tr>\n",
       "  </thead>\n",
       "  <tbody>\n",
       "    <tr>\n",
       "      <th>8657</th>\n",
       "      <td>88176PT66A</td>\n",
       "      <td>A</td>\n",
       "      <td>PT66</td>\n",
       "      <td>VE3877</td>\n",
       "      <td>19/09/2017 07:24</td>\n",
       "      <td>226.31</td>\n",
       "      <td>2.86</td>\n",
       "      <td>11001</td>\n",
       "      <td>Bogota d.c.</td>\n",
       "      <td>Bogota d.c.</td>\n",
       "      <td>Tarjetas regalo</td>\n",
       "      <td>6</td>\n",
       "      <td>34</td>\n",
       "      <td>18</td>\n",
       "      <td>6291</td>\n",
       "      <td>50</td>\n",
       "      <td>9</td>\n",
       "      <td>12</td>\n",
       "    </tr>\n",
       "    <tr>\n",
       "      <th>5070</th>\n",
       "      <td>61602PB76A</td>\n",
       "      <td>A</td>\n",
       "      <td>PB76</td>\n",
       "      <td>VE8568</td>\n",
       "      <td>22/01/2018 11:30</td>\n",
       "      <td>338.38</td>\n",
       "      <td>3.28</td>\n",
       "      <td>27001</td>\n",
       "      <td>Quibdo</td>\n",
       "      <td>Choco</td>\n",
       "      <td>Ropa de adultos</td>\n",
       "      <td>10</td>\n",
       "      <td>39</td>\n",
       "      <td>0</td>\n",
       "      <td>616</td>\n",
       "      <td>26</td>\n",
       "      <td>24</td>\n",
       "      <td>23</td>\n",
       "    </tr>\n",
       "    <tr>\n",
       "      <th>2412</th>\n",
       "      <td>106573PJ55A</td>\n",
       "      <td>A</td>\n",
       "      <td>PJ55</td>\n",
       "      <td>VE4333</td>\n",
       "      <td>09/12/2017 15:09</td>\n",
       "      <td>155.29</td>\n",
       "      <td>11.48</td>\n",
       "      <td>70001</td>\n",
       "      <td>Sincelejo</td>\n",
       "      <td>Sucre</td>\n",
       "      <td>Mascotas</td>\n",
       "      <td>25</td>\n",
       "      <td>12</td>\n",
       "      <td>3</td>\n",
       "      <td>2431</td>\n",
       "      <td>51</td>\n",
       "      <td>2</td>\n",
       "      <td>28</td>\n",
       "    </tr>\n",
       "    <tr>\n",
       "      <th>5147</th>\n",
       "      <td>15563PO85A</td>\n",
       "      <td>A</td>\n",
       "      <td>PO85</td>\n",
       "      <td>VE7960</td>\n",
       "      <td>04/05/2018 04:15</td>\n",
       "      <td>137.82</td>\n",
       "      <td>25.39</td>\n",
       "      <td>85001</td>\n",
       "      <td>Yopal</td>\n",
       "      <td>Casanare</td>\n",
       "      <td>Productos ecoamigables</td>\n",
       "      <td>33</td>\n",
       "      <td>25</td>\n",
       "      <td>25</td>\n",
       "      <td>2061</td>\n",
       "      <td>19</td>\n",
       "      <td>26</td>\n",
       "      <td>28</td>\n",
       "    </tr>\n",
       "    <tr>\n",
       "      <th>4667</th>\n",
       "      <td>11468PG31A</td>\n",
       "      <td>A</td>\n",
       "      <td>PG31</td>\n",
       "      <td>VE1019</td>\n",
       "      <td>17/09/2017 23:24</td>\n",
       "      <td>141.90</td>\n",
       "      <td>22.94</td>\n",
       "      <td>52480</td>\n",
       "      <td>Nariño</td>\n",
       "      <td>Nariño</td>\n",
       "      <td>Salud</td>\n",
       "      <td>34</td>\n",
       "      <td>22</td>\n",
       "      <td>11</td>\n",
       "      <td>2639</td>\n",
       "      <td>39</td>\n",
       "      <td>19</td>\n",
       "      <td>40</td>\n",
       "    </tr>\n",
       "  </tbody>\n",
       "</table>\n",
       "</div>"
      ],
      "text/plain": [
       "         orden_id order_item_id producto_id vendedor_id fecha_envio_limite  \\\n",
       "8657   88176PT66A             A        PT66      VE3877   19/09/2017 07:24   \n",
       "5070   61602PB76A             A        PB76      VE8568   22/01/2018 11:30   \n",
       "2412  106573PJ55A             A        PJ55      VE4333   09/12/2017 15:09   \n",
       "5147   15563PO85A             A        PO85      VE7960   04/05/2018 04:15   \n",
       "4667   11468PG31A             A        PG31      VE1019   17/09/2017 23:24   \n",
       "\n",
       "      precio  valor_flete  codigo_postal_vendedor ciudad_vendedor  \\\n",
       "8657  226.31         2.86                   11001     Bogota d.c.   \n",
       "5070  338.38         3.28                   27001          Quibdo   \n",
       "2412  155.29        11.48                   70001       Sincelejo   \n",
       "5147  137.82        25.39                   85001           Yopal   \n",
       "4667  141.90        22.94                   52480          Nariño   \n",
       "\n",
       "     departamento_vendedor nombre_categoria_producto  \\\n",
       "8657           Bogota d.c.           Tarjetas regalo   \n",
       "5070                 Choco           Ropa de adultos   \n",
       "2412                 Sucre                  Mascotas   \n",
       "5147              Casanare    Productos ecoamigables   \n",
       "4667                Nariño                     Salud   \n",
       "\n",
       "      longitud_nombre_producto  longitud_descripcion_producto  \\\n",
       "8657                         6                             34   \n",
       "5070                        10                             39   \n",
       "2412                        25                             12   \n",
       "5147                        33                             25   \n",
       "4667                        34                             22   \n",
       "\n",
       "      cantidad_fotos_producto  peso_g_producto  longitud_cm_producto  \\\n",
       "8657                       18             6291                    50   \n",
       "5070                        0              616                    26   \n",
       "2412                        3             2431                    51   \n",
       "5147                       25             2061                    19   \n",
       "4667                       11             2639                    39   \n",
       "\n",
       "      altura_cm_producto  ancho_cm_producto  \n",
       "8657                   9                 12  \n",
       "5070                  24                 23  \n",
       "2412                   2                 28  \n",
       "5147                  26                 28  \n",
       "4667                  19                 40  "
      ]
     },
     "execution_count": 26,
     "metadata": {},
     "output_type": "execute_result"
    }
   ],
   "source": [
    "# Convertir el diccionario a dataframe y a partir de este punto podemos realizar las operaciones que hemos hecho previamente sobre otros dataframes.\n",
    "data_json=pd.DataFrame(data_json)\n",
    "data_json.head(5)"
   ]
  },
  {
   "cell_type": "markdown",
   "metadata": {},
   "source": [
    "### 6.1. Transformación de datos\n",
    "La transformación de datos es el proceso de cambiar los datos originales a un nuevo valor que permita facilitar su manipulación, corregirlos en caso de error o generar nuevos datos a partir de lo existente.\n",
    "En este caso particular, estamos transformando los datos para llevarlos al tipo de dato correcto y tener a disposición las funciones existentes para dichos datos.\n",
    "\n",
    "En el formato JSON no todos los tipos de datos se interpretan de la manera correcta, por lo tanto es importante hacer la revisión de cuál tipo de datos se tiene para cada variable antes de determinar las transformaciones a realizar."
   ]
  },
  {
   "cell_type": "code",
   "execution_count": 27,
   "metadata": {},
   "outputs": [
    {
     "data": {
      "text/plain": [
       "orden_id                          object\n",
       "order_item_id                     object\n",
       "producto_id                       object\n",
       "vendedor_id                       object\n",
       "fecha_envio_limite                object\n",
       "precio                           float64\n",
       "valor_flete                      float64\n",
       "codigo_postal_vendedor             int64\n",
       "ciudad_vendedor                   object\n",
       "departamento_vendedor             object\n",
       "nombre_categoria_producto         object\n",
       "longitud_nombre_producto           int64\n",
       "longitud_descripcion_producto      int64\n",
       "cantidad_fotos_producto            int64\n",
       "peso_g_producto                    int64\n",
       "longitud_cm_producto               int64\n",
       "altura_cm_producto                 int64\n",
       "ancho_cm_producto                  int64\n",
       "dtype: object"
      ]
     },
     "execution_count": 27,
     "metadata": {},
     "output_type": "execute_result"
    }
   ],
   "source": [
    "data_json.dtypes"
   ]
  },
  {
   "cell_type": "code",
   "execution_count": 28,
   "metadata": {
    "pycharm": {
     "name": "#%%\n"
    }
   },
   "outputs": [
    {
     "data": {
      "text/plain": [
       "8657   2017-09-19 07:24:00\n",
       "5070   2018-01-22 11:30:00\n",
       "2412   2017-09-12 15:09:00\n",
       "5147   2018-04-05 04:15:00\n",
       "4667   2017-09-17 23:24:00\n",
       "Name: fecha_envio_limite_pd, dtype: datetime64[ns]"
      ]
     },
     "execution_count": 28,
     "metadata": {},
     "output_type": "execute_result"
    }
   ],
   "source": [
    "#En este caso vemos que es necesario llevar la variable fecha_envio_limite_pd a tipo Datetime utilizando la libreria Pandas.\n",
    "data_json['fecha_envio_limite_pd']=pd.to_datetime(data_json['fecha_envio_limite'].astype(str))\n",
    "data_json['fecha_envio_limite_pd'][0:5]"
   ]
  },
  {
   "cell_type": "code",
   "execution_count": 29,
   "metadata": {
    "pycharm": {
     "name": "#%%\n"
    }
   },
   "outputs": [
    {
     "data": {
      "text/plain": [
       "8657    9\n",
       "5070    1\n",
       "2412    9\n",
       "5147    4\n",
       "4667    9\n",
       "Name: mes_envio, dtype: int64"
      ]
     },
     "execution_count": 29,
     "metadata": {},
     "output_type": "execute_result"
    }
   ],
   "source": [
    "# Ahora ya es posible extraer el mes y convertirlo en dato categórico en vez de número\n",
    "data_json['mes_envio']=data_json['fecha_envio_limite_pd'].dt.month\n",
    "data_json['mes_envio'][0:5]"
   ]
  },
  {
   "cell_type": "code",
   "execution_count": 30,
   "metadata": {
    "pycharm": {
     "name": "#%%\n"
    }
   },
   "outputs": [
    {
     "data": {
      "text/plain": [
       "count    10000.000000\n",
       "mean         6.542400\n",
       "std          3.463293\n",
       "min          1.000000\n",
       "25%          4.000000\n",
       "50%          7.000000\n",
       "75%         10.000000\n",
       "max         12.000000\n",
       "Name: mes_envio, dtype: float64"
      ]
     },
     "execution_count": 30,
     "metadata": {},
     "output_type": "execute_result"
    }
   ],
   "source": [
    "# Como el número de mes es una etiqueta, se puede realizar un análisis de dato categórico\n",
    "data_json['mes_envio'].describe()"
   ]
  },
  {
   "cell_type": "markdown",
   "metadata": {
    "pycharm": {
     "name": "#%% md\n"
    }
   },
   "source": [
    "Como vemos es necesario en muchos casos convertir los datos para poder realizar los análisis correcto, en estos últimos trabajamos con los datos de la fecha de envío.\n",
    "Esto nos va a servir en retail para agilizar envíos, elegir fechas promocionales y un sin número de conclusiones que van aportar valor al negocio.\n"
   ]
  },
  {
   "cell_type": "markdown",
   "metadata": {},
   "source": [
    "### 7. Caso de extensión\n",
    "\n",
    "Con los temas vistos en este notebook, te invitamos a que desarrolles las siguientes actividades con la fuente de datos productos_por_fecha, disponible en los formatos excel, csv y json.\n",
    "\n",
    "1. Cargar los diferentes tipos de archivos.\n",
    "2. Identificar los tamaños de las diferentes fuentes.\n",
    "3. Identificar la hoja de excel que tiene los datos correctos.\n",
    "4. Identificar las columnas de todos los archivos y las diferencias entre ellos.\n",
    "5. Consultar los tipos de datos de todas las columnas de los archivos.\n",
    "6. Convertir las fechas al tipo de dato datetime.\n",
    "7. Calcular el día con más compras.\n",
    "8. Consultar información general sobre la categoría del producto, para identificar la categoría con más registros."
   ]
  }
 ],
 "metadata": {
  "kernelspec": {
   "display_name": "Python 3 (ipykernel)",
   "language": "python",
   "name": "python3"
  },
  "language_info": {
   "codemirror_mode": {
    "name": "ipython",
    "version": 3
   },
   "file_extension": ".py",
   "mimetype": "text/x-python",
   "name": "python",
   "nbconvert_exporter": "python",
   "pygments_lexer": "ipython3",
   "version": "3.9.12"
  }
 },
 "nbformat": 4,
 "nbformat_minor": 2
}
