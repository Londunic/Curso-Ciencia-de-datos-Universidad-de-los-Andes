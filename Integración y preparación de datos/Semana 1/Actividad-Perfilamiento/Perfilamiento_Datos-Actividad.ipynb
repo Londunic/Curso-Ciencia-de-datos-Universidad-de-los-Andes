{
 "cells": [
  {
   "cell_type": "markdown",
   "metadata": {},
   "source": [
    "# Integración y preparación de datos\n",
    "\n",
    "## Perfilamiento de datos "
   ]
  },
  {
   "cell_type": "markdown",
   "metadata": {},
   "source": [
    "### 1. Importación de librerías y archivos\n",
    "\n",
    "En las siguientes líneas se importarán las librerías necesarias, las cuales son **Pandas** para el manejo de datos y **pandas_profiling** para el reporte de perfilamiento"
   ]
  },
  {
   "cell_type": "code",
   "execution_count": 2,
   "metadata": {},
   "outputs": [
    {
     "name": "stdout",
     "output_type": "stream",
     "text": [
      "Requirement already satisfied: pandas_profiling in c:\\users\\edwar\\anaconda3\\lib\\site-packages (1.4.1)\n",
      "Collecting pandas_profiling\n",
      "  Using cached pandas_profiling-3.2.0-py2.py3-none-any.whl (262 kB)\n",
      "Requirement already satisfied: tqdm>=4.48.2 in c:\\users\\edwar\\anaconda3\\lib\\site-packages (from pandas_profiling) (4.64.0)\n",
      "Requirement already satisfied: multimethod>=1.4 in c:\\users\\edwar\\anaconda3\\lib\\site-packages (from pandas_profiling) (1.8)\n",
      "Requirement already satisfied: markupsafe~=2.1.1 in c:\\users\\edwar\\anaconda3\\lib\\site-packages (from pandas_profiling) (2.1.1)\n",
      "Requirement already satisfied: matplotlib>=3.2.0 in c:\\users\\edwar\\anaconda3\\lib\\site-packages (from pandas_profiling) (3.5.1)\n",
      "Requirement already satisfied: jinja2>=2.11.1 in c:\\users\\edwar\\anaconda3\\lib\\site-packages (from pandas_profiling) (2.11.3)\n",
      "Requirement already satisfied: pandas!=1.0.0,!=1.0.1,!=1.0.2,!=1.1.0,>=0.25.3 in c:\\users\\edwar\\anaconda3\\lib\\site-packages (from pandas_profiling) (1.4.2)\n",
      "Collecting missingno>=0.4.2\n",
      "  Using cached missingno-0.5.1-py3-none-any.whl (8.7 kB)\n",
      "Requirement already satisfied: tangled-up-in-unicode==0.2.0 in c:\\users\\edwar\\anaconda3\\lib\\site-packages (from pandas_profiling) (0.2.0)\n",
      "Collecting phik>=0.11.1\n",
      "  Using cached phik-0.12.2-cp39-cp39-win_amd64.whl (685 kB)\n",
      "Collecting htmlmin>=0.1.12\n",
      "  Using cached htmlmin-0.1.12-py3-none-any.whl\n",
      "Requirement already satisfied: visions[type_image_path]==0.7.4 in c:\\users\\edwar\\anaconda3\\lib\\site-packages (from pandas_profiling) (0.7.4)\n",
      "Requirement already satisfied: requests>=2.24.0 in c:\\users\\edwar\\anaconda3\\lib\\site-packages (from pandas_profiling) (2.27.1)\n",
      "Requirement already satisfied: joblib~=1.1.0 in c:\\users\\edwar\\anaconda3\\lib\\site-packages (from pandas_profiling) (1.1.0)\n",
      "Collecting pydantic>=1.8.1\n",
      "  Using cached pydantic-1.9.1-cp39-cp39-win_amd64.whl (2.0 MB)\n",
      "Requirement already satisfied: scipy>=1.4.1 in c:\\users\\edwar\\anaconda3\\lib\\site-packages (from pandas_profiling) (1.7.3)\n",
      "Requirement already satisfied: numpy>=1.16.0 in c:\\users\\edwar\\anaconda3\\lib\\site-packages (from pandas_profiling) (1.21.5)\n",
      "Requirement already satisfied: seaborn>=0.10.1 in c:\\users\\edwar\\anaconda3\\lib\\site-packages (from pandas_profiling) (0.11.2)\n",
      "Requirement already satisfied: PyYAML>=5.0.0 in c:\\users\\edwar\\anaconda3\\lib\\site-packages (from pandas_profiling) (6.0)\n",
      "Requirement already satisfied: networkx>=2.4 in c:\\users\\edwar\\anaconda3\\lib\\site-packages (from visions[type_image_path]==0.7.4->pandas_profiling) (2.7.1)\n",
      "Requirement already satisfied: attrs>=19.3.0 in c:\\users\\edwar\\anaconda3\\lib\\site-packages (from visions[type_image_path]==0.7.4->pandas_profiling) (21.4.0)\n",
      "Collecting imagehash\n",
      "  Using cached ImageHash-4.2.1-py2.py3-none-any.whl\n",
      "Requirement already satisfied: Pillow in c:\\users\\edwar\\anaconda3\\lib\\site-packages (from visions[type_image_path]==0.7.4->pandas_profiling) (9.0.1)\n",
      "Requirement already satisfied: python-dateutil>=2.7 in c:\\users\\edwar\\anaconda3\\lib\\site-packages (from matplotlib>=3.2.0->pandas_profiling) (2.8.2)\n",
      "Requirement already satisfied: packaging>=20.0 in c:\\users\\edwar\\anaconda3\\lib\\site-packages (from matplotlib>=3.2.0->pandas_profiling) (21.3)\n",
      "Requirement already satisfied: kiwisolver>=1.0.1 in c:\\users\\edwar\\anaconda3\\lib\\site-packages (from matplotlib>=3.2.0->pandas_profiling) (1.3.2)\n",
      "Requirement already satisfied: pyparsing>=2.2.1 in c:\\users\\edwar\\anaconda3\\lib\\site-packages (from matplotlib>=3.2.0->pandas_profiling) (3.0.4)\n",
      "Requirement already satisfied: fonttools>=4.22.0 in c:\\users\\edwar\\anaconda3\\lib\\site-packages (from matplotlib>=3.2.0->pandas_profiling) (4.25.0)\n",
      "Requirement already satisfied: cycler>=0.10 in c:\\users\\edwar\\anaconda3\\lib\\site-packages (from matplotlib>=3.2.0->pandas_profiling) (0.11.0)\n",
      "Requirement already satisfied: pytz>=2020.1 in c:\\users\\edwar\\anaconda3\\lib\\site-packages (from pandas!=1.0.0,!=1.0.1,!=1.0.2,!=1.1.0,>=0.25.3->pandas_profiling) (2021.3)\n",
      "Requirement already satisfied: typing-extensions>=3.7.4.3 in c:\\users\\edwar\\anaconda3\\lib\\site-packages (from pydantic>=1.8.1->pandas_profiling) (4.1.1)\n",
      "Requirement already satisfied: six>=1.5 in c:\\users\\edwar\\anaconda3\\lib\\site-packages (from python-dateutil>=2.7->matplotlib>=3.2.0->pandas_profiling) (1.16.0)\n",
      "Requirement already satisfied: certifi>=2017.4.17 in c:\\users\\edwar\\anaconda3\\lib\\site-packages (from requests>=2.24.0->pandas_profiling) (2021.10.8)\n",
      "Requirement already satisfied: charset-normalizer~=2.0.0 in c:\\users\\edwar\\anaconda3\\lib\\site-packages (from requests>=2.24.0->pandas_profiling) (2.0.4)\n",
      "Requirement already satisfied: idna<4,>=2.5 in c:\\users\\edwar\\anaconda3\\lib\\site-packages (from requests>=2.24.0->pandas_profiling) (3.3)\n",
      "Requirement already satisfied: urllib3<1.27,>=1.21.1 in c:\\users\\edwar\\anaconda3\\lib\\site-packages (from requests>=2.24.0->pandas_profiling) (1.26.9)\n",
      "Requirement already satisfied: colorama in c:\\users\\edwar\\anaconda3\\lib\\site-packages (from tqdm>=4.48.2->pandas_profiling) (0.4.4)\n",
      "Requirement already satisfied: PyWavelets in c:\\users\\edwar\\anaconda3\\lib\\site-packages (from imagehash->visions[type_image_path]==0.7.4->pandas_profiling) (1.3.0)\n",
      "Installing collected packages: imagehash, pydantic, phik, missingno, htmlmin, pandas-profiling\n",
      "  Attempting uninstall: pandas-profiling\n",
      "    Found existing installation: pandas-profiling 1.4.1\n",
      "    Uninstalling pandas-profiling-1.4.1:\n",
      "      Successfully uninstalled pandas-profiling-1.4.1\n",
      "Successfully installed htmlmin-0.1.12 imagehash-4.2.1 missingno-0.5.1 pandas-profiling-3.2.0 phik-0.12.2 pydantic-1.9.1\n"
     ]
    }
   ],
   "source": [
    "!pip3 install pandas_profiling --upgrade"
   ]
  },
  {
   "cell_type": "code",
   "execution_count": 3,
   "metadata": {},
   "outputs": [
    {
     "ename": "ImportError",
     "evalue": "cannot import name 'soft_unicode' from 'markupsafe' (C:\\Users\\Edwar\\anaconda3\\lib\\site-packages\\markupsafe\\__init__.py)",
     "output_type": "error",
     "traceback": [
      "\u001b[1;31m---------------------------------------------------------------------------\u001b[0m",
      "\u001b[1;31mImportError\u001b[0m                               Traceback (most recent call last)",
      "Input \u001b[1;32mIn [3]\u001b[0m, in \u001b[0;36m<cell line: 5>\u001b[1;34m()\u001b[0m\n\u001b[0;32m      3\u001b[0m \u001b[38;5;28;01mimport\u001b[39;00m \u001b[38;5;21;01mpandas\u001b[39;00m \u001b[38;5;28;01mas\u001b[39;00m \u001b[38;5;21;01mpd\u001b[39;00m\n\u001b[0;32m      4\u001b[0m \u001b[38;5;66;03m# Librería para perfilamiento\u001b[39;00m\n\u001b[1;32m----> 5\u001b[0m \u001b[38;5;28;01mimport\u001b[39;00m \u001b[38;5;21;01mpandas_profiling\u001b[39;00m\n",
      "File \u001b[1;32m~\\anaconda3\\lib\\site-packages\\pandas_profiling\\__init__.py:6\u001b[0m, in \u001b[0;36m<module>\u001b[1;34m\u001b[0m\n\u001b[0;32m      1\u001b[0m \u001b[38;5;66;03m# -*- coding: utf-8 -*-\u001b[39;00m\n\u001b[0;32m      2\u001b[0m \u001b[38;5;124;03m\"\"\"Main module of pandas-profiling.\u001b[39;00m\n\u001b[0;32m      3\u001b[0m \n\u001b[0;32m      4\u001b[0m \u001b[38;5;124;03mDocstring is compliant with NumPy/SciPy documentation standard:\u001b[39;00m\n\u001b[0;32m      5\u001b[0m \u001b[38;5;124;03mhttps://github.com/numpy/numpy/blob/master/doc/HOWTO_DOCUMENT.rst.txt\u001b[39;00m\n\u001b[1;32m----> 6\u001b[0m \u001b[38;5;124;03mSee also for a short description of docstring:\u001b[39;00m\n\u001b[0;32m      7\u001b[0m \u001b[38;5;124;03mhttps://stackoverflow.com/questions/3898572/what-is-the-standard-python-docstring-format\u001b[39;00m\n\u001b[0;32m      8\u001b[0m \u001b[38;5;124;03m\"\"\"\u001b[39;00m\n\u001b[0;32m      9\u001b[0m \u001b[38;5;28;01mimport\u001b[39;00m \u001b[38;5;21;01mcodecs\u001b[39;00m\n\u001b[0;32m     10\u001b[0m \u001b[38;5;28;01mimport\u001b[39;00m \u001b[38;5;21;01mpandas_profiling\u001b[39;00m\u001b[38;5;21;01m.\u001b[39;00m\u001b[38;5;21;01mtemplates\u001b[39;00m \u001b[38;5;28;01mas\u001b[39;00m \u001b[38;5;21;01mtemplates\u001b[39;00m\n",
      "File \u001b[1;32m~\\anaconda3\\lib\\site-packages\\pandas_profiling\\controller\\pandas_decorator.py:4\u001b[0m, in \u001b[0;36m<module>\u001b[1;34m\u001b[0m\n\u001b[0;32m      1\u001b[0m \u001b[38;5;124;03m\"\"\"This file add the decorator on the DataFrame object.\"\"\"\u001b[39;00m\n\u001b[0;32m      2\u001b[0m \u001b[38;5;28;01mfrom\u001b[39;00m \u001b[38;5;21;01mpandas\u001b[39;00m \u001b[38;5;28;01mimport\u001b[39;00m DataFrame\n\u001b[1;32m----> 4\u001b[0m \u001b[38;5;28;01mfrom\u001b[39;00m \u001b[38;5;21;01mpandas_profiling\u001b[39;00m\u001b[38;5;21;01m.\u001b[39;00m\u001b[38;5;21;01mprofile_report\u001b[39;00m \u001b[38;5;28;01mimport\u001b[39;00m ProfileReport\n\u001b[0;32m      7\u001b[0m \u001b[38;5;28;01mdef\u001b[39;00m \u001b[38;5;21mprofile_report\u001b[39m(df: DataFrame, \u001b[38;5;241m*\u001b[39m\u001b[38;5;241m*\u001b[39mkwargs) \u001b[38;5;241m-\u001b[39m\u001b[38;5;241m>\u001b[39m ProfileReport:\n\u001b[0;32m      8\u001b[0m     \u001b[38;5;124;03m\"\"\"Profile a DataFrame.\u001b[39;00m\n\u001b[0;32m      9\u001b[0m \n\u001b[0;32m     10\u001b[0m \u001b[38;5;124;03m    Args:\u001b[39;00m\n\u001b[1;32m   (...)\u001b[0m\n\u001b[0;32m     15\u001b[0m \u001b[38;5;124;03m        A ProfileReport of the DataFrame.\u001b[39;00m\n\u001b[0;32m     16\u001b[0m \u001b[38;5;124;03m    \"\"\"\u001b[39;00m\n",
      "File \u001b[1;32m~\\anaconda3\\lib\\site-packages\\pandas_profiling\\profile_report.py:27\u001b[0m, in \u001b[0;36m<module>\u001b[1;34m\u001b[0m\n\u001b[0;32m     25\u001b[0m \u001b[38;5;28;01mfrom\u001b[39;00m \u001b[38;5;21;01mpandas_profiling\u001b[39;00m\u001b[38;5;21;01m.\u001b[39;00m\u001b[38;5;21;01mreport\u001b[39;00m\u001b[38;5;21;01m.\u001b[39;00m\u001b[38;5;21;01mpresentation\u001b[39;00m\u001b[38;5;21;01m.\u001b[39;00m\u001b[38;5;21;01mcore\u001b[39;00m \u001b[38;5;28;01mimport\u001b[39;00m Root\n\u001b[0;32m     26\u001b[0m \u001b[38;5;28;01mfrom\u001b[39;00m \u001b[38;5;21;01mpandas_profiling\u001b[39;00m\u001b[38;5;21;01m.\u001b[39;00m\u001b[38;5;21;01mreport\u001b[39;00m\u001b[38;5;21;01m.\u001b[39;00m\u001b[38;5;21;01mpresentation\u001b[39;00m\u001b[38;5;21;01m.\u001b[39;00m\u001b[38;5;21;01mcore\u001b[39;00m\u001b[38;5;21;01m.\u001b[39;00m\u001b[38;5;21;01mrenderable\u001b[39;00m \u001b[38;5;28;01mimport\u001b[39;00m Renderable\n\u001b[1;32m---> 27\u001b[0m \u001b[38;5;28;01mfrom\u001b[39;00m \u001b[38;5;21;01mpandas_profiling\u001b[39;00m\u001b[38;5;21;01m.\u001b[39;00m\u001b[38;5;21;01mreport\u001b[39;00m\u001b[38;5;21;01m.\u001b[39;00m\u001b[38;5;21;01mpresentation\u001b[39;00m\u001b[38;5;21;01m.\u001b[39;00m\u001b[38;5;21;01mflavours\u001b[39;00m\u001b[38;5;21;01m.\u001b[39;00m\u001b[38;5;21;01mhtml\u001b[39;00m\u001b[38;5;21;01m.\u001b[39;00m\u001b[38;5;21;01mtemplates\u001b[39;00m \u001b[38;5;28;01mimport\u001b[39;00m (\n\u001b[0;32m     28\u001b[0m     create_html_assets,\n\u001b[0;32m     29\u001b[0m )\n\u001b[0;32m     30\u001b[0m \u001b[38;5;28;01mfrom\u001b[39;00m \u001b[38;5;21;01mpandas_profiling\u001b[39;00m\u001b[38;5;21;01m.\u001b[39;00m\u001b[38;5;21;01mserialize_report\u001b[39;00m \u001b[38;5;28;01mimport\u001b[39;00m SerializeReport\n\u001b[0;32m     31\u001b[0m \u001b[38;5;28;01mfrom\u001b[39;00m \u001b[38;5;21;01mpandas_profiling\u001b[39;00m\u001b[38;5;21;01m.\u001b[39;00m\u001b[38;5;21;01mutils\u001b[39;00m\u001b[38;5;21;01m.\u001b[39;00m\u001b[38;5;21;01mdataframe\u001b[39;00m \u001b[38;5;28;01mimport\u001b[39;00m hash_dataframe\n",
      "File \u001b[1;32m~\\anaconda3\\lib\\site-packages\\pandas_profiling\\report\\presentation\\flavours\\html\\__init__.py:1\u001b[0m, in \u001b[0;36m<module>\u001b[1;34m\u001b[0m\n\u001b[1;32m----> 1\u001b[0m \u001b[38;5;28;01mfrom\u001b[39;00m \u001b[38;5;21;01mpandas_profiling\u001b[39;00m\u001b[38;5;21;01m.\u001b[39;00m\u001b[38;5;21;01mreport\u001b[39;00m\u001b[38;5;21;01m.\u001b[39;00m\u001b[38;5;21;01mpresentation\u001b[39;00m\u001b[38;5;21;01m.\u001b[39;00m\u001b[38;5;21;01mflavours\u001b[39;00m\u001b[38;5;21;01m.\u001b[39;00m\u001b[38;5;21;01mhtml\u001b[39;00m\u001b[38;5;21;01m.\u001b[39;00m\u001b[38;5;21;01malerts\u001b[39;00m \u001b[38;5;28;01mimport\u001b[39;00m HTMLAlerts\n\u001b[0;32m      2\u001b[0m \u001b[38;5;28;01mfrom\u001b[39;00m \u001b[38;5;21;01mpandas_profiling\u001b[39;00m\u001b[38;5;21;01m.\u001b[39;00m\u001b[38;5;21;01mreport\u001b[39;00m\u001b[38;5;21;01m.\u001b[39;00m\u001b[38;5;21;01mpresentation\u001b[39;00m\u001b[38;5;21;01m.\u001b[39;00m\u001b[38;5;21;01mflavours\u001b[39;00m\u001b[38;5;21;01m.\u001b[39;00m\u001b[38;5;21;01mhtml\u001b[39;00m\u001b[38;5;21;01m.\u001b[39;00m\u001b[38;5;21;01mcollapse\u001b[39;00m \u001b[38;5;28;01mimport\u001b[39;00m HTMLCollapse\n\u001b[0;32m      3\u001b[0m \u001b[38;5;28;01mfrom\u001b[39;00m \u001b[38;5;21;01mpandas_profiling\u001b[39;00m\u001b[38;5;21;01m.\u001b[39;00m\u001b[38;5;21;01mreport\u001b[39;00m\u001b[38;5;21;01m.\u001b[39;00m\u001b[38;5;21;01mpresentation\u001b[39;00m\u001b[38;5;21;01m.\u001b[39;00m\u001b[38;5;21;01mflavours\u001b[39;00m\u001b[38;5;21;01m.\u001b[39;00m\u001b[38;5;21;01mhtml\u001b[39;00m\u001b[38;5;21;01m.\u001b[39;00m\u001b[38;5;21;01mcontainer\u001b[39;00m \u001b[38;5;28;01mimport\u001b[39;00m HTMLContainer\n",
      "File \u001b[1;32m~\\anaconda3\\lib\\site-packages\\pandas_profiling\\report\\presentation\\flavours\\html\\alerts.py:2\u001b[0m, in \u001b[0;36m<module>\u001b[1;34m\u001b[0m\n\u001b[0;32m      1\u001b[0m \u001b[38;5;28;01mfrom\u001b[39;00m \u001b[38;5;21;01mpandas_profiling\u001b[39;00m\u001b[38;5;21;01m.\u001b[39;00m\u001b[38;5;21;01mreport\u001b[39;00m\u001b[38;5;21;01m.\u001b[39;00m\u001b[38;5;21;01mpresentation\u001b[39;00m\u001b[38;5;21;01m.\u001b[39;00m\u001b[38;5;21;01mcore\u001b[39;00m\u001b[38;5;21;01m.\u001b[39;00m\u001b[38;5;21;01malerts\u001b[39;00m \u001b[38;5;28;01mimport\u001b[39;00m Alerts\n\u001b[1;32m----> 2\u001b[0m \u001b[38;5;28;01mfrom\u001b[39;00m \u001b[38;5;21;01mpandas_profiling\u001b[39;00m\u001b[38;5;21;01m.\u001b[39;00m\u001b[38;5;21;01mreport\u001b[39;00m\u001b[38;5;21;01m.\u001b[39;00m\u001b[38;5;21;01mpresentation\u001b[39;00m\u001b[38;5;21;01m.\u001b[39;00m\u001b[38;5;21;01mflavours\u001b[39;00m\u001b[38;5;21;01m.\u001b[39;00m\u001b[38;5;21;01mhtml\u001b[39;00m \u001b[38;5;28;01mimport\u001b[39;00m templates\n\u001b[0;32m      5\u001b[0m \u001b[38;5;28;01mclass\u001b[39;00m \u001b[38;5;21;01mHTMLAlerts\u001b[39;00m(Alerts):\n\u001b[0;32m      6\u001b[0m     \u001b[38;5;28;01mdef\u001b[39;00m \u001b[38;5;21mrender\u001b[39m(\u001b[38;5;28mself\u001b[39m) \u001b[38;5;241m-\u001b[39m\u001b[38;5;241m>\u001b[39m \u001b[38;5;28mstr\u001b[39m:\n",
      "File \u001b[1;32m~\\anaconda3\\lib\\site-packages\\pandas_profiling\\report\\presentation\\flavours\\html\\templates.py:5\u001b[0m, in \u001b[0;36m<module>\u001b[1;34m\u001b[0m\n\u001b[0;32m      2\u001b[0m \u001b[38;5;28;01mimport\u001b[39;00m \u001b[38;5;21;01mshutil\u001b[39;00m\n\u001b[0;32m      3\u001b[0m \u001b[38;5;28;01mfrom\u001b[39;00m \u001b[38;5;21;01mpathlib\u001b[39;00m \u001b[38;5;28;01mimport\u001b[39;00m Path\n\u001b[1;32m----> 5\u001b[0m \u001b[38;5;28;01mimport\u001b[39;00m \u001b[38;5;21;01mjinja2\u001b[39;00m\n\u001b[0;32m      7\u001b[0m \u001b[38;5;28;01mfrom\u001b[39;00m \u001b[38;5;21;01mpandas_profiling\u001b[39;00m\u001b[38;5;21;01m.\u001b[39;00m\u001b[38;5;21;01mconfig\u001b[39;00m \u001b[38;5;28;01mimport\u001b[39;00m Settings, Theme\n\u001b[0;32m      8\u001b[0m \u001b[38;5;28;01mfrom\u001b[39;00m \u001b[38;5;21;01mpandas_profiling\u001b[39;00m\u001b[38;5;21;01m.\u001b[39;00m\u001b[38;5;21;01mreport\u001b[39;00m\u001b[38;5;21;01m.\u001b[39;00m\u001b[38;5;21;01mformatters\u001b[39;00m \u001b[38;5;28;01mimport\u001b[39;00m fmt, fmt_badge, fmt_numeric, fmt_percent\n",
      "File \u001b[1;32m~\\anaconda3\\lib\\site-packages\\jinja2\\__init__.py:12\u001b[0m, in \u001b[0;36m<module>\u001b[1;34m\u001b[0m\n\u001b[0;32m     10\u001b[0m \u001b[38;5;28;01mfrom\u001b[39;00m \u001b[38;5;21;01m.\u001b[39;00m\u001b[38;5;21;01mbccache\u001b[39;00m \u001b[38;5;28;01mimport\u001b[39;00m FileSystemBytecodeCache\n\u001b[0;32m     11\u001b[0m \u001b[38;5;28;01mfrom\u001b[39;00m \u001b[38;5;21;01m.\u001b[39;00m\u001b[38;5;21;01mbccache\u001b[39;00m \u001b[38;5;28;01mimport\u001b[39;00m MemcachedBytecodeCache\n\u001b[1;32m---> 12\u001b[0m \u001b[38;5;28;01mfrom\u001b[39;00m \u001b[38;5;21;01m.\u001b[39;00m\u001b[38;5;21;01menvironment\u001b[39;00m \u001b[38;5;28;01mimport\u001b[39;00m Environment\n\u001b[0;32m     13\u001b[0m \u001b[38;5;28;01mfrom\u001b[39;00m \u001b[38;5;21;01m.\u001b[39;00m\u001b[38;5;21;01menvironment\u001b[39;00m \u001b[38;5;28;01mimport\u001b[39;00m Template\n\u001b[0;32m     14\u001b[0m \u001b[38;5;28;01mfrom\u001b[39;00m \u001b[38;5;21;01m.\u001b[39;00m\u001b[38;5;21;01mexceptions\u001b[39;00m \u001b[38;5;28;01mimport\u001b[39;00m TemplateAssertionError\n",
      "File \u001b[1;32m~\\anaconda3\\lib\\site-packages\\jinja2\\environment.py:25\u001b[0m, in \u001b[0;36m<module>\u001b[1;34m\u001b[0m\n\u001b[0;32m     23\u001b[0m \u001b[38;5;28;01mfrom\u001b[39;00m \u001b[38;5;21;01m.\u001b[39;00m\u001b[38;5;21;01mcompiler\u001b[39;00m \u001b[38;5;28;01mimport\u001b[39;00m CodeGenerator\n\u001b[0;32m     24\u001b[0m \u001b[38;5;28;01mfrom\u001b[39;00m \u001b[38;5;21;01m.\u001b[39;00m\u001b[38;5;21;01mcompiler\u001b[39;00m \u001b[38;5;28;01mimport\u001b[39;00m generate\n\u001b[1;32m---> 25\u001b[0m \u001b[38;5;28;01mfrom\u001b[39;00m \u001b[38;5;21;01m.\u001b[39;00m\u001b[38;5;21;01mdefaults\u001b[39;00m \u001b[38;5;28;01mimport\u001b[39;00m BLOCK_END_STRING\n\u001b[0;32m     26\u001b[0m \u001b[38;5;28;01mfrom\u001b[39;00m \u001b[38;5;21;01m.\u001b[39;00m\u001b[38;5;21;01mdefaults\u001b[39;00m \u001b[38;5;28;01mimport\u001b[39;00m BLOCK_START_STRING\n\u001b[0;32m     27\u001b[0m \u001b[38;5;28;01mfrom\u001b[39;00m \u001b[38;5;21;01m.\u001b[39;00m\u001b[38;5;21;01mdefaults\u001b[39;00m \u001b[38;5;28;01mimport\u001b[39;00m COMMENT_END_STRING\n",
      "File \u001b[1;32m~\\anaconda3\\lib\\site-packages\\jinja2\\defaults.py:3\u001b[0m, in \u001b[0;36m<module>\u001b[1;34m\u001b[0m\n\u001b[0;32m      1\u001b[0m \u001b[38;5;66;03m# -*- coding: utf-8 -*-\u001b[39;00m\n\u001b[0;32m      2\u001b[0m \u001b[38;5;28;01mfrom\u001b[39;00m \u001b[38;5;21;01m.\u001b[39;00m\u001b[38;5;21;01m_compat\u001b[39;00m \u001b[38;5;28;01mimport\u001b[39;00m range_type\n\u001b[1;32m----> 3\u001b[0m \u001b[38;5;28;01mfrom\u001b[39;00m \u001b[38;5;21;01m.\u001b[39;00m\u001b[38;5;21;01mfilters\u001b[39;00m \u001b[38;5;28;01mimport\u001b[39;00m FILTERS \u001b[38;5;28;01mas\u001b[39;00m DEFAULT_FILTERS  \u001b[38;5;66;03m# noqa: F401\u001b[39;00m\n\u001b[0;32m      4\u001b[0m \u001b[38;5;28;01mfrom\u001b[39;00m \u001b[38;5;21;01m.\u001b[39;00m\u001b[38;5;21;01mtests\u001b[39;00m \u001b[38;5;28;01mimport\u001b[39;00m TESTS \u001b[38;5;28;01mas\u001b[39;00m DEFAULT_TESTS  \u001b[38;5;66;03m# noqa: F401\u001b[39;00m\n\u001b[0;32m      5\u001b[0m \u001b[38;5;28;01mfrom\u001b[39;00m \u001b[38;5;21;01m.\u001b[39;00m\u001b[38;5;21;01mutils\u001b[39;00m \u001b[38;5;28;01mimport\u001b[39;00m Cycler\n",
      "File \u001b[1;32m~\\anaconda3\\lib\\site-packages\\jinja2\\filters.py:13\u001b[0m, in \u001b[0;36m<module>\u001b[1;34m\u001b[0m\n\u001b[0;32m     11\u001b[0m \u001b[38;5;28;01mfrom\u001b[39;00m \u001b[38;5;21;01mmarkupsafe\u001b[39;00m \u001b[38;5;28;01mimport\u001b[39;00m escape\n\u001b[0;32m     12\u001b[0m \u001b[38;5;28;01mfrom\u001b[39;00m \u001b[38;5;21;01mmarkupsafe\u001b[39;00m \u001b[38;5;28;01mimport\u001b[39;00m Markup\n\u001b[1;32m---> 13\u001b[0m \u001b[38;5;28;01mfrom\u001b[39;00m \u001b[38;5;21;01mmarkupsafe\u001b[39;00m \u001b[38;5;28;01mimport\u001b[39;00m soft_unicode\n\u001b[0;32m     15\u001b[0m \u001b[38;5;28;01mfrom\u001b[39;00m \u001b[38;5;21;01m.\u001b[39;00m\u001b[38;5;21;01m_compat\u001b[39;00m \u001b[38;5;28;01mimport\u001b[39;00m abc\n\u001b[0;32m     16\u001b[0m \u001b[38;5;28;01mfrom\u001b[39;00m \u001b[38;5;21;01m.\u001b[39;00m\u001b[38;5;21;01m_compat\u001b[39;00m \u001b[38;5;28;01mimport\u001b[39;00m imap\n",
      "\u001b[1;31mImportError\u001b[0m: cannot import name 'soft_unicode' from 'markupsafe' (C:\\Users\\Edwar\\anaconda3\\lib\\site-packages\\markupsafe\\__init__.py)"
     ]
    }
   ],
   "source": [
    "# Importar las librerías necesarias según el análisis que se vaya a realizar\n",
    "# Librería para manejo de datos convensional\n",
    "import pandas as pd\n",
    "# Librería para perfilamiento\n",
    "import pandas_profiling"
   ]
  },
  {
   "cell_type": "code",
   "execution_count": 5,
   "metadata": {
    "scrolled": true
   },
   "outputs": [
    {
     "data": {
      "text/html": [
       "<div>\n",
       "<style scoped>\n",
       "    .dataframe tbody tr th:only-of-type {\n",
       "        vertical-align: middle;\n",
       "    }\n",
       "\n",
       "    .dataframe tbody tr th {\n",
       "        vertical-align: top;\n",
       "    }\n",
       "\n",
       "    .dataframe thead th {\n",
       "        text-align: right;\n",
       "    }\n",
       "</style>\n",
       "<table border=\"1\" class=\"dataframe\">\n",
       "  <thead>\n",
       "    <tr style=\"text-align: right;\">\n",
       "      <th></th>\n",
       "      <th>producto_id</th>\n",
       "      <th>fecha_envio_limite</th>\n",
       "      <th>nombre_categoria_producto</th>\n",
       "      <th>longitud_nombre_producto</th>\n",
       "      <th>longitud_descripcion_producto</th>\n",
       "      <th>cantidad_fotos_producto</th>\n",
       "      <th>longitud_cm_producto</th>\n",
       "      <th>altura_cm_producto</th>\n",
       "      <th>ancho_cm_producto</th>\n",
       "    </tr>\n",
       "  </thead>\n",
       "  <tbody>\n",
       "    <tr>\n",
       "      <th>0</th>\n",
       "      <td>PT66</td>\n",
       "      <td>19/09/2017 07:24</td>\n",
       "      <td>Tarjetas regalo</td>\n",
       "      <td>6</td>\n",
       "      <td>34</td>\n",
       "      <td>18</td>\n",
       "      <td>50</td>\n",
       "      <td>9</td>\n",
       "      <td>12</td>\n",
       "    </tr>\n",
       "    <tr>\n",
       "      <th>1</th>\n",
       "      <td>PB76</td>\n",
       "      <td>22/01/2018 11:30</td>\n",
       "      <td>Ropa de adultos</td>\n",
       "      <td>10</td>\n",
       "      <td>39</td>\n",
       "      <td>0</td>\n",
       "      <td>26</td>\n",
       "      <td>24</td>\n",
       "      <td>23</td>\n",
       "    </tr>\n",
       "    <tr>\n",
       "      <th>2</th>\n",
       "      <td>PJ55</td>\n",
       "      <td>09/12/2017 15:09</td>\n",
       "      <td>Mascotas</td>\n",
       "      <td>25</td>\n",
       "      <td>12</td>\n",
       "      <td>3</td>\n",
       "      <td>51</td>\n",
       "      <td>2</td>\n",
       "      <td>28</td>\n",
       "    </tr>\n",
       "    <tr>\n",
       "      <th>3</th>\n",
       "      <td>PO85</td>\n",
       "      <td>04/05/2018 04:15</td>\n",
       "      <td>Productos ecoamigables</td>\n",
       "      <td>33</td>\n",
       "      <td>25</td>\n",
       "      <td>25</td>\n",
       "      <td>19</td>\n",
       "      <td>26</td>\n",
       "      <td>28</td>\n",
       "    </tr>\n",
       "    <tr>\n",
       "      <th>4</th>\n",
       "      <td>PG31</td>\n",
       "      <td>17/09/2017 23:24</td>\n",
       "      <td>Salud</td>\n",
       "      <td>34</td>\n",
       "      <td>22</td>\n",
       "      <td>11</td>\n",
       "      <td>39</td>\n",
       "      <td>19</td>\n",
       "      <td>40</td>\n",
       "    </tr>\n",
       "  </tbody>\n",
       "</table>\n",
       "</div>"
      ],
      "text/plain": [
       "  producto_id fecha_envio_limite nombre_categoria_producto  \\\n",
       "0        PT66   19/09/2017 07:24           Tarjetas regalo   \n",
       "1        PB76   22/01/2018 11:30           Ropa de adultos   \n",
       "2        PJ55   09/12/2017 15:09                  Mascotas   \n",
       "3        PO85   04/05/2018 04:15    Productos ecoamigables   \n",
       "4        PG31   17/09/2017 23:24                     Salud   \n",
       "\n",
       "   longitud_nombre_producto  longitud_descripcion_producto  \\\n",
       "0                         6                             34   \n",
       "1                        10                             39   \n",
       "2                        25                             12   \n",
       "3                        33                             25   \n",
       "4                        34                             22   \n",
       "\n",
       "   cantidad_fotos_producto  longitud_cm_producto  altura_cm_producto  \\\n",
       "0                       18                    50                   9   \n",
       "1                        0                    26                  24   \n",
       "2                        3                    51                   2   \n",
       "3                       25                    19                  26   \n",
       "4                       11                    39                  19   \n",
       "\n",
       "   ancho_cm_producto  \n",
       "0                 12  \n",
       "1                 23  \n",
       "2                 28  \n",
       "3                 28  \n",
       "4                 40  "
      ]
     },
     "execution_count": 5,
     "metadata": {},
     "output_type": "execute_result"
    }
   ],
   "source": [
    "# cargar los datos en csv\n",
    "data= pd.read_csv('productos_por_fecha.csv', sep=';',encoding='latin-1')\n",
    "# Visualizar los datos\n",
    "data.head()"
   ]
  },
  {
   "cell_type": "markdown",
   "metadata": {},
   "source": [
    "Es necesario identificar cierto tipo de pasos a realizar para entender mejor la manera de manejar los datos. En las siguientes líneas veremos cómo realizar algunos análisis básicos de gran utilidad para lograr los objetivos del perfilamiento de datos y al final del proceso, realizar el reporte asociado a esta actividad."
   ]
  },
  {
   "cell_type": "markdown",
   "metadata": {},
   "source": [
    "### 3. Análisis de la fuente de los datos\n",
    "\n",
    "### 3.1. Registros y atributos\n",
    "El número de registros y atributos nos dará una guía del correcto cargue de los datos, podemos utilizar la función shape para la revisión de este dato"
   ]
  },
  {
   "cell_type": "code",
   "execution_count": 6,
   "metadata": {},
   "outputs": [
    {
     "data": {
      "text/plain": [
       "(1000, 9)"
      ]
     },
     "execution_count": 6,
     "metadata": {},
     "output_type": "execute_result"
    }
   ],
   "source": [
    "# Tamaño del dataset (filas, columnas)\n",
    "data.shape"
   ]
  },
  {
   "cell_type": "code",
   "execution_count": 7,
   "metadata": {},
   "outputs": [
    {
     "data": {
      "text/plain": [
       "Index(['producto_id', 'fecha_envio_limite', 'nombre_categoria_producto',\n",
       "       'longitud_nombre_producto', 'longitud_descripcion_producto',\n",
       "       'cantidad_fotos_producto', 'longitud_cm_producto', 'altura_cm_producto',\n",
       "       'ancho_cm_producto'],\n",
       "      dtype='object')"
      ]
     },
     "execution_count": 7,
     "metadata": {},
     "output_type": "execute_result"
    }
   ],
   "source": [
    "# Revisión de los atributos\n",
    "data.columns"
   ]
  },
  {
   "cell_type": "markdown",
   "metadata": {},
   "source": [
    "### 3.2. Determinar el identificador único de la fuente de datos y validar sus propiedades\n",
    "\n",
    "En este punto veremos cómo determinar el identificador único de la fuente de datos. Este atributo no debe tener valores nulos ni repetidos. En este caso, es más sencillo, ya que el negocio nos indicó que el identificador de los registros era el número de orden y vamos a validarlo. \n",
    "El conocer el identificador único de una fuente de datos es valioso ya que nos permite comprender la semántica de los registros y asociado a este campo debemos validar que no tenga registros nulos ni duplicados. Estos serían ejemplos claros de problemas de calidad de datos en la fuente, los cuales deben ser analizados y si es necesario, reportados al negocio y corregios.\n"
   ]
  },
  {
   "cell_type": "code",
   "execution_count": 9,
   "metadata": {},
   "outputs": [
    {
     "data": {
      "text/plain": [
       "0"
      ]
     },
     "execution_count": 9,
     "metadata": {},
     "output_type": "execute_result"
    }
   ],
   "source": [
    "# Revisar los registros que contienen vacíos en el atributo orden_id\n",
    "data['producto_id'].isna().sum()"
   ]
  },
  {
   "cell_type": "code",
   "execution_count": 11,
   "metadata": {},
   "outputs": [
    {
     "data": {
      "text/plain": [
       "752"
      ]
     },
     "execution_count": 11,
     "metadata": {},
     "output_type": "execute_result"
    }
   ],
   "source": [
    "# revisar que no existan valores duplicados en el atributo order_id\n",
    "len(data['producto_id'].unique())"
   ]
  },
  {
   "cell_type": "markdown",
   "metadata": {},
   "source": [
    "En este punto recordemos que la fuente tiene 1000 registros, de esta manera identificamos que hay 248 registros duplicados y es lo que queremos validar a continuación."
   ]
  },
  {
   "cell_type": "code",
   "execution_count": 12,
   "metadata": {
    "scrolled": true
   },
   "outputs": [
    {
     "data": {
      "text/plain": [
       "248"
      ]
     },
     "execution_count": 12,
     "metadata": {},
     "output_type": "execute_result"
    }
   ],
   "source": [
    "# contar los registros duplicados del atributo orden_id\n",
    "data.duplicated('producto_id').sum()"
   ]
  },
  {
   "cell_type": "markdown",
   "metadata": {},
   "source": [
    "En la validación del identificador vemos que no tenemos problemas de registros vacíos o nulos, pero si de duplicados. Pasamos a revisar el tema de los duplicados."
   ]
  },
  {
   "cell_type": "code",
   "execution_count": 13,
   "metadata": {
    "scrolled": true
   },
   "outputs": [
    {
     "data": {
      "text/html": [
       "<div>\n",
       "<style scoped>\n",
       "    .dataframe tbody tr th:only-of-type {\n",
       "        vertical-align: middle;\n",
       "    }\n",
       "\n",
       "    .dataframe tbody tr th {\n",
       "        vertical-align: top;\n",
       "    }\n",
       "\n",
       "    .dataframe thead th {\n",
       "        text-align: right;\n",
       "    }\n",
       "</style>\n",
       "<table border=\"1\" class=\"dataframe\">\n",
       "  <thead>\n",
       "    <tr style=\"text-align: right;\">\n",
       "      <th></th>\n",
       "      <th>producto_id</th>\n",
       "      <th>fecha_envio_limite</th>\n",
       "      <th>nombre_categoria_producto</th>\n",
       "      <th>longitud_nombre_producto</th>\n",
       "      <th>longitud_descripcion_producto</th>\n",
       "      <th>cantidad_fotos_producto</th>\n",
       "      <th>longitud_cm_producto</th>\n",
       "      <th>altura_cm_producto</th>\n",
       "      <th>ancho_cm_producto</th>\n",
       "    </tr>\n",
       "  </thead>\n",
       "  <tbody>\n",
       "    <tr>\n",
       "      <th>71</th>\n",
       "      <td>PI33</td>\n",
       "      <td>27/05/2018 14:06</td>\n",
       "      <td>Juguetes</td>\n",
       "      <td>29</td>\n",
       "      <td>38</td>\n",
       "      <td>40</td>\n",
       "      <td>15</td>\n",
       "      <td>14</td>\n",
       "      <td>16</td>\n",
       "    </tr>\n",
       "    <tr>\n",
       "      <th>109</th>\n",
       "      <td>PT66</td>\n",
       "      <td>28/05/2018 04:57</td>\n",
       "      <td>Tarjetas regalo</td>\n",
       "      <td>18</td>\n",
       "      <td>10</td>\n",
       "      <td>12</td>\n",
       "      <td>18</td>\n",
       "      <td>1</td>\n",
       "      <td>15</td>\n",
       "    </tr>\n",
       "    <tr>\n",
       "      <th>118</th>\n",
       "      <td>PR58</td>\n",
       "      <td>24/03/2018 22:25</td>\n",
       "      <td>Frutas y verduras</td>\n",
       "      <td>33</td>\n",
       "      <td>0</td>\n",
       "      <td>28</td>\n",
       "      <td>24</td>\n",
       "      <td>9</td>\n",
       "      <td>47</td>\n",
       "    </tr>\n",
       "    <tr>\n",
       "      <th>124</th>\n",
       "      <td>PI33</td>\n",
       "      <td>14/08/2017 23:23</td>\n",
       "      <td>Juguetes</td>\n",
       "      <td>4</td>\n",
       "      <td>22</td>\n",
       "      <td>24</td>\n",
       "      <td>51</td>\n",
       "      <td>30</td>\n",
       "      <td>32</td>\n",
       "    </tr>\n",
       "    <tr>\n",
       "      <th>134</th>\n",
       "      <td>PO44</td>\n",
       "      <td>16/06/2018 00:26</td>\n",
       "      <td>Productos ecoamigables</td>\n",
       "      <td>33</td>\n",
       "      <td>23</td>\n",
       "      <td>12</td>\n",
       "      <td>22</td>\n",
       "      <td>18</td>\n",
       "      <td>22</td>\n",
       "    </tr>\n",
       "  </tbody>\n",
       "</table>\n",
       "</div>"
      ],
      "text/plain": [
       "    producto_id fecha_envio_limite nombre_categoria_producto  \\\n",
       "71         PI33   27/05/2018 14:06                  Juguetes   \n",
       "109        PT66   28/05/2018 04:57           Tarjetas regalo   \n",
       "118        PR58   24/03/2018 22:25         Frutas y verduras   \n",
       "124        PI33   14/08/2017 23:23                  Juguetes   \n",
       "134        PO44   16/06/2018 00:26    Productos ecoamigables   \n",
       "\n",
       "     longitud_nombre_producto  longitud_descripcion_producto  \\\n",
       "71                         29                             38   \n",
       "109                        18                             10   \n",
       "118                        33                              0   \n",
       "124                         4                             22   \n",
       "134                        33                             23   \n",
       "\n",
       "     cantidad_fotos_producto  longitud_cm_producto  altura_cm_producto  \\\n",
       "71                        40                    15                  14   \n",
       "109                       12                    18                   1   \n",
       "118                       28                    24                   9   \n",
       "124                       24                    51                  30   \n",
       "134                       12                    22                  18   \n",
       "\n",
       "     ancho_cm_producto  \n",
       "71                  16  \n",
       "109                 15  \n",
       "118                 47  \n",
       "124                 32  \n",
       "134                 22  "
      ]
     },
     "execution_count": 13,
     "metadata": {},
     "output_type": "execute_result"
    }
   ],
   "source": [
    "# visualizar los datos duplicados de acuerdo con el identificador - orden_id\n",
    "data[data.duplicated('producto_id')].head()"
   ]
  },
  {
   "cell_type": "markdown",
   "metadata": {},
   "source": [
    "Con este resultado podemos ver algunas de las órdenes duplicadas, pero es necesario identificar cuáles son esos datos duplicados y sus características. "
   ]
  },
  {
   "cell_type": "code",
   "execution_count": 14,
   "metadata": {},
   "outputs": [
    {
     "data": {
      "text/html": [
       "<div>\n",
       "<style scoped>\n",
       "    .dataframe tbody tr th:only-of-type {\n",
       "        vertical-align: middle;\n",
       "    }\n",
       "\n",
       "    .dataframe tbody tr th {\n",
       "        vertical-align: top;\n",
       "    }\n",
       "\n",
       "    .dataframe thead th {\n",
       "        text-align: right;\n",
       "    }\n",
       "</style>\n",
       "<table border=\"1\" class=\"dataframe\">\n",
       "  <thead>\n",
       "    <tr style=\"text-align: right;\">\n",
       "      <th></th>\n",
       "      <th>producto_id</th>\n",
       "      <th>fecha_envio_limite</th>\n",
       "      <th>nombre_categoria_producto</th>\n",
       "      <th>longitud_nombre_producto</th>\n",
       "      <th>longitud_descripcion_producto</th>\n",
       "      <th>cantidad_fotos_producto</th>\n",
       "      <th>longitud_cm_producto</th>\n",
       "      <th>altura_cm_producto</th>\n",
       "      <th>ancho_cm_producto</th>\n",
       "    </tr>\n",
       "  </thead>\n",
       "  <tbody>\n",
       "    <tr>\n",
       "      <th>71</th>\n",
       "      <td>PI33</td>\n",
       "      <td>27/05/2018 14:06</td>\n",
       "      <td>Juguetes</td>\n",
       "      <td>29</td>\n",
       "      <td>38</td>\n",
       "      <td>40</td>\n",
       "      <td>15</td>\n",
       "      <td>14</td>\n",
       "      <td>16</td>\n",
       "    </tr>\n",
       "    <tr>\n",
       "      <th>109</th>\n",
       "      <td>PT66</td>\n",
       "      <td>28/05/2018 04:57</td>\n",
       "      <td>Tarjetas regalo</td>\n",
       "      <td>18</td>\n",
       "      <td>10</td>\n",
       "      <td>12</td>\n",
       "      <td>18</td>\n",
       "      <td>1</td>\n",
       "      <td>15</td>\n",
       "    </tr>\n",
       "    <tr>\n",
       "      <th>118</th>\n",
       "      <td>PR58</td>\n",
       "      <td>24/03/2018 22:25</td>\n",
       "      <td>Frutas y verduras</td>\n",
       "      <td>33</td>\n",
       "      <td>0</td>\n",
       "      <td>28</td>\n",
       "      <td>24</td>\n",
       "      <td>9</td>\n",
       "      <td>47</td>\n",
       "    </tr>\n",
       "    <tr>\n",
       "      <th>124</th>\n",
       "      <td>PI33</td>\n",
       "      <td>14/08/2017 23:23</td>\n",
       "      <td>Juguetes</td>\n",
       "      <td>4</td>\n",
       "      <td>22</td>\n",
       "      <td>24</td>\n",
       "      <td>51</td>\n",
       "      <td>30</td>\n",
       "      <td>32</td>\n",
       "    </tr>\n",
       "    <tr>\n",
       "      <th>134</th>\n",
       "      <td>PO44</td>\n",
       "      <td>16/06/2018 00:26</td>\n",
       "      <td>Productos ecoamigables</td>\n",
       "      <td>33</td>\n",
       "      <td>23</td>\n",
       "      <td>12</td>\n",
       "      <td>22</td>\n",
       "      <td>18</td>\n",
       "      <td>22</td>\n",
       "    </tr>\n",
       "    <tr>\n",
       "      <th>...</th>\n",
       "      <td>...</td>\n",
       "      <td>...</td>\n",
       "      <td>...</td>\n",
       "      <td>...</td>\n",
       "      <td>...</td>\n",
       "      <td>...</td>\n",
       "      <td>...</td>\n",
       "      <td>...</td>\n",
       "      <td>...</td>\n",
       "    </tr>\n",
       "    <tr>\n",
       "      <th>989</th>\n",
       "      <td>PP19</td>\n",
       "      <td>25/10/2017 17:07</td>\n",
       "      <td>Licor</td>\n",
       "      <td>7</td>\n",
       "      <td>12</td>\n",
       "      <td>32</td>\n",
       "      <td>38</td>\n",
       "      <td>6</td>\n",
       "      <td>19</td>\n",
       "    </tr>\n",
       "    <tr>\n",
       "      <th>990</th>\n",
       "      <td>PF97</td>\n",
       "      <td>30/04/2018 07:27</td>\n",
       "      <td>Muebles</td>\n",
       "      <td>13</td>\n",
       "      <td>38</td>\n",
       "      <td>35</td>\n",
       "      <td>2</td>\n",
       "      <td>28</td>\n",
       "      <td>15</td>\n",
       "    </tr>\n",
       "    <tr>\n",
       "      <th>992</th>\n",
       "      <td>PH32</td>\n",
       "      <td>22/11/2017 04:25</td>\n",
       "      <td>Bebés</td>\n",
       "      <td>21</td>\n",
       "      <td>40</td>\n",
       "      <td>9</td>\n",
       "      <td>30</td>\n",
       "      <td>21</td>\n",
       "      <td>40</td>\n",
       "    </tr>\n",
       "    <tr>\n",
       "      <th>996</th>\n",
       "      <td>PI26</td>\n",
       "      <td>10/02/2018 22:42</td>\n",
       "      <td>Juguetes</td>\n",
       "      <td>30</td>\n",
       "      <td>3</td>\n",
       "      <td>26</td>\n",
       "      <td>40</td>\n",
       "      <td>30</td>\n",
       "      <td>22</td>\n",
       "    </tr>\n",
       "    <tr>\n",
       "      <th>999</th>\n",
       "      <td>PC65</td>\n",
       "      <td>08/04/2018 18:38</td>\n",
       "      <td>Ropa infantil</td>\n",
       "      <td>30</td>\n",
       "      <td>14</td>\n",
       "      <td>24</td>\n",
       "      <td>43</td>\n",
       "      <td>16</td>\n",
       "      <td>29</td>\n",
       "    </tr>\n",
       "  </tbody>\n",
       "</table>\n",
       "<p>248 rows × 9 columns</p>\n",
       "</div>"
      ],
      "text/plain": [
       "    producto_id fecha_envio_limite nombre_categoria_producto  \\\n",
       "71         PI33   27/05/2018 14:06                  Juguetes   \n",
       "109        PT66   28/05/2018 04:57           Tarjetas regalo   \n",
       "118        PR58   24/03/2018 22:25         Frutas y verduras   \n",
       "124        PI33   14/08/2017 23:23                  Juguetes   \n",
       "134        PO44   16/06/2018 00:26    Productos ecoamigables   \n",
       "..          ...                ...                       ...   \n",
       "989        PP19   25/10/2017 17:07                     Licor   \n",
       "990        PF97   30/04/2018 07:27                   Muebles   \n",
       "992        PH32   22/11/2017 04:25                    Bebés    \n",
       "996        PI26   10/02/2018 22:42                  Juguetes   \n",
       "999        PC65   08/04/2018 18:38             Ropa infantil   \n",
       "\n",
       "     longitud_nombre_producto  longitud_descripcion_producto  \\\n",
       "71                         29                             38   \n",
       "109                        18                             10   \n",
       "118                        33                              0   \n",
       "124                         4                             22   \n",
       "134                        33                             23   \n",
       "..                        ...                            ...   \n",
       "989                         7                             12   \n",
       "990                        13                             38   \n",
       "992                        21                             40   \n",
       "996                        30                              3   \n",
       "999                        30                             14   \n",
       "\n",
       "     cantidad_fotos_producto  longitud_cm_producto  altura_cm_producto  \\\n",
       "71                        40                    15                  14   \n",
       "109                       12                    18                   1   \n",
       "118                       28                    24                   9   \n",
       "124                       24                    51                  30   \n",
       "134                       12                    22                  18   \n",
       "..                       ...                   ...                 ...   \n",
       "989                       32                    38                   6   \n",
       "990                       35                     2                  28   \n",
       "992                        9                    30                  21   \n",
       "996                       26                    40                  30   \n",
       "999                       24                    43                  16   \n",
       "\n",
       "     ancho_cm_producto  \n",
       "71                  16  \n",
       "109                 15  \n",
       "118                 47  \n",
       "124                 32  \n",
       "134                 22  \n",
       "..                 ...  \n",
       "989                 19  \n",
       "990                 15  \n",
       "992                 40  \n",
       "996                 22  \n",
       "999                 29  \n",
       "\n",
       "[248 rows x 9 columns]"
      ]
     },
     "execution_count": 14,
     "metadata": {},
     "output_type": "execute_result"
    }
   ],
   "source": [
    "# encontrar los registros en los que el identificador de la orden está duplicado pero los datos de la orden no.\n",
    "data[data.duplicated('producto_id') & ~data.duplicated()]"
   ]
  },
  {
   "cell_type": "markdown",
   "metadata": {},
   "source": [
    "Si bien es cierto que se identificaron estos registros como duplicados en el atributo orden_id, la siguiente tarea es analizar el contenido de las otras variables para terminar de comprender el problema."
   ]
  },
  {
   "cell_type": "code",
   "execution_count": 16,
   "metadata": {
    "scrolled": true
   },
   "outputs": [
    {
     "data": {
      "text/html": [
       "<div>\n",
       "<style scoped>\n",
       "    .dataframe tbody tr th:only-of-type {\n",
       "        vertical-align: middle;\n",
       "    }\n",
       "\n",
       "    .dataframe tbody tr th {\n",
       "        vertical-align: top;\n",
       "    }\n",
       "\n",
       "    .dataframe thead th {\n",
       "        text-align: right;\n",
       "    }\n",
       "</style>\n",
       "<table border=\"1\" class=\"dataframe\">\n",
       "  <thead>\n",
       "    <tr style=\"text-align: right;\">\n",
       "      <th></th>\n",
       "      <th>producto_id</th>\n",
       "      <th>fecha_envio_limite</th>\n",
       "      <th>nombre_categoria_producto</th>\n",
       "      <th>longitud_nombre_producto</th>\n",
       "      <th>longitud_descripcion_producto</th>\n",
       "      <th>cantidad_fotos_producto</th>\n",
       "      <th>longitud_cm_producto</th>\n",
       "      <th>altura_cm_producto</th>\n",
       "      <th>ancho_cm_producto</th>\n",
       "    </tr>\n",
       "  </thead>\n",
       "  <tbody>\n",
       "    <tr>\n",
       "      <th>19</th>\n",
       "      <td>PI33</td>\n",
       "      <td>16/06/2018 16:43</td>\n",
       "      <td>Juguetes</td>\n",
       "      <td>14</td>\n",
       "      <td>15</td>\n",
       "      <td>39</td>\n",
       "      <td>53</td>\n",
       "      <td>29</td>\n",
       "      <td>35</td>\n",
       "    </tr>\n",
       "    <tr>\n",
       "      <th>71</th>\n",
       "      <td>PI33</td>\n",
       "      <td>27/05/2018 14:06</td>\n",
       "      <td>Juguetes</td>\n",
       "      <td>29</td>\n",
       "      <td>38</td>\n",
       "      <td>40</td>\n",
       "      <td>15</td>\n",
       "      <td>14</td>\n",
       "      <td>16</td>\n",
       "    </tr>\n",
       "    <tr>\n",
       "      <th>124</th>\n",
       "      <td>PI33</td>\n",
       "      <td>14/08/2017 23:23</td>\n",
       "      <td>Juguetes</td>\n",
       "      <td>4</td>\n",
       "      <td>22</td>\n",
       "      <td>24</td>\n",
       "      <td>51</td>\n",
       "      <td>30</td>\n",
       "      <td>32</td>\n",
       "    </tr>\n",
       "    <tr>\n",
       "      <th>985</th>\n",
       "      <td>PI33</td>\n",
       "      <td>05/01/2018 15:04</td>\n",
       "      <td>Juguetes</td>\n",
       "      <td>36</td>\n",
       "      <td>9</td>\n",
       "      <td>2</td>\n",
       "      <td>57</td>\n",
       "      <td>34</td>\n",
       "      <td>3</td>\n",
       "    </tr>\n",
       "  </tbody>\n",
       "</table>\n",
       "</div>"
      ],
      "text/plain": [
       "    producto_id fecha_envio_limite nombre_categoria_producto  \\\n",
       "19         PI33   16/06/2018 16:43                  Juguetes   \n",
       "71         PI33   27/05/2018 14:06                  Juguetes   \n",
       "124        PI33   14/08/2017 23:23                  Juguetes   \n",
       "985        PI33   05/01/2018 15:04                  Juguetes   \n",
       "\n",
       "     longitud_nombre_producto  longitud_descripcion_producto  \\\n",
       "19                         14                             15   \n",
       "71                         29                             38   \n",
       "124                         4                             22   \n",
       "985                        36                              9   \n",
       "\n",
       "     cantidad_fotos_producto  longitud_cm_producto  altura_cm_producto  \\\n",
       "19                        39                    53                  29   \n",
       "71                        40                    15                  14   \n",
       "124                       24                    51                  30   \n",
       "985                        2                    57                  34   \n",
       "\n",
       "     ancho_cm_producto  \n",
       "19                  35  \n",
       "71                  16  \n",
       "124                 32  \n",
       "985                  3  "
      ]
     },
     "execution_count": 16,
     "metadata": {},
     "output_type": "execute_result"
    }
   ],
   "source": [
    "# revisar uno de los datos donde la orden está duplicada\n",
    "data[data['producto_id']=='PI33']"
   ]
  },
  {
   "cell_type": "markdown",
   "metadata": {},
   "source": [
    "En este caso, vemos dos registros con el mismo identificador de la orden. El último de los registros tiene valores diferentes para la fecha y el primero tiene los valores de precio y flete en ceros. Estos hallazgos deben ser validados con las personas del negocio."
   ]
  },
  {
   "cell_type": "markdown",
   "metadata": {},
   "source": [
    "### 3.3. Duplicados de la fuente de datos\n",
    "\n",
    "Una vez encontrado el identificador único podemos revisar cuáles son los registros que se están duplicando para realizar las correcciones necesarias. La existencia de estos registros puede deberse a diferentes razones, puede ser simplemente un error en la captura de información o algo más complejo, como que existan ordenes duplicadas en el sistema fuente. Por esto, la importancia de determinar los registros al parecer duplicados."
   ]
  },
  {
   "cell_type": "code",
   "execution_count": 17,
   "metadata": {},
   "outputs": [
    {
     "data": {
      "text/plain": [
       "0"
      ]
     },
     "execution_count": 17,
     "metadata": {},
     "output_type": "execute_result"
    }
   ],
   "source": [
    "# contar los registros duplicados de toda la fuente\n",
    "data.duplicated().sum()"
   ]
  },
  {
   "cell_type": "markdown",
   "metadata": {},
   "source": [
    "No hay registros duplicados."
   ]
  },
  {
   "cell_type": "code",
   "execution_count": 18,
   "metadata": {},
   "outputs": [
    {
     "data": {
      "text/plain": [
       "producto_id                      0\n",
       "fecha_envio_limite               0\n",
       "nombre_categoria_producto        0\n",
       "longitud_nombre_producto         0\n",
       "longitud_descripcion_producto    0\n",
       "cantidad_fotos_producto          0\n",
       "longitud_cm_producto             0\n",
       "altura_cm_producto               0\n",
       "ancho_cm_producto                0\n",
       "dtype: int64"
      ]
     },
     "execution_count": 18,
     "metadata": {},
     "output_type": "execute_result"
    }
   ],
   "source": [
    "# revisar el número de duplicados de todos los atributos con la función count\n",
    "data[data.duplicated()].count()"
   ]
  },
  {
   "cell_type": "code",
   "execution_count": 19,
   "metadata": {
    "scrolled": true
   },
   "outputs": [
    {
     "data": {
      "text/html": [
       "<div>\n",
       "<style scoped>\n",
       "    .dataframe tbody tr th:only-of-type {\n",
       "        vertical-align: middle;\n",
       "    }\n",
       "\n",
       "    .dataframe tbody tr th {\n",
       "        vertical-align: top;\n",
       "    }\n",
       "\n",
       "    .dataframe thead th {\n",
       "        text-align: right;\n",
       "    }\n",
       "</style>\n",
       "<table border=\"1\" class=\"dataframe\">\n",
       "  <thead>\n",
       "    <tr style=\"text-align: right;\">\n",
       "      <th></th>\n",
       "      <th>producto_id</th>\n",
       "      <th>fecha_envio_limite</th>\n",
       "      <th>nombre_categoria_producto</th>\n",
       "      <th>longitud_nombre_producto</th>\n",
       "      <th>longitud_descripcion_producto</th>\n",
       "      <th>cantidad_fotos_producto</th>\n",
       "      <th>longitud_cm_producto</th>\n",
       "      <th>altura_cm_producto</th>\n",
       "      <th>ancho_cm_producto</th>\n",
       "    </tr>\n",
       "  </thead>\n",
       "  <tbody>\n",
       "  </tbody>\n",
       "</table>\n",
       "</div>"
      ],
      "text/plain": [
       "Empty DataFrame\n",
       "Columns: [producto_id, fecha_envio_limite, nombre_categoria_producto, longitud_nombre_producto, longitud_descripcion_producto, cantidad_fotos_producto, longitud_cm_producto, altura_cm_producto, ancho_cm_producto]\n",
       "Index: []"
      ]
     },
     "execution_count": 19,
     "metadata": {},
     "output_type": "execute_result"
    }
   ],
   "source": [
    "# revisar el contenido de los registros duplicados\n",
    "data[data.duplicated()].head()"
   ]
  },
  {
   "cell_type": "code",
   "execution_count": 20,
   "metadata": {
    "scrolled": true
   },
   "outputs": [
    {
     "data": {
      "text/html": [
       "<div>\n",
       "<style scoped>\n",
       "    .dataframe tbody tr th:only-of-type {\n",
       "        vertical-align: middle;\n",
       "    }\n",
       "\n",
       "    .dataframe tbody tr th {\n",
       "        vertical-align: top;\n",
       "    }\n",
       "\n",
       "    .dataframe thead th {\n",
       "        text-align: right;\n",
       "    }\n",
       "</style>\n",
       "<table border=\"1\" class=\"dataframe\">\n",
       "  <thead>\n",
       "    <tr style=\"text-align: right;\">\n",
       "      <th></th>\n",
       "      <th>producto_id</th>\n",
       "      <th>fecha_envio_limite</th>\n",
       "      <th>nombre_categoria_producto</th>\n",
       "      <th>longitud_nombre_producto</th>\n",
       "      <th>longitud_descripcion_producto</th>\n",
       "      <th>cantidad_fotos_producto</th>\n",
       "      <th>longitud_cm_producto</th>\n",
       "      <th>altura_cm_producto</th>\n",
       "      <th>ancho_cm_producto</th>\n",
       "    </tr>\n",
       "  </thead>\n",
       "  <tbody>\n",
       "    <tr>\n",
       "      <th>337</th>\n",
       "      <td>PP19</td>\n",
       "      <td>16/10/2017 01:56</td>\n",
       "      <td>Licor</td>\n",
       "      <td>25</td>\n",
       "      <td>8</td>\n",
       "      <td>20</td>\n",
       "      <td>44</td>\n",
       "      <td>12</td>\n",
       "      <td>24</td>\n",
       "    </tr>\n",
       "    <tr>\n",
       "      <th>989</th>\n",
       "      <td>PP19</td>\n",
       "      <td>25/10/2017 17:07</td>\n",
       "      <td>Licor</td>\n",
       "      <td>7</td>\n",
       "      <td>12</td>\n",
       "      <td>32</td>\n",
       "      <td>38</td>\n",
       "      <td>6</td>\n",
       "      <td>19</td>\n",
       "    </tr>\n",
       "  </tbody>\n",
       "</table>\n",
       "</div>"
      ],
      "text/plain": [
       "    producto_id fecha_envio_limite nombre_categoria_producto  \\\n",
       "337        PP19   16/10/2017 01:56                     Licor   \n",
       "989        PP19   25/10/2017 17:07                     Licor   \n",
       "\n",
       "     longitud_nombre_producto  longitud_descripcion_producto  \\\n",
       "337                        25                              8   \n",
       "989                         7                             12   \n",
       "\n",
       "     cantidad_fotos_producto  longitud_cm_producto  altura_cm_producto  \\\n",
       "337                       20                    44                  12   \n",
       "989                       32                    38                   6   \n",
       "\n",
       "     ancho_cm_producto  \n",
       "337                 24  \n",
       "989                 19  "
      ]
     },
     "execution_count": 20,
     "metadata": {},
     "output_type": "execute_result"
    }
   ],
   "source": [
    "# revisar el contenido de uno de los registros duplicados\n",
    "data[data['producto_id']=='PP19']"
   ]
  },
  {
   "cell_type": "markdown",
   "metadata": {},
   "source": [
    "Con este hallazgo ya es más fácil reportar los casos encontrados."
   ]
  },
  {
   "cell_type": "markdown",
   "metadata": {},
   "source": [
    "### 4. Análisis de los atributos\n",
    "\n",
    "Para cada atributo es posible identificar el tipo de dato, el dominio en el que se encuentra, y si tienen algún patrón específico, por ejemplo, los precios deben ser valores numéricos positivos, en un rango particular. Con este análisis podemos revisar cuáles son las características principales de los atributos y continuar conociendo los datos y detectando posibles problemas en su calidad.\n"
   ]
  },
  {
   "cell_type": "markdown",
   "metadata": {},
   "source": [
    "### 4.1. Tipos de datos\n",
    "\n",
    "Debemos identificar en la fuente el tipo de datos de las variables que estamos analizando, para poder establecer su formato y su dominio."
   ]
  },
  {
   "cell_type": "code",
   "execution_count": 21,
   "metadata": {},
   "outputs": [
    {
     "data": {
      "text/plain": [
       "producto_id                      object\n",
       "fecha_envio_limite               object\n",
       "nombre_categoria_producto        object\n",
       "longitud_nombre_producto          int64\n",
       "longitud_descripcion_producto     int64\n",
       "cantidad_fotos_producto           int64\n",
       "longitud_cm_producto              int64\n",
       "altura_cm_producto                int64\n",
       "ancho_cm_producto                 int64\n",
       "dtype: object"
      ]
     },
     "execution_count": 21,
     "metadata": {},
     "output_type": "execute_result"
    }
   ],
   "source": [
    "#identificar los tipos de datos\n",
    "data.dtypes"
   ]
  },
  {
   "cell_type": "markdown",
   "metadata": {},
   "source": [
    "En nuestra fuente de datos tenemos tipos de datos numéricos y string, esto corresponde con las características del producto y los datos que se especifican en el diccionario, a excepción de los primeros identificadores que deben ser numéricos y del atributo fecha_envio_limite que debemos transformar a Datetime, como aprendimos en el tutorial anterior."
   ]
  },
  {
   "cell_type": "markdown",
   "metadata": {},
   "source": [
    "### 4.2. Dominio\n",
    "\n",
    "Debemos identificar en el diccionario de datos el dominio y corroborarlo con los datos."
   ]
  },
  {
   "cell_type": "code",
   "execution_count": 22,
   "metadata": {},
   "outputs": [
    {
     "data": {
      "text/plain": [
       "0"
      ]
     },
     "execution_count": 22,
     "metadata": {},
     "output_type": "execute_result"
    }
   ],
   "source": [
    "#identificar el dominio del atributo precio, primero el valor mínimo\n",
    "data['cantidad_fotos_producto'].min()"
   ]
  },
  {
   "cell_type": "code",
   "execution_count": 23,
   "metadata": {},
   "outputs": [
    {
     "data": {
      "text/plain": [
       "40"
      ]
     },
     "execution_count": 23,
     "metadata": {},
     "output_type": "execute_result"
    }
   ],
   "source": [
    "#identificar el dominio del atributo precio, en este punto el valor máximo\n",
    "data['cantidad_fotos_producto'].max()"
   ]
  },
  {
   "cell_type": "markdown",
   "metadata": {},
   "source": [
    "Vemos como el dominio de precio está entre los valores -594.4 y 771.49. La pregunta es, ¿Esto tiene sentido?"
   ]
  },
  {
   "cell_type": "markdown",
   "metadata": {},
   "source": [
    "### 4.3. Patrones\n",
    "\n",
    "Debemos identificar los patrones de algunos de los atributos. En este caso el formato de la columna fecha_envio_límite y el código postal, por lo tanto vamos a realizar las siguientes actividades:\n",
    "\n",
    "* Revisar formato del atributo fecha.\n",
    "* Entender el formato de código postal."
   ]
  },
  {
   "cell_type": "code",
   "execution_count": 25,
   "metadata": {},
   "outputs": [
    {
     "data": {
      "text/html": [
       "<div>\n",
       "<style scoped>\n",
       "    .dataframe tbody tr th:only-of-type {\n",
       "        vertical-align: middle;\n",
       "    }\n",
       "\n",
       "    .dataframe tbody tr th {\n",
       "        vertical-align: top;\n",
       "    }\n",
       "\n",
       "    .dataframe thead th {\n",
       "        text-align: right;\n",
       "    }\n",
       "</style>\n",
       "<table border=\"1\" class=\"dataframe\">\n",
       "  <thead>\n",
       "    <tr style=\"text-align: right;\">\n",
       "      <th></th>\n",
       "      <th>fecha_envio_limite</th>\n",
       "    </tr>\n",
       "  </thead>\n",
       "  <tbody>\n",
       "    <tr>\n",
       "      <th>0</th>\n",
       "      <td>19/09/2017 07:24</td>\n",
       "    </tr>\n",
       "    <tr>\n",
       "      <th>1</th>\n",
       "      <td>22/01/2018 11:30</td>\n",
       "    </tr>\n",
       "    <tr>\n",
       "      <th>2</th>\n",
       "      <td>09/12/2017 15:09</td>\n",
       "    </tr>\n",
       "    <tr>\n",
       "      <th>3</th>\n",
       "      <td>04/05/2018 04:15</td>\n",
       "    </tr>\n",
       "    <tr>\n",
       "      <th>4</th>\n",
       "      <td>17/09/2017 23:24</td>\n",
       "    </tr>\n",
       "    <tr>\n",
       "      <th>...</th>\n",
       "      <td>...</td>\n",
       "    </tr>\n",
       "    <tr>\n",
       "      <th>995</th>\n",
       "      <td>24/02/2018 02:58</td>\n",
       "    </tr>\n",
       "    <tr>\n",
       "      <th>996</th>\n",
       "      <td>10/02/2018 22:42</td>\n",
       "    </tr>\n",
       "    <tr>\n",
       "      <th>997</th>\n",
       "      <td>07/08/2017 03:24</td>\n",
       "    </tr>\n",
       "    <tr>\n",
       "      <th>998</th>\n",
       "      <td>19/12/2017 00:54</td>\n",
       "    </tr>\n",
       "    <tr>\n",
       "      <th>999</th>\n",
       "      <td>08/04/2018 18:38</td>\n",
       "    </tr>\n",
       "  </tbody>\n",
       "</table>\n",
       "<p>1000 rows × 1 columns</p>\n",
       "</div>"
      ],
      "text/plain": [
       "    fecha_envio_limite\n",
       "0     19/09/2017 07:24\n",
       "1     22/01/2018 11:30\n",
       "2     09/12/2017 15:09\n",
       "3     04/05/2018 04:15\n",
       "4     17/09/2017 23:24\n",
       "..                 ...\n",
       "995   24/02/2018 02:58\n",
       "996   10/02/2018 22:42\n",
       "997   07/08/2017 03:24\n",
       "998   19/12/2017 00:54\n",
       "999   08/04/2018 18:38\n",
       "\n",
       "[1000 rows x 1 columns]"
      ]
     },
     "execution_count": 25,
     "metadata": {},
     "output_type": "execute_result"
    }
   ],
   "source": [
    "#visualizar los datos que se van a corregir\n",
    "data[['fecha_envio_limite']]"
   ]
  },
  {
   "cell_type": "markdown",
   "metadata": {},
   "source": [
    "Las fechas poseen un formato adecuado, pero estan registradas como object."
   ]
  },
  {
   "cell_type": "markdown",
   "metadata": {},
   "source": [
    "### 4.4. Atributos vacíos\n",
    "\n",
    "Uno de los pasos más importantes para el negocio es identificar qué atributos están vacíos, ya que esto puede alterar los resultados de los análisis que se están presentando, e incluso, en algunos casos, generar alguna pérdida económica si no está bien identificado."
   ]
  },
  {
   "cell_type": "code",
   "execution_count": 26,
   "metadata": {
    "scrolled": true
   },
   "outputs": [
    {
     "data": {
      "text/plain": [
       "producto_id                      0\n",
       "fecha_envio_limite               0\n",
       "nombre_categoria_producto        0\n",
       "longitud_nombre_producto         0\n",
       "longitud_descripcion_producto    0\n",
       "cantidad_fotos_producto          0\n",
       "longitud_cm_producto             0\n",
       "altura_cm_producto               0\n",
       "ancho_cm_producto                0\n",
       "dtype: int64"
      ]
     },
     "execution_count": 26,
     "metadata": {},
     "output_type": "execute_result"
    }
   ],
   "source": [
    "# Revisar los atributos que contienen vacíos\n",
    "data.isna().sum()"
   ]
  },
  {
   "cell_type": "code",
   "execution_count": 27,
   "metadata": {
    "scrolled": true
   },
   "outputs": [
    {
     "data": {
      "text/plain": [
       "producto_id                      0.0\n",
       "fecha_envio_limite               0.0\n",
       "nombre_categoria_producto        0.0\n",
       "longitud_nombre_producto         0.0\n",
       "longitud_descripcion_producto    0.0\n",
       "cantidad_fotos_producto          0.0\n",
       "longitud_cm_producto             0.0\n",
       "altura_cm_producto               0.0\n",
       "ancho_cm_producto                0.0\n",
       "dtype: float64"
      ]
     },
     "execution_count": 27,
     "metadata": {},
     "output_type": "execute_result"
    }
   ],
   "source": [
    "#porcentaje de nulos por variable\n",
    "data.isna().sum()/len(data)"
   ]
  },
  {
   "cell_type": "markdown",
   "metadata": {},
   "source": [
    "No hay atributos con datos vacios."
   ]
  },
  {
   "cell_type": "markdown",
   "metadata": {},
   "source": [
    "### 4.5. Uso de estadística\n",
    "\n",
    "Apoyado en el uso de estadística descriptiva, (i.e., medidas de tendencia central y dispersión), es posible entender las distribuciones y patrones de los atributos. De igual manera, identificar valores faltantes, valores atípicos entre otros, utilizando estadísticos como el mínimo, el máximo, y la media."
   ]
  },
  {
   "cell_type": "code",
   "execution_count": 28,
   "metadata": {
    "scrolled": true
   },
   "outputs": [
    {
     "data": {
      "text/html": [
       "<div>\n",
       "<style scoped>\n",
       "    .dataframe tbody tr th:only-of-type {\n",
       "        vertical-align: middle;\n",
       "    }\n",
       "\n",
       "    .dataframe tbody tr th {\n",
       "        vertical-align: top;\n",
       "    }\n",
       "\n",
       "    .dataframe thead th {\n",
       "        text-align: right;\n",
       "    }\n",
       "</style>\n",
       "<table border=\"1\" class=\"dataframe\">\n",
       "  <thead>\n",
       "    <tr style=\"text-align: right;\">\n",
       "      <th></th>\n",
       "      <th>longitud_nombre_producto</th>\n",
       "      <th>longitud_descripcion_producto</th>\n",
       "      <th>cantidad_fotos_producto</th>\n",
       "      <th>longitud_cm_producto</th>\n",
       "      <th>altura_cm_producto</th>\n",
       "      <th>ancho_cm_producto</th>\n",
       "    </tr>\n",
       "  </thead>\n",
       "  <tbody>\n",
       "    <tr>\n",
       "      <th>count</th>\n",
       "      <td>1000.000000</td>\n",
       "      <td>1000.000000</td>\n",
       "      <td>1000.000000</td>\n",
       "      <td>1000.000000</td>\n",
       "      <td>1000.000000</td>\n",
       "      <td>1000.000000</td>\n",
       "    </tr>\n",
       "    <tr>\n",
       "      <th>mean</th>\n",
       "      <td>20.412000</td>\n",
       "      <td>19.961000</td>\n",
       "      <td>20.384000</td>\n",
       "      <td>30.104000</td>\n",
       "      <td>17.736000</td>\n",
       "      <td>23.182000</td>\n",
       "    </tr>\n",
       "    <tr>\n",
       "      <th>std</th>\n",
       "      <td>11.876671</td>\n",
       "      <td>12.086586</td>\n",
       "      <td>11.606518</td>\n",
       "      <td>14.870316</td>\n",
       "      <td>11.522633</td>\n",
       "      <td>11.433617</td>\n",
       "    </tr>\n",
       "    <tr>\n",
       "      <th>min</th>\n",
       "      <td>0.000000</td>\n",
       "      <td>0.000000</td>\n",
       "      <td>0.000000</td>\n",
       "      <td>0.000000</td>\n",
       "      <td>0.000000</td>\n",
       "      <td>0.000000</td>\n",
       "    </tr>\n",
       "    <tr>\n",
       "      <th>25%</th>\n",
       "      <td>10.000000</td>\n",
       "      <td>9.000000</td>\n",
       "      <td>11.000000</td>\n",
       "      <td>19.000000</td>\n",
       "      <td>8.750000</td>\n",
       "      <td>15.000000</td>\n",
       "    </tr>\n",
       "    <tr>\n",
       "      <th>50%</th>\n",
       "      <td>21.000000</td>\n",
       "      <td>20.000000</td>\n",
       "      <td>20.000000</td>\n",
       "      <td>29.000000</td>\n",
       "      <td>16.000000</td>\n",
       "      <td>23.000000</td>\n",
       "    </tr>\n",
       "    <tr>\n",
       "      <th>75%</th>\n",
       "      <td>31.000000</td>\n",
       "      <td>30.250000</td>\n",
       "      <td>30.000000</td>\n",
       "      <td>40.000000</td>\n",
       "      <td>26.000000</td>\n",
       "      <td>31.000000</td>\n",
       "    </tr>\n",
       "    <tr>\n",
       "      <th>max</th>\n",
       "      <td>40.000000</td>\n",
       "      <td>40.000000</td>\n",
       "      <td>40.000000</td>\n",
       "      <td>74.000000</td>\n",
       "      <td>61.000000</td>\n",
       "      <td>64.000000</td>\n",
       "    </tr>\n",
       "  </tbody>\n",
       "</table>\n",
       "</div>"
      ],
      "text/plain": [
       "       longitud_nombre_producto  longitud_descripcion_producto  \\\n",
       "count               1000.000000                    1000.000000   \n",
       "mean                  20.412000                      19.961000   \n",
       "std                   11.876671                      12.086586   \n",
       "min                    0.000000                       0.000000   \n",
       "25%                   10.000000                       9.000000   \n",
       "50%                   21.000000                      20.000000   \n",
       "75%                   31.000000                      30.250000   \n",
       "max                   40.000000                      40.000000   \n",
       "\n",
       "       cantidad_fotos_producto  longitud_cm_producto  altura_cm_producto  \\\n",
       "count              1000.000000           1000.000000         1000.000000   \n",
       "mean                 20.384000             30.104000           17.736000   \n",
       "std                  11.606518             14.870316           11.522633   \n",
       "min                   0.000000              0.000000            0.000000   \n",
       "25%                  11.000000             19.000000            8.750000   \n",
       "50%                  20.000000             29.000000           16.000000   \n",
       "75%                  30.000000             40.000000           26.000000   \n",
       "max                  40.000000             74.000000           61.000000   \n",
       "\n",
       "       ancho_cm_producto  \n",
       "count        1000.000000  \n",
       "mean           23.182000  \n",
       "std            11.433617  \n",
       "min             0.000000  \n",
       "25%            15.000000  \n",
       "50%            23.000000  \n",
       "75%            31.000000  \n",
       "max            64.000000  "
      ]
     },
     "execution_count": 28,
     "metadata": {},
     "output_type": "execute_result"
    }
   ],
   "source": [
    "# Estadísticas básicas para las variables numéricas\n",
    "data.describe()"
   ]
  },
  {
   "cell_type": "code",
   "execution_count": 30,
   "metadata": {},
   "outputs": [
    {
     "data": {
      "text/plain": [
       "9"
      ]
     },
     "execution_count": 30,
     "metadata": {},
     "output_type": "execute_result"
    }
   ],
   "source": [
    "# consultar el número de registros con longitud_nombre_producto negativos\n",
    "len(data[data['longitud_nombre_producto']<=0].columns)"
   ]
  },
  {
   "cell_type": "code",
   "execution_count": 31,
   "metadata": {},
   "outputs": [
    {
     "data": {
      "text/plain": [
       "9"
      ]
     },
     "execution_count": 31,
     "metadata": {},
     "output_type": "execute_result"
    }
   ],
   "source": [
    "# consultar el número de registros con longitud_cm_producto iguales a cero o negativos\n",
    "len(data[data['longitud_cm_producto']<=0].columns)"
   ]
  },
  {
   "cell_type": "markdown",
   "metadata": {},
   "source": [
    "Como vemos con la ayuda de la estadística descriptiva identificamos varios problemas:\n",
    "* Existen registros de productos con precio negativo.\n",
    "* Existen registros de productos con peso menores o iguales a cero.\n",
    "\n",
    "De nuevo la pregunta es si esto es correcto o es un problema de calidad."
   ]
  },
  {
   "cell_type": "markdown",
   "metadata": {},
   "source": [
    "### 4.6. Estadísticas sobre datos categóricos\n",
    "\n",
    "Con los atributos que son de tipo string y tienen categorías, como por ejemplo el departamento de estudio, se puede ver rápidamente si hay problemas."
   ]
  },
  {
   "cell_type": "code",
   "execution_count": 32,
   "metadata": {
    "scrolled": true
   },
   "outputs": [
    {
     "data": {
      "text/plain": [
       "Index(['producto_id', 'fecha_envio_limite', 'nombre_categoria_producto'], dtype='object')"
      ]
     },
     "execution_count": 32,
     "metadata": {},
     "output_type": "execute_result"
    }
   ],
   "source": [
    "#identificar las columnas de tipo string, si no se toma de la descripción inicial de la fuente de datos\n",
    "data.select_dtypes(include='object').columns"
   ]
  },
  {
   "cell_type": "markdown",
   "metadata": {},
   "source": [
    "Al revisar este resultado, ratificamos el hecho de que hay problemas de tipos de datos, los cuales debemos corregir. Este es el caso de orden_id, producto_id, vendedor_id, fecha_envío_limite. Vamos a continuar con los que en realidad son categóricos."
   ]
  },
  {
   "cell_type": "code",
   "execution_count": 33,
   "metadata": {},
   "outputs": [
    {
     "name": "stdout",
     "output_type": "stream",
     "text": [
      "Atributo: nombre_categoria_producto\n",
      "Ropa de adultos           70\n",
      "Mascotas                  69\n",
      "Juguetes                  65\n",
      "Tarjetas regalo           60\n",
      "Frutas y verduras         57\n",
      "Tecnología                55\n",
      "Celulares                 51\n",
      "Bebés                     50\n",
      "Libros                    49\n",
      "Deportes                  48\n",
      "Licor                     48\n",
      "Ropa infantil             46\n",
      "Ferretería                45\n",
      "Lácteos                   44\n",
      "Muebles                   44\n",
      "Productos ecoamigables    43\n",
      "Electrodomésticos         42\n",
      "Dormitorio                41\n",
      "Salud                     39\n",
      "Carnicería                34\n",
      "Name: nombre_categoria_producto, dtype: int64\n"
     ]
    }
   ],
   "source": [
    "# contar los valores de cada atributo categórico\n",
    "for i in ['nombre_categoria_producto']:\n",
    "    print('Atributo: '+ i)\n",
    "    print(data[i].value_counts())"
   ]
  },
  {
   "cell_type": "markdown",
   "metadata": {},
   "source": [
    "### 5. Analizar grupos de atributos\n",
    "\n",
    "Identificar relaciones entre atributos como dependencia entre ellos. Esta información nos puede llevar más adelante a retirar algunos de los atributos.\n"
   ]
  },
  {
   "cell_type": "markdown",
   "metadata": {},
   "source": [
    "### 5.1. Identificar relaciones entre las variables\n",
    "\n",
    "En este caso se tiene una variable que es el volúmen de producto que se determina a partir de la longitud, anchura y altura, en la *sección 4.5. de este notebook* vimos que existen valores ceros en esta variable lo cual no debería presentarse ya que un producto, siempre debe contar con un volumen,y dados los valores que tienen las otras variables con las que se calcula este valor. Este caso es cuando conocemos las relaciones entre los atributos. Otro análisis, es el de descubrir relaciones entre columnas, que lo revisaremos más adelante en el curso.\n"
   ]
  },
  {
   "cell_type": "markdown",
   "metadata": {},
   "source": [
    "### 6. Perfilamiento con pandas_profiling\n",
    "\n",
    "Para terminar, vamos a revisar otra estrategia que nos permite generar informes sobre el perfilamiento de datos, a partir de un DataFrame de pandas. Las funciones que revisamos previamente aunque nos permiten analizar los datos, puede ser básica para un análisis de datos exploratorio más sofisticado. En esos casos, pandas_profiling puede aportar ya que extiende el DataFrame de pandas con df.profile_report () para un análisis rápido de datos.\n",
    "\n",
    "Para cada columna, genera las siguientes estadísticas, si son relevantes para el tipo de columna, se presentan en un informe HTML interactivo:\n",
    "\n",
    "1. Inferencia de tipo: detecta los tipos de columnas en un dataframe.\n",
    "2. Esenciales: tipo, valores únicos, valores faltantes.\n",
    "3. Estadísticas de cuantiles como valor mínimo, Q1, mediana, Q3, máximo, rango, rango intercuartílico. Esta opción es bastante útil para identificar datos atípicos.\n",
    "4. Estadísticas descriptivas como media, moda, desviación estándar, suma, desviación absoluta mediana, coeficiente de variación, curtosis, asimetría.\n",
    "5. Valores más frecuentes.\n",
    "6. Histogramas.\n",
    "7. Correlaciones destacando variables altamente correlacionadas, matrices de Spearman, Pearson y Kendall. Esto permite descubrir relaciones entre atributos.\n",
    "8. Matriz de valores faltantes, recuento, mapa de calor y dendrograma de valores faltantes\n",
    "\n",
    "Tomado de la librería oficial de pandas_profiling en [github](https://github.com/pandas-profiling/pandas-profiling)\n",
    "\n",
    "Lo más importante al utilizar esta librería es recordar que lo fundamental son los análisis que hagamos sobre estos reportes."
   ]
  },
  {
   "cell_type": "code",
   "execution_count": 34,
   "metadata": {},
   "outputs": [
    {
     "ename": "NameError",
     "evalue": "name 'pandas_profiling' is not defined",
     "output_type": "error",
     "traceback": [
      "\u001b[1;31m---------------------------------------------------------------------------\u001b[0m",
      "\u001b[1;31mNameError\u001b[0m                                 Traceback (most recent call last)",
      "Input \u001b[1;32mIn [34]\u001b[0m, in \u001b[0;36m<cell line: 5>\u001b[1;34m()\u001b[0m\n\u001b[0;32m      1\u001b[0m \u001b[38;5;66;03m## Asegúrese de tener la última versión de pandas profiling instalada\u001b[39;00m\n\u001b[0;32m      2\u001b[0m \u001b[38;5;66;03m#!pip3 install pandas_profiling --upgrade\u001b[39;00m\n\u001b[0;32m      3\u001b[0m \n\u001b[0;32m      4\u001b[0m \u001b[38;5;66;03m## Generar objeto de perfilamiento de datos. Esta función puede tardar un par de minutos.\u001b[39;00m\n\u001b[1;32m----> 5\u001b[0m perfilamiento\u001b[38;5;241m=\u001b[39m\u001b[43mpandas_profiling\u001b[49m\u001b[38;5;241m.\u001b[39mProfileReport(data)\n\u001b[0;32m      6\u001b[0m perfilamiento\n",
      "\u001b[1;31mNameError\u001b[0m: name 'pandas_profiling' is not defined"
     ]
    }
   ],
   "source": [
    "## Asegúrese de tener la última versión de pandas profiling instalada\n",
    "#!pip3 install pandas_profiling --upgrade\n",
    "\n",
    "## Generar objeto de perfilamiento de datos. Esta función puede tardar un par de minutos.\n",
    "perfilamiento=pandas_profiling.ProfileReport(data)\n",
    "perfilamiento"
   ]
  },
  {
   "cell_type": "code",
   "execution_count": null,
   "metadata": {},
   "outputs": [],
   "source": []
  },
  {
   "cell_type": "markdown",
   "metadata": {},
   "source": [
    "La invitación es a revisarlo en detalle y mirar cómo lograr los análisis que realizamos en este tutorial."
   ]
  },
  {
   "cell_type": "code",
   "execution_count": 32,
   "metadata": {},
   "outputs": [
    {
     "data": {
      "application/vnd.jupyter.widget-view+json": {
       "model_id": "4c8c36de263c48fa930dac9f6e3a3d81",
       "version_major": 2,
       "version_minor": 0
      },
      "text/plain": [
       "Export report to file:   0%|          | 0/1 [00:00<?, ?it/s]"
      ]
     },
     "metadata": {},
     "output_type": "display_data"
    }
   ],
   "source": [
    "#Escribir el perfilamiento de los datos en formato html\n",
    "perfilamiento.to_file(\"ReportPerfil-ordenes-por-producto.html\")"
   ]
  },
  {
   "cell_type": "markdown",
   "metadata": {},
   "source": [
    "### Caso de extensión\n",
    "Con el archivo de productos_por_fecha en el cual se encuentran los productos que se han vendido por fecha, además de realizar los siguientes puntos para el archivo dado, contempla cuál sería el problema para el negocio con los problemas identificados\n",
    "\n",
    "+ Revisa cuántos registros y atributos tiene la fuente de datos.\n",
    "+ Revisa el identificador único de la fuente de datos.\n",
    "+ Valida cuántos datos están duplicados en la fuente de datos.\n",
    "+ Revisa qué tipos de datos trae la fuente de datos.\n",
    "+ Identifica el dominio para los atributos de volumen, altura, anchura y largo del producto.\n",
    "+ Identifica el patrón de la fecha que se presenta en el archivo.\n",
    "+ Encuentra los valores vacíos.\n",
    "+ Con el uso de estadística muestra dónde existen posibles errores en los datos.\n",
    "+ Identifica qué problemas se presentan con el volumen de los productos.\n",
    "+ Encuentra los valores de las categorías para el nombre_categoria_producto.\n",
    "+ Genera un reporte de perfilamiento de datos."
   ]
  }
 ],
 "metadata": {
  "kernelspec": {
   "display_name": "Python 3 (ipykernel)",
   "language": "python",
   "name": "python3"
  },
  "language_info": {
   "codemirror_mode": {
    "name": "ipython",
    "version": 3
   },
   "file_extension": ".py",
   "mimetype": "text/x-python",
   "name": "python",
   "nbconvert_exporter": "python",
   "pygments_lexer": "ipython3",
   "version": "3.9.12"
  }
 },
 "nbformat": 4,
 "nbformat_minor": 4
}
