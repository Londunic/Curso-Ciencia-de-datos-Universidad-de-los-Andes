{
 "cells": [
  {
   "cell_type": "markdown",
   "metadata": {},
   "source": [
    "# Integración y preparación de datos\n",
    "\n",
    "## Visualización de datos"
   ]
  },
  {
   "cell_type": "markdown",
   "metadata": {},
   "source": [
    "### 1. Importación de librerías y archivos\n",
    "\n",
    "En las siguientes líneas se importarán las librerías necesarias, las cuales son **Pandas** para el manejo de datos, **matplotlib** para realizar gráficas."
   ]
  },
  {
   "cell_type": "code",
   "execution_count": 1,
   "metadata": {},
   "outputs": [],
   "source": [
    "# Importar las librerías necesarias según el análisis que se vaya a realizar\n",
    "# Librería para manejo de datos convencional\n",
    "import pandas as pd\n",
    "#librería para creación de gráficos\n",
    "import matplotlib.pyplot as plt"
   ]
  },
  {
   "cell_type": "code",
   "execution_count": 2,
   "metadata": {
    "scrolled": true
   },
   "outputs": [
    {
     "data": {
      "text/html": [
       "<div>\n",
       "<style scoped>\n",
       "    .dataframe tbody tr th:only-of-type {\n",
       "        vertical-align: middle;\n",
       "    }\n",
       "\n",
       "    .dataframe tbody tr th {\n",
       "        vertical-align: top;\n",
       "    }\n",
       "\n",
       "    .dataframe thead th {\n",
       "        text-align: right;\n",
       "    }\n",
       "</style>\n",
       "<table border=\"1\" class=\"dataframe\">\n",
       "  <thead>\n",
       "    <tr style=\"text-align: right;\">\n",
       "      <th></th>\n",
       "      <th>producto_id</th>\n",
       "      <th>fecha_envio_limite</th>\n",
       "      <th>nombre_categoria_producto</th>\n",
       "      <th>longitud_nombre_producto</th>\n",
       "      <th>longitud_descripcion_producto</th>\n",
       "      <th>cantidad_fotos_producto</th>\n",
       "      <th>longitud_cm_producto</th>\n",
       "      <th>altura_cm_producto</th>\n",
       "      <th>ancho_cm_producto</th>\n",
       "    </tr>\n",
       "  </thead>\n",
       "  <tbody>\n",
       "    <tr>\n",
       "      <th>0</th>\n",
       "      <td>PT66</td>\n",
       "      <td>19/09/2017 07:24</td>\n",
       "      <td>Tarjetas regalo</td>\n",
       "      <td>6</td>\n",
       "      <td>34</td>\n",
       "      <td>18</td>\n",
       "      <td>50</td>\n",
       "      <td>9</td>\n",
       "      <td>12</td>\n",
       "    </tr>\n",
       "    <tr>\n",
       "      <th>1</th>\n",
       "      <td>PB76</td>\n",
       "      <td>22/01/2018 11:30</td>\n",
       "      <td>Ropa de adultos</td>\n",
       "      <td>10</td>\n",
       "      <td>39</td>\n",
       "      <td>0</td>\n",
       "      <td>26</td>\n",
       "      <td>24</td>\n",
       "      <td>23</td>\n",
       "    </tr>\n",
       "    <tr>\n",
       "      <th>2</th>\n",
       "      <td>PJ55</td>\n",
       "      <td>09/12/2017 15:09</td>\n",
       "      <td>Mascotas</td>\n",
       "      <td>25</td>\n",
       "      <td>12</td>\n",
       "      <td>3</td>\n",
       "      <td>51</td>\n",
       "      <td>2</td>\n",
       "      <td>28</td>\n",
       "    </tr>\n",
       "    <tr>\n",
       "      <th>3</th>\n",
       "      <td>PO85</td>\n",
       "      <td>04/05/2018 04:15</td>\n",
       "      <td>Productos ecoamigables</td>\n",
       "      <td>33</td>\n",
       "      <td>25</td>\n",
       "      <td>25</td>\n",
       "      <td>19</td>\n",
       "      <td>26</td>\n",
       "      <td>28</td>\n",
       "    </tr>\n",
       "    <tr>\n",
       "      <th>4</th>\n",
       "      <td>PG31</td>\n",
       "      <td>17/09/2017 23:24</td>\n",
       "      <td>Salud</td>\n",
       "      <td>34</td>\n",
       "      <td>22</td>\n",
       "      <td>11</td>\n",
       "      <td>39</td>\n",
       "      <td>19</td>\n",
       "      <td>40</td>\n",
       "    </tr>\n",
       "  </tbody>\n",
       "</table>\n",
       "</div>"
      ],
      "text/plain": [
       "  producto_id fecha_envio_limite nombre_categoria_producto  \\\n",
       "0        PT66   19/09/2017 07:24           Tarjetas regalo   \n",
       "1        PB76   22/01/2018 11:30           Ropa de adultos   \n",
       "2        PJ55   09/12/2017 15:09                  Mascotas   \n",
       "3        PO85   04/05/2018 04:15    Productos ecoamigables   \n",
       "4        PG31   17/09/2017 23:24                     Salud   \n",
       "\n",
       "   longitud_nombre_producto  longitud_descripcion_producto  \\\n",
       "0                         6                             34   \n",
       "1                        10                             39   \n",
       "2                        25                             12   \n",
       "3                        33                             25   \n",
       "4                        34                             22   \n",
       "\n",
       "   cantidad_fotos_producto  longitud_cm_producto  altura_cm_producto  \\\n",
       "0                       18                    50                   9   \n",
       "1                        0                    26                  24   \n",
       "2                        3                    51                   2   \n",
       "3                       25                    19                  26   \n",
       "4                       11                    39                  19   \n",
       "\n",
       "   ancho_cm_producto  \n",
       "0                 12  \n",
       "1                 23  \n",
       "2                 28  \n",
       "3                 28  \n",
       "4                 40  "
      ]
     },
     "execution_count": 2,
     "metadata": {},
     "output_type": "execute_result"
    }
   ],
   "source": [
    "# cargar los datos en csv\n",
    "# se cargan 1000 datos para que los gráficos sean más rápidos de procesar\n",
    "data= pd.read_csv('productos_por_fecha.csv', sep=';', nrows=1000,encoding=\"latin-1\")\n",
    "# Visualizar los datos\n",
    "data.head()"
   ]
  },
  {
   "cell_type": "markdown",
   "metadata": {},
   "source": [
    "### 3. Análisis de la fuente de los datos\n",
    "\n",
    "### 3.1. Registros y atributos\n",
    "El número de registros y atributos nos dará una guía del correcto cargue de los datos, podemos utilizar la función shape para la revisión de este dato."
   ]
  },
  {
   "cell_type": "code",
   "execution_count": 3,
   "metadata": {},
   "outputs": [
    {
     "data": {
      "text/plain": [
       "(1000, 9)"
      ]
     },
     "execution_count": 3,
     "metadata": {},
     "output_type": "execute_result"
    }
   ],
   "source": [
    "# dimensión de la fuente de datos\n",
    "data.shape"
   ]
  },
  {
   "cell_type": "code",
   "execution_count": 4,
   "metadata": {
    "scrolled": true
   },
   "outputs": [
    {
     "data": {
      "text/plain": [
       "producto_id                      object\n",
       "fecha_envio_limite               object\n",
       "nombre_categoria_producto        object\n",
       "longitud_nombre_producto          int64\n",
       "longitud_descripcion_producto     int64\n",
       "cantidad_fotos_producto           int64\n",
       "longitud_cm_producto              int64\n",
       "altura_cm_producto                int64\n",
       "ancho_cm_producto                 int64\n",
       "dtype: object"
      ]
     },
     "execution_count": 4,
     "metadata": {},
     "output_type": "execute_result"
    }
   ],
   "source": [
    "# identificar los tipos de datos\n",
    "data.dtypes"
   ]
  },
  {
   "cell_type": "markdown",
   "metadata": {},
   "source": [
    "### 3. Diagramas\n",
    "\n",
    "### 3.1. Diagrama de línea\n",
    "\n",
    "El gráfico de línea muestra una relación lineal entre dos atributos:\n",
    "\n",
    "* Usa el plano cartesiano para mostrar los datos y una línea para unirlos.\n",
    "* Las variables son continuas.\n",
    "* Ordena típicamente el eje de las X para mostrarlo.\n",
    "* Puede mostrar tendencias.\n",
    "\n",
    "Vamos a revisar las ventas totales por días en la organización durante el 2017."
   ]
  },
  {
   "cell_type": "code",
   "execution_count": 7,
   "metadata": {
    "scrolled": true
   },
   "outputs": [
    {
     "data": {
      "text/html": [
       "<div>\n",
       "<style scoped>\n",
       "    .dataframe tbody tr th:only-of-type {\n",
       "        vertical-align: middle;\n",
       "    }\n",
       "\n",
       "    .dataframe tbody tr th {\n",
       "        vertical-align: top;\n",
       "    }\n",
       "\n",
       "    .dataframe thead th {\n",
       "        text-align: right;\n",
       "    }\n",
       "</style>\n",
       "<table border=\"1\" class=\"dataframe\">\n",
       "  <thead>\n",
       "    <tr style=\"text-align: right;\">\n",
       "      <th></th>\n",
       "      <th>fecha_envio_limite</th>\n",
       "      <th>precio</th>\n",
       "    </tr>\n",
       "  </thead>\n",
       "  <tbody>\n",
       "    <tr>\n",
       "      <th>0</th>\n",
       "      <td>2017-01-08</td>\n",
       "      <td>302.77</td>\n",
       "    </tr>\n",
       "    <tr>\n",
       "      <th>1</th>\n",
       "      <td>2017-01-09</td>\n",
       "      <td>1134.88</td>\n",
       "    </tr>\n",
       "    <tr>\n",
       "      <th>2</th>\n",
       "      <td>2017-01-10</td>\n",
       "      <td>473.82</td>\n",
       "    </tr>\n",
       "    <tr>\n",
       "      <th>3</th>\n",
       "      <td>2017-01-11</td>\n",
       "      <td>237.94</td>\n",
       "    </tr>\n",
       "    <tr>\n",
       "      <th>4</th>\n",
       "      <td>2017-01-12</td>\n",
       "      <td>106.83</td>\n",
       "    </tr>\n",
       "  </tbody>\n",
       "</table>\n",
       "</div>"
      ],
      "text/plain": [
       "  fecha_envio_limite   precio\n",
       "0         2017-01-08   302.77\n",
       "1         2017-01-09  1134.88\n",
       "2         2017-01-10   473.82\n",
       "3         2017-01-11   237.94\n",
       "4         2017-01-12   106.83"
      ]
     },
     "execution_count": 7,
     "metadata": {},
     "output_type": "execute_result"
    }
   ],
   "source": [
    "data['fecha_envio_limite']=pd.to_datetime(data['fecha_envio_limite'])\n",
    "\n",
    "#agrupar por fechas\n",
    "#fechas de límites\n",
    "fecha_inicio = \"2017-01-01\"\n",
    "fecha_final = \"2018-01-01\"\n",
    "\n",
    "#calcular entre dos fechas\n",
    "despues_fecha_inicio = data['fecha_envio_limite'] >= fecha_inicio\n",
    "antes_fecha_final = data['fecha_envio_limite'] <= fecha_final\n",
    "entre_dos_fechas = despues_fecha_inicio & antes_fecha_final\n",
    "\n",
    "#crear los datos para graficar\n",
    "fecha_ventas=data\n",
    "\n",
    "# obtener solamente los días\n",
    "fecha_ventas['fecha_envio_limite']=fecha_ventas['fecha_envio_limite'].dt.date\n",
    "fecha_ventas=fecha_ventas[entre_dos_fechas].groupby('fecha_envio_limite')['precio'].sum().reset_index()\n",
    "fecha_ventas.head()"
   ]
  },
  {
   "cell_type": "code",
   "execution_count": 8,
   "metadata": {},
   "outputs": [
    {
     "data": {
      "image/png": "[encoded data removed]",
      "text/plain": [
       "<Figure size 432x288 with 1 Axes>"
      ]
     },
     "metadata": {
      "needs_background": "light"
     },
     "output_type": "display_data"
    }
   ],
   "source": [
    "plt.plot(fecha_ventas['fecha_envio_limite'],fecha_ventas['precio'])\n",
    "plt.show()"
   ]
  },
  {
   "cell_type": "markdown",
   "metadata": {},
   "source": [
    "En el gráfico se ve un movimiento muy similar por cada día de ventas, sin embargo hay picos bastante marcados, lo cual nos puede indicar alguna fecha especial o día festivo que incentiven las ventas de la compañía."
   ]
  },
  {
   "cell_type": "markdown",
   "metadata": {},
   "source": [
    "### 3.2. Diagrama de dispersión\n",
    "\n",
    "El gráfico de línea muestra una relación entre dos atributos:\n",
    "\n",
    "* Usa el plano cartesiano para mostrar los datos.\n",
    "* Las variables son continúas.\n",
    "* Muestra el grado de correlación entre dos variables. Positiva, negativa o neutra – lineal o no – fuerte o débil.\n",
    "\n",
    "Vamos a revisar la relación entre el precio del producto y el precio del flete de envío:"
   ]
  },
  {
   "cell_type": "code",
   "execution_count": 9,
   "metadata": {},
   "outputs": [
    {
     "data": {
      "image/png": "[encoded data removed]",
      "text/plain": [
       "<Figure size 432x288 with 1 Axes>"
      ]
     },
     "metadata": {
      "needs_background": "light"
     },
     "output_type": "display_data"
    }
   ],
   "source": [
    "plt.scatter(data['valor_flete'],data['precio'])\n",
    "plt.show()"
   ]
  },
  {
   "cell_type": "markdown",
   "metadata": {},
   "source": [
    "en el gráfico se muestra una amplia dispersión, sin embargo se nota que con precios altos existen fletes altos, lo cual significa un aumento del pago final por parte del cliente que compra un producto."
   ]
  },
  {
   "cell_type": "markdown",
   "metadata": {},
   "source": [
    "### 3.3. Diagrama de barra\n",
    "\n",
    "* Usa barras horizontales o verticales  para mostrar la comparación entre las categorías de una variable.\n",
    "* Una de las variables es categórica y la otra continua.\n",
    "* Permite mostrar grupos de categorías en barras continuas o apiladas.\n",
    "\n",
    "Podemos revisar en cuál estado se tienen más ventas:"
   ]
  },
  {
   "cell_type": "code",
   "execution_count": 10,
   "metadata": {},
   "outputs": [
    {
     "data": {
      "text/html": [
       "<div>\n",
       "<style scoped>\n",
       "    .dataframe tbody tr th:only-of-type {\n",
       "        vertical-align: middle;\n",
       "    }\n",
       "\n",
       "    .dataframe tbody tr th {\n",
       "        vertical-align: top;\n",
       "    }\n",
       "\n",
       "    .dataframe thead th {\n",
       "        text-align: right;\n",
       "    }\n",
       "</style>\n",
       "<table border=\"1\" class=\"dataframe\">\n",
       "  <thead>\n",
       "    <tr style=\"text-align: right;\">\n",
       "      <th></th>\n",
       "      <th>departamento_vendedor</th>\n",
       "      <th>producto_id</th>\n",
       "    </tr>\n",
       "  </thead>\n",
       "  <tbody>\n",
       "    <tr>\n",
       "      <th>0</th>\n",
       "      <td>Amazonas</td>\n",
       "      <td>19</td>\n",
       "    </tr>\n",
       "    <tr>\n",
       "      <th>1</th>\n",
       "      <td>Antioquia</td>\n",
       "      <td>35</td>\n",
       "    </tr>\n",
       "    <tr>\n",
       "      <th>2</th>\n",
       "      <td>Arauca</td>\n",
       "      <td>17</td>\n",
       "    </tr>\n",
       "    <tr>\n",
       "      <th>3</th>\n",
       "      <td>Atlantico</td>\n",
       "      <td>20</td>\n",
       "    </tr>\n",
       "    <tr>\n",
       "      <th>4</th>\n",
       "      <td>Bogota d.c.</td>\n",
       "      <td>12</td>\n",
       "    </tr>\n",
       "  </tbody>\n",
       "</table>\n",
       "</div>"
      ],
      "text/plain": [
       "  departamento_vendedor  producto_id\n",
       "0              Amazonas           19\n",
       "1             Antioquia           35\n",
       "2                Arauca           17\n",
       "3             Atlantico           20\n",
       "4           Bogota d.c.           12"
      ]
     },
     "execution_count": 10,
     "metadata": {},
     "output_type": "execute_result"
    }
   ],
   "source": [
    "# resumir la información\n",
    "ventas_departamento=data.groupby('departamento_vendedor').count()['producto_id'].reset_index()\n",
    "ventas_departamento.head()"
   ]
  },
  {
   "cell_type": "code",
   "execution_count": 11,
   "metadata": {
    "scrolled": true
   },
   "outputs": [
    {
     "data": {
      "image/png": "[encoded data removed]",
      "text/plain": [
       "<Figure size 432x288 with 1 Axes>"
      ]
     },
     "metadata": {
      "needs_background": "light"
     },
     "output_type": "display_data"
    }
   ],
   "source": [
    "#Diagrama para un subconjunto de departamentos\n",
    "plt.bar(ventas_departamento['departamento_vendedor'].head(5),ventas_departamento['producto_id'].head(5))\n",
    "#plt.bar(muestra_ventas_depto,ventas_departamento['producto_id'])\n",
    "plt.show()"
   ]
  },
  {
   "cell_type": "markdown",
   "metadata": {},
   "source": [
    "Vemos que hay un par de departamentos con mayor cantidad de ventas."
   ]
  },
  {
   "cell_type": "markdown",
   "metadata": {},
   "source": [
    "### 3.4. Histograma\n",
    "* Representa en barras, la frecuencia de valores de una variable.\n",
    "* Las variables son continúas y la variable x es agrupada en intervalos continuos.\n",
    "* A diferencia de los gráficos de barra en el histograma no hay espacios entre los valores de la variable del eje X.\n",
    "\n",
    "Vamos a revisar la frecuencia de los precios de toda la tienda:"
   ]
  },
  {
   "cell_type": "code",
   "execution_count": 12,
   "metadata": {
    "scrolled": true
   },
   "outputs": [
    {
     "data": {
      "image/png": "[encoded data removed]",
      "text/plain": [
       "<Figure size 432x288 with 1 Axes>"
      ]
     },
     "metadata": {
      "needs_background": "light"
     },
     "output_type": "display_data"
    }
   ],
   "source": [
    "plt.hist(data['precio'])\n",
    "plt.show()"
   ]
  },
  {
   "cell_type": "markdown",
   "metadata": {},
   "source": [
    "Vemos que los precios se concentran mayormente en valores debajo de 400. Sin embargo, hay productos de precio \n",
    "atípico que logran llegar hasta los 800."
   ]
  },
  {
   "cell_type": "markdown",
   "metadata": {},
   "source": [
    "### 3.5. Diagrama de cajas\n",
    "* Usa una representación por cuartiles para ver el grado de dispersión de los datos. \n",
    "* Las variables son continuas.\n",
    "* Se identifican los valores mínimo, máximo, mediana, primer, tercer cuartil y el rango intercuartil.\n",
    "\n",
    "Vamos a revisar cómo son los precios del valor de flete:"
   ]
  },
  {
   "cell_type": "code",
   "execution_count": 13,
   "metadata": {
    "scrolled": true
   },
   "outputs": [
    {
     "data": {
      "image/png": "[encoded data removed]",
      "text/plain": [
       "<Figure size 432x288 with 1 Axes>"
      ]
     },
     "metadata": {
      "needs_background": "light"
     },
     "output_type": "display_data"
    }
   ],
   "source": [
    "plt.boxplot(data['valor_flete'])\n",
    "plt.show()"
   ]
  },
  {
   "cell_type": "markdown",
   "metadata": {},
   "source": [
    "En general se tiene la mayor cantidad de valores de flete en valores bajos debajo de 40, sin embargo existen prouctos que tienen valores muy altos (>140), estos los podríamos considerar atípicos."
   ]
  },
  {
   "cell_type": "markdown",
   "metadata": {},
   "source": [
    "### 4.6. Diagrama de torta\n",
    "* Representa en circulo los valores de una variable.\n",
    "* Las variables son categóricas y preferiblemente de pocos valores para observar con claridad la distribución de los datos.\n",
    "* Muestra el número de valores por categoría o el porcentaje que representa.\n",
    "\n",
    "Vamos a entender en qué categorías se distribuyen las ventas:"
   ]
  },
  {
   "cell_type": "code",
   "execution_count": 14,
   "metadata": {
    "scrolled": true
   },
   "outputs": [
    {
     "data": {
      "text/html": [
       "<div>\n",
       "<style scoped>\n",
       "    .dataframe tbody tr th:only-of-type {\n",
       "        vertical-align: middle;\n",
       "    }\n",
       "\n",
       "    .dataframe tbody tr th {\n",
       "        vertical-align: top;\n",
       "    }\n",
       "\n",
       "    .dataframe thead th {\n",
       "        text-align: right;\n",
       "    }\n",
       "</style>\n",
       "<table border=\"1\" class=\"dataframe\">\n",
       "  <thead>\n",
       "    <tr style=\"text-align: right;\">\n",
       "      <th></th>\n",
       "      <th>nombre_categoria_producto</th>\n",
       "      <th>producto_id</th>\n",
       "    </tr>\n",
       "  </thead>\n",
       "  <tbody>\n",
       "    <tr>\n",
       "      <th>0</th>\n",
       "      <td>Bebés</td>\n",
       "      <td>50</td>\n",
       "    </tr>\n",
       "    <tr>\n",
       "      <th>1</th>\n",
       "      <td>Carnicería</td>\n",
       "      <td>34</td>\n",
       "    </tr>\n",
       "    <tr>\n",
       "      <th>2</th>\n",
       "      <td>Celulares</td>\n",
       "      <td>51</td>\n",
       "    </tr>\n",
       "    <tr>\n",
       "      <th>3</th>\n",
       "      <td>Deportes</td>\n",
       "      <td>48</td>\n",
       "    </tr>\n",
       "    <tr>\n",
       "      <th>4</th>\n",
       "      <td>Dormitorio</td>\n",
       "      <td>41</td>\n",
       "    </tr>\n",
       "    <tr>\n",
       "      <th>5</th>\n",
       "      <td>Electrodomésticos</td>\n",
       "      <td>42</td>\n",
       "    </tr>\n",
       "    <tr>\n",
       "      <th>6</th>\n",
       "      <td>Ferretería</td>\n",
       "      <td>45</td>\n",
       "    </tr>\n",
       "    <tr>\n",
       "      <th>7</th>\n",
       "      <td>Frutas y verduras</td>\n",
       "      <td>57</td>\n",
       "    </tr>\n",
       "    <tr>\n",
       "      <th>8</th>\n",
       "      <td>Juguetes</td>\n",
       "      <td>65</td>\n",
       "    </tr>\n",
       "    <tr>\n",
       "      <th>9</th>\n",
       "      <td>Libros</td>\n",
       "      <td>49</td>\n",
       "    </tr>\n",
       "    <tr>\n",
       "      <th>10</th>\n",
       "      <td>Licor</td>\n",
       "      <td>48</td>\n",
       "    </tr>\n",
       "    <tr>\n",
       "      <th>11</th>\n",
       "      <td>Lácteos</td>\n",
       "      <td>44</td>\n",
       "    </tr>\n",
       "    <tr>\n",
       "      <th>12</th>\n",
       "      <td>Mascotas</td>\n",
       "      <td>69</td>\n",
       "    </tr>\n",
       "    <tr>\n",
       "      <th>13</th>\n",
       "      <td>Muebles</td>\n",
       "      <td>44</td>\n",
       "    </tr>\n",
       "    <tr>\n",
       "      <th>14</th>\n",
       "      <td>Productos ecoamigables</td>\n",
       "      <td>43</td>\n",
       "    </tr>\n",
       "    <tr>\n",
       "      <th>15</th>\n",
       "      <td>Ropa de adultos</td>\n",
       "      <td>70</td>\n",
       "    </tr>\n",
       "    <tr>\n",
       "      <th>16</th>\n",
       "      <td>Ropa infantil</td>\n",
       "      <td>46</td>\n",
       "    </tr>\n",
       "    <tr>\n",
       "      <th>17</th>\n",
       "      <td>Salud</td>\n",
       "      <td>39</td>\n",
       "    </tr>\n",
       "    <tr>\n",
       "      <th>18</th>\n",
       "      <td>Tarjetas regalo</td>\n",
       "      <td>60</td>\n",
       "    </tr>\n",
       "    <tr>\n",
       "      <th>19</th>\n",
       "      <td>Tecnología</td>\n",
       "      <td>55</td>\n",
       "    </tr>\n",
       "  </tbody>\n",
       "</table>\n",
       "</div>"
      ],
      "text/plain": [
       "   nombre_categoria_producto  producto_id\n",
       "0                     Bebés            50\n",
       "1                 Carnicería           34\n",
       "2                  Celulares           51\n",
       "3                   Deportes           48\n",
       "4                 Dormitorio           41\n",
       "5          Electrodomésticos           42\n",
       "6                 Ferretería           45\n",
       "7          Frutas y verduras           57\n",
       "8                   Juguetes           65\n",
       "9                     Libros           49\n",
       "10                     Licor           48\n",
       "11                   Lácteos           44\n",
       "12                  Mascotas           69\n",
       "13                   Muebles           44\n",
       "14    Productos ecoamigables           43\n",
       "15           Ropa de adultos           70\n",
       "16             Ropa infantil           46\n",
       "17                     Salud           39\n",
       "18           Tarjetas regalo           60\n",
       "19                Tecnología           55"
      ]
     },
     "execution_count": 14,
     "metadata": {},
     "output_type": "execute_result"
    }
   ],
   "source": [
    "# Revisar las categorías vendidas\n",
    "ventas_categoria=data.groupby('nombre_categoria_producto').count()['producto_id'].reset_index()\n",
    "ventas_categoria"
   ]
  },
  {
   "cell_type": "code",
   "execution_count": 15,
   "metadata": {
    "scrolled": true
   },
   "outputs": [
    {
     "data": {
      "image/png": "[encoded data removed]",
      "text/plain": [
       "<Figure size 432x288 with 1 Axes>"
      ]
     },
     "metadata": {},
     "output_type": "display_data"
    }
   ],
   "source": [
    "#Vemos los datos en una torta. Sin embargo, les contamos que este diagrama es poco utiizado en la actualidad.\n",
    "plt.pie(ventas_categoria['producto_id'], labels=ventas_categoria['nombre_categoria_producto'])\n",
    "plt.show()"
   ]
  },
  {
   "cell_type": "markdown",
   "metadata": {},
   "source": [
    "Tenemos muchas categorías de producto y este gráfico no es apropiado para entenderlas. Debemos ajustar los datos para aprovechar este tipo de visualización."
   ]
  },
  {
   "cell_type": "code",
   "execution_count": 16,
   "metadata": {
    "scrolled": true
   },
   "outputs": [
    {
     "data": {
      "text/html": [
       "<div>\n",
       "<style scoped>\n",
       "    .dataframe tbody tr th:only-of-type {\n",
       "        vertical-align: middle;\n",
       "    }\n",
       "\n",
       "    .dataframe tbody tr th {\n",
       "        vertical-align: top;\n",
       "    }\n",
       "\n",
       "    .dataframe thead th {\n",
       "        text-align: right;\n",
       "    }\n",
       "</style>\n",
       "<table border=\"1\" class=\"dataframe\">\n",
       "  <thead>\n",
       "    <tr style=\"text-align: right;\">\n",
       "      <th></th>\n",
       "      <th>nombre_categoria_producto</th>\n",
       "      <th>producto_id</th>\n",
       "    </tr>\n",
       "  </thead>\n",
       "  <tbody>\n",
       "    <tr>\n",
       "      <th>15</th>\n",
       "      <td>Ropa de adultos</td>\n",
       "      <td>70</td>\n",
       "    </tr>\n",
       "    <tr>\n",
       "      <th>12</th>\n",
       "      <td>Mascotas</td>\n",
       "      <td>69</td>\n",
       "    </tr>\n",
       "    <tr>\n",
       "      <th>8</th>\n",
       "      <td>Juguetes</td>\n",
       "      <td>65</td>\n",
       "    </tr>\n",
       "    <tr>\n",
       "      <th>18</th>\n",
       "      <td>Tarjetas regalo</td>\n",
       "      <td>60</td>\n",
       "    </tr>\n",
       "    <tr>\n",
       "      <th>7</th>\n",
       "      <td>Frutas y verduras</td>\n",
       "      <td>57</td>\n",
       "    </tr>\n",
       "    <tr>\n",
       "      <th>19</th>\n",
       "      <td>Tecnología</td>\n",
       "      <td>55</td>\n",
       "    </tr>\n",
       "    <tr>\n",
       "      <th>2</th>\n",
       "      <td>Celulares</td>\n",
       "      <td>51</td>\n",
       "    </tr>\n",
       "    <tr>\n",
       "      <th>0</th>\n",
       "      <td>Bebés</td>\n",
       "      <td>50</td>\n",
       "    </tr>\n",
       "    <tr>\n",
       "      <th>9</th>\n",
       "      <td>Libros</td>\n",
       "      <td>49</td>\n",
       "    </tr>\n",
       "    <tr>\n",
       "      <th>3</th>\n",
       "      <td>Deportes</td>\n",
       "      <td>48</td>\n",
       "    </tr>\n",
       "  </tbody>\n",
       "</table>\n",
       "</div>"
      ],
      "text/plain": [
       "   nombre_categoria_producto  producto_id\n",
       "15           Ropa de adultos           70\n",
       "12                  Mascotas           69\n",
       "8                   Juguetes           65\n",
       "18           Tarjetas regalo           60\n",
       "7          Frutas y verduras           57\n",
       "19                Tecnología           55\n",
       "2                  Celulares           51\n",
       "0                     Bebés            50\n",
       "9                     Libros           49\n",
       "3                   Deportes           48"
      ]
     },
     "execution_count": 16,
     "metadata": {},
     "output_type": "execute_result"
    }
   ],
   "source": [
    "# Revisar las principales categorías vendidas\n",
    "ventas_categoria_principales=ventas_categoria.sort_values(by=['producto_id'], ascending=False).head(10)\n",
    "ventas_categoria_principales"
   ]
  },
  {
   "cell_type": "code",
   "execution_count": 17,
   "metadata": {
    "scrolled": true
   },
   "outputs": [
    {
     "data": {
      "image/png": "[encoded data removed]",
      "text/plain": [
       "<Figure size 432x288 with 1 Axes>"
      ]
     },
     "metadata": {},
     "output_type": "display_data"
    }
   ],
   "source": [
    "plt.pie(ventas_categoria_principales['producto_id'], labels=ventas_categoria_principales['nombre_categoria_producto'])\n",
    "plt.show()"
   ]
  },
  {
   "cell_type": "markdown",
   "metadata": {},
   "source": [
    "La mayor cantidad de productos se venden en la categoría 'Ropa de adultos'. Las demás categorías tienen una cantidad de ventas similar, por lo tanto en el gráfico se utiliza una cantidad de espacio similar."
   ]
  },
  {
   "cell_type": "markdown",
   "metadata": {},
   "source": [
    "### Caso de extensión\n",
    "Trabajaremos con el archivo de productos_por_fecha en el cual se encuentran los productos que se han vendido por fecha. Además de realizar los siguientes puntos para el archivo dado, contempla cuál sería el problema para el negocio con los problemas identificados y la diferencia entre ver los datos de forma gráfica y de forma tabular.\n",
    "\n",
    "+ Identifica los atributos que se pueden graficar.\n",
    "+ Genera los diagramas más adecuados para los atributos.\n",
    "+ Revisa los resultados obtenidos para sacar conclusiones."
   ]
  },
  {
   "cell_type": "code",
   "execution_count": null,
   "metadata": {},
   "outputs": [],
   "source": []
  }
 ],
 "metadata": {
  "kernelspec": {
   "display_name": "Python 3 (ipykernel)",
   "language": "python",
   "name": "python3"
  },
  "language_info": {
   "codemirror_mode": {
    "name": "ipython",
    "version": 3
   },
   "file_extension": ".py",
   "mimetype": "text/x-python",
   "name": "python",
   "nbconvert_exporter": "python",
   "pygments_lexer": "ipython3",
   "version": "3.9.12"
  }
 },
 "nbformat": 4,
 "nbformat_minor": 4
}
