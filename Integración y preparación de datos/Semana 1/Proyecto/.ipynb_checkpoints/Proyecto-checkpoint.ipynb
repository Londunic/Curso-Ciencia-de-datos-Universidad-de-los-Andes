{
 "cells": [
  {
   "cell_type": "markdown",
   "metadata": {},
   "source": [
    "# Proyecto: Exploración y visualización de datos."
   ]
  },
  {
   "cell_type": "markdown",
   "metadata": {},
   "source": [
    "### 1. Importación de librerías y archivos"
   ]
  },
  {
   "cell_type": "code",
   "execution_count": 2,
   "metadata": {
    "scrolled": true
   },
   "outputs": [],
   "source": [
    "# Importar las librerías necesarias según el análisis que se vaya a realizar\n",
    "# Librería para manejo de datos convensional\n",
    "import pandas as pd\n",
    "#librería para creación de gráficos\n",
    "import matplotlib.pyplot as plt\n",
    "# Librería para perfilamiento\n",
    "#import pandas_profiling"
   ]
  },
  {
   "cell_type": "code",
   "execution_count": 3,
   "metadata": {
    "scrolled": true
   },
   "outputs": [
    {
     "data": {
      "text/html": [
       "<div>\n",
       "<style scoped>\n",
       "    .dataframe tbody tr th:only-of-type {\n",
       "        vertical-align: middle;\n",
       "    }\n",
       "\n",
       "    .dataframe tbody tr th {\n",
       "        vertical-align: top;\n",
       "    }\n",
       "\n",
       "    .dataframe thead th {\n",
       "        text-align: right;\n",
       "    }\n",
       "</style>\n",
       "<table border=\"1\" class=\"dataframe\">\n",
       "  <thead>\n",
       "    <tr style=\"text-align: right;\">\n",
       "      <th></th>\n",
       "      <th>Edad</th>\n",
       "      <th>Retirado</th>\n",
       "      <th>ViajesDeNegocio</th>\n",
       "      <th>TarifaSalarial</th>\n",
       "      <th>Departamento</th>\n",
       "      <th>DistanciaDesdeCasa</th>\n",
       "      <th>Educacion</th>\n",
       "      <th>CampoEducacion</th>\n",
       "      <th>EmpleadosACargo</th>\n",
       "      <th>NumeroEmpleado</th>\n",
       "      <th>...</th>\n",
       "      <th>HorasEstandar</th>\n",
       "      <th>PlanSalarioComplementario</th>\n",
       "      <th>TotalAnniosTrabajados</th>\n",
       "      <th>FormacionUltimoAnnio</th>\n",
       "      <th>BalanceTrabajoVida</th>\n",
       "      <th>FechaIngresoEmpresa</th>\n",
       "      <th>AnniosEnEmpresa</th>\n",
       "      <th>AnniosRolActual</th>\n",
       "      <th>AnniosDesdeUltimaPromocion</th>\n",
       "      <th>AnniosActualDirector</th>\n",
       "    </tr>\n",
       "  </thead>\n",
       "  <tbody>\n",
       "    <tr>\n",
       "      <th>0</th>\n",
       "      <td>41</td>\n",
       "      <td>Si</td>\n",
       "      <td>Viaja-Pocas-Veces</td>\n",
       "      <td>1102</td>\n",
       "      <td>Ventas</td>\n",
       "      <td>1</td>\n",
       "      <td>2</td>\n",
       "      <td>Ciencias de la vida</td>\n",
       "      <td>1.0</td>\n",
       "      <td>1</td>\n",
       "      <td>...</td>\n",
       "      <td>80</td>\n",
       "      <td>0</td>\n",
       "      <td>8</td>\n",
       "      <td>0</td>\n",
       "      <td>1</td>\n",
       "      <td>26/07/2015</td>\n",
       "      <td>6</td>\n",
       "      <td>4</td>\n",
       "      <td>0</td>\n",
       "      <td>5</td>\n",
       "    </tr>\n",
       "    <tr>\n",
       "      <th>1</th>\n",
       "      <td>49</td>\n",
       "      <td>No</td>\n",
       "      <td>Viaja-Frecuentemente</td>\n",
       "      <td>279</td>\n",
       "      <td>Investigacion &amp; Desarrollo</td>\n",
       "      <td>8</td>\n",
       "      <td>1</td>\n",
       "      <td>Ciencias de la vida</td>\n",
       "      <td>1.0</td>\n",
       "      <td>2</td>\n",
       "      <td>...</td>\n",
       "      <td>80</td>\n",
       "      <td>1</td>\n",
       "      <td>10</td>\n",
       "      <td>3</td>\n",
       "      <td>3</td>\n",
       "      <td>15/02/2011</td>\n",
       "      <td>10</td>\n",
       "      <td>7</td>\n",
       "      <td>1</td>\n",
       "      <td>7</td>\n",
       "    </tr>\n",
       "    <tr>\n",
       "      <th>2</th>\n",
       "      <td>37</td>\n",
       "      <td>Si</td>\n",
       "      <td>Viaja-Pocas-Veces</td>\n",
       "      <td>1373</td>\n",
       "      <td>Investigacion &amp; Desarrollo</td>\n",
       "      <td>2</td>\n",
       "      <td>2</td>\n",
       "      <td>Otro</td>\n",
       "      <td>1.0</td>\n",
       "      <td>4</td>\n",
       "      <td>...</td>\n",
       "      <td>80</td>\n",
       "      <td>0</td>\n",
       "      <td>7</td>\n",
       "      <td>3</td>\n",
       "      <td>3</td>\n",
       "      <td>2/06/2021</td>\n",
       "      <td>0</td>\n",
       "      <td>0</td>\n",
       "      <td>0</td>\n",
       "      <td>0</td>\n",
       "    </tr>\n",
       "    <tr>\n",
       "      <th>3</th>\n",
       "      <td>33</td>\n",
       "      <td>No</td>\n",
       "      <td>Viaja-Frecuentemente</td>\n",
       "      <td>1392</td>\n",
       "      <td>Investigacion &amp; Desarrollo</td>\n",
       "      <td>3</td>\n",
       "      <td>4</td>\n",
       "      <td>Ciencias de la vida</td>\n",
       "      <td>1.0</td>\n",
       "      <td>5</td>\n",
       "      <td>...</td>\n",
       "      <td>80</td>\n",
       "      <td>0</td>\n",
       "      <td>8</td>\n",
       "      <td>3</td>\n",
       "      <td>3</td>\n",
       "      <td>26/09/2013</td>\n",
       "      <td>8</td>\n",
       "      <td>7</td>\n",
       "      <td>3</td>\n",
       "      <td>0</td>\n",
       "    </tr>\n",
       "    <tr>\n",
       "      <th>4</th>\n",
       "      <td>27</td>\n",
       "      <td>No</td>\n",
       "      <td>Viaja-Pocas-Veces</td>\n",
       "      <td>591</td>\n",
       "      <td>Investigacion &amp; Desarrollo</td>\n",
       "      <td>2</td>\n",
       "      <td>1</td>\n",
       "      <td>Medicina</td>\n",
       "      <td>1.0</td>\n",
       "      <td>7</td>\n",
       "      <td>...</td>\n",
       "      <td>80</td>\n",
       "      <td>1</td>\n",
       "      <td>6</td>\n",
       "      <td>3</td>\n",
       "      <td>3</td>\n",
       "      <td>2/03/2019</td>\n",
       "      <td>2</td>\n",
       "      <td>2</td>\n",
       "      <td>2</td>\n",
       "      <td>2</td>\n",
       "    </tr>\n",
       "  </tbody>\n",
       "</table>\n",
       "<p>5 rows × 36 columns</p>\n",
       "</div>"
      ],
      "text/plain": [
       "   Edad Retirado       ViajesDeNegocio  TarifaSalarial  \\\n",
       "0    41       Si     Viaja-Pocas-Veces            1102   \n",
       "1    49       No  Viaja-Frecuentemente             279   \n",
       "2    37       Si     Viaja-Pocas-Veces            1373   \n",
       "3    33       No  Viaja-Frecuentemente            1392   \n",
       "4    27       No     Viaja-Pocas-Veces             591   \n",
       "\n",
       "                 Departamento  DistanciaDesdeCasa  Educacion  \\\n",
       "0                      Ventas                   1          2   \n",
       "1  Investigacion & Desarrollo                   8          1   \n",
       "2  Investigacion & Desarrollo                   2          2   \n",
       "3  Investigacion & Desarrollo                   3          4   \n",
       "4  Investigacion & Desarrollo                   2          1   \n",
       "\n",
       "        CampoEducacion  EmpleadosACargo  NumeroEmpleado  ...  HorasEstandar  \\\n",
       "0  Ciencias de la vida              1.0               1  ...             80   \n",
       "1  Ciencias de la vida              1.0               2  ...             80   \n",
       "2                 Otro              1.0               4  ...             80   \n",
       "3  Ciencias de la vida              1.0               5  ...             80   \n",
       "4             Medicina              1.0               7  ...             80   \n",
       "\n",
       "  PlanSalarioComplementario  TotalAnniosTrabajados  FormacionUltimoAnnio  \\\n",
       "0                         0                      8                     0   \n",
       "1                         1                     10                     3   \n",
       "2                         0                      7                     3   \n",
       "3                         0                      8                     3   \n",
       "4                         1                      6                     3   \n",
       "\n",
       "   BalanceTrabajoVida FechaIngresoEmpresa  AnniosEnEmpresa AnniosRolActual  \\\n",
       "0                   1          26/07/2015                6               4   \n",
       "1                   3          15/02/2011               10               7   \n",
       "2                   3           2/06/2021                0               0   \n",
       "3                   3          26/09/2013                8               7   \n",
       "4                   3           2/03/2019                2               2   \n",
       "\n",
       "   AnniosDesdeUltimaPromocion  AnniosActualDirector  \n",
       "0                           0                     5  \n",
       "1                           1                     7  \n",
       "2                           0                     0  \n",
       "3                           3                     0  \n",
       "4                           2                     2  \n",
       "\n",
       "[5 rows x 36 columns]"
      ]
     },
     "execution_count": 3,
     "metadata": {},
     "output_type": "execute_result"
    }
   ],
   "source": [
    "# cargar los datos en csv\n",
    "data= pd.read_csv('empleadosTecnologiaAlpes.csv', sep=';',encoding='latin-1')\n",
    "# Visualizar los datos\n",
    "data.head()"
   ]
  },
  {
   "cell_type": "markdown",
   "metadata": {},
   "source": [
    "Es necesario identificar cierto tipo de pasos a realizar para entender mejor la manera de manejar los datos. En las siguientes líneas veremos cómo realizar algunos análisis básicos de gran utilidad para lograr los objetivos del perfilamiento de datos y al final del proceso, realizar el reporte asociado a esta actividad."
   ]
  },
  {
   "cell_type": "markdown",
   "metadata": {},
   "source": [
    "### 3. Análisis de la fuente de los datos\n",
    "\n",
    "### 3.1. Registros y atributos\n",
    "El número de registros y atributos nos dará una guía del correcto cargue de los datos, podemos utilizar la función shape para la revisión de este dato"
   ]
  },
  {
   "cell_type": "code",
   "execution_count": 38,
   "metadata": {},
   "outputs": [
    {
     "data": {
      "text/plain": [
       "(1651, 18)"
      ]
     },
     "execution_count": 38,
     "metadata": {},
     "output_type": "execute_result"
    }
   ],
   "source": [
    "# Tamaño del dataset (filas, columnas)\n",
    "data.shape"
   ]
  },
  {
   "cell_type": "code",
   "execution_count": 39,
   "metadata": {},
   "outputs": [
    {
     "data": {
      "text/plain": [
       "Index(['orden_id', 'producto_id', 'vendedor_id', 'fecha_envio_limite',\n",
       "       'precio', 'valor_flete', 'codigo_postal_vendedor', 'ciudad_vendedor',\n",
       "       'departamento_vendedor', 'nombre_categoria_producto',\n",
       "       'longitud_nombre_producto', 'longitud_descripcion_producto',\n",
       "       'cantidad_fotos_producto', 'peso_g_producto', 'longitud_cm_producto',\n",
       "       'altura_cm_producto', 'ancho_cm_producto', 'volumen_cm3_producto'],\n",
       "      dtype='object')"
      ]
     },
     "execution_count": 39,
     "metadata": {},
     "output_type": "execute_result"
    }
   ],
   "source": [
    "# Revisión de los atributos\n",
    "data.columns"
   ]
  },
  {
   "cell_type": "markdown",
   "metadata": {},
   "source": [
    "### 3.2. Determinar el identificador único de la fuente de datos y validar sus propiedades\n",
    "\n",
    "En este punto veremos cómo determinar el identificador único de la fuente de datos. Este atributo no debe tener valores nulos ni repetidos. En este caso, es más sencillo, ya que el negocio nos indicó que el identificador de los registros era el número de orden y vamos a validarlo. \n",
    "El conocer el identificador único de una fuente de datos es valioso ya que nos permite comprender la semántica de los registros y asociado a este campo debemos validar que no tenga registros nulos ni duplicados. Estos serían ejemplos claros de problemas de calidad de datos en la fuente, los cuales deben ser analizados y si es necesario, reportados al negocio y corregios.\n"
   ]
  },
  {
   "cell_type": "code",
   "execution_count": 40,
   "metadata": {},
   "outputs": [
    {
     "data": {
      "text/plain": [
       "0"
      ]
     },
     "execution_count": 40,
     "metadata": {},
     "output_type": "execute_result"
    }
   ],
   "source": [
    "# Revisar los registros que contienen vacíos en el atributo orden_id\n",
    "data['orden_id'].isna().sum()"
   ]
  },
  {
   "cell_type": "code",
   "execution_count": 41,
   "metadata": {},
   "outputs": [
    {
     "data": {
      "text/plain": [
       "1150"
      ]
     },
     "execution_count": 41,
     "metadata": {},
     "output_type": "execute_result"
    }
   ],
   "source": [
    "# revisar que no existan valores duplicados en el atributo order_id\n",
    "len(data['orden_id'].unique())"
   ]
  },
  {
   "cell_type": "markdown",
   "metadata": {},
   "source": [
    "En este punto recordemos que la fuente tiene 290 registros, de esta manera identificamos que hay 145 registros duplicados y es lo que queremos validar a continuación."
   ]
  },
  {
   "cell_type": "code",
   "execution_count": 42,
   "metadata": {
    "scrolled": true
   },
   "outputs": [
    {
     "data": {
      "text/plain": [
       "501"
      ]
     },
     "execution_count": 42,
     "metadata": {},
     "output_type": "execute_result"
    }
   ],
   "source": [
    "# contar los registros duplicados del atributo orden_id\n",
    "data.duplicated('orden_id').sum()"
   ]
  },
  {
   "cell_type": "markdown",
   "metadata": {},
   "source": [
    "En la validación del identificador vemos que no tenemos problemas de registros vacíos o nulos, pero si de duplicados. Pasamos a revisar el tema de los duplicados."
   ]
  },
  {
   "cell_type": "code",
   "execution_count": 43,
   "metadata": {
    "scrolled": true
   },
   "outputs": [
    {
     "data": {
      "text/html": [
       "<div>\n",
       "<style scoped>\n",
       "    .dataframe tbody tr th:only-of-type {\n",
       "        vertical-align: middle;\n",
       "    }\n",
       "\n",
       "    .dataframe tbody tr th {\n",
       "        vertical-align: top;\n",
       "    }\n",
       "\n",
       "    .dataframe thead th {\n",
       "        text-align: right;\n",
       "    }\n",
       "</style>\n",
       "<table border=\"1\" class=\"dataframe\">\n",
       "  <thead>\n",
       "    <tr style=\"text-align: right;\">\n",
       "      <th></th>\n",
       "      <th>orden_id</th>\n",
       "      <th>producto_id</th>\n",
       "      <th>vendedor_id</th>\n",
       "      <th>fecha_envio_limite</th>\n",
       "      <th>precio</th>\n",
       "      <th>valor_flete</th>\n",
       "      <th>codigo_postal_vendedor</th>\n",
       "      <th>ciudad_vendedor</th>\n",
       "      <th>departamento_vendedor</th>\n",
       "      <th>nombre_categoria_producto</th>\n",
       "      <th>longitud_nombre_producto</th>\n",
       "      <th>longitud_descripcion_producto</th>\n",
       "      <th>cantidad_fotos_producto</th>\n",
       "      <th>peso_g_producto</th>\n",
       "      <th>longitud_cm_producto</th>\n",
       "      <th>altura_cm_producto</th>\n",
       "      <th>ancho_cm_producto</th>\n",
       "      <th>volumen_cm3_producto</th>\n",
       "    </tr>\n",
       "  </thead>\n",
       "  <tbody>\n",
       "    <tr>\n",
       "      <th>538</th>\n",
       "      <td>107500PO59A-B</td>\n",
       "      <td>PS22</td>\n",
       "      <td>VE1558</td>\n",
       "      <td>20/10/2017 9:07</td>\n",
       "      <td>115.73</td>\n",
       "      <td>4.68</td>\n",
       "      <td>52405</td>\n",
       "      <td>Leiva</td>\n",
       "      <td>Nariño</td>\n",
       "      <td>Carnicería</td>\n",
       "      <td>10</td>\n",
       "      <td>31</td>\n",
       "      <td>20</td>\n",
       "      <td>256</td>\n",
       "      <td>43</td>\n",
       "      <td>2</td>\n",
       "      <td>21</td>\n",
       "      <td>1806</td>\n",
       "    </tr>\n",
       "    <tr>\n",
       "      <th>1151</th>\n",
       "      <td>1564PA53A-A</td>\n",
       "      <td>PA53</td>\n",
       "      <td>VE6785</td>\n",
       "      <td>6/05/2018 12:56</td>\n",
       "      <td>-7.27</td>\n",
       "      <td>27.12</td>\n",
       "      <td>52565</td>\n",
       "      <td>Providencia</td>\n",
       "      <td>Nariño</td>\n",
       "      <td>Electrodomésticos</td>\n",
       "      <td>19</td>\n",
       "      <td>28</td>\n",
       "      <td>29</td>\n",
       "      <td>1324</td>\n",
       "      <td>48</td>\n",
       "      <td>17</td>\n",
       "      <td>11</td>\n",
       "      <td>8976</td>\n",
       "    </tr>\n",
       "    <tr>\n",
       "      <th>1152</th>\n",
       "      <td>28983PD80A-A</td>\n",
       "      <td>PD80</td>\n",
       "      <td>VE3342</td>\n",
       "      <td>18/10/2017 14:12</td>\n",
       "      <td>3.22</td>\n",
       "      <td>6.01</td>\n",
       "      <td>52203</td>\n",
       "      <td>Colon</td>\n",
       "      <td>Nariño</td>\n",
       "      <td>Celulares</td>\n",
       "      <td>18</td>\n",
       "      <td>29</td>\n",
       "      <td>16</td>\n",
       "      <td>4677</td>\n",
       "      <td>26</td>\n",
       "      <td>6</td>\n",
       "      <td>16</td>\n",
       "      <td>2496</td>\n",
       "    </tr>\n",
       "    <tr>\n",
       "      <th>1153</th>\n",
       "      <td>38613PB61A-A</td>\n",
       "      <td>PB61</td>\n",
       "      <td>VE7671</td>\n",
       "      <td>10/09/2017 22:31</td>\n",
       "      <td>104.18</td>\n",
       "      <td>17.70</td>\n",
       "      <td>52051</td>\n",
       "      <td>Arboleda</td>\n",
       "      <td>Nariño</td>\n",
       "      <td>Ropa_de_adultos</td>\n",
       "      <td>13</td>\n",
       "      <td>30</td>\n",
       "      <td>29</td>\n",
       "      <td>101</td>\n",
       "      <td>17</td>\n",
       "      <td>26</td>\n",
       "      <td>24</td>\n",
       "      <td>10608</td>\n",
       "    </tr>\n",
       "    <tr>\n",
       "      <th>1154</th>\n",
       "      <td>4978PS63A-A</td>\n",
       "      <td>PS63</td>\n",
       "      <td>VE1492</td>\n",
       "      <td>11/01/2018 16:45</td>\n",
       "      <td>348.39</td>\n",
       "      <td>34.84</td>\n",
       "      <td>52323</td>\n",
       "      <td>Gualmatan</td>\n",
       "      <td>Nariño</td>\n",
       "      <td>Carnicería</td>\n",
       "      <td>33</td>\n",
       "      <td>26</td>\n",
       "      <td>13</td>\n",
       "      <td>514</td>\n",
       "      <td>47</td>\n",
       "      <td>16</td>\n",
       "      <td>43</td>\n",
       "      <td>32336</td>\n",
       "    </tr>\n",
       "  </tbody>\n",
       "</table>\n",
       "</div>"
      ],
      "text/plain": [
       "           orden_id producto_id vendedor_id fecha_envio_limite  precio  \\\n",
       "538   107500PO59A-B        PS22      VE1558    20/10/2017 9:07  115.73   \n",
       "1151    1564PA53A-A        PA53      VE6785    6/05/2018 12:56   -7.27   \n",
       "1152   28983PD80A-A        PD80      VE3342   18/10/2017 14:12    3.22   \n",
       "1153   38613PB61A-A        PB61      VE7671   10/09/2017 22:31  104.18   \n",
       "1154    4978PS63A-A        PS63      VE1492   11/01/2018 16:45  348.39   \n",
       "\n",
       "      valor_flete  codigo_postal_vendedor ciudad_vendedor  \\\n",
       "538          4.68                   52405           Leiva   \n",
       "1151        27.12                   52565     Providencia   \n",
       "1152         6.01                   52203           Colon   \n",
       "1153        17.70                   52051        Arboleda   \n",
       "1154        34.84                   52323       Gualmatan   \n",
       "\n",
       "     departamento_vendedor nombre_categoria_producto  \\\n",
       "538                 Nariño                Carnicería   \n",
       "1151                Nariño         Electrodomésticos   \n",
       "1152                Nariño                 Celulares   \n",
       "1153                Nariño           Ropa_de_adultos   \n",
       "1154                Nariño                Carnicería   \n",
       "\n",
       "      longitud_nombre_producto  longitud_descripcion_producto  \\\n",
       "538                         10                             31   \n",
       "1151                        19                             28   \n",
       "1152                        18                             29   \n",
       "1153                        13                             30   \n",
       "1154                        33                             26   \n",
       "\n",
       "      cantidad_fotos_producto  peso_g_producto  longitud_cm_producto  \\\n",
       "538                        20              256                    43   \n",
       "1151                       29             1324                    48   \n",
       "1152                       16             4677                    26   \n",
       "1153                       29              101                    17   \n",
       "1154                       13              514                    47   \n",
       "\n",
       "      altura_cm_producto  ancho_cm_producto  volumen_cm3_producto  \n",
       "538                    2                 21                  1806  \n",
       "1151                  17                 11                  8976  \n",
       "1152                   6                 16                  2496  \n",
       "1153                  26                 24                 10608  \n",
       "1154                  16                 43                 32336  "
      ]
     },
     "execution_count": 43,
     "metadata": {},
     "output_type": "execute_result"
    }
   ],
   "source": [
    "# visualizar los datos duplicados de acuerdo con el identificador - orden_id\n",
    "data[data.duplicated('orden_id')].head()"
   ]
  },
  {
   "cell_type": "markdown",
   "metadata": {},
   "source": [
    "Con este resultado podemos ver algunas de las órdenes duplicadas, pero es necesario identificar cuáles son esos datos duplicados y sus características. "
   ]
  },
  {
   "cell_type": "code",
   "execution_count": 44,
   "metadata": {},
   "outputs": [
    {
     "data": {
      "text/html": [
       "<div>\n",
       "<style scoped>\n",
       "    .dataframe tbody tr th:only-of-type {\n",
       "        vertical-align: middle;\n",
       "    }\n",
       "\n",
       "    .dataframe tbody tr th {\n",
       "        vertical-align: top;\n",
       "    }\n",
       "\n",
       "    .dataframe thead th {\n",
       "        text-align: right;\n",
       "    }\n",
       "</style>\n",
       "<table border=\"1\" class=\"dataframe\">\n",
       "  <thead>\n",
       "    <tr style=\"text-align: right;\">\n",
       "      <th></th>\n",
       "      <th>orden_id</th>\n",
       "      <th>producto_id</th>\n",
       "      <th>vendedor_id</th>\n",
       "      <th>fecha_envio_limite</th>\n",
       "      <th>precio</th>\n",
       "      <th>valor_flete</th>\n",
       "      <th>codigo_postal_vendedor</th>\n",
       "      <th>ciudad_vendedor</th>\n",
       "      <th>departamento_vendedor</th>\n",
       "      <th>nombre_categoria_producto</th>\n",
       "      <th>longitud_nombre_producto</th>\n",
       "      <th>longitud_descripcion_producto</th>\n",
       "      <th>cantidad_fotos_producto</th>\n",
       "      <th>peso_g_producto</th>\n",
       "      <th>longitud_cm_producto</th>\n",
       "      <th>altura_cm_producto</th>\n",
       "      <th>ancho_cm_producto</th>\n",
       "      <th>volumen_cm3_producto</th>\n",
       "    </tr>\n",
       "  </thead>\n",
       "  <tbody>\n",
       "    <tr>\n",
       "      <th>538</th>\n",
       "      <td>107500PO59A-B</td>\n",
       "      <td>PS22</td>\n",
       "      <td>VE1558</td>\n",
       "      <td>20/10/2017 9:07</td>\n",
       "      <td>115.73</td>\n",
       "      <td>4.68</td>\n",
       "      <td>52405</td>\n",
       "      <td>Leiva</td>\n",
       "      <td>Nariño</td>\n",
       "      <td>Carnicería</td>\n",
       "      <td>10</td>\n",
       "      <td>31</td>\n",
       "      <td>20</td>\n",
       "      <td>256</td>\n",
       "      <td>43</td>\n",
       "      <td>2</td>\n",
       "      <td>21</td>\n",
       "      <td>1806</td>\n",
       "    </tr>\n",
       "    <tr>\n",
       "      <th>1151</th>\n",
       "      <td>1564PA53A-A</td>\n",
       "      <td>PA53</td>\n",
       "      <td>VE6785</td>\n",
       "      <td>6/05/2018 12:56</td>\n",
       "      <td>-7.27</td>\n",
       "      <td>27.12</td>\n",
       "      <td>52565</td>\n",
       "      <td>Providencia</td>\n",
       "      <td>Nariño</td>\n",
       "      <td>Electrodomésticos</td>\n",
       "      <td>19</td>\n",
       "      <td>28</td>\n",
       "      <td>29</td>\n",
       "      <td>1324</td>\n",
       "      <td>48</td>\n",
       "      <td>17</td>\n",
       "      <td>11</td>\n",
       "      <td>8976</td>\n",
       "    </tr>\n",
       "    <tr>\n",
       "      <th>1152</th>\n",
       "      <td>28983PD80A-A</td>\n",
       "      <td>PD80</td>\n",
       "      <td>VE3342</td>\n",
       "      <td>18/10/2017 14:12</td>\n",
       "      <td>3.22</td>\n",
       "      <td>6.01</td>\n",
       "      <td>52203</td>\n",
       "      <td>Colon</td>\n",
       "      <td>Nariño</td>\n",
       "      <td>Celulares</td>\n",
       "      <td>18</td>\n",
       "      <td>29</td>\n",
       "      <td>16</td>\n",
       "      <td>4677</td>\n",
       "      <td>26</td>\n",
       "      <td>6</td>\n",
       "      <td>16</td>\n",
       "      <td>2496</td>\n",
       "    </tr>\n",
       "    <tr>\n",
       "      <th>1153</th>\n",
       "      <td>38613PB61A-A</td>\n",
       "      <td>PB61</td>\n",
       "      <td>VE7671</td>\n",
       "      <td>10/09/2017 22:31</td>\n",
       "      <td>104.18</td>\n",
       "      <td>17.70</td>\n",
       "      <td>52051</td>\n",
       "      <td>Arboleda</td>\n",
       "      <td>Nariño</td>\n",
       "      <td>Ropa_de_adultos</td>\n",
       "      <td>13</td>\n",
       "      <td>30</td>\n",
       "      <td>29</td>\n",
       "      <td>101</td>\n",
       "      <td>17</td>\n",
       "      <td>26</td>\n",
       "      <td>24</td>\n",
       "      <td>10608</td>\n",
       "    </tr>\n",
       "    <tr>\n",
       "      <th>1154</th>\n",
       "      <td>4978PS63A-A</td>\n",
       "      <td>PS63</td>\n",
       "      <td>VE1492</td>\n",
       "      <td>11/01/2018 16:45</td>\n",
       "      <td>348.39</td>\n",
       "      <td>34.84</td>\n",
       "      <td>52323</td>\n",
       "      <td>Gualmatan</td>\n",
       "      <td>Nariño</td>\n",
       "      <td>Carnicería</td>\n",
       "      <td>33</td>\n",
       "      <td>26</td>\n",
       "      <td>13</td>\n",
       "      <td>514</td>\n",
       "      <td>47</td>\n",
       "      <td>16</td>\n",
       "      <td>43</td>\n",
       "      <td>32336</td>\n",
       "    </tr>\n",
       "    <tr>\n",
       "      <th>1155</th>\n",
       "      <td>73781PA71A-A</td>\n",
       "      <td>PA71</td>\n",
       "      <td>VE8575</td>\n",
       "      <td>17/11/2017 0:11</td>\n",
       "      <td>29.03</td>\n",
       "      <td>30.23</td>\n",
       "      <td>5002</td>\n",
       "      <td>Abejorral</td>\n",
       "      <td>Antioquia</td>\n",
       "      <td>Electrodomésticos</td>\n",
       "      <td>27</td>\n",
       "      <td>3</td>\n",
       "      <td>13</td>\n",
       "      <td>2962</td>\n",
       "      <td>20</td>\n",
       "      <td>26</td>\n",
       "      <td>28</td>\n",
       "      <td>14560</td>\n",
       "    </tr>\n",
       "  </tbody>\n",
       "</table>\n",
       "</div>"
      ],
      "text/plain": [
       "           orden_id producto_id vendedor_id fecha_envio_limite  precio  \\\n",
       "538   107500PO59A-B        PS22      VE1558    20/10/2017 9:07  115.73   \n",
       "1151    1564PA53A-A        PA53      VE6785    6/05/2018 12:56   -7.27   \n",
       "1152   28983PD80A-A        PD80      VE3342   18/10/2017 14:12    3.22   \n",
       "1153   38613PB61A-A        PB61      VE7671   10/09/2017 22:31  104.18   \n",
       "1154    4978PS63A-A        PS63      VE1492   11/01/2018 16:45  348.39   \n",
       "1155   73781PA71A-A        PA71      VE8575    17/11/2017 0:11   29.03   \n",
       "\n",
       "      valor_flete  codigo_postal_vendedor ciudad_vendedor  \\\n",
       "538          4.68                   52405           Leiva   \n",
       "1151        27.12                   52565     Providencia   \n",
       "1152         6.01                   52203           Colon   \n",
       "1153        17.70                   52051        Arboleda   \n",
       "1154        34.84                   52323       Gualmatan   \n",
       "1155        30.23                    5002       Abejorral   \n",
       "\n",
       "     departamento_vendedor nombre_categoria_producto  \\\n",
       "538                 Nariño                Carnicería   \n",
       "1151                Nariño         Electrodomésticos   \n",
       "1152                Nariño                 Celulares   \n",
       "1153                Nariño           Ropa_de_adultos   \n",
       "1154                Nariño                Carnicería   \n",
       "1155             Antioquia         Electrodomésticos   \n",
       "\n",
       "      longitud_nombre_producto  longitud_descripcion_producto  \\\n",
       "538                         10                             31   \n",
       "1151                        19                             28   \n",
       "1152                        18                             29   \n",
       "1153                        13                             30   \n",
       "1154                        33                             26   \n",
       "1155                        27                              3   \n",
       "\n",
       "      cantidad_fotos_producto  peso_g_producto  longitud_cm_producto  \\\n",
       "538                        20              256                    43   \n",
       "1151                       29             1324                    48   \n",
       "1152                       16             4677                    26   \n",
       "1153                       29              101                    17   \n",
       "1154                       13              514                    47   \n",
       "1155                       13             2962                    20   \n",
       "\n",
       "      altura_cm_producto  ancho_cm_producto  volumen_cm3_producto  \n",
       "538                    2                 21                  1806  \n",
       "1151                  17                 11                  8976  \n",
       "1152                   6                 16                  2496  \n",
       "1153                  26                 24                 10608  \n",
       "1154                  16                 43                 32336  \n",
       "1155                  26                 28                 14560  "
      ]
     },
     "execution_count": 44,
     "metadata": {},
     "output_type": "execute_result"
    }
   ],
   "source": [
    "# encontrar los registros en los que el identificador de la orden está duplicado pero los datos de la orden no.\n",
    "data[data.duplicated('orden_id') & ~data.duplicated()]"
   ]
  },
  {
   "cell_type": "markdown",
   "metadata": {},
   "source": [
    "Si bien es cierto que se identificaron estos registros como duplicados en el atributo orden_id, la siguiente tarea es analizar el contenido de las otras variables para terminar de comprender el problema."
   ]
  },
  {
   "cell_type": "code",
   "execution_count": 45,
   "metadata": {
    "scrolled": true
   },
   "outputs": [
    {
     "data": {
      "text/html": [
       "<div>\n",
       "<style scoped>\n",
       "    .dataframe tbody tr th:only-of-type {\n",
       "        vertical-align: middle;\n",
       "    }\n",
       "\n",
       "    .dataframe tbody tr th {\n",
       "        vertical-align: top;\n",
       "    }\n",
       "\n",
       "    .dataframe thead th {\n",
       "        text-align: right;\n",
       "    }\n",
       "</style>\n",
       "<table border=\"1\" class=\"dataframe\">\n",
       "  <thead>\n",
       "    <tr style=\"text-align: right;\">\n",
       "      <th></th>\n",
       "      <th>orden_id</th>\n",
       "      <th>producto_id</th>\n",
       "      <th>vendedor_id</th>\n",
       "      <th>fecha_envio_limite</th>\n",
       "      <th>precio</th>\n",
       "      <th>valor_flete</th>\n",
       "      <th>codigo_postal_vendedor</th>\n",
       "      <th>ciudad_vendedor</th>\n",
       "      <th>departamento_vendedor</th>\n",
       "      <th>nombre_categoria_producto</th>\n",
       "      <th>longitud_nombre_producto</th>\n",
       "      <th>longitud_descripcion_producto</th>\n",
       "      <th>cantidad_fotos_producto</th>\n",
       "      <th>peso_g_producto</th>\n",
       "      <th>longitud_cm_producto</th>\n",
       "      <th>altura_cm_producto</th>\n",
       "      <th>ancho_cm_producto</th>\n",
       "      <th>volumen_cm3_producto</th>\n",
       "    </tr>\n",
       "  </thead>\n",
       "  <tbody>\n",
       "    <tr>\n",
       "      <th>235</th>\n",
       "      <td>84227PR12A-A</td>\n",
       "      <td>PR12</td>\n",
       "      <td>VE2012</td>\n",
       "      <td>11/10/2017 8:27</td>\n",
       "      <td>49.3</td>\n",
       "      <td>1.11</td>\n",
       "      <td>52210</td>\n",
       "      <td>Contadero</td>\n",
       "      <td>Nariño</td>\n",
       "      <td>Frutas y verduras</td>\n",
       "      <td>19</td>\n",
       "      <td>36</td>\n",
       "      <td>32</td>\n",
       "      <td>4466</td>\n",
       "      <td>43</td>\n",
       "      <td>21</td>\n",
       "      <td>42</td>\n",
       "      <td>37926</td>\n",
       "    </tr>\n",
       "    <tr>\n",
       "      <th>1386</th>\n",
       "      <td>84227PR12A-A</td>\n",
       "      <td>PR12</td>\n",
       "      <td>VE2012</td>\n",
       "      <td>11/10/2017 8:27</td>\n",
       "      <td>49.3</td>\n",
       "      <td>1.11</td>\n",
       "      <td>52210</td>\n",
       "      <td>Contadero</td>\n",
       "      <td>Nariño</td>\n",
       "      <td>Frutas y verduras</td>\n",
       "      <td>19</td>\n",
       "      <td>36</td>\n",
       "      <td>32</td>\n",
       "      <td>4466</td>\n",
       "      <td>43</td>\n",
       "      <td>21</td>\n",
       "      <td>42</td>\n",
       "      <td>37926</td>\n",
       "    </tr>\n",
       "  </tbody>\n",
       "</table>\n",
       "</div>"
      ],
      "text/plain": [
       "          orden_id producto_id vendedor_id fecha_envio_limite  precio  \\\n",
       "235   84227PR12A-A        PR12      VE2012    11/10/2017 8:27    49.3   \n",
       "1386  84227PR12A-A        PR12      VE2012    11/10/2017 8:27    49.3   \n",
       "\n",
       "      valor_flete  codigo_postal_vendedor ciudad_vendedor  \\\n",
       "235          1.11                   52210       Contadero   \n",
       "1386         1.11                   52210       Contadero   \n",
       "\n",
       "     departamento_vendedor nombre_categoria_producto  \\\n",
       "235                 Nariño         Frutas y verduras   \n",
       "1386                Nariño         Frutas y verduras   \n",
       "\n",
       "      longitud_nombre_producto  longitud_descripcion_producto  \\\n",
       "235                         19                             36   \n",
       "1386                        19                             36   \n",
       "\n",
       "      cantidad_fotos_producto  peso_g_producto  longitud_cm_producto  \\\n",
       "235                        32             4466                    43   \n",
       "1386                       32             4466                    43   \n",
       "\n",
       "      altura_cm_producto  ancho_cm_producto  volumen_cm3_producto  \n",
       "235                   21                 42                 37926  \n",
       "1386                  21                 42                 37926  "
      ]
     },
     "execution_count": 45,
     "metadata": {},
     "output_type": "execute_result"
    }
   ],
   "source": [
    "# revisar uno de los datos donde la orden está duplicada\n",
    "data[data['orden_id']=='84227PR12A-A']"
   ]
  },
  {
   "cell_type": "markdown",
   "metadata": {},
   "source": [
    "En este caso, vemos dos registros con el mismo identificador de la orden. El último de los registros tiene valores diferentes para la fecha y el primero tiene los valores de precio y flete en ceros. Estos hallazgos deben ser validados con las personas del negocio."
   ]
  },
  {
   "cell_type": "markdown",
   "metadata": {},
   "source": [
    "### 3.3. Duplicados de la fuente de datos\n",
    "\n",
    "Una vez encontrado el identificador único podemos revisar cuáles son los registros que se están duplicando para realizar las correcciones necesarias. La existencia de estos registros puede deberse a diferentes razones, puede ser simplemente un error en la captura de información o algo más complejo, como que existan ordenes duplicadas en el sistema fuente. Por esto, la importancia de determinar los registros al parecer duplicados."
   ]
  },
  {
   "cell_type": "code",
   "execution_count": 46,
   "metadata": {},
   "outputs": [
    {
     "data": {
      "text/plain": [
       "495"
      ]
     },
     "execution_count": 46,
     "metadata": {},
     "output_type": "execute_result"
    }
   ],
   "source": [
    "# contar los registros duplicados de toda la fuente\n",
    "data.duplicated().sum()"
   ]
  },
  {
   "cell_type": "markdown",
   "metadata": {},
   "source": [
    "En esta validación vemos que hay menos registros duplicados que cuando contamos valores duplicados en el identificador. Veámos las características de los registros con identificador duplicado."
   ]
  },
  {
   "cell_type": "code",
   "execution_count": 47,
   "metadata": {},
   "outputs": [
    {
     "data": {
      "text/plain": [
       "orden_id                         495\n",
       "producto_id                      495\n",
       "vendedor_id                      495\n",
       "fecha_envio_limite               495\n",
       "precio                           495\n",
       "valor_flete                      463\n",
       "codigo_postal_vendedor           495\n",
       "ciudad_vendedor                  495\n",
       "departamento_vendedor            495\n",
       "nombre_categoria_producto        463\n",
       "longitud_nombre_producto         495\n",
       "longitud_descripcion_producto    495\n",
       "cantidad_fotos_producto          495\n",
       "peso_g_producto                  495\n",
       "longitud_cm_producto             495\n",
       "altura_cm_producto               495\n",
       "ancho_cm_producto                495\n",
       "volumen_cm3_producto             495\n",
       "dtype: int64"
      ]
     },
     "execution_count": 47,
     "metadata": {},
     "output_type": "execute_result"
    }
   ],
   "source": [
    "# revisar el número de duplicados de todos los atributos con la función count\n",
    "data[data.duplicated()].count()"
   ]
  },
  {
   "cell_type": "markdown",
   "metadata": {},
   "source": [
    "En este punto es importante reflexionar sobre el resultado obtenido y determinar si es necesario hacer otros análisis para comprender mejor el problema y poderlo reportar."
   ]
  },
  {
   "cell_type": "code",
   "execution_count": 48,
   "metadata": {
    "scrolled": true
   },
   "outputs": [
    {
     "data": {
      "text/html": [
       "<div>\n",
       "<style scoped>\n",
       "    .dataframe tbody tr th:only-of-type {\n",
       "        vertical-align: middle;\n",
       "    }\n",
       "\n",
       "    .dataframe tbody tr th {\n",
       "        vertical-align: top;\n",
       "    }\n",
       "\n",
       "    .dataframe thead th {\n",
       "        text-align: right;\n",
       "    }\n",
       "</style>\n",
       "<table border=\"1\" class=\"dataframe\">\n",
       "  <thead>\n",
       "    <tr style=\"text-align: right;\">\n",
       "      <th></th>\n",
       "      <th>orden_id</th>\n",
       "      <th>producto_id</th>\n",
       "      <th>vendedor_id</th>\n",
       "      <th>fecha_envio_limite</th>\n",
       "      <th>precio</th>\n",
       "      <th>valor_flete</th>\n",
       "      <th>codigo_postal_vendedor</th>\n",
       "      <th>ciudad_vendedor</th>\n",
       "      <th>departamento_vendedor</th>\n",
       "      <th>nombre_categoria_producto</th>\n",
       "      <th>longitud_nombre_producto</th>\n",
       "      <th>longitud_descripcion_producto</th>\n",
       "      <th>cantidad_fotos_producto</th>\n",
       "      <th>peso_g_producto</th>\n",
       "      <th>longitud_cm_producto</th>\n",
       "      <th>altura_cm_producto</th>\n",
       "      <th>ancho_cm_producto</th>\n",
       "      <th>volumen_cm3_producto</th>\n",
       "    </tr>\n",
       "  </thead>\n",
       "  <tbody>\n",
       "    <tr>\n",
       "      <th>1156</th>\n",
       "      <td>58767PS40A-A</td>\n",
       "      <td>PS40</td>\n",
       "      <td>VE1175</td>\n",
       "      <td>6/11/1901 21:06</td>\n",
       "      <td>220.91</td>\n",
       "      <td>8.18</td>\n",
       "      <td>52323</td>\n",
       "      <td>Gualmatan</td>\n",
       "      <td>Nariño++</td>\n",
       "      <td>Carnicería</td>\n",
       "      <td>36</td>\n",
       "      <td>2</td>\n",
       "      <td>2</td>\n",
       "      <td>3510</td>\n",
       "      <td>22</td>\n",
       "      <td>5</td>\n",
       "      <td>20</td>\n",
       "      <td>2200</td>\n",
       "    </tr>\n",
       "    <tr>\n",
       "      <th>1157</th>\n",
       "      <td>28468PB76A-A</td>\n",
       "      <td>PB76</td>\n",
       "      <td>VE8634</td>\n",
       "      <td>20/09/2017 4:24</td>\n",
       "      <td>101.55</td>\n",
       "      <td>111.74</td>\n",
       "      <td>52427</td>\n",
       "      <td>Magui</td>\n",
       "      <td>Nariño</td>\n",
       "      <td>Ropa de adultos</td>\n",
       "      <td>9</td>\n",
       "      <td>16</td>\n",
       "      <td>2</td>\n",
       "      <td>330</td>\n",
       "      <td>6</td>\n",
       "      <td>5</td>\n",
       "      <td>16</td>\n",
       "      <td>0</td>\n",
       "    </tr>\n",
       "    <tr>\n",
       "      <th>1158</th>\n",
       "      <td>8111PB14A-A</td>\n",
       "      <td>PB14</td>\n",
       "      <td>VE5681</td>\n",
       "      <td>25/10/2017 16:35</td>\n",
       "      <td>73.75</td>\n",
       "      <td>17.51</td>\n",
       "      <td>52210</td>\n",
       "      <td>Contadero</td>\n",
       "      <td>Nariño</td>\n",
       "      <td>Ropa de adultos</td>\n",
       "      <td>15</td>\n",
       "      <td>15</td>\n",
       "      <td>38</td>\n",
       "      <td>592</td>\n",
       "      <td>51</td>\n",
       "      <td>32</td>\n",
       "      <td>20</td>\n",
       "      <td>0</td>\n",
       "    </tr>\n",
       "    <tr>\n",
       "      <th>1159</th>\n",
       "      <td>81437PS10A-A</td>\n",
       "      <td>PS10</td>\n",
       "      <td>VE3482</td>\n",
       "      <td>14/02/2018 0:09</td>\n",
       "      <td>-14.97</td>\n",
       "      <td>NaN</td>\n",
       "      <td>52051</td>\n",
       "      <td>Arboleda</td>\n",
       "      <td>Nariño</td>\n",
       "      <td>NaN</td>\n",
       "      <td>6</td>\n",
       "      <td>5</td>\n",
       "      <td>0</td>\n",
       "      <td>2032</td>\n",
       "      <td>50</td>\n",
       "      <td>12</td>\n",
       "      <td>21</td>\n",
       "      <td>12600</td>\n",
       "    </tr>\n",
       "    <tr>\n",
       "      <th>1160</th>\n",
       "      <td>73702PS92A-A</td>\n",
       "      <td>PS92</td>\n",
       "      <td>VE9623</td>\n",
       "      <td>14/01/2018 21:46</td>\n",
       "      <td>13.48</td>\n",
       "      <td>20.66</td>\n",
       "      <td>52411</td>\n",
       "      <td>Linares</td>\n",
       "      <td>Nariño</td>\n",
       "      <td>Carnicería</td>\n",
       "      <td>25</td>\n",
       "      <td>18</td>\n",
       "      <td>0</td>\n",
       "      <td>3862</td>\n",
       "      <td>34</td>\n",
       "      <td>27</td>\n",
       "      <td>8</td>\n",
       "      <td>7344</td>\n",
       "    </tr>\n",
       "  </tbody>\n",
       "</table>\n",
       "</div>"
      ],
      "text/plain": [
       "          orden_id producto_id vendedor_id fecha_envio_limite  precio  \\\n",
       "1156  58767PS40A-A        PS40      VE1175    6/11/1901 21:06  220.91   \n",
       "1157  28468PB76A-A        PB76      VE8634    20/09/2017 4:24  101.55   \n",
       "1158   8111PB14A-A        PB14      VE5681   25/10/2017 16:35   73.75   \n",
       "1159  81437PS10A-A        PS10      VE3482    14/02/2018 0:09  -14.97   \n",
       "1160  73702PS92A-A        PS92      VE9623   14/01/2018 21:46   13.48   \n",
       "\n",
       "      valor_flete  codigo_postal_vendedor ciudad_vendedor  \\\n",
       "1156         8.18                   52323       Gualmatan   \n",
       "1157       111.74                   52427           Magui   \n",
       "1158        17.51                   52210       Contadero   \n",
       "1159          NaN                   52051        Arboleda   \n",
       "1160        20.66                   52411         Linares   \n",
       "\n",
       "     departamento_vendedor nombre_categoria_producto  \\\n",
       "1156              Nariño++                Carnicería   \n",
       "1157                Nariño           Ropa de adultos   \n",
       "1158                Nariño           Ropa de adultos   \n",
       "1159                Nariño                       NaN   \n",
       "1160                Nariño                Carnicería   \n",
       "\n",
       "      longitud_nombre_producto  longitud_descripcion_producto  \\\n",
       "1156                        36                              2   \n",
       "1157                         9                             16   \n",
       "1158                        15                             15   \n",
       "1159                         6                              5   \n",
       "1160                        25                             18   \n",
       "\n",
       "      cantidad_fotos_producto  peso_g_producto  longitud_cm_producto  \\\n",
       "1156                        2             3510                    22   \n",
       "1157                        2              330                     6   \n",
       "1158                       38              592                    51   \n",
       "1159                        0             2032                    50   \n",
       "1160                        0             3862                    34   \n",
       "\n",
       "      altura_cm_producto  ancho_cm_producto  volumen_cm3_producto  \n",
       "1156                   5                 20                  2200  \n",
       "1157                   5                 16                     0  \n",
       "1158                  32                 20                     0  \n",
       "1159                  12                 21                 12600  \n",
       "1160                  27                  8                  7344  "
      ]
     },
     "execution_count": 48,
     "metadata": {},
     "output_type": "execute_result"
    }
   ],
   "source": [
    "# revisar el contenido de los registros duplicados\n",
    "data[data.duplicated()].head()"
   ]
  },
  {
   "cell_type": "code",
   "execution_count": 49,
   "metadata": {
    "scrolled": true
   },
   "outputs": [
    {
     "data": {
      "text/html": [
       "<div>\n",
       "<style scoped>\n",
       "    .dataframe tbody tr th:only-of-type {\n",
       "        vertical-align: middle;\n",
       "    }\n",
       "\n",
       "    .dataframe tbody tr th {\n",
       "        vertical-align: top;\n",
       "    }\n",
       "\n",
       "    .dataframe thead th {\n",
       "        text-align: right;\n",
       "    }\n",
       "</style>\n",
       "<table border=\"1\" class=\"dataframe\">\n",
       "  <thead>\n",
       "    <tr style=\"text-align: right;\">\n",
       "      <th></th>\n",
       "      <th>orden_id</th>\n",
       "      <th>producto_id</th>\n",
       "      <th>vendedor_id</th>\n",
       "      <th>fecha_envio_limite</th>\n",
       "      <th>precio</th>\n",
       "      <th>valor_flete</th>\n",
       "      <th>codigo_postal_vendedor</th>\n",
       "      <th>ciudad_vendedor</th>\n",
       "      <th>departamento_vendedor</th>\n",
       "      <th>nombre_categoria_producto</th>\n",
       "      <th>longitud_nombre_producto</th>\n",
       "      <th>longitud_descripcion_producto</th>\n",
       "      <th>cantidad_fotos_producto</th>\n",
       "      <th>peso_g_producto</th>\n",
       "      <th>longitud_cm_producto</th>\n",
       "      <th>altura_cm_producto</th>\n",
       "      <th>ancho_cm_producto</th>\n",
       "      <th>volumen_cm3_producto</th>\n",
       "    </tr>\n",
       "  </thead>\n",
       "  <tbody>\n",
       "    <tr>\n",
       "      <th>235</th>\n",
       "      <td>84227PR12A-A</td>\n",
       "      <td>PR12</td>\n",
       "      <td>VE2012</td>\n",
       "      <td>11/10/2017 8:27</td>\n",
       "      <td>49.3</td>\n",
       "      <td>1.11</td>\n",
       "      <td>52210</td>\n",
       "      <td>Contadero</td>\n",
       "      <td>Nariño</td>\n",
       "      <td>Frutas y verduras</td>\n",
       "      <td>19</td>\n",
       "      <td>36</td>\n",
       "      <td>32</td>\n",
       "      <td>4466</td>\n",
       "      <td>43</td>\n",
       "      <td>21</td>\n",
       "      <td>42</td>\n",
       "      <td>37926</td>\n",
       "    </tr>\n",
       "    <tr>\n",
       "      <th>1386</th>\n",
       "      <td>84227PR12A-A</td>\n",
       "      <td>PR12</td>\n",
       "      <td>VE2012</td>\n",
       "      <td>11/10/2017 8:27</td>\n",
       "      <td>49.3</td>\n",
       "      <td>1.11</td>\n",
       "      <td>52210</td>\n",
       "      <td>Contadero</td>\n",
       "      <td>Nariño</td>\n",
       "      <td>Frutas y verduras</td>\n",
       "      <td>19</td>\n",
       "      <td>36</td>\n",
       "      <td>32</td>\n",
       "      <td>4466</td>\n",
       "      <td>43</td>\n",
       "      <td>21</td>\n",
       "      <td>42</td>\n",
       "      <td>37926</td>\n",
       "    </tr>\n",
       "  </tbody>\n",
       "</table>\n",
       "</div>"
      ],
      "text/plain": [
       "          orden_id producto_id vendedor_id fecha_envio_limite  precio  \\\n",
       "235   84227PR12A-A        PR12      VE2012    11/10/2017 8:27    49.3   \n",
       "1386  84227PR12A-A        PR12      VE2012    11/10/2017 8:27    49.3   \n",
       "\n",
       "      valor_flete  codigo_postal_vendedor ciudad_vendedor  \\\n",
       "235          1.11                   52210       Contadero   \n",
       "1386         1.11                   52210       Contadero   \n",
       "\n",
       "     departamento_vendedor nombre_categoria_producto  \\\n",
       "235                 Nariño         Frutas y verduras   \n",
       "1386                Nariño         Frutas y verduras   \n",
       "\n",
       "      longitud_nombre_producto  longitud_descripcion_producto  \\\n",
       "235                         19                             36   \n",
       "1386                        19                             36   \n",
       "\n",
       "      cantidad_fotos_producto  peso_g_producto  longitud_cm_producto  \\\n",
       "235                        32             4466                    43   \n",
       "1386                       32             4466                    43   \n",
       "\n",
       "      altura_cm_producto  ancho_cm_producto  volumen_cm3_producto  \n",
       "235                   21                 42                 37926  \n",
       "1386                  21                 42                 37926  "
      ]
     },
     "execution_count": 49,
     "metadata": {},
     "output_type": "execute_result"
    }
   ],
   "source": [
    "# revisar el contenido de uno de los registros duplicados\n",
    "data[data['orden_id']=='84227PR12A-A']"
   ]
  },
  {
   "cell_type": "markdown",
   "metadata": {},
   "source": [
    "Con este hallazgo ya es más fácil reportar los casos encontrados."
   ]
  },
  {
   "cell_type": "markdown",
   "metadata": {},
   "source": [
    "### 4. Análisis de los atributos\n",
    "\n",
    "Para cada atributo es posible identificar el tipo de dato, el dominio en el que se encuentra, y si tienen algún patrón específico, por ejemplo, los precios deben ser valores numéricos positivos, en un rango particular. Con este análisis podemos revisar cuáles son las características principales de los atributos y continuar conociendo los datos y detectando posibles problemas en su calidad.\n"
   ]
  },
  {
   "cell_type": "markdown",
   "metadata": {},
   "source": [
    "### 4.1. Tipos de datos\n",
    "\n",
    "Debemos identificar en la fuente el tipo de datos de las variables que estamos analizando, para poder establecer su formato y su dominio."
   ]
  },
  {
   "cell_type": "code",
   "execution_count": 50,
   "metadata": {},
   "outputs": [
    {
     "data": {
      "text/plain": [
       "orden_id                          object\n",
       "producto_id                       object\n",
       "vendedor_id                       object\n",
       "fecha_envio_limite                object\n",
       "precio                           float64\n",
       "valor_flete                      float64\n",
       "codigo_postal_vendedor             int64\n",
       "ciudad_vendedor                   object\n",
       "departamento_vendedor             object\n",
       "nombre_categoria_producto         object\n",
       "longitud_nombre_producto           int64\n",
       "longitud_descripcion_producto      int64\n",
       "cantidad_fotos_producto            int64\n",
       "peso_g_producto                    int64\n",
       "longitud_cm_producto               int64\n",
       "altura_cm_producto                 int64\n",
       "ancho_cm_producto                  int64\n",
       "volumen_cm3_producto               int64\n",
       "dtype: object"
      ]
     },
     "execution_count": 50,
     "metadata": {},
     "output_type": "execute_result"
    }
   ],
   "source": [
    "#identificar los tipos de datos\n",
    "data.dtypes"
   ]
  },
  {
   "cell_type": "markdown",
   "metadata": {},
   "source": [
    "En nuestra fuente de datos tenemos tipos de datos numéricos y string, esto corresponde con las características del producto y los datos que se especifican en el diccionario, a excepción de los primeros identificadores que deben ser numéricos y del atributo fecha_envio_limite que debemos transformar a Datetime, como aprendimos en el tutorial anterior."
   ]
  },
  {
   "cell_type": "markdown",
   "metadata": {},
   "source": [
    "### 4.2. Dominio\n",
    "\n",
    "Debemos identificar en el diccionario de datos el dominio y corroborarlo con los datos."
   ]
  },
  {
   "cell_type": "code",
   "execution_count": 51,
   "metadata": {},
   "outputs": [
    {
     "data": {
      "text/plain": [
       "-594.4"
      ]
     },
     "execution_count": 51,
     "metadata": {},
     "output_type": "execute_result"
    }
   ],
   "source": [
    "#identificar el dominio del atributo precio, primero el valor mínimo\n",
    "data['precio'].min()"
   ]
  },
  {
   "cell_type": "code",
   "execution_count": 52,
   "metadata": {},
   "outputs": [
    {
     "data": {
      "text/plain": [
       "771.49"
      ]
     },
     "execution_count": 52,
     "metadata": {},
     "output_type": "execute_result"
    }
   ],
   "source": [
    "#identificar el dominio del atributo precio, en este punto el valor máximo\n",
    "data['precio'].max()"
   ]
  },
  {
   "cell_type": "markdown",
   "metadata": {},
   "source": [
    "Vemos como el dominio de precio está entre los valores -594.4 y 771.49. La pregunta es, ¿Esto tiene sentido?"
   ]
  },
  {
   "cell_type": "markdown",
   "metadata": {},
   "source": [
    "### 4.3. Patrones\n",
    "\n",
    "Debemos identificar los patrones de algunos de los atributos. En este caso el formato de la columna fecha_envio_límite y el código postal, por lo tanto vamos a realizar las siguientes actividades:\n",
    "\n",
    "* Revisar formato del atributo fecha.\n",
    "* Entender el formato de código postal."
   ]
  },
  {
   "cell_type": "code",
   "execution_count": 53,
   "metadata": {},
   "outputs": [
    {
     "data": {
      "text/html": [
       "<div>\n",
       "<style scoped>\n",
       "    .dataframe tbody tr th:only-of-type {\n",
       "        vertical-align: middle;\n",
       "    }\n",
       "\n",
       "    .dataframe tbody tr th {\n",
       "        vertical-align: top;\n",
       "    }\n",
       "\n",
       "    .dataframe thead th {\n",
       "        text-align: right;\n",
       "    }\n",
       "</style>\n",
       "<table border=\"1\" class=\"dataframe\">\n",
       "  <thead>\n",
       "    <tr style=\"text-align: right;\">\n",
       "      <th></th>\n",
       "      <th>fecha_envio_limite</th>\n",
       "      <th>codigo_postal_vendedor</th>\n",
       "    </tr>\n",
       "  </thead>\n",
       "  <tbody>\n",
       "    <tr>\n",
       "      <th>0</th>\n",
       "      <td>1-ago-17</td>\n",
       "      <td>52565</td>\n",
       "    </tr>\n",
       "    <tr>\n",
       "      <th>1</th>\n",
       "      <td>31-may-18</td>\n",
       "      <td>52203</td>\n",
       "    </tr>\n",
       "    <tr>\n",
       "      <th>2</th>\n",
       "      <td>27-oct-17</td>\n",
       "      <td>52051</td>\n",
       "    </tr>\n",
       "    <tr>\n",
       "      <th>3</th>\n",
       "      <td>13/12/2017</td>\n",
       "      <td>52323</td>\n",
       "    </tr>\n",
       "    <tr>\n",
       "      <th>4</th>\n",
       "      <td>1/11/2018 0:00</td>\n",
       "      <td>5002</td>\n",
       "    </tr>\n",
       "  </tbody>\n",
       "</table>\n",
       "</div>"
      ],
      "text/plain": [
       "  fecha_envio_limite  codigo_postal_vendedor\n",
       "0           1-ago-17                   52565\n",
       "1          31-may-18                   52203\n",
       "2          27-oct-17                   52051\n",
       "3         13/12/2017                   52323\n",
       "4     1/11/2018 0:00                    5002"
      ]
     },
     "execution_count": 53,
     "metadata": {},
     "output_type": "execute_result"
    }
   ],
   "source": [
    "#visualizar los datos que se van a corregir\n",
    "data[['fecha_envio_limite','codigo_postal_vendedor']].head()"
   ]
  },
  {
   "cell_type": "markdown",
   "metadata": {},
   "source": [
    "**Fecha:** en los primeros registros vemos que hay al menos 2 tipos de formatos de fecha:\n",
    "* dd - mes - AA\n",
    "* dd/mm/AAAA\n",
    "* dd/mm/AAAA hh:mm\n",
    "\n",
    "Donde dd: es día en con 2 dígitos, mes: primeras 3 letras del mes, mm: el mes con 2 dígitos, AAAA: año con 4 dígitos, AA: año con dos dígitos, hh: la hora con 2 dígitos y mm: los minutos con 2 dígitos."
   ]
  },
  {
   "cell_type": "code",
   "execution_count": 54,
   "metadata": {
    "scrolled": true
   },
   "outputs": [
    {
     "data": {
      "text/html": [
       "<div>\n",
       "<style scoped>\n",
       "    .dataframe tbody tr th:only-of-type {\n",
       "        vertical-align: middle;\n",
       "    }\n",
       "\n",
       "    .dataframe tbody tr th {\n",
       "        vertical-align: top;\n",
       "    }\n",
       "\n",
       "    .dataframe thead th {\n",
       "        text-align: right;\n",
       "    }\n",
       "</style>\n",
       "<table border=\"1\" class=\"dataframe\">\n",
       "  <thead>\n",
       "    <tr style=\"text-align: right;\">\n",
       "      <th></th>\n",
       "      <th>longitud_codigo</th>\n",
       "    </tr>\n",
       "  </thead>\n",
       "  <tbody>\n",
       "    <tr>\n",
       "      <th>0</th>\n",
       "      <td>5</td>\n",
       "    </tr>\n",
       "    <tr>\n",
       "      <th>1</th>\n",
       "      <td>5</td>\n",
       "    </tr>\n",
       "    <tr>\n",
       "      <th>2</th>\n",
       "      <td>5</td>\n",
       "    </tr>\n",
       "    <tr>\n",
       "      <th>3</th>\n",
       "      <td>5</td>\n",
       "    </tr>\n",
       "    <tr>\n",
       "      <th>4</th>\n",
       "      <td>4</td>\n",
       "    </tr>\n",
       "  </tbody>\n",
       "</table>\n",
       "</div>"
      ],
      "text/plain": [
       "   longitud_codigo\n",
       "0                5\n",
       "1                5\n",
       "2                5\n",
       "3                5\n",
       "4                4"
      ]
     },
     "execution_count": 54,
     "metadata": {},
     "output_type": "execute_result"
    }
   ],
   "source": [
    "#revisar la longitud del código postal\n",
    "data['longitud_codigo']=data['codigo_postal_vendedor'].apply(lambda x: len(str(x)))\n",
    "data[['longitud_codigo']].head(5)"
   ]
  },
  {
   "cell_type": "code",
   "execution_count": 55,
   "metadata": {},
   "outputs": [
    {
     "name": "stdout",
     "output_type": "stream",
     "text": [
      "5\n",
      "4\n"
     ]
    }
   ],
   "source": [
    "#revisar el dominio de la longitud del código\n",
    "print(data['longitud_codigo'].max())\n",
    "print(data['longitud_codigo'].min())"
   ]
  },
  {
   "cell_type": "markdown",
   "metadata": {},
   "source": [
    "**Código postal**: vemos que el valor del código postal es un número entre 4 y 5 dígitos siempre positivo, lo que debemos corroborar con la definición de un código postal."
   ]
  },
  {
   "cell_type": "markdown",
   "metadata": {},
   "source": [
    "### 4.4. Atributos vacíos\n",
    "\n",
    "Uno de los pasos más importantes para el negocio es identificar qué atributos están vacíos, ya que esto puede alterar los resultados de los análisis que se están presentando, e incluso, en algunos casos, generar alguna pérdida económica si no está bien identificado."
   ]
  },
  {
   "cell_type": "code",
   "execution_count": 56,
   "metadata": {
    "scrolled": true
   },
   "outputs": [
    {
     "data": {
      "text/plain": [
       "orden_id                           0\n",
       "producto_id                        0\n",
       "vendedor_id                        0\n",
       "fecha_envio_limite                 0\n",
       "precio                             0\n",
       "valor_flete                      102\n",
       "codigo_postal_vendedor             0\n",
       "ciudad_vendedor                    0\n",
       "departamento_vendedor              0\n",
       "nombre_categoria_producto        102\n",
       "longitud_nombre_producto           0\n",
       "longitud_descripcion_producto      0\n",
       "cantidad_fotos_producto            0\n",
       "peso_g_producto                    0\n",
       "longitud_cm_producto               0\n",
       "altura_cm_producto                 0\n",
       "ancho_cm_producto                  0\n",
       "volumen_cm3_producto               0\n",
       "longitud_codigo                    0\n",
       "dtype: int64"
      ]
     },
     "execution_count": 56,
     "metadata": {},
     "output_type": "execute_result"
    }
   ],
   "source": [
    "# Revisar los atributos que contienen vacíos\n",
    "data.isna().sum()"
   ]
  },
  {
   "cell_type": "code",
   "execution_count": 57,
   "metadata": {
    "scrolled": true
   },
   "outputs": [
    {
     "data": {
      "text/plain": [
       "orden_id                         0.000000\n",
       "producto_id                      0.000000\n",
       "vendedor_id                      0.000000\n",
       "fecha_envio_limite               0.000000\n",
       "precio                           0.000000\n",
       "valor_flete                      0.061781\n",
       "codigo_postal_vendedor           0.000000\n",
       "ciudad_vendedor                  0.000000\n",
       "departamento_vendedor            0.000000\n",
       "nombre_categoria_producto        0.061781\n",
       "longitud_nombre_producto         0.000000\n",
       "longitud_descripcion_producto    0.000000\n",
       "cantidad_fotos_producto          0.000000\n",
       "peso_g_producto                  0.000000\n",
       "longitud_cm_producto             0.000000\n",
       "altura_cm_producto               0.000000\n",
       "ancho_cm_producto                0.000000\n",
       "volumen_cm3_producto             0.000000\n",
       "longitud_codigo                  0.000000\n",
       "dtype: float64"
      ]
     },
     "execution_count": 57,
     "metadata": {},
     "output_type": "execute_result"
    }
   ],
   "source": [
    "#porcentaje de nulos por variable\n",
    "data.isna().sum()/len(data)"
   ]
  },
  {
   "cell_type": "markdown",
   "metadata": {},
   "source": [
    "Con el código anterior es posible revisar cuáles atributos contienen nulos y cuáles no, además podemos ver el porcentaje de valores nulos por atributo. Hay que tener en cuenta que tenemos vacíos en variables fundamentales como el valor del flete y el nombre de categoría de producto, la pregunta es si esto es o no un error, el único que lo sabe es el negocio, así que debemos reportarlo y validarlo."
   ]
  },
  {
   "cell_type": "markdown",
   "metadata": {},
   "source": [
    "### 4.5. Uso de estadística\n",
    "\n",
    "Apoyado en el uso de estadística descriptiva, (i.e., medidas de tendencia central y dispersión), es posible entender las distribuciones y patrones de los atributos. De igual manera, identificar valores faltantes, valores atípicos entre otros, utilizando estadísticos como el mínimo, el máximo, y la media."
   ]
  },
  {
   "cell_type": "code",
   "execution_count": 58,
   "metadata": {
    "scrolled": true
   },
   "outputs": [
    {
     "data": {
      "text/html": [
       "<div>\n",
       "<style scoped>\n",
       "    .dataframe tbody tr th:only-of-type {\n",
       "        vertical-align: middle;\n",
       "    }\n",
       "\n",
       "    .dataframe tbody tr th {\n",
       "        vertical-align: top;\n",
       "    }\n",
       "\n",
       "    .dataframe thead th {\n",
       "        text-align: right;\n",
       "    }\n",
       "</style>\n",
       "<table border=\"1\" class=\"dataframe\">\n",
       "  <thead>\n",
       "    <tr style=\"text-align: right;\">\n",
       "      <th></th>\n",
       "      <th>precio</th>\n",
       "      <th>valor_flete</th>\n",
       "      <th>codigo_postal_vendedor</th>\n",
       "      <th>longitud_nombre_producto</th>\n",
       "      <th>longitud_descripcion_producto</th>\n",
       "      <th>cantidad_fotos_producto</th>\n",
       "      <th>peso_g_producto</th>\n",
       "      <th>longitud_cm_producto</th>\n",
       "      <th>altura_cm_producto</th>\n",
       "      <th>ancho_cm_producto</th>\n",
       "      <th>volumen_cm3_producto</th>\n",
       "      <th>longitud_codigo</th>\n",
       "    </tr>\n",
       "  </thead>\n",
       "  <tbody>\n",
       "    <tr>\n",
       "      <th>count</th>\n",
       "      <td>1651.000000</td>\n",
       "      <td>1549.000000</td>\n",
       "      <td>1651.000000</td>\n",
       "      <td>1651.000000</td>\n",
       "      <td>1651.000000</td>\n",
       "      <td>1651.000000</td>\n",
       "      <td>1651.000000</td>\n",
       "      <td>1651.000000</td>\n",
       "      <td>1651.000000</td>\n",
       "      <td>1651.000000</td>\n",
       "      <td>1651.000000</td>\n",
       "      <td>1651.000000</td>\n",
       "    </tr>\n",
       "    <tr>\n",
       "      <th>mean</th>\n",
       "      <td>105.351702</td>\n",
       "      <td>21.103428</td>\n",
       "      <td>48559.625681</td>\n",
       "      <td>20.017565</td>\n",
       "      <td>20.079952</td>\n",
       "      <td>19.268322</td>\n",
       "      <td>2110.227135</td>\n",
       "      <td>29.865536</td>\n",
       "      <td>18.109631</td>\n",
       "      <td>23.508783</td>\n",
       "      <td>11705.218050</td>\n",
       "      <td>4.920048</td>\n",
       "    </tr>\n",
       "    <tr>\n",
       "      <th>std</th>\n",
       "      <td>132.496983</td>\n",
       "      <td>20.867412</td>\n",
       "      <td>12845.017466</td>\n",
       "      <td>11.741418</td>\n",
       "      <td>11.681569</td>\n",
       "      <td>11.592948</td>\n",
       "      <td>2099.076835</td>\n",
       "      <td>15.004245</td>\n",
       "      <td>11.317007</td>\n",
       "      <td>11.026377</td>\n",
       "      <td>12794.451104</td>\n",
       "      <td>0.271300</td>\n",
       "    </tr>\n",
       "    <tr>\n",
       "      <th>min</th>\n",
       "      <td>-594.400000</td>\n",
       "      <td>0.000000</td>\n",
       "      <td>5001.000000</td>\n",
       "      <td>0.000000</td>\n",
       "      <td>0.000000</td>\n",
       "      <td>0.000000</td>\n",
       "      <td>0.000000</td>\n",
       "      <td>0.000000</td>\n",
       "      <td>0.000000</td>\n",
       "      <td>0.000000</td>\n",
       "      <td>0.000000</td>\n",
       "      <td>4.000000</td>\n",
       "    </tr>\n",
       "    <tr>\n",
       "      <th>25%</th>\n",
       "      <td>25.730000</td>\n",
       "      <td>6.090000</td>\n",
       "      <td>52207.000000</td>\n",
       "      <td>10.000000</td>\n",
       "      <td>10.000000</td>\n",
       "      <td>9.000000</td>\n",
       "      <td>600.500000</td>\n",
       "      <td>18.000000</td>\n",
       "      <td>9.000000</td>\n",
       "      <td>16.000000</td>\n",
       "      <td>2303.000000</td>\n",
       "      <td>5.000000</td>\n",
       "    </tr>\n",
       "    <tr>\n",
       "      <th>50%</th>\n",
       "      <td>71.990000</td>\n",
       "      <td>15.150000</td>\n",
       "      <td>52381.000000</td>\n",
       "      <td>20.000000</td>\n",
       "      <td>20.000000</td>\n",
       "      <td>19.000000</td>\n",
       "      <td>1445.000000</td>\n",
       "      <td>30.000000</td>\n",
       "      <td>17.000000</td>\n",
       "      <td>23.000000</td>\n",
       "      <td>7695.000000</td>\n",
       "      <td>5.000000</td>\n",
       "    </tr>\n",
       "    <tr>\n",
       "      <th>75%</th>\n",
       "      <td>151.915000</td>\n",
       "      <td>28.660000</td>\n",
       "      <td>52435.000000</td>\n",
       "      <td>30.000000</td>\n",
       "      <td>30.000000</td>\n",
       "      <td>29.000000</td>\n",
       "      <td>2932.000000</td>\n",
       "      <td>41.000000</td>\n",
       "      <td>26.000000</td>\n",
       "      <td>31.000000</td>\n",
       "      <td>16290.000000</td>\n",
       "      <td>5.000000</td>\n",
       "    </tr>\n",
       "    <tr>\n",
       "      <th>max</th>\n",
       "      <td>771.490000</td>\n",
       "      <td>178.160000</td>\n",
       "      <td>52565.000000</td>\n",
       "      <td>40.000000</td>\n",
       "      <td>40.000000</td>\n",
       "      <td>40.000000</td>\n",
       "      <td>17034.000000</td>\n",
       "      <td>76.000000</td>\n",
       "      <td>59.000000</td>\n",
       "      <td>62.000000</td>\n",
       "      <td>90828.000000</td>\n",
       "      <td>5.000000</td>\n",
       "    </tr>\n",
       "  </tbody>\n",
       "</table>\n",
       "</div>"
      ],
      "text/plain": [
       "            precio  valor_flete  codigo_postal_vendedor  \\\n",
       "count  1651.000000  1549.000000             1651.000000   \n",
       "mean    105.351702    21.103428            48559.625681   \n",
       "std     132.496983    20.867412            12845.017466   \n",
       "min    -594.400000     0.000000             5001.000000   \n",
       "25%      25.730000     6.090000            52207.000000   \n",
       "50%      71.990000    15.150000            52381.000000   \n",
       "75%     151.915000    28.660000            52435.000000   \n",
       "max     771.490000   178.160000            52565.000000   \n",
       "\n",
       "       longitud_nombre_producto  longitud_descripcion_producto  \\\n",
       "count               1651.000000                    1651.000000   \n",
       "mean                  20.017565                      20.079952   \n",
       "std                   11.741418                      11.681569   \n",
       "min                    0.000000                       0.000000   \n",
       "25%                   10.000000                      10.000000   \n",
       "50%                   20.000000                      20.000000   \n",
       "75%                   30.000000                      30.000000   \n",
       "max                   40.000000                      40.000000   \n",
       "\n",
       "       cantidad_fotos_producto  peso_g_producto  longitud_cm_producto  \\\n",
       "count              1651.000000      1651.000000           1651.000000   \n",
       "mean                 19.268322      2110.227135             29.865536   \n",
       "std                  11.592948      2099.076835             15.004245   \n",
       "min                   0.000000         0.000000              0.000000   \n",
       "25%                   9.000000       600.500000             18.000000   \n",
       "50%                  19.000000      1445.000000             30.000000   \n",
       "75%                  29.000000      2932.000000             41.000000   \n",
       "max                  40.000000     17034.000000             76.000000   \n",
       "\n",
       "       altura_cm_producto  ancho_cm_producto  volumen_cm3_producto  \\\n",
       "count         1651.000000        1651.000000           1651.000000   \n",
       "mean            18.109631          23.508783          11705.218050   \n",
       "std             11.317007          11.026377          12794.451104   \n",
       "min              0.000000           0.000000              0.000000   \n",
       "25%              9.000000          16.000000           2303.000000   \n",
       "50%             17.000000          23.000000           7695.000000   \n",
       "75%             26.000000          31.000000          16290.000000   \n",
       "max             59.000000          62.000000          90828.000000   \n",
       "\n",
       "       longitud_codigo  \n",
       "count      1651.000000  \n",
       "mean          4.920048  \n",
       "std           0.271300  \n",
       "min           4.000000  \n",
       "25%           5.000000  \n",
       "50%           5.000000  \n",
       "75%           5.000000  \n",
       "max           5.000000  "
      ]
     },
     "execution_count": 58,
     "metadata": {},
     "output_type": "execute_result"
    }
   ],
   "source": [
    "# Estadísticas básicas para las variables numéricas\n",
    "data.describe()"
   ]
  },
  {
   "cell_type": "code",
   "execution_count": 59,
   "metadata": {},
   "outputs": [
    {
     "data": {
      "text/plain": [
       "19"
      ]
     },
     "execution_count": 59,
     "metadata": {},
     "output_type": "execute_result"
    }
   ],
   "source": [
    "# consultar el número de registros con precios negativos\n",
    "len(data[data['precio']<=0].columns)"
   ]
  },
  {
   "cell_type": "code",
   "execution_count": 60,
   "metadata": {},
   "outputs": [
    {
     "data": {
      "text/plain": [
       "19"
      ]
     },
     "execution_count": 60,
     "metadata": {},
     "output_type": "execute_result"
    }
   ],
   "source": [
    "# consultar el número de registros con pesos iguales a cero o negativos\n",
    "len(data[data['peso_g_producto']<=0].columns)"
   ]
  },
  {
   "cell_type": "code",
   "execution_count": 61,
   "metadata": {},
   "outputs": [
    {
     "data": {
      "text/plain": [
       "19"
      ]
     },
     "execution_count": 61,
     "metadata": {},
     "output_type": "execute_result"
    }
   ],
   "source": [
    "# consultar el número de registros con valor de flete negativos\n",
    "len(data[data['valor_flete']<0].columns)"
   ]
  },
  {
   "cell_type": "code",
   "execution_count": 62,
   "metadata": {},
   "outputs": [
    {
     "data": {
      "text/plain": [
       "19"
      ]
     },
     "execution_count": 62,
     "metadata": {},
     "output_type": "execute_result"
    }
   ],
   "source": [
    "# consultar el número de registros con valor de volumen en cero\n",
    "len(data[data['volumen_cm3_producto']==0].columns)"
   ]
  },
  {
   "cell_type": "markdown",
   "metadata": {},
   "source": [
    "Como vemos con la ayuda de la estadística descriptiva identificamos varios problemas:\n",
    "* Existen registros de productos con precio negativo.\n",
    "* Existen registros de productos con peso menores o iguales a cero.\n",
    "* Hay registros de productos con el valor del flete negativo.\n",
    "* Hay registros de productos con el volumen en cero.\n",
    "\n",
    "De nuevo la pregunta es si esto es correcto o es un problema de calidad."
   ]
  },
  {
   "cell_type": "markdown",
   "metadata": {},
   "source": [
    "### 4.6. Estadísticas sobre datos categóricos\n",
    "\n",
    "Con los atributos que son de tipo string y tienen categorías, como por ejemplo el departamento de estudio, se puede ver rápidamente si hay problemas."
   ]
  },
  {
   "cell_type": "code",
   "execution_count": 63,
   "metadata": {
    "scrolled": true
   },
   "outputs": [
    {
     "data": {
      "text/plain": [
       "Index(['orden_id', 'producto_id', 'vendedor_id', 'fecha_envio_limite',\n",
       "       'ciudad_vendedor', 'departamento_vendedor',\n",
       "       'nombre_categoria_producto'],\n",
       "      dtype='object')"
      ]
     },
     "execution_count": 63,
     "metadata": {},
     "output_type": "execute_result"
    }
   ],
   "source": [
    "#identificar las columnas de tipo string, si no se toma de la descripción inicial de la fuente de datos\n",
    "data.select_dtypes(include='object').columns"
   ]
  },
  {
   "cell_type": "markdown",
   "metadata": {},
   "source": [
    "Al revisar este resultado, ratificamos el hecho de que hay problemas de tipos de datos, los cuales debemos corregir. Este es el caso de orden_id, producto_id, vendedor_id, fecha_envío_limite. Vamos a continuar con los que en realidad son categóricos."
   ]
  },
  {
   "cell_type": "code",
   "execution_count": 64,
   "metadata": {},
   "outputs": [
    {
     "name": "stdout",
     "output_type": "stream",
     "text": [
      "Atributo: ciudad_vendedor\n",
      "Gualmatan            178\n",
      "Contadero            121\n",
      "Nariño               111\n",
      "Colon                 85\n",
      "Linares               85\n",
      "Providencia           76\n",
      "Medellin              75\n",
      "Arboleda              71\n",
      "Leiva                 65\n",
      "Magui                 63\n",
      "Mosquera              58\n",
      "La florida            57\n",
      "Mallama               54\n",
      "Abejorral             52\n",
      "La union              50\n",
      "La llanada            42\n",
      "Olaya herrera         41\n",
      "La cruz               40\n",
      "Los andes             40\n",
      "Pasto                 39\n",
      "Consaca               38\n",
      "Ipiales               33\n",
      "Potosi                29\n",
      "Buesaco               27\n",
      "Barbacoas             26\n",
      "Policarpa             21\n",
      "Belen                 18\n",
      "Francisco pizarro     13\n",
      "Ospina                11\n",
      "La tola               11\n",
      "Chachagui             10\n",
      "Imues                  6\n",
      "Abriaqui               5\n",
      "Name: ciudad_vendedor, dtype: int64\n",
      "Atributo: departamento_vendedor\n",
      "Nariño         1428\n",
      "Antioquia       121\n",
      "Nariño++         91\n",
      "Antioquia++      11\n",
      "Name: departamento_vendedor, dtype: int64\n",
      "Atributo: nombre_categoria_producto\n",
      "Carnicería           261\n",
      "Deportes             258\n",
      "Electrodomésticos    253\n",
      "Frutas y verduras    249\n",
      "Celulares            247\n",
      "Ropa de adultos      246\n",
      "Ropa_de_adultos       23\n",
      "Frutas_y_verduras     12\n",
      "Name: nombre_categoria_producto, dtype: int64\n"
     ]
    }
   ],
   "source": [
    "# contar los valores de cada atributo categórico\n",
    "for i in ['ciudad_vendedor', 'departamento_vendedor','nombre_categoria_producto']:\n",
    "    print('Atributo: '+ i)\n",
    "    print(data[i].value_counts())"
   ]
  },
  {
   "cell_type": "markdown",
   "metadata": {},
   "source": [
    "Con este resultado es importante verificar las reglas del negocio, para ver si efectivamente las categorías en particular con más y menor cantidad de valores son correctas. Adicionalmente, es posible encontrar atributos con caracteres extraños, por ejemplo, la existencia del caracter **\"_\"** para la separación de palabras en la categoría del producto o el sufijo **\"++\"** en el departamento del vendedor."
   ]
  },
  {
   "cell_type": "markdown",
   "metadata": {},
   "source": [
    "### 5. Analizar grupos de atributos\n",
    "\n",
    "Identificar relaciones entre atributos como dependencia entre ellos. Esta información nos puede llevar más adelante a retirar algunos de los atributos.\n"
   ]
  },
  {
   "cell_type": "markdown",
   "metadata": {},
   "source": [
    "### 5.1. Identificar relaciones entre las variables\n",
    "\n",
    "En este caso se tiene una variable que es el volúmen de producto que se determina a partir de la longitud, anchura y altura, en la *sección 4.5. de este notebook* vimos que existen valores ceros en esta variable lo cual no debería presentarse ya que un producto, siempre debe contar con un volumen,y dados los valores que tienen las otras variables con las que se calcula este valor. Este caso es cuando conocemos las relaciones entre los atributos. Otro análisis, es el de descubrir relaciones entre columnas, que lo revisaremos más adelante en el curso.\n"
   ]
  },
  {
   "cell_type": "code",
   "execution_count": 65,
   "metadata": {},
   "outputs": [
    {
     "data": {
      "text/html": [
       "<div>\n",
       "<style scoped>\n",
       "    .dataframe tbody tr th:only-of-type {\n",
       "        vertical-align: middle;\n",
       "    }\n",
       "\n",
       "    .dataframe tbody tr th {\n",
       "        vertical-align: top;\n",
       "    }\n",
       "\n",
       "    .dataframe thead th {\n",
       "        text-align: right;\n",
       "    }\n",
       "</style>\n",
       "<table border=\"1\" class=\"dataframe\">\n",
       "  <thead>\n",
       "    <tr style=\"text-align: right;\">\n",
       "      <th></th>\n",
       "      <th>longitud_cm_producto</th>\n",
       "      <th>altura_cm_producto</th>\n",
       "      <th>ancho_cm_producto</th>\n",
       "      <th>volumen_cm3_producto</th>\n",
       "    </tr>\n",
       "  </thead>\n",
       "  <tbody>\n",
       "    <tr>\n",
       "      <th>6</th>\n",
       "      <td>6</td>\n",
       "      <td>5</td>\n",
       "      <td>16</td>\n",
       "      <td>0</td>\n",
       "    </tr>\n",
       "    <tr>\n",
       "      <th>7</th>\n",
       "      <td>51</td>\n",
       "      <td>32</td>\n",
       "      <td>20</td>\n",
       "      <td>0</td>\n",
       "    </tr>\n",
       "    <tr>\n",
       "      <th>14</th>\n",
       "      <td>17</td>\n",
       "      <td>16</td>\n",
       "      <td>45</td>\n",
       "      <td>0</td>\n",
       "    </tr>\n",
       "    <tr>\n",
       "      <th>15</th>\n",
       "      <td>30</td>\n",
       "      <td>23</td>\n",
       "      <td>19</td>\n",
       "      <td>0</td>\n",
       "    </tr>\n",
       "    <tr>\n",
       "      <th>29</th>\n",
       "      <td>10</td>\n",
       "      <td>46</td>\n",
       "      <td>29</td>\n",
       "      <td>0</td>\n",
       "    </tr>\n",
       "    <tr>\n",
       "      <th>...</th>\n",
       "      <td>...</td>\n",
       "      <td>...</td>\n",
       "      <td>...</td>\n",
       "      <td>...</td>\n",
       "    </tr>\n",
       "    <tr>\n",
       "      <th>1535</th>\n",
       "      <td>0</td>\n",
       "      <td>35</td>\n",
       "      <td>36</td>\n",
       "      <td>0</td>\n",
       "    </tr>\n",
       "    <tr>\n",
       "      <th>1559</th>\n",
       "      <td>57</td>\n",
       "      <td>29</td>\n",
       "      <td>25</td>\n",
       "      <td>0</td>\n",
       "    </tr>\n",
       "    <tr>\n",
       "      <th>1612</th>\n",
       "      <td>41</td>\n",
       "      <td>0</td>\n",
       "      <td>12</td>\n",
       "      <td>0</td>\n",
       "    </tr>\n",
       "    <tr>\n",
       "      <th>1622</th>\n",
       "      <td>34</td>\n",
       "      <td>13</td>\n",
       "      <td>31</td>\n",
       "      <td>0</td>\n",
       "    </tr>\n",
       "    <tr>\n",
       "      <th>1642</th>\n",
       "      <td>27</td>\n",
       "      <td>4</td>\n",
       "      <td>22</td>\n",
       "      <td>0</td>\n",
       "    </tr>\n",
       "  </tbody>\n",
       "</table>\n",
       "<p>126 rows × 4 columns</p>\n",
       "</div>"
      ],
      "text/plain": [
       "      longitud_cm_producto  altura_cm_producto  ancho_cm_producto  \\\n",
       "6                        6                   5                 16   \n",
       "7                       51                  32                 20   \n",
       "14                      17                  16                 45   \n",
       "15                      30                  23                 19   \n",
       "29                      10                  46                 29   \n",
       "...                    ...                 ...                ...   \n",
       "1535                     0                  35                 36   \n",
       "1559                    57                  29                 25   \n",
       "1612                    41                   0                 12   \n",
       "1622                    34                  13                 31   \n",
       "1642                    27                   4                 22   \n",
       "\n",
       "      volumen_cm3_producto  \n",
       "6                        0  \n",
       "7                        0  \n",
       "14                       0  \n",
       "15                       0  \n",
       "29                       0  \n",
       "...                    ...  \n",
       "1535                     0  \n",
       "1559                     0  \n",
       "1612                     0  \n",
       "1622                     0  \n",
       "1642                     0  \n",
       "\n",
       "[126 rows x 4 columns]"
      ]
     },
     "execution_count": 65,
     "metadata": {},
     "output_type": "execute_result"
    }
   ],
   "source": [
    "# Revisar los datos relacionados\n",
    "data[data['volumen_cm3_producto']==0][['longitud_cm_producto','altura_cm_producto','ancho_cm_producto','volumen_cm3_producto']]"
   ]
  },
  {
   "cell_type": "markdown",
   "metadata": {},
   "source": [
    "En estos casos vemos que es un error de cálculo o digitación ya que para las variables con las que se calcula se tienen valores mayores a cero, por lo cual es necesario modificar el valor de volumen de esos productos."
   ]
  },
  {
   "cell_type": "markdown",
   "metadata": {},
   "source": [
    "### 6. Perfilamiento con pandas_profiling\n",
    "\n",
    "Para terminar, vamos a revisar otra estrategia que nos permite generar informes sobre el perfilamiento de datos, a partir de un DataFrame de pandas. Las funciones que revisamos previamente aunque nos permiten analizar los datos, puede ser básica para un análisis de datos exploratorio más sofisticado. En esos casos, pandas_profiling puede aportar ya que extiende el DataFrame de pandas con df.profile_report () para un análisis rápido de datos.\n",
    "\n",
    "Para cada columna, genera las siguientes estadísticas, si son relevantes para el tipo de columna, se presentan en un informe HTML interactivo:\n",
    "\n",
    "1. Inferencia de tipo: detecta los tipos de columnas en un dataframe.\n",
    "2. Esenciales: tipo, valores únicos, valores faltantes.\n",
    "3. Estadísticas de cuantiles como valor mínimo, Q1, mediana, Q3, máximo, rango, rango intercuartílico. Esta opción es bastante útil para identificar datos atípicos.\n",
    "4. Estadísticas descriptivas como media, moda, desviación estándar, suma, desviación absoluta mediana, coeficiente de variación, curtosis, asimetría.\n",
    "5. Valores más frecuentes.\n",
    "6. Histogramas.\n",
    "7. Correlaciones destacando variables altamente correlacionadas, matrices de Spearman, Pearson y Kendall. Esto permite descubrir relaciones entre atributos.\n",
    "8. Matriz de valores faltantes, recuento, mapa de calor y dendrograma de valores faltantes\n",
    "\n",
    "Tomado de la librería oficial de pandas_profiling en [github](https://github.com/pandas-profiling/pandas-profiling)\n",
    "\n",
    "Lo más importante al utilizar esta librería es recordar que lo fundamental son los análisis que hagamos sobre estos reportes."
   ]
  },
  {
   "cell_type": "code",
   "execution_count": null,
   "metadata": {},
   "outputs": [],
   "source": [
    "## Asegúrese de tener la última versión de pandas profiling instalada\n",
    "!pip3 install pandas_profiling --upgrade\n",
    "\n",
    "## Generar objeto de perfilamiento de datos. Esta función puede tardar un par de minutos.\n",
    "#perfilamiento=pandas_profiling.ProfileReport(data)\n",
    "#perfilamiento"
   ]
  },
  {
   "cell_type": "markdown",
   "metadata": {},
   "source": [
    "La invitación es a revisarlo en detalle y mirar cómo lograr los análisis que realizamos en este tutorial."
   ]
  },
  {
   "cell_type": "code",
   "execution_count": 32,
   "metadata": {},
   "outputs": [
    {
     "data": {
      "application/vnd.jupyter.widget-view+json": {
       "model_id": "4c8c36de263c48fa930dac9f6e3a3d81",
       "version_major": 2,
       "version_minor": 0
      },
      "text/plain": [
       "Export report to file:   0%|          | 0/1 [00:00<?, ?it/s]"
      ]
     },
     "metadata": {},
     "output_type": "display_data"
    }
   ],
   "source": [
    "#Escribir el perfilamiento de los datos en formato html\n",
    "perfilamiento.to_file(\"ReportPerfil-ordenes-por-producto.html\")"
   ]
  },
  {
   "cell_type": "markdown",
   "metadata": {},
   "source": [
    "### Caso de extensión\n",
    "Con el archivo de productos_por_fecha en el cual se encuentran los productos que se han vendido por fecha, además de realizar los siguientes puntos para el archivo dado, contempla cuál sería el problema para el negocio con los problemas identificados\n",
    "\n",
    "+ Revisa cuántos registros y atributos tiene la fuente de datos.\n",
    "+ Revisa el identificador único de la fuente de datos.\n",
    "+ Valida cuántos datos están duplicados en la fuente de datos.\n",
    "+ Revisa qué tipos de datos trae la fuente de datos.\n",
    "+ Identifica el dominio para los atributos de volumen, altura, anchura y largo del producto.\n",
    "+ Identifica el patrón de la fecha que se presenta en el archivo.\n",
    "+ Encuentra los valores vacíos.\n",
    "+ Con el uso de estadística muestra dónde existen posibles errores en los datos.\n",
    "+ Identifica qué problemas se presentan con el volumen de los productos.\n",
    "+ Encuentra los valores de las categorías para el nombre_categoria_producto.\n",
    "+ Genera un reporte de perfilamiento de datos."
   ]
  }
 ],
 "metadata": {
  "kernelspec": {
   "display_name": "Python 3 (ipykernel)",
   "language": "python",
   "name": "python3"
  },
  "language_info": {
   "codemirror_mode": {
    "name": "ipython",
    "version": 3
   },
   "file_extension": ".py",
   "mimetype": "text/x-python",
   "name": "python",
   "nbconvert_exporter": "python",
   "pygments_lexer": "ipython3",
   "version": "3.9.12"
  }
 },
 "nbformat": 4,
 "nbformat_minor": 4
}
