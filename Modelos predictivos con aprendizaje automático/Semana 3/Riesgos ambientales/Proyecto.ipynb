{
 "cells": [
  {
   "cell_type": "markdown",
   "metadata": {},
   "source": [
    "### 1. Importación de librerías \n",
    "\n",
    "En las siguientes líneas de código se importan las librerías y herramientas necesarias para desarrollar el caso de uso."
   ]
  },
  {
   "cell_type": "code",
   "execution_count": 1,
   "metadata": {},
   "outputs": [],
   "source": [
    "# Librería para comando de sistema\n",
    "import os\n",
    "# Librerías para manejo de datos\n",
    "import pandas as pd\n",
    "# Para realizar la separación del conjunto de aprendizaje en entrenamiento y test.\n",
    "from sklearn.model_selection import train_test_split\n",
    "# Librería para parámetros polinomiales\n",
    "from sklearn.preprocessing import PolynomialFeatures\n",
    "#Librería para ajustar modelos lineales\n",
    "from sklearn.linear_model import LinearRegression\n",
    "# Para la creación de modelo Ridge\n",
    "from sklearn.linear_model import Ridge\n",
    "# Para la creación de modelo Ridge\n",
    "from sklearn.linear_model import Lasso\n",
    "# Para búsqueda de hiperparámetros\n",
    "from sklearn.model_selection import GridSearchCV\n",
    "# Para la validación cruzada\n",
    "from sklearn.model_selection import KFold \n",
    "# Para determinar el rendimiento del modelo con las métricas MSE, MAE y R2\n",
    "from sklearn.metrics import mean_squared_error, mean_absolute_error, r2_score"
   ]
  },
  {
   "cell_type": "markdown",
   "metadata": {},
   "source": [
    "### 2. Carga de los datos\n",
    "A través de la librería **pandas** podemos realizar la carga de datos desde diferentes fuentes de información, en este caso se realizará la carga de un archivo plano csv (archivo separado por comas)."
   ]
  },
  {
   "cell_type": "code",
   "execution_count": 2,
   "metadata": {},
   "outputs": [],
   "source": [
    "# Se cargan los datos. \n",
    "data=pd.read_csv('datos_proyecto.csv',sep=';', encoding='latin-1')"
   ]
  },
  {
   "cell_type": "code",
   "execution_count": 3,
   "metadata": {},
   "outputs": [
    {
     "data": {
      "text/plain": [
       "(37759, 8)"
      ]
     },
     "execution_count": 3,
     "metadata": {},
     "output_type": "execute_result"
    }
   ],
   "source": [
    "# Cantidad de datos y número de variables\n",
    "data.shape"
   ]
  },
  {
   "cell_type": "code",
   "execution_count": 4,
   "metadata": {},
   "outputs": [
    {
     "data": {
      "text/html": [
       "<div>\n",
       "<style scoped>\n",
       "    .dataframe tbody tr th:only-of-type {\n",
       "        vertical-align: middle;\n",
       "    }\n",
       "\n",
       "    .dataframe tbody tr th {\n",
       "        vertical-align: top;\n",
       "    }\n",
       "\n",
       "    .dataframe thead th {\n",
       "        text-align: right;\n",
       "    }\n",
       "</style>\n",
       "<table border=\"1\" class=\"dataframe\">\n",
       "  <thead>\n",
       "    <tr style=\"text-align: right;\">\n",
       "      <th></th>\n",
       "      <th>area_quemada</th>\n",
       "      <th>clase_incendio</th>\n",
       "      <th>mes_incendio</th>\n",
       "      <th>vegetacion</th>\n",
       "      <th>Prec_pre_30</th>\n",
       "      <th>Prec_pre_15</th>\n",
       "      <th>Prec_pre_7</th>\n",
       "      <th>Prec_cont</th>\n",
       "    </tr>\n",
       "  </thead>\n",
       "  <tbody>\n",
       "    <tr>\n",
       "      <th>0</th>\n",
       "      <td>3.0</td>\n",
       "      <td>B</td>\n",
       "      <td>Diciembre</td>\n",
       "      <td>Desierto polar_roca</td>\n",
       "      <td>59.8</td>\n",
       "      <td>8.4</td>\n",
       "      <td>0.0</td>\n",
       "      <td>86.8</td>\n",
       "    </tr>\n",
       "    <tr>\n",
       "      <th>1</th>\n",
       "      <td>60.0</td>\n",
       "      <td>C</td>\n",
       "      <td>Febrero</td>\n",
       "      <td>Bosque tropical perennifolio secundario</td>\n",
       "      <td>168.8</td>\n",
       "      <td>42.2</td>\n",
       "      <td>18.1</td>\n",
       "      <td>124.5</td>\n",
       "    </tr>\n",
       "    <tr>\n",
       "      <th>2</th>\n",
       "      <td>1.0</td>\n",
       "      <td>B</td>\n",
       "      <td>Junio</td>\n",
       "      <td>Bosque tropical perennifolio</td>\n",
       "      <td>10.4</td>\n",
       "      <td>7.2</td>\n",
       "      <td>0.0</td>\n",
       "      <td>0.0</td>\n",
       "    </tr>\n",
       "    <tr>\n",
       "      <th>3</th>\n",
       "      <td>5.2</td>\n",
       "      <td>B</td>\n",
       "      <td>Enero</td>\n",
       "      <td>Matorral abierto</td>\n",
       "      <td>26.0</td>\n",
       "      <td>0.0</td>\n",
       "      <td>0.0</td>\n",
       "      <td>0.0</td>\n",
       "    </tr>\n",
       "    <tr>\n",
       "      <th>4</th>\n",
       "      <td>1.0</td>\n",
       "      <td>B</td>\n",
       "      <td>Noviembre</td>\n",
       "      <td>Matorral abierto</td>\n",
       "      <td>28.4</td>\n",
       "      <td>27.5</td>\n",
       "      <td>1.2</td>\n",
       "      <td>55.4</td>\n",
       "    </tr>\n",
       "  </tbody>\n",
       "</table>\n",
       "</div>"
      ],
      "text/plain": [
       "   area_quemada clase_incendio mes_incendio  \\\n",
       "0           3.0              B    Diciembre   \n",
       "1          60.0              C      Febrero   \n",
       "2           1.0              B        Junio   \n",
       "3           5.2              B        Enero   \n",
       "4           1.0              B    Noviembre   \n",
       "\n",
       "                                vegetacion  Prec_pre_30  Prec_pre_15  \\\n",
       "0                      Desierto polar_roca         59.8          8.4   \n",
       "1  Bosque tropical perennifolio secundario        168.8         42.2   \n",
       "2             Bosque tropical perennifolio         10.4          7.2   \n",
       "3                         Matorral abierto         26.0          0.0   \n",
       "4                         Matorral abierto         28.4         27.5   \n",
       "\n",
       "   Prec_pre_7  Prec_cont  \n",
       "0         0.0       86.8  \n",
       "1        18.1      124.5  \n",
       "2         0.0        0.0  \n",
       "3         0.0        0.0  \n",
       "4         1.2       55.4  "
      ]
     },
     "execution_count": 4,
     "metadata": {},
     "output_type": "execute_result"
    }
   ],
   "source": [
    "# Mostrar los datos\n",
    "data.head()"
   ]
  },
  {
   "cell_type": "markdown",
   "metadata": {},
   "source": [
    "### 3. Limpieza y preparación de los datos\n",
    "\n",
    "Recuerda que un aspecto muy importante para tener en cuenta son los requerimientos de entrada de los algoritmos de aprendizaje. Cada uno de estos puede trabajar con un tipo de variable, es por esto que vamos a realizar las mismas transformaciones que se realizaron en el notebook de regresión lineal. Además, vamos a ejecutar los mismos pasos de limpieza de los datos."
   ]
  },
  {
   "cell_type": "code",
   "execution_count": 5,
   "metadata": {},
   "outputs": [],
   "source": [
    "# Es recomendable que todos los pasos de preparación se realicen sobre otro archivo.\n",
    "data_t = data\n",
    "# Eliminación data vacía.\n",
    "data_t=data_t.dropna()\n",
    "# Eliminación de registros duplicados.\n",
    "data_t=data_t.drop_duplicates()\n",
    "# Se realiza la transformación de estas variables a dummies.\n",
    "data_t = pd.get_dummies(data_t, columns=['clase_incendio','mes_incendio','vegetacion'])"
   ]
  },
  {
   "cell_type": "code",
   "execution_count": 6,
   "metadata": {},
   "outputs": [
    {
     "data": {
      "text/html": [
       "<div>\n",
       "<style scoped>\n",
       "    .dataframe tbody tr th:only-of-type {\n",
       "        vertical-align: middle;\n",
       "    }\n",
       "\n",
       "    .dataframe tbody tr th {\n",
       "        vertical-align: top;\n",
       "    }\n",
       "\n",
       "    .dataframe thead th {\n",
       "        text-align: right;\n",
       "    }\n",
       "</style>\n",
       "<table border=\"1\" class=\"dataframe\">\n",
       "  <thead>\n",
       "    <tr style=\"text-align: right;\">\n",
       "      <th></th>\n",
       "      <th>area_quemada</th>\n",
       "      <th>Prec_pre_30</th>\n",
       "      <th>Prec_pre_15</th>\n",
       "      <th>Prec_pre_7</th>\n",
       "      <th>Prec_cont</th>\n",
       "      <th>clase_incendio_B</th>\n",
       "      <th>clase_incendio_C</th>\n",
       "      <th>clase_incendio_D</th>\n",
       "      <th>clase_incendio_E</th>\n",
       "      <th>clase_incendio_F</th>\n",
       "      <th>...</th>\n",
       "      <th>mes_incendio_Noviembre</th>\n",
       "      <th>mes_incendio_Octubre</th>\n",
       "      <th>mes_incendio_Septiembre</th>\n",
       "      <th>vegetacion_Bosque templado</th>\n",
       "      <th>vegetacion_Bosque tropical perennifolio</th>\n",
       "      <th>vegetacion_Bosque tropical perennifolio secundario</th>\n",
       "      <th>vegetacion_Desierto</th>\n",
       "      <th>vegetacion_Desierto polar_roca</th>\n",
       "      <th>vegetacion_Matorral abierto</th>\n",
       "      <th>vegetacion_Pradera_estepa</th>\n",
       "    </tr>\n",
       "  </thead>\n",
       "  <tbody>\n",
       "    <tr>\n",
       "      <th>0</th>\n",
       "      <td>3.0</td>\n",
       "      <td>59.8</td>\n",
       "      <td>8.4</td>\n",
       "      <td>0.0</td>\n",
       "      <td>86.8</td>\n",
       "      <td>1</td>\n",
       "      <td>0</td>\n",
       "      <td>0</td>\n",
       "      <td>0</td>\n",
       "      <td>0</td>\n",
       "      <td>...</td>\n",
       "      <td>0</td>\n",
       "      <td>0</td>\n",
       "      <td>0</td>\n",
       "      <td>0</td>\n",
       "      <td>0</td>\n",
       "      <td>0</td>\n",
       "      <td>0</td>\n",
       "      <td>1</td>\n",
       "      <td>0</td>\n",
       "      <td>0</td>\n",
       "    </tr>\n",
       "    <tr>\n",
       "      <th>1</th>\n",
       "      <td>60.0</td>\n",
       "      <td>168.8</td>\n",
       "      <td>42.2</td>\n",
       "      <td>18.1</td>\n",
       "      <td>124.5</td>\n",
       "      <td>0</td>\n",
       "      <td>1</td>\n",
       "      <td>0</td>\n",
       "      <td>0</td>\n",
       "      <td>0</td>\n",
       "      <td>...</td>\n",
       "      <td>0</td>\n",
       "      <td>0</td>\n",
       "      <td>0</td>\n",
       "      <td>0</td>\n",
       "      <td>0</td>\n",
       "      <td>1</td>\n",
       "      <td>0</td>\n",
       "      <td>0</td>\n",
       "      <td>0</td>\n",
       "      <td>0</td>\n",
       "    </tr>\n",
       "    <tr>\n",
       "      <th>2</th>\n",
       "      <td>1.0</td>\n",
       "      <td>10.4</td>\n",
       "      <td>7.2</td>\n",
       "      <td>0.0</td>\n",
       "      <td>0.0</td>\n",
       "      <td>1</td>\n",
       "      <td>0</td>\n",
       "      <td>0</td>\n",
       "      <td>0</td>\n",
       "      <td>0</td>\n",
       "      <td>...</td>\n",
       "      <td>0</td>\n",
       "      <td>0</td>\n",
       "      <td>0</td>\n",
       "      <td>0</td>\n",
       "      <td>1</td>\n",
       "      <td>0</td>\n",
       "      <td>0</td>\n",
       "      <td>0</td>\n",
       "      <td>0</td>\n",
       "      <td>0</td>\n",
       "    </tr>\n",
       "    <tr>\n",
       "      <th>3</th>\n",
       "      <td>5.2</td>\n",
       "      <td>26.0</td>\n",
       "      <td>0.0</td>\n",
       "      <td>0.0</td>\n",
       "      <td>0.0</td>\n",
       "      <td>1</td>\n",
       "      <td>0</td>\n",
       "      <td>0</td>\n",
       "      <td>0</td>\n",
       "      <td>0</td>\n",
       "      <td>...</td>\n",
       "      <td>0</td>\n",
       "      <td>0</td>\n",
       "      <td>0</td>\n",
       "      <td>0</td>\n",
       "      <td>0</td>\n",
       "      <td>0</td>\n",
       "      <td>0</td>\n",
       "      <td>0</td>\n",
       "      <td>1</td>\n",
       "      <td>0</td>\n",
       "    </tr>\n",
       "    <tr>\n",
       "      <th>4</th>\n",
       "      <td>1.0</td>\n",
       "      <td>28.4</td>\n",
       "      <td>27.5</td>\n",
       "      <td>1.2</td>\n",
       "      <td>55.4</td>\n",
       "      <td>1</td>\n",
       "      <td>0</td>\n",
       "      <td>0</td>\n",
       "      <td>0</td>\n",
       "      <td>0</td>\n",
       "      <td>...</td>\n",
       "      <td>1</td>\n",
       "      <td>0</td>\n",
       "      <td>0</td>\n",
       "      <td>0</td>\n",
       "      <td>0</td>\n",
       "      <td>0</td>\n",
       "      <td>0</td>\n",
       "      <td>0</td>\n",
       "      <td>1</td>\n",
       "      <td>0</td>\n",
       "    </tr>\n",
       "  </tbody>\n",
       "</table>\n",
       "<p>5 rows × 30 columns</p>\n",
       "</div>"
      ],
      "text/plain": [
       "   area_quemada  Prec_pre_30  Prec_pre_15  Prec_pre_7  Prec_cont  \\\n",
       "0           3.0         59.8          8.4         0.0       86.8   \n",
       "1          60.0        168.8         42.2        18.1      124.5   \n",
       "2           1.0         10.4          7.2         0.0        0.0   \n",
       "3           5.2         26.0          0.0         0.0        0.0   \n",
       "4           1.0         28.4         27.5         1.2       55.4   \n",
       "\n",
       "   clase_incendio_B  clase_incendio_C  clase_incendio_D  clase_incendio_E  \\\n",
       "0                 1                 0                 0                 0   \n",
       "1                 0                 1                 0                 0   \n",
       "2                 1                 0                 0                 0   \n",
       "3                 1                 0                 0                 0   \n",
       "4                 1                 0                 0                 0   \n",
       "\n",
       "   clase_incendio_F  ...  mes_incendio_Noviembre  mes_incendio_Octubre  \\\n",
       "0                 0  ...                       0                     0   \n",
       "1                 0  ...                       0                     0   \n",
       "2                 0  ...                       0                     0   \n",
       "3                 0  ...                       0                     0   \n",
       "4                 0  ...                       1                     0   \n",
       "\n",
       "   mes_incendio_Septiembre  vegetacion_Bosque templado  \\\n",
       "0                        0                           0   \n",
       "1                        0                           0   \n",
       "2                        0                           0   \n",
       "3                        0                           0   \n",
       "4                        0                           0   \n",
       "\n",
       "   vegetacion_Bosque tropical perennifolio  \\\n",
       "0                                        0   \n",
       "1                                        0   \n",
       "2                                        1   \n",
       "3                                        0   \n",
       "4                                        0   \n",
       "\n",
       "   vegetacion_Bosque tropical perennifolio secundario  vegetacion_Desierto  \\\n",
       "0                                                  0                     0   \n",
       "1                                                  1                     0   \n",
       "2                                                  0                     0   \n",
       "3                                                  0                     0   \n",
       "4                                                  0                     0   \n",
       "\n",
       "   vegetacion_Desierto polar_roca  vegetacion_Matorral abierto  \\\n",
       "0                               1                            0   \n",
       "1                               0                            0   \n",
       "2                               0                            0   \n",
       "3                               0                            1   \n",
       "4                               0                            1   \n",
       "\n",
       "   vegetacion_Pradera_estepa  \n",
       "0                          0  \n",
       "1                          0  \n",
       "2                          0  \n",
       "3                          0  \n",
       "4                          0  \n",
       "\n",
       "[5 rows x 30 columns]"
      ]
     },
     "execution_count": 6,
     "metadata": {},
     "output_type": "execute_result"
    }
   ],
   "source": [
    "# Visualización de los datos limpios\n",
    "data_t.head()"
   ]
  },
  {
   "cell_type": "code",
   "execution_count": 7,
   "metadata": {},
   "outputs": [
    {
     "data": {
      "text/plain": [
       "(26394, 30)"
      ]
     },
     "execution_count": 7,
     "metadata": {},
     "output_type": "execute_result"
    }
   ],
   "source": [
    "# El tamaño de los datos preparados\n",
    "data_t.shape"
   ]
  },
  {
   "cell_type": "code",
   "execution_count": 10,
   "metadata": {},
   "outputs": [],
   "source": [
    "# Se selecciona la variable objetivo, en este caso \"area_quemada\".\n",
    "Y=data_t['area_quemada']\n",
    "# Del conjunto de datos se elimina la variable \"area_quemada\".\n",
    "X=data_t.drop(['area_quemada'], axis=1)"
   ]
  },
  {
   "cell_type": "markdown",
   "metadata": {},
   "source": [
    "## Regresión polinomial"
   ]
  },
  {
   "cell_type": "markdown",
   "metadata": {},
   "source": [
    "### Usando grado = 2"
   ]
  },
  {
   "cell_type": "code",
   "execution_count": 11,
   "metadata": {},
   "outputs": [
    {
     "data": {
      "text/plain": [
       "(26394, 465)"
      ]
     },
     "execution_count": 11,
     "metadata": {},
     "output_type": "execute_result"
    }
   ],
   "source": [
    "# Utilizaremos una tranformación de grado 2.\n",
    "poly = PolynomialFeatures(degree=2)\n",
    "poly_X = poly.fit_transform(X)\n",
    "# Esta transformación crea nuevas variables y las añade al conjunto de datos. Veamos cuántas se generan:\n",
    "poly_X.shape"
   ]
  },
  {
   "cell_type": "code",
   "execution_count": 12,
   "metadata": {},
   "outputs": [
    {
     "data": {
      "text/plain": [
       "LinearRegression()"
      ]
     },
     "execution_count": 12,
     "metadata": {},
     "output_type": "execute_result"
    }
   ],
   "source": [
    "# Se realiza la división entrenamiento - test. Se deja 20% de los datos para el test.\n",
    "poly_X_train, poly_X_test, poly_Y_train, poly_Y_test = train_test_split(poly_X, Y, test_size = 0.2, random_state = 0)\n",
    "\n",
    "# Creación del objeto de la clase LinearRegression y ajuste del modelo a los datos.\n",
    "modelo_regresion_poly = LinearRegression()\n",
    "\n",
    "# Ajustar el modelo con los datos de entrenamiento con las nuevas variables polinomiales\n",
    "modelo_regresion_poly.fit(poly_X_train, poly_Y_train)"
   ]
  },
  {
   "cell_type": "markdown",
   "metadata": {},
   "source": [
    "#### Evaluación del modelo"
   ]
  },
  {
   "cell_type": "code",
   "execution_count": 13,
   "metadata": {},
   "outputs": [
    {
     "name": "stdout",
     "output_type": "stream",
     "text": [
      "Métricas\n",
      "------ Modelo de regresión lineal polinomial múltiple----\n",
      "MSE: 295288207.30\n",
      "RMSE: 17183.95\n",
      "MAE: 3499.36\n",
      "R²: 0.23\n"
     ]
    }
   ],
   "source": [
    "# Se obtienen las predicciones del modelo sobre el conjunto test.\n",
    "y_pred = modelo_regresion_poly.predict(poly_X_test)\n",
    "\n",
    "# Se obtienen las métricas a partir de la predicción y la base de evaluación (valores reales).\n",
    "print('Métricas')\n",
    "print('------ Modelo de regresión lineal polinomial múltiple----')\n",
    "print(\"MSE: %.2f\" % mean_squared_error(poly_Y_test, y_pred, squared=True))\n",
    "print(\"RMSE: %.2f\" % mean_squared_error(poly_Y_test, y_pred, squared=False))\n",
    "print(\"MAE: %.2f\" % mean_absolute_error(poly_Y_test, y_pred))\n",
    "print('R²: %.2f' % r2_score(poly_Y_test, y_pred))"
   ]
  },
  {
   "cell_type": "markdown",
   "metadata": {},
   "source": [
    "### Usando grado = 3"
   ]
  },
  {
   "cell_type": "code",
   "execution_count": 16,
   "metadata": {},
   "outputs": [
    {
     "data": {
      "text/plain": [
       "(26394, 4960)"
      ]
     },
     "execution_count": 16,
     "metadata": {},
     "output_type": "execute_result"
    }
   ],
   "source": [
    "# Utilizaremos una tranformación de grado 2.\n",
    "poly2 = PolynomialFeatures(degree=3)\n",
    "poly_X2 = poly2.fit_transform(X)\n",
    "# Esta transformación crea nuevas variables y las añade al conjunto de datos. Veamos cuántas se generan:\n",
    "poly_X2.shape"
   ]
  },
  {
   "cell_type": "code",
   "execution_count": 17,
   "metadata": {},
   "outputs": [
    {
     "data": {
      "text/plain": [
       "LinearRegression()"
      ]
     },
     "execution_count": 17,
     "metadata": {},
     "output_type": "execute_result"
    }
   ],
   "source": [
    "# Se realiza la división entrenamiento - test. Se deja 20% de los datos para el test.\n",
    "poly_X_train2, poly_X_test2, poly_Y_train2, poly_Y_test2 = train_test_split(poly_X2, Y, test_size = 0.2, random_state = 0)\n",
    "\n",
    "# Creación del objeto de la clase LinearRegression y ajuste del modelo a los datos.\n",
    "modelo_regresion_poly2 = LinearRegression()\n",
    "\n",
    "# Ajustar el modelo con los datos de entrenamiento con las nuevas variables polinomiales\n",
    "modelo_regresion_poly2.fit(poly_X_train2, poly_Y_train2)"
   ]
  },
  {
   "cell_type": "code",
   "execution_count": 18,
   "metadata": {},
   "outputs": [
    {
     "name": "stdout",
     "output_type": "stream",
     "text": [
      "Métricas\n",
      "------ Modelo de regresión lineal polinomial múltiple----\n",
      "MSE: 575892236.67\n",
      "RMSE: 23997.75\n",
      "MAE: 3874.41\n",
      "R²: -0.49\n"
     ]
    }
   ],
   "source": [
    "# Se obtienen las predicciones del modelo sobre el conjunto test.\n",
    "y_pred2 = modelo_regresion_poly2.predict(poly_X_test2)\n",
    "\n",
    "# Se obtienen las métricas a partir de la predicción y la base de evaluación (valores reales).\n",
    "print('Métricas')\n",
    "print('------ Modelo de regresión lineal polinomial múltiple----')\n",
    "print(\"MSE: %.2f\" % mean_squared_error(poly_Y_test2, y_pred2, squared=True))\n",
    "print(\"RMSE: %.2f\" % mean_squared_error(poly_Y_test2, y_pred2, squared=False))\n",
    "print(\"MAE: %.2f\" % mean_absolute_error(poly_Y_test2, y_pred2))\n",
    "print('R²: %.2f' % r2_score(poly_Y_test2, y_pred2))"
   ]
  },
  {
   "cell_type": "markdown",
   "metadata": {},
   "source": [
    "Se logró mejores resultados usando un polinomio grado 2."
   ]
  },
  {
   "cell_type": "markdown",
   "metadata": {},
   "source": [
    "## Regresión regularizada. Caso Ridge."
   ]
  },
  {
   "cell_type": "markdown",
   "metadata": {},
   "source": [
    "### 1. Construcción del modelo "
   ]
  },
  {
   "cell_type": "code",
   "execution_count": 19,
   "metadata": {},
   "outputs": [],
   "source": [
    "# Se realiza la división entrenamiento - test. Se deja 20% de los datos para el test.\n",
    "X_train, X_test, Y_train, Y_test = train_test_split(X, Y, test_size = 0.20, random_state = 0)"
   ]
  },
  {
   "cell_type": "markdown",
   "metadata": {},
   "source": [
    "Como ya has podido conocer la regresión Ridge utiliza la norma L2 del vector de coeficientes como término de regularización. Para controlar la cantidad de regularización se utiliza el hiperparámetro alpha. Probemos con un valor igual a 2."
   ]
  },
  {
   "cell_type": "code",
   "execution_count": 20,
   "metadata": {},
   "outputs": [
    {
     "data": {
      "text/plain": [
       "Ridge(alpha=2)"
      ]
     },
     "execution_count": 20,
     "metadata": {},
     "output_type": "execute_result"
    }
   ],
   "source": [
    "modelo_ridge = Ridge(alpha=2)\n",
    "modelo_ridge"
   ]
  },
  {
   "cell_type": "code",
   "execution_count": 21,
   "metadata": {},
   "outputs": [
    {
     "data": {
      "text/plain": [
       "Ridge(alpha=2)"
      ]
     },
     "execution_count": 21,
     "metadata": {},
     "output_type": "execute_result"
    }
   ],
   "source": [
    "# Ajuste del modelo\n",
    "modelo_ridge.fit(X_train,Y_train)"
   ]
  },
  {
   "cell_type": "code",
   "execution_count": 22,
   "metadata": {},
   "outputs": [
    {
     "name": "stdout",
     "output_type": "stream",
     "text": [
      "RMSE: 17241.75\n",
      "MAE: 3647.36\n",
      "R²: 0.23\n"
     ]
    }
   ],
   "source": [
    "# Ahora probemos el rendimiento sobre el conjunto test.\n",
    "y_pred = modelo_ridge.predict(X_test)\n",
    "print(\"RMSE: %.2f\" % mean_squared_error(Y_test, y_pred, squared=False))\n",
    "print(\"MAE: %.2f\" % mean_absolute_error(Y_test, y_pred))\n",
    "print('R²: %.2f' % r2_score(Y_test, y_pred))"
   ]
  },
  {
   "cell_type": "markdown",
   "metadata": {},
   "source": [
    "#### Selección de técnica de validación para escoger el mejor alpha"
   ]
  },
  {
   "cell_type": "markdown",
   "metadata": {},
   "source": [
    "##### 1-Con un conjunto de validación"
   ]
  },
  {
   "cell_type": "code",
   "execution_count": 23,
   "metadata": {},
   "outputs": [],
   "source": [
    "# Dividimos el conjunto de entrenamiento en dos: una para la construcción del modelo (sería el nuevo conjunto de \n",
    "# entrenamiento) y otro para la validación, el cuál será utilizado para determinar el rendimiento del modelo con una\n",
    "# combinación específica de hiperparámetros.\n",
    "X_trainval, X_val, Y_trainval, Y_val = train_test_split(X_train, Y_train, test_size = 0.15, random_state = 0)"
   ]
  },
  {
   "cell_type": "code",
   "execution_count": 24,
   "metadata": {},
   "outputs": [
    {
     "name": "stdout",
     "output_type": "stream",
     "text": [
      "MAE: 3170.57\n"
     ]
    }
   ],
   "source": [
    "# Fijemos un valor de alpha en 1, construyamos el modelo y probemos sobre validación. Utilicemos MAE como métrica de\n",
    "# rendimiento para hacer la selección.\n",
    "modelo_ridge = Ridge(alpha=1)\n",
    "modelo_ridge.fit(X_trainval,Y_trainval)\n",
    "y_pred = modelo_ridge.predict(X_val)\n",
    "print(\"MAE: %.2f\" % mean_absolute_error(Y_val, y_pred))"
   ]
  },
  {
   "cell_type": "code",
   "execution_count": 25,
   "metadata": {},
   "outputs": [
    {
     "name": "stdout",
     "output_type": "stream",
     "text": [
      "MAE: 3169.66\n"
     ]
    }
   ],
   "source": [
    "# Fijemos un valor de alpha de 2, construyamos el modelo y probemos sobre validación.\n",
    "modelo_ridge = Ridge(alpha=2)\n",
    "modelo_ridge.fit(X_trainval,Y_trainval)\n",
    "y_pred = modelo_ridge.predict(X_val)\n",
    "print(\"MAE: %.2f\" % mean_absolute_error(Y_val, y_pred))"
   ]
  },
  {
   "cell_type": "code",
   "execution_count": 26,
   "metadata": {},
   "outputs": [
    {
     "name": "stdout",
     "output_type": "stream",
     "text": [
      "MAE: 3166.93\n"
     ]
    }
   ],
   "source": [
    "# Fijemos un valor de alpha de 5, construyamos el modelo y probemos sobre validación.\n",
    "modelo_ridge = Ridge(alpha=5)\n",
    "modelo_ridge.fit(X_trainval,Y_trainval)\n",
    "y_pred = modelo_ridge.predict(X_val)\n",
    "print(\"MAE: %.2f\" % mean_absolute_error(Y_val, y_pred))"
   ]
  },
  {
   "cell_type": "markdown",
   "metadata": {},
   "source": [
    "El mejor alpha, según MAE, es 5. Seleccionemos este modelo como el final (por esta razón también estás técnicas se \n",
    "conocen como métodos de selección de modelos) y determinemos su rendimiento de generalización. \n",
    "Toma en cuenta que ahora debes utilizar todo el conjunto de entrenamiento."
   ]
  },
  {
   "cell_type": "code",
   "execution_count": 27,
   "metadata": {},
   "outputs": [
    {
     "name": "stdout",
     "output_type": "stream",
     "text": [
      "RMSE: 17242.27\n",
      "MAE: 3645.31\n",
      "R²: 0.23\n"
     ]
    }
   ],
   "source": [
    "modelo_ridge = Ridge(alpha=5) \n",
    "modelo_ridge.fit(X_train,Y_train)\n",
    "y_pred = modelo_ridge.predict(X_test)\n",
    "print(\"RMSE: %.2f\" % mean_squared_error(Y_test, y_pred, squared=False))\n",
    "print(\"MAE: %.2f\" % mean_absolute_error(Y_test, y_pred))\n",
    "print('R²: %.2f' % r2_score(Y_test, y_pred))"
   ]
  },
  {
   "cell_type": "markdown",
   "metadata": {},
   "source": [
    "Estos pasos de asignar un valor de alpha, entrenar y probar con validación pueden ser implementados en un ciclo. "
   ]
  },
  {
   "cell_type": "markdown",
   "metadata": {},
   "source": [
    "##### 2-Validación cruzada de k-particiones"
   ]
  },
  {
   "cell_type": "code",
   "execution_count": 28,
   "metadata": {},
   "outputs": [],
   "source": [
    "# Fijemos el número de particiones. Utilizaremos K = 10.\n",
    "particiones = KFold(n_splits=10, shuffle=True, random_state = 0)"
   ]
  },
  {
   "cell_type": "code",
   "execution_count": 29,
   "metadata": {},
   "outputs": [],
   "source": [
    "# Ahora tenemos que definir el espacio de búsqueda, es decir, los valores de alpha que queremos que sean considerados. \n",
    "# Para esto se define un diccionario (o grilla) con los valores que podrá asumir el hiperparámetro alpha.\n",
    "# Probemos con los siguientes valores:\n",
    "param_grid = {'alpha': [0.1, 0.5, 1.0]}"
   ]
  },
  {
   "cell_type": "code",
   "execution_count": 30,
   "metadata": {},
   "outputs": [],
   "source": [
    "# Definimos el modelo sin ningún valor del hiperparámetro alpha\n",
    "modelo_ridge = Ridge()"
   ]
  },
  {
   "cell_type": "code",
   "execution_count": 31,
   "metadata": {},
   "outputs": [
    {
     "data": {
      "text/plain": [
       "GridSearchCV(cv=KFold(n_splits=10, random_state=0, shuffle=True),\n",
       "             estimator=Ridge(), n_jobs=-1,\n",
       "             param_grid={'alpha': [0.1, 0.5, 1.0]})"
      ]
     },
     "execution_count": 31,
     "metadata": {},
     "output_type": "execute_result"
    }
   ],
   "source": [
    "# Ahora utilizamos GridSearch sobre el grid definido y con 10 particiones en la validación cruzada.\n",
    "mejor_modelo = GridSearchCV(modelo_ridge, param_grid, cv=particiones, n_jobs=-1)\n",
    "# Ajuste del modelo\n",
    "mejor_modelo.fit(X_train, Y_train)"
   ]
  },
  {
   "cell_type": "code",
   "execution_count": 32,
   "metadata": {},
   "outputs": [
    {
     "name": "stdout",
     "output_type": "stream",
     "text": [
      "Mejor parámetro: {'alpha': 1.0}\n"
     ]
    }
   ],
   "source": [
    "# Podemos ver cual fue el resultado de la búsqueda (mejor valor de alpha)\n",
    "print(\"Mejor parámetro: {}\".format(mejor_modelo.best_params_)) "
   ]
  },
  {
   "cell_type": "code",
   "execution_count": 33,
   "metadata": {},
   "outputs": [
    {
     "name": "stdout",
     "output_type": "stream",
     "text": [
      "Mejor parámetro: {'alpha': 1.0}\n"
     ]
    }
   ],
   "source": [
    "# También puedes indicarle a GridSearch que seleccione el mejor modelo a partir de la búsqueda con base en una métrica \n",
    "# particular. Por ejemplo, hubiésemos podido utilizar la siguiente línea de comando:\n",
    "mejor_modelo = GridSearchCV(modelo_ridge, param_grid, scoring = 'neg_mean_absolute_error', n_jobs=-1)\n",
    "mejor_modelo.fit(X_train, Y_train)\n",
    "print(\"Mejor parámetro: {}\".format(mejor_modelo.best_params_)) "
   ]
  },
  {
   "cell_type": "markdown",
   "metadata": {},
   "source": [
    "Un aspecto importante que debes tener en cuenta es que GridSearchCV devuelve el modelo entrenado con el mejor valor del hiperparámetro alpha (resultado de la búsqueda)."
   ]
  },
  {
   "cell_type": "code",
   "execution_count": 34,
   "metadata": {},
   "outputs": [
    {
     "name": "stdout",
     "output_type": "stream",
     "text": [
      "RMSE: 17241.57\n",
      "MAE: 3648.06\n",
      "R²: 0.23\n"
     ]
    }
   ],
   "source": [
    "modelo_final = mejor_modelo.best_estimator_\n",
    "# Probemos ahora este modelo sobre test.\n",
    "y_pred = modelo_final.predict(X_test)\n",
    "print(\"RMSE: %.2f\" % mean_squared_error(Y_test, y_pred, squared=False))\n",
    "print(\"MAE: %.2f\" % mean_absolute_error(Y_test, y_pred))\n",
    "print('R²: %.2f' % r2_score(Y_test, y_pred))"
   ]
  },
  {
   "cell_type": "markdown",
   "metadata": {},
   "source": [
    "## Regresión regularizada. Caso Lasso."
   ]
  },
  {
   "cell_type": "markdown",
   "metadata": {},
   "source": [
    "### 1. Construcción del modelo"
   ]
  },
  {
   "cell_type": "code",
   "execution_count": 35,
   "metadata": {},
   "outputs": [],
   "source": [
    "# Se realiza la división entrenamiento - test. Se deja 20% de los datos para el test.\n",
    "X_train, X_test, Y_train, Y_test = train_test_split(X, Y, test_size = 0.20, random_state = 0)"
   ]
  },
  {
   "cell_type": "code",
   "execution_count": 36,
   "metadata": {},
   "outputs": [
    {
     "data": {
      "text/plain": [
       "Lasso(alpha=1)"
      ]
     },
     "execution_count": 36,
     "metadata": {},
     "output_type": "execute_result"
    }
   ],
   "source": [
    "# Para acelerar la convergencia del algoritmo que utiliza Lasso para optimizar la función de costo, utilizaremos la opción\n",
    "# de normalizar los datos para que todos estén en el mismo rango.\n",
    "modelo_lasso = Lasso(alpha=1)\n",
    "modelo_lasso"
   ]
  },
  {
   "cell_type": "code",
   "execution_count": 37,
   "metadata": {},
   "outputs": [
    {
     "data": {
      "text/plain": [
       "Lasso(alpha=1)"
      ]
     },
     "execution_count": 37,
     "metadata": {},
     "output_type": "execute_result"
    }
   ],
   "source": [
    "# Ajuste del modelo\n",
    "modelo_lasso.fit(X_train,Y_train)"
   ]
  },
  {
   "cell_type": "code",
   "execution_count": 38,
   "metadata": {},
   "outputs": [
    {
     "name": "stdout",
     "output_type": "stream",
     "text": [
      "RMSE: 17241.45\n",
      "MAE: 3643.23\n",
      "R²: 0.23\n"
     ]
    }
   ],
   "source": [
    "# Ahora probemos el rendimiento sobre el conjunto test.\n",
    "y_pred = modelo_lasso.predict(X_test)\n",
    "print(\"RMSE: %.2f\" % mean_squared_error(Y_test, y_pred, squared=False))\n",
    "print(\"MAE: %.2f\" % mean_absolute_error(Y_test, y_pred))\n",
    "print('R²: %.2f' % r2_score(Y_test, y_pred))"
   ]
  },
  {
   "cell_type": "markdown",
   "metadata": {},
   "source": [
    "#### Selección de técnica de validación para escoger el mejor alpha"
   ]
  },
  {
   "cell_type": "markdown",
   "metadata": {},
   "source": [
    "##### 1-Validación cruzada de k-particiones"
   ]
  },
  {
   "cell_type": "code",
   "execution_count": 39,
   "metadata": {},
   "outputs": [],
   "source": [
    "# Fijemos el número de particiones. Utilizaremos K = 10.\n",
    "particiones = KFold(n_splits=10, shuffle=True, random_state = 0)"
   ]
  },
  {
   "cell_type": "code",
   "execution_count": 40,
   "metadata": {},
   "outputs": [],
   "source": [
    "# Ahora tenemos que definir el espacio de búsqueda, es decir, los valores de alpha que queremos que sean considerados. \n",
    "# Para esto se define un diccionario (o grilla) con los valores que podrá asumir el hiperparámetro alpha.\n",
    "# Probemos con los siguientes valores:\n",
    "param_grid = {'alpha': [1, 2, 3, 4, 5]}"
   ]
  },
  {
   "cell_type": "code",
   "execution_count": 41,
   "metadata": {},
   "outputs": [],
   "source": [
    "# Definimos el modelo sin ningún valor del hiperparámetro alpha\n",
    "modelo_lasso = Lasso()"
   ]
  },
  {
   "cell_type": "code",
   "execution_count": 42,
   "metadata": {},
   "outputs": [
    {
     "data": {
      "text/plain": [
       "GridSearchCV(cv=KFold(n_splits=10, random_state=0, shuffle=True),\n",
       "             estimator=Lasso(), n_jobs=-1,\n",
       "             param_grid={'alpha': [1, 2, 3, 4, 5]})"
      ]
     },
     "execution_count": 42,
     "metadata": {},
     "output_type": "execute_result"
    }
   ],
   "source": [
    "# Ahora utilizamos GridSearch sobre el grid definido y con 10 particiones en la validación cruzada.\n",
    "mejor_modelo2 = GridSearchCV(modelo_lasso, param_grid, cv=particiones, n_jobs=-1)\n",
    "# Ajuste del modelo\n",
    "mejor_modelo2.fit(X_train, Y_train)"
   ]
  },
  {
   "cell_type": "code",
   "execution_count": 43,
   "metadata": {},
   "outputs": [
    {
     "name": "stdout",
     "output_type": "stream",
     "text": [
      "Mejor parámetro: {'alpha': 1.0}\n"
     ]
    }
   ],
   "source": [
    "# Podemos ver cual fue el resultado de la búsqueda (mejor valor de alpha)\n",
    "print(\"Mejor parámetro: {}\".format(mejor_modelo.best_params_))"
   ]
  },
  {
   "cell_type": "code",
   "execution_count": 44,
   "metadata": {},
   "outputs": [
    {
     "name": "stdout",
     "output_type": "stream",
     "text": [
      "Mejor parámetro: {'alpha': 1.0}\n"
     ]
    }
   ],
   "source": [
    "# También puedes indicarle a GridSearch que seleccione el mejor modelo a partir de la búsqueda con base en una métrica \n",
    "# particular. Por ejemplo, hubiésemos podido utilizar la siguiente línea de comando:\n",
    "mejor_modelo2 = GridSearchCV(modelo_lasso, param_grid, scoring = 'neg_mean_absolute_error', n_jobs=-1 )\n",
    "mejor_modelo2.fit(X_train, Y_train)\n",
    "print(\"Mejor parámetro: {}\".format(mejor_modelo.best_params_)) "
   ]
  },
  {
   "cell_type": "code",
   "execution_count": 45,
   "metadata": {},
   "outputs": [
    {
     "name": "stdout",
     "output_type": "stream",
     "text": [
      "RMSE: 17241.57\n",
      "MAE: 3648.06\n",
      "R²: 0.23\n"
     ]
    }
   ],
   "source": [
    "modelo_final = mejor_modelo.best_estimator_\n",
    "# Probemos ahora este modelo sobre test.\n",
    "y_pred = modelo_final.predict(X_test)\n",
    "print(\"RMSE: %.2f\" % mean_squared_error(Y_test, y_pred, squared=False))\n",
    "print(\"MAE: %.2f\" % mean_absolute_error(Y_test, y_pred))\n",
    "print('R²: %.2f' % r2_score(Y_test, y_pred))"
   ]
  },
  {
   "cell_type": "markdown",
   "metadata": {},
   "source": [
    "### 2. Importancia de variables y selección"
   ]
  },
  {
   "cell_type": "code",
   "execution_count": 46,
   "metadata": {},
   "outputs": [
    {
     "data": {
      "text/html": [
       "<div>\n",
       "<style scoped>\n",
       "    .dataframe tbody tr th:only-of-type {\n",
       "        vertical-align: middle;\n",
       "    }\n",
       "\n",
       "    .dataframe tbody tr th {\n",
       "        vertical-align: top;\n",
       "    }\n",
       "\n",
       "    .dataframe thead th {\n",
       "        text-align: right;\n",
       "    }\n",
       "</style>\n",
       "<table border=\"1\" class=\"dataframe\">\n",
       "  <thead>\n",
       "    <tr style=\"text-align: right;\">\n",
       "      <th></th>\n",
       "      <th>coeficientes</th>\n",
       "      <th>variables</th>\n",
       "    </tr>\n",
       "  </thead>\n",
       "  <tbody>\n",
       "    <tr>\n",
       "      <th>0</th>\n",
       "      <td>-0.126314</td>\n",
       "      <td>Prec_pre_30</td>\n",
       "    </tr>\n",
       "    <tr>\n",
       "      <th>1</th>\n",
       "      <td>-0.507284</td>\n",
       "      <td>Prec_pre_15</td>\n",
       "    </tr>\n",
       "    <tr>\n",
       "      <th>2</th>\n",
       "      <td>0.639980</td>\n",
       "      <td>Prec_pre_7</td>\n",
       "    </tr>\n",
       "    <tr>\n",
       "      <th>3</th>\n",
       "      <td>-0.602888</td>\n",
       "      <td>Prec_cont</td>\n",
       "    </tr>\n",
       "    <tr>\n",
       "      <th>4</th>\n",
       "      <td>-4965.819280</td>\n",
       "      <td>clase_incendio_B</td>\n",
       "    </tr>\n",
       "    <tr>\n",
       "      <th>5</th>\n",
       "      <td>-5005.882825</td>\n",
       "      <td>clase_incendio_C</td>\n",
       "    </tr>\n",
       "    <tr>\n",
       "      <th>6</th>\n",
       "      <td>-5056.150349</td>\n",
       "      <td>clase_incendio_D</td>\n",
       "    </tr>\n",
       "    <tr>\n",
       "      <th>7</th>\n",
       "      <td>-4633.671224</td>\n",
       "      <td>clase_incendio_E</td>\n",
       "    </tr>\n",
       "    <tr>\n",
       "      <th>8</th>\n",
       "      <td>-1932.896960</td>\n",
       "      <td>clase_incendio_F</td>\n",
       "    </tr>\n",
       "    <tr>\n",
       "      <th>9</th>\n",
       "      <td>21594.420637</td>\n",
       "      <td>clase_incendio_G</td>\n",
       "    </tr>\n",
       "    <tr>\n",
       "      <th>10</th>\n",
       "      <td>-190.689349</td>\n",
       "      <td>mes_incendio_Abril</td>\n",
       "    </tr>\n",
       "    <tr>\n",
       "      <th>11</th>\n",
       "      <td>-266.209343</td>\n",
       "      <td>mes_incendio_Agosto</td>\n",
       "    </tr>\n",
       "    <tr>\n",
       "      <th>12</th>\n",
       "      <td>-172.664635</td>\n",
       "      <td>mes_incendio_Diciembre</td>\n",
       "    </tr>\n",
       "    <tr>\n",
       "      <th>13</th>\n",
       "      <td>-231.597556</td>\n",
       "      <td>mes_incendio_Enero</td>\n",
       "    </tr>\n",
       "    <tr>\n",
       "      <th>14</th>\n",
       "      <td>-64.047893</td>\n",
       "      <td>mes_incendio_Febrero</td>\n",
       "    </tr>\n",
       "    <tr>\n",
       "      <th>15</th>\n",
       "      <td>144.073237</td>\n",
       "      <td>mes_incendio_Julio</td>\n",
       "    </tr>\n",
       "    <tr>\n",
       "      <th>16</th>\n",
       "      <td>1857.748992</td>\n",
       "      <td>mes_incendio_Junio</td>\n",
       "    </tr>\n",
       "    <tr>\n",
       "      <th>17</th>\n",
       "      <td>-314.878132</td>\n",
       "      <td>mes_incendio_Marzo</td>\n",
       "    </tr>\n",
       "    <tr>\n",
       "      <th>18</th>\n",
       "      <td>493.893403</td>\n",
       "      <td>mes_incendio_Mayo</td>\n",
       "    </tr>\n",
       "    <tr>\n",
       "      <th>19</th>\n",
       "      <td>-407.070021</td>\n",
       "      <td>mes_incendio_Noviembre</td>\n",
       "    </tr>\n",
       "    <tr>\n",
       "      <th>20</th>\n",
       "      <td>-46.270245</td>\n",
       "      <td>mes_incendio_Octubre</td>\n",
       "    </tr>\n",
       "    <tr>\n",
       "      <th>21</th>\n",
       "      <td>-802.288459</td>\n",
       "      <td>mes_incendio_Septiembre</td>\n",
       "    </tr>\n",
       "    <tr>\n",
       "      <th>22</th>\n",
       "      <td>849.997251</td>\n",
       "      <td>vegetacion_Bosque templado</td>\n",
       "    </tr>\n",
       "    <tr>\n",
       "      <th>23</th>\n",
       "      <td>1422.391213</td>\n",
       "      <td>vegetacion_Bosque tropical perennifolio</td>\n",
       "    </tr>\n",
       "    <tr>\n",
       "      <th>24</th>\n",
       "      <td>-49.535307</td>\n",
       "      <td>vegetacion_Bosque tropical perennifolio secund...</td>\n",
       "    </tr>\n",
       "    <tr>\n",
       "      <th>25</th>\n",
       "      <td>-1716.306969</td>\n",
       "      <td>vegetacion_Desierto</td>\n",
       "    </tr>\n",
       "    <tr>\n",
       "      <th>26</th>\n",
       "      <td>-313.950680</td>\n",
       "      <td>vegetacion_Desierto polar_roca</td>\n",
       "    </tr>\n",
       "    <tr>\n",
       "      <th>27</th>\n",
       "      <td>-139.959629</td>\n",
       "      <td>vegetacion_Matorral abierto</td>\n",
       "    </tr>\n",
       "    <tr>\n",
       "      <th>28</th>\n",
       "      <td>-52.635879</td>\n",
       "      <td>vegetacion_Pradera_estepa</td>\n",
       "    </tr>\n",
       "  </tbody>\n",
       "</table>\n",
       "</div>"
      ],
      "text/plain": [
       "    coeficientes                                          variables\n",
       "0      -0.126314                                        Prec_pre_30\n",
       "1      -0.507284                                        Prec_pre_15\n",
       "2       0.639980                                         Prec_pre_7\n",
       "3      -0.602888                                          Prec_cont\n",
       "4   -4965.819280                                   clase_incendio_B\n",
       "5   -5005.882825                                   clase_incendio_C\n",
       "6   -5056.150349                                   clase_incendio_D\n",
       "7   -4633.671224                                   clase_incendio_E\n",
       "8   -1932.896960                                   clase_incendio_F\n",
       "9   21594.420637                                   clase_incendio_G\n",
       "10   -190.689349                                 mes_incendio_Abril\n",
       "11   -266.209343                                mes_incendio_Agosto\n",
       "12   -172.664635                             mes_incendio_Diciembre\n",
       "13   -231.597556                                 mes_incendio_Enero\n",
       "14    -64.047893                               mes_incendio_Febrero\n",
       "15    144.073237                                 mes_incendio_Julio\n",
       "16   1857.748992                                 mes_incendio_Junio\n",
       "17   -314.878132                                 mes_incendio_Marzo\n",
       "18    493.893403                                  mes_incendio_Mayo\n",
       "19   -407.070021                             mes_incendio_Noviembre\n",
       "20    -46.270245                               mes_incendio_Octubre\n",
       "21   -802.288459                            mes_incendio_Septiembre\n",
       "22    849.997251                         vegetacion_Bosque templado\n",
       "23   1422.391213            vegetacion_Bosque tropical perennifolio\n",
       "24    -49.535307  vegetacion_Bosque tropical perennifolio secund...\n",
       "25  -1716.306969                                vegetacion_Desierto\n",
       "26   -313.950680                     vegetacion_Desierto polar_roca\n",
       "27   -139.959629                        vegetacion_Matorral abierto\n",
       "28    -52.635879                          vegetacion_Pradera_estepa"
      ]
     },
     "execution_count": 46,
     "metadata": {},
     "output_type": "execute_result"
    }
   ],
   "source": [
    "# Revisar los parámetros del modelo entrenado\n",
    "coeficientes = modelo_final.coef_\n",
    "variables = X_train.columns\n",
    "# Mostrar en una tabla los valores de los coeficientes para cada variable\n",
    "pd.DataFrame({'coeficientes':coeficientes,'variables':variables})"
   ]
  },
  {
   "cell_type": "code",
   "execution_count": null,
   "metadata": {},
   "outputs": [],
   "source": []
  }
 ],
 "metadata": {
  "kernelspec": {
   "display_name": "Python 3 (ipykernel)",
   "language": "python",
   "name": "python3"
  },
  "language_info": {
   "codemirror_mode": {
    "name": "ipython",
    "version": 3
   },
   "file_extension": ".py",
   "mimetype": "text/x-python",
   "name": "python",
   "nbconvert_exporter": "python",
   "pygments_lexer": "ipython3",
   "version": "3.9.12"
  }
 },
 "nbformat": 4,
 "nbformat_minor": 2
}
