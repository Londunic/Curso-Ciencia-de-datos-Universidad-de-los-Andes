{
 "cells": [
  {
   "cell_type": "markdown",
   "metadata": {},
   "source": [
    "[![Banner-Introducci-n.png](https://i.postimg.cc/VkCcqsvv/Banner-Introducci-n.png)](https://postimg.cc/4YsMZgzR)"
   ]
  },
  {
   "cell_type": "markdown",
   "metadata": {},
   "source": [
    "# Introducción a ciencia de datos\n",
    "## L1: Actividad sobre el t-test\n",
    "\n",
    "De acuerdo con nuestro caso de proyecto de Airbnb, queremos inferir o comprobar si la hipótesis de diferencias de precios entre habitaciones de 2 cuartos en la zona central oeste y central norte son significativas. \n",
    "\n",
    "### Objetivos\n",
    "1. Aplicar la validación de hipótesis con intervalos de confianza\n",
    "2. Aplicar un t-test para la comparación de muestras\n"
   ]
  },
  {
   "cell_type": "markdown",
   "metadata": {},
   "source": [
    "### 1. Contexto del caso\n",
    "\n",
    "Esta actividad te permitirá desarrollar una comprensión más profunda de los temas vistos, entre ellos: \n",
    "\n",
    "· Valor T \n",
    "· Prueba T \n",
    "· Valor p \n",
    "· Contraste de hipótesis \n",
    "\n",
    "Para lograr extender lo aprendido se requieres descargar los datos de listings.csv disponibles en el curso. Los datos han sido analizados, depurados y agregados cuando fue apropiado para facilitar la discusión pública. \n",
    "\n",
    "### 2. Preguntas de extensión \n",
    "\n",
    "Utiliza los datos de listings_m y con las columnas de neighbourhood_cleansed(barrios) y price e identifica los diferentes barrios mencionados y sus respectivos precios \n",
    "\n",
    "1. Calcula los promedios de precio de todos los barrios y grafica los resultados \n",
    "\n",
    "2. Realiza una prueba T y obten los valores de T y p, para dos barrios centrales (Centrum-Oost y Centrum-West) \n",
    "\n",
    "3. Identifica la hipótesis a contrastar para validar si los precios entre estos barrios son iguales con la prueba t. \n",
    "\n",
    "4. Evalúa la hipótesis con niveles de significancia del 1%, 5%, 10% "
   ]
  },
  {
   "cell_type": "markdown",
   "metadata": {},
   "source": [
    "### 2. Importación de librerías y archivos\n",
    "En las siguientes líneas de código se importaran los materiales de trabajo necesarios para desarrollar el caso de uso, en esto se incluyen las *librerías y los datos*"
   ]
  },
  {
   "cell_type": "code",
   "execution_count": 2,
   "metadata": {},
   "outputs": [],
   "source": [
    "# Importar las librerías necesarias según el análisis que se vaya a realizar\n",
    "# Librería para comando de sistema\n",
    "import os\n",
    "# Librería para manejo de datos\n",
    "import pandas as pd\n",
    "#librería para cálculos numéricos\n",
    "import numpy as np\n",
    "# Calcular el test estadístico\n",
    "from statsmodels.stats import weightstats as stests\n",
    "#librería para graficar\n",
    "import matplotlib.pyplot as plt"
   ]
  },
  {
   "cell_type": "code",
   "execution_count": 15,
   "metadata": {},
   "outputs": [],
   "source": [
    "# cargar los datos en csv\n",
    "data= pd.read_csv('<Descarga_y_usa_los_datos_de_listings.CSV>', sep=';')"
   ]
  },
  {
   "cell_type": "code",
   "execution_count": 5,
   "metadata": {
    "scrolled": true
   },
   "outputs": [],
   "source": [
    "# Elegir las zonas\n",
    "#..."
   ]
  },
  {
   "cell_type": "code",
   "execution_count": 6,
   "metadata": {
    "scrolled": true
   },
   "outputs": [],
   "source": [
    "# Mostrar promedio de precios de bookings\n",
    "# ..."
   ]
  },
  {
   "cell_type": "code",
   "execution_count": 7,
   "metadata": {},
   "outputs": [],
   "source": [
    "# Valores de z y p\n",
    "#ztest ,pval1 = stests.ztest(..., x2=..., value=0,alternative='two-sided')\n",
    "#print('Valor de z: '+str(ztest))\n",
    "#print('Valor p: '+ str(pval1))"
   ]
  },
  {
   "cell_type": "code",
   "execution_count": 52,
   "metadata": {},
   "outputs": [
    {
     "name": "stdout",
     "output_type": "stream",
     "text": [
      "Rechazar hipótesis nula\n"
     ]
    }
   ],
   "source": [
    "# Regla de decisión si el p valor es menor que la significancia escogida \n",
    "confianza=0.95\n",
    "significancia=1-confianza\n",
    "# Si se tiene menor valor se rechaza la hipótesis nula\n",
    "if pval1<significancia:\n",
    "    print(\"Rechazar hipótesis nula\")\n",
    "else:\n",
    "    print(\"No rechazar hipótesis nula\")"
   ]
  },
  {
   "cell_type": "markdown",
   "metadata": {},
   "source": [
    "Por lo tanto podemos inferir con un nivel de confianza del ...% que los promedios del valor de habitacion entre estas dos zonas para apartamentos de dos alcobas ES ..."
   ]
  },
  {
   "cell_type": "code",
   "execution_count": null,
   "metadata": {},
   "outputs": [],
   "source": []
  }
 ],
 "metadata": {
  "kernelspec": {
   "display_name": "Python 3 (ipykernel)",
   "language": "python",
   "name": "python3"
  },
  "language_info": {
   "codemirror_mode": {
    "name": "ipython",
    "version": 3
   },
   "file_extension": ".py",
   "mimetype": "text/x-python",
   "name": "python",
   "nbconvert_exporter": "python",
   "pygments_lexer": "ipython3",
   "version": "3.9.12"
  }
 },
 "nbformat": 4,
 "nbformat_minor": 2
}
