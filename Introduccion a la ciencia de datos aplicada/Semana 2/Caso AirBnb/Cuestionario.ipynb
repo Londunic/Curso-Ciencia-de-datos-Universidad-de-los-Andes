{
 "cells": [
  {
   "cell_type": "markdown",
   "id": "f78d666c",
   "metadata": {},
   "source": [
    "# Cuestionario"
   ]
  },
  {
   "cell_type": "code",
   "execution_count": 1,
   "id": "f3d8ca70",
   "metadata": {},
   "outputs": [],
   "source": [
    "# Importar las librerías necesarias según el análisis que se vaya a realizar\n",
    "# Librería para comando de sistema\n",
    "import os\n",
    "# Librería para manejo de datos\n",
    "import pandas as pd"
   ]
  },
  {
   "cell_type": "code",
   "execution_count": 2,
   "id": "1a8a80fd",
   "metadata": {},
   "outputs": [
    {
     "name": "stderr",
     "output_type": "stream",
     "text": [
      "C:\\Users\\Edwar\\AppData\\Local\\Temp\\ipykernel_10344\\123426726.py:2: DtypeWarning: Columns (30) have mixed types. Specify dtype option on import or set low_memory=False.\n",
      "  data= pd.read_csv('listings_m.csv', sep=';',encoding='latin-1')\n"
     ]
    }
   ],
   "source": [
    "# cargar los datos en csv\n",
    "data= pd.read_csv('listings_m.csv', sep=';',encoding='latin-1')"
   ]
  },
  {
   "cell_type": "code",
   "execution_count": 3,
   "id": "e7c8b12d",
   "metadata": {},
   "outputs": [
    {
     "data": {
      "text/plain": [
       "0         98.0\n",
       "1         89.0\n",
       "2        100.0\n",
       "3         99.0\n",
       "4         97.0\n",
       "         ...  \n",
       "17820      NaN\n",
       "17821      NaN\n",
       "17822      NaN\n",
       "17823      NaN\n",
       "17824      NaN\n",
       "Name: review_scores_rating, Length: 17825, dtype: float64"
      ]
     },
     "execution_count": 3,
     "metadata": {},
     "output_type": "execute_result"
    }
   ],
   "source": [
    "# Visualizar la  columna review_scores_rating\n",
    "data['review_scores_rating']"
   ]
  },
  {
   "cell_type": "code",
   "execution_count": 4,
   "id": "d92d2d75",
   "metadata": {
    "scrolled": true
   },
   "outputs": [
    {
     "data": {
      "text/plain": [
       "0         98.0\n",
       "1         89.0\n",
       "2        100.0\n",
       "3         99.0\n",
       "4         97.0\n",
       "         ...  \n",
       "17745    100.0\n",
       "17748    100.0\n",
       "17750    100.0\n",
       "17763    100.0\n",
       "17764     70.0\n",
       "Name: review_scores_rating, Length: 15187, dtype: float64"
      ]
     },
     "execution_count": 4,
     "metadata": {},
     "output_type": "execute_result"
    }
   ],
   "source": [
    "#Eliminar los valores NAN de la columna review_scores_rating\n",
    "data=data[data['review_scores_rating'].notna()]\n",
    "data['review_scores_rating']"
   ]
  },
  {
   "cell_type": "markdown",
   "id": "5d1e0f66",
   "metadata": {},
   "source": [
    "### Tabla de frecuencias"
   ]
  },
  {
   "cell_type": "code",
   "execution_count": 5,
   "id": "f753b794",
   "metadata": {},
   "outputs": [],
   "source": [
    "#Funcion para clasificar en intervalos\n",
    "\n",
    "def clasificar(numero:float)-> str:\n",
    "    clasif=\"\"\n",
    "    if numero>=20 and numero<26:\n",
    "        clasif = \"(20,26)\"\n",
    "    elif numero>=26 and numero<32:\n",
    "        clasif = \"(26,32)\"\n",
    "    elif numero>=32 and numero<38:\n",
    "        clasif = \"(32,38)\"\n",
    "    elif numero>=38 and numero<44:\n",
    "        clasif = \"(38,44)\"\n",
    "    elif numero>=44 and numero<50:\n",
    "        clasif = \"(44,50)\"\n",
    "    elif numero>=50 and numero<56:\n",
    "        clasif = \"(50,56)\"\n",
    "    elif numero>=56 and numero<62:\n",
    "        clasif = \"(56,62)\"\n",
    "    elif numero>=62 and numero<68:\n",
    "        clasif = \"(62,68)\"\n",
    "    elif numero>=68 and numero<74:\n",
    "        clasif = \"(68,74)\"\n",
    "    elif numero>=74 and numero<80:\n",
    "        clasif = \"(74,80)\"\n",
    "    elif numero>=80 and numero<86:\n",
    "        clasif = \"(80,86)\"\n",
    "    elif numero>=86 and numero<92:\n",
    "        clasif = \"(86,92)\"\n",
    "    elif numero>=92 and numero<98:\n",
    "        clasif = \"(92,98)\"\n",
    "    elif numero>=98 and numero<104:\n",
    "        clasif = \"(98,104)\"\n",
    "    return clasif"
   ]
  },
  {
   "cell_type": "code",
   "execution_count": 6,
   "id": "327eb89b",
   "metadata": {},
   "outputs": [
    {
     "data": {
      "text/plain": [
       "0        (98,104)\n",
       "1         (86,92)\n",
       "2        (98,104)\n",
       "3        (98,104)\n",
       "4         (92,98)\n",
       "           ...   \n",
       "17745    (98,104)\n",
       "17748    (98,104)\n",
       "17750    (98,104)\n",
       "17763    (98,104)\n",
       "17764     (68,74)\n",
       "Name: Clasif, Length: 15187, dtype: object"
      ]
     },
     "execution_count": 6,
     "metadata": {},
     "output_type": "execute_result"
    }
   ],
   "source": [
    "# Crear la columna clasif en el dataframe data\n",
    "\n",
    "data['Clasif']= data['review_scores_rating'].apply(clasificar)\n",
    "data['Clasif']"
   ]
  },
  {
   "cell_type": "code",
   "execution_count": 7,
   "id": "42b4483b",
   "metadata": {},
   "outputs": [
    {
     "data": {
      "text/html": [
       "<div>\n",
       "<style scoped>\n",
       "    .dataframe tbody tr th:only-of-type {\n",
       "        vertical-align: middle;\n",
       "    }\n",
       "\n",
       "    .dataframe tbody tr th {\n",
       "        vertical-align: top;\n",
       "    }\n",
       "\n",
       "    .dataframe thead th {\n",
       "        text-align: right;\n",
       "    }\n",
       "</style>\n",
       "<table border=\"1\" class=\"dataframe\">\n",
       "  <thead>\n",
       "    <tr style=\"text-align: right;\">\n",
       "      <th></th>\n",
       "      <th>index</th>\n",
       "      <th>Clasif</th>\n",
       "    </tr>\n",
       "  </thead>\n",
       "  <tbody>\n",
       "    <tr>\n",
       "      <th>0</th>\n",
       "      <td>(98,104)</td>\n",
       "      <td>7070</td>\n",
       "    </tr>\n",
       "    <tr>\n",
       "      <th>1</th>\n",
       "      <td>(92,98)</td>\n",
       "      <td>5321</td>\n",
       "    </tr>\n",
       "    <tr>\n",
       "      <th>2</th>\n",
       "      <td>(86,92)</td>\n",
       "      <td>1735</td>\n",
       "    </tr>\n",
       "    <tr>\n",
       "      <th>3</th>\n",
       "      <td>(80,86)</td>\n",
       "      <td>746</td>\n",
       "    </tr>\n",
       "    <tr>\n",
       "      <th>4</th>\n",
       "      <td>(56,62)</td>\n",
       "      <td>96</td>\n",
       "    </tr>\n",
       "    <tr>\n",
       "      <th>5</th>\n",
       "      <td>(68,74)</td>\n",
       "      <td>78</td>\n",
       "    </tr>\n",
       "    <tr>\n",
       "      <th>6</th>\n",
       "      <td>(74,80)</td>\n",
       "      <td>57</td>\n",
       "    </tr>\n",
       "    <tr>\n",
       "      <th>7</th>\n",
       "      <td>(62,68)</td>\n",
       "      <td>27</td>\n",
       "    </tr>\n",
       "    <tr>\n",
       "      <th>8</th>\n",
       "      <td>(20,26)</td>\n",
       "      <td>24</td>\n",
       "    </tr>\n",
       "    <tr>\n",
       "      <th>9</th>\n",
       "      <td>(38,44)</td>\n",
       "      <td>22</td>\n",
       "    </tr>\n",
       "    <tr>\n",
       "      <th>10</th>\n",
       "      <td>(50,56)</td>\n",
       "      <td>8</td>\n",
       "    </tr>\n",
       "    <tr>\n",
       "      <th>11</th>\n",
       "      <td>(44,50)</td>\n",
       "      <td>2</td>\n",
       "    </tr>\n",
       "    <tr>\n",
       "      <th>12</th>\n",
       "      <td>(32,38)</td>\n",
       "      <td>1</td>\n",
       "    </tr>\n",
       "  </tbody>\n",
       "</table>\n",
       "</div>"
      ],
      "text/plain": [
       "       index  Clasif\n",
       "0   (98,104)    7070\n",
       "1    (92,98)    5321\n",
       "2    (86,92)    1735\n",
       "3    (80,86)     746\n",
       "4    (56,62)      96\n",
       "5    (68,74)      78\n",
       "6    (74,80)      57\n",
       "7    (62,68)      27\n",
       "8    (20,26)      24\n",
       "9    (38,44)      22\n",
       "10   (50,56)       8\n",
       "11   (44,50)       2\n",
       "12   (32,38)       1"
      ]
     },
     "execution_count": 7,
     "metadata": {},
     "output_type": "execute_result"
    }
   ],
   "source": [
    "# Frecuencia absoluta\n",
    "\n",
    "frec_data = data['Clasif'].value_counts().reset_index()\n",
    "frec_data"
   ]
  },
  {
   "cell_type": "code",
   "execution_count": 8,
   "id": "aef37da8",
   "metadata": {},
   "outputs": [
    {
     "data": {
      "text/html": [
       "<div>\n",
       "<style scoped>\n",
       "    .dataframe tbody tr th:only-of-type {\n",
       "        vertical-align: middle;\n",
       "    }\n",
       "\n",
       "    .dataframe tbody tr th {\n",
       "        vertical-align: top;\n",
       "    }\n",
       "\n",
       "    .dataframe thead th {\n",
       "        text-align: right;\n",
       "    }\n",
       "</style>\n",
       "<table border=\"1\" class=\"dataframe\">\n",
       "  <thead>\n",
       "    <tr style=\"text-align: right;\">\n",
       "      <th></th>\n",
       "      <th>index</th>\n",
       "      <th>Clasif</th>\n",
       "      <th>%Clasif</th>\n",
       "    </tr>\n",
       "  </thead>\n",
       "  <tbody>\n",
       "    <tr>\n",
       "      <th>0</th>\n",
       "      <td>(98,104)</td>\n",
       "      <td>7070</td>\n",
       "      <td>0.465530</td>\n",
       "    </tr>\n",
       "    <tr>\n",
       "      <th>1</th>\n",
       "      <td>(92,98)</td>\n",
       "      <td>5321</td>\n",
       "      <td>0.350365</td>\n",
       "    </tr>\n",
       "    <tr>\n",
       "      <th>2</th>\n",
       "      <td>(86,92)</td>\n",
       "      <td>1735</td>\n",
       "      <td>0.114242</td>\n",
       "    </tr>\n",
       "    <tr>\n",
       "      <th>3</th>\n",
       "      <td>(80,86)</td>\n",
       "      <td>746</td>\n",
       "      <td>0.049121</td>\n",
       "    </tr>\n",
       "    <tr>\n",
       "      <th>4</th>\n",
       "      <td>(56,62)</td>\n",
       "      <td>96</td>\n",
       "      <td>0.006321</td>\n",
       "    </tr>\n",
       "    <tr>\n",
       "      <th>5</th>\n",
       "      <td>(68,74)</td>\n",
       "      <td>78</td>\n",
       "      <td>0.005136</td>\n",
       "    </tr>\n",
       "    <tr>\n",
       "      <th>6</th>\n",
       "      <td>(74,80)</td>\n",
       "      <td>57</td>\n",
       "      <td>0.003753</td>\n",
       "    </tr>\n",
       "    <tr>\n",
       "      <th>7</th>\n",
       "      <td>(62,68)</td>\n",
       "      <td>27</td>\n",
       "      <td>0.001778</td>\n",
       "    </tr>\n",
       "    <tr>\n",
       "      <th>8</th>\n",
       "      <td>(20,26)</td>\n",
       "      <td>24</td>\n",
       "      <td>0.001580</td>\n",
       "    </tr>\n",
       "    <tr>\n",
       "      <th>9</th>\n",
       "      <td>(38,44)</td>\n",
       "      <td>22</td>\n",
       "      <td>0.001449</td>\n",
       "    </tr>\n",
       "    <tr>\n",
       "      <th>10</th>\n",
       "      <td>(50,56)</td>\n",
       "      <td>8</td>\n",
       "      <td>0.000527</td>\n",
       "    </tr>\n",
       "    <tr>\n",
       "      <th>11</th>\n",
       "      <td>(44,50)</td>\n",
       "      <td>2</td>\n",
       "      <td>0.000132</td>\n",
       "    </tr>\n",
       "    <tr>\n",
       "      <th>12</th>\n",
       "      <td>(32,38)</td>\n",
       "      <td>1</td>\n",
       "      <td>0.000066</td>\n",
       "    </tr>\n",
       "  </tbody>\n",
       "</table>\n",
       "</div>"
      ],
      "text/plain": [
       "       index  Clasif   %Clasif\n",
       "0   (98,104)    7070  0.465530\n",
       "1    (92,98)    5321  0.350365\n",
       "2    (86,92)    1735  0.114242\n",
       "3    (80,86)     746  0.049121\n",
       "4    (56,62)      96  0.006321\n",
       "5    (68,74)      78  0.005136\n",
       "6    (74,80)      57  0.003753\n",
       "7    (62,68)      27  0.001778\n",
       "8    (20,26)      24  0.001580\n",
       "9    (38,44)      22  0.001449\n",
       "10   (50,56)       8  0.000527\n",
       "11   (44,50)       2  0.000132\n",
       "12   (32,38)       1  0.000066"
      ]
     },
     "execution_count": 8,
     "metadata": {},
     "output_type": "execute_result"
    }
   ],
   "source": [
    "#frecuencia relativa\n",
    "\n",
    "frec_data['%Clasif']=frec_data['Clasif'].apply(lambda x: x/frec_data['Clasif'].sum())\n",
    "frec_data"
   ]
  },
  {
   "cell_type": "code",
   "execution_count": 9,
   "id": "5f64cc83",
   "metadata": {},
   "outputs": [
    {
     "data": {
      "text/html": [
       "<div>\n",
       "<style scoped>\n",
       "    .dataframe tbody tr th:only-of-type {\n",
       "        vertical-align: middle;\n",
       "    }\n",
       "\n",
       "    .dataframe tbody tr th {\n",
       "        vertical-align: top;\n",
       "    }\n",
       "\n",
       "    .dataframe thead th {\n",
       "        text-align: right;\n",
       "    }\n",
       "</style>\n",
       "<table border=\"1\" class=\"dataframe\">\n",
       "  <thead>\n",
       "    <tr style=\"text-align: right;\">\n",
       "      <th></th>\n",
       "      <th>index</th>\n",
       "      <th>Clasif</th>\n",
       "      <th>%Clasif</th>\n",
       "      <th>acum_Clasif</th>\n",
       "      <th>acum_%Clasif</th>\n",
       "    </tr>\n",
       "  </thead>\n",
       "  <tbody>\n",
       "    <tr>\n",
       "      <th>0</th>\n",
       "      <td>(98,104)</td>\n",
       "      <td>7070</td>\n",
       "      <td>0.465530</td>\n",
       "      <td>7070</td>\n",
       "      <td>0.465530</td>\n",
       "    </tr>\n",
       "    <tr>\n",
       "      <th>1</th>\n",
       "      <td>(92,98)</td>\n",
       "      <td>5321</td>\n",
       "      <td>0.350365</td>\n",
       "      <td>12391</td>\n",
       "      <td>0.815895</td>\n",
       "    </tr>\n",
       "    <tr>\n",
       "      <th>2</th>\n",
       "      <td>(86,92)</td>\n",
       "      <td>1735</td>\n",
       "      <td>0.114242</td>\n",
       "      <td>14126</td>\n",
       "      <td>0.930138</td>\n",
       "    </tr>\n",
       "    <tr>\n",
       "      <th>3</th>\n",
       "      <td>(80,86)</td>\n",
       "      <td>746</td>\n",
       "      <td>0.049121</td>\n",
       "      <td>14872</td>\n",
       "      <td>0.979259</td>\n",
       "    </tr>\n",
       "    <tr>\n",
       "      <th>4</th>\n",
       "      <td>(56,62)</td>\n",
       "      <td>96</td>\n",
       "      <td>0.006321</td>\n",
       "      <td>14968</td>\n",
       "      <td>0.985580</td>\n",
       "    </tr>\n",
       "    <tr>\n",
       "      <th>5</th>\n",
       "      <td>(68,74)</td>\n",
       "      <td>78</td>\n",
       "      <td>0.005136</td>\n",
       "      <td>15046</td>\n",
       "      <td>0.990716</td>\n",
       "    </tr>\n",
       "    <tr>\n",
       "      <th>6</th>\n",
       "      <td>(74,80)</td>\n",
       "      <td>57</td>\n",
       "      <td>0.003753</td>\n",
       "      <td>15103</td>\n",
       "      <td>0.994469</td>\n",
       "    </tr>\n",
       "    <tr>\n",
       "      <th>7</th>\n",
       "      <td>(62,68)</td>\n",
       "      <td>27</td>\n",
       "      <td>0.001778</td>\n",
       "      <td>15130</td>\n",
       "      <td>0.996247</td>\n",
       "    </tr>\n",
       "    <tr>\n",
       "      <th>8</th>\n",
       "      <td>(20,26)</td>\n",
       "      <td>24</td>\n",
       "      <td>0.001580</td>\n",
       "      <td>15154</td>\n",
       "      <td>0.997827</td>\n",
       "    </tr>\n",
       "    <tr>\n",
       "      <th>9</th>\n",
       "      <td>(38,44)</td>\n",
       "      <td>22</td>\n",
       "      <td>0.001449</td>\n",
       "      <td>15176</td>\n",
       "      <td>0.999276</td>\n",
       "    </tr>\n",
       "    <tr>\n",
       "      <th>10</th>\n",
       "      <td>(50,56)</td>\n",
       "      <td>8</td>\n",
       "      <td>0.000527</td>\n",
       "      <td>15184</td>\n",
       "      <td>0.999802</td>\n",
       "    </tr>\n",
       "    <tr>\n",
       "      <th>11</th>\n",
       "      <td>(44,50)</td>\n",
       "      <td>2</td>\n",
       "      <td>0.000132</td>\n",
       "      <td>15186</td>\n",
       "      <td>0.999934</td>\n",
       "    </tr>\n",
       "    <tr>\n",
       "      <th>12</th>\n",
       "      <td>(32,38)</td>\n",
       "      <td>1</td>\n",
       "      <td>0.000066</td>\n",
       "      <td>15187</td>\n",
       "      <td>1.000000</td>\n",
       "    </tr>\n",
       "  </tbody>\n",
       "</table>\n",
       "</div>"
      ],
      "text/plain": [
       "       index  Clasif   %Clasif  acum_Clasif  acum_%Clasif\n",
       "0   (98,104)    7070  0.465530         7070      0.465530\n",
       "1    (92,98)    5321  0.350365        12391      0.815895\n",
       "2    (86,92)    1735  0.114242        14126      0.930138\n",
       "3    (80,86)     746  0.049121        14872      0.979259\n",
       "4    (56,62)      96  0.006321        14968      0.985580\n",
       "5    (68,74)      78  0.005136        15046      0.990716\n",
       "6    (74,80)      57  0.003753        15103      0.994469\n",
       "7    (62,68)      27  0.001778        15130      0.996247\n",
       "8    (20,26)      24  0.001580        15154      0.997827\n",
       "9    (38,44)      22  0.001449        15176      0.999276\n",
       "10   (50,56)       8  0.000527        15184      0.999802\n",
       "11   (44,50)       2  0.000132        15186      0.999934\n",
       "12   (32,38)       1  0.000066        15187      1.000000"
      ]
     },
     "execution_count": 9,
     "metadata": {},
     "output_type": "execute_result"
    }
   ],
   "source": [
    "# frecuencia absoluta y relativa acumulada con cumsum()\n",
    "# absoluta acumulada\n",
    "\n",
    "frec_data['acum_Clasif']=frec_data['Clasif'].cumsum()\n",
    "\n",
    "# relativa acumulada\n",
    "\n",
    "frec_data['acum_%Clasif']=frec_data['%Clasif'].cumsum()\n",
    "frec_data"
   ]
  },
  {
   "cell_type": "markdown",
   "id": "6470ec2d",
   "metadata": {},
   "source": [
    "### Percentiles"
   ]
  },
  {
   "cell_type": "code",
   "execution_count": 10,
   "id": "92fd7d99",
   "metadata": {},
   "outputs": [
    {
     "data": {
      "text/plain": [
       "0         59\n",
       "1        200\n",
       "2        125\n",
       "3        141\n",
       "4         75\n",
       "        ... \n",
       "17745     95\n",
       "17748    264\n",
       "17750     50\n",
       "17763     38\n",
       "17764     40\n",
       "Name: price, Length: 15187, dtype: int64"
      ]
     },
     "execution_count": 10,
     "metadata": {},
     "output_type": "execute_result"
    }
   ],
   "source": [
    "#Visualizacion\n",
    "\n",
    "data['price']"
   ]
  },
  {
   "cell_type": "code",
   "execution_count": 11,
   "id": "bcbc2033",
   "metadata": {},
   "outputs": [
    {
     "data": {
      "text/plain": [
       "0         59\n",
       "1        200\n",
       "2        125\n",
       "3        141\n",
       "4         75\n",
       "        ... \n",
       "17745     95\n",
       "17748    264\n",
       "17750     50\n",
       "17763     38\n",
       "17764     40\n",
       "Name: price, Length: 15187, dtype: int64"
      ]
     },
     "execution_count": 11,
     "metadata": {},
     "output_type": "execute_result"
    }
   ],
   "source": [
    "data=data[data['price'].notna()]\n",
    "data['price']"
   ]
  },
  {
   "cell_type": "code",
   "execution_count": 12,
   "id": "f7f4f95b",
   "metadata": {},
   "outputs": [
    {
     "data": {
      "text/plain": [
       "190.0"
      ]
     },
     "execution_count": 12,
     "metadata": {},
     "output_type": "execute_result"
    }
   ],
   "source": [
    "# Percentil 78\n",
    "data['price'].quantile(0.78)"
   ]
  },
  {
   "cell_type": "code",
   "execution_count": 13,
   "id": "507f3e7a",
   "metadata": {},
   "outputs": [
    {
     "data": {
      "text/plain": [
       "151.5823401593468"
      ]
     },
     "execution_count": 13,
     "metadata": {},
     "output_type": "execute_result"
    }
   ],
   "source": [
    "#Media\n",
    "\n",
    "data['price'].mean()"
   ]
  },
  {
   "cell_type": "code",
   "execution_count": 14,
   "id": "7cfbbc57",
   "metadata": {},
   "outputs": [
    {
     "data": {
      "text/plain": [
       "0        1\n",
       "1        0\n",
       "2        1\n",
       "3        1\n",
       "4        1\n",
       "        ..\n",
       "17745    1\n",
       "17748    0\n",
       "17750    1\n",
       "17763    1\n",
       "17764    1\n",
       "Name: Precio_menor_media, Length: 15187, dtype: int64"
      ]
     },
     "execution_count": 14,
     "metadata": {},
     "output_type": "execute_result"
    }
   ],
   "source": [
    "data['Precio_menor_media']= data['price'].apply(lambda x: 1 if x<151.58 else 0)\n",
    "data['Precio_menor_media']"
   ]
  },
  {
   "cell_type": "code",
   "execution_count": 15,
   "id": "2550cb51",
   "metadata": {},
   "outputs": [
    {
     "data": {
      "text/plain": [
       "0.663330480015803"
      ]
     },
     "execution_count": 15,
     "metadata": {},
     "output_type": "execute_result"
    }
   ],
   "source": [
    "data['Precio_menor_media'].sum()/15187"
   ]
  },
  {
   "cell_type": "code",
   "execution_count": 16,
   "id": "fe30b2c8",
   "metadata": {},
   "outputs": [
    {
     "data": {
      "text/plain": [
       "135.5540046337229"
      ]
     },
     "execution_count": 16,
     "metadata": {},
     "output_type": "execute_result"
    }
   ],
   "source": [
    "#Desviacion de price\n",
    "\n",
    "data['price'].std()"
   ]
  },
  {
   "cell_type": "code",
   "execution_count": 17,
   "id": "6b89ffbe",
   "metadata": {},
   "outputs": [
    {
     "data": {
      "text/plain": [
       "287.1363447930697"
      ]
     },
     "execution_count": 17,
     "metadata": {},
     "output_type": "execute_result"
    }
   ],
   "source": [
    "#Suma de la media y desviacion estandar\n",
    "\n",
    "data['price'].mean()+data['price'].std()"
   ]
  },
  {
   "cell_type": "code",
   "execution_count": 18,
   "id": "5180bfa0",
   "metadata": {},
   "outputs": [
    {
     "data": {
      "text/plain": [
       "251.5823401593468"
      ]
     },
     "execution_count": 18,
     "metadata": {},
     "output_type": "execute_result"
    }
   ],
   "source": [
    "#Suma de la media y 100 euros\n",
    "data['price'].mean() + 100"
   ]
  }
 ],
 "metadata": {
  "kernelspec": {
   "display_name": "Python 3 (ipykernel)",
   "language": "python",
   "name": "python3"
  },
  "language_info": {
   "codemirror_mode": {
    "name": "ipython",
    "version": 3
   },
   "file_extension": ".py",
   "mimetype": "text/x-python",
   "name": "python",
   "nbconvert_exporter": "python",
   "pygments_lexer": "ipython3",
   "version": "3.9.12"
  }
 },
 "nbformat": 4,
 "nbformat_minor": 5
}
