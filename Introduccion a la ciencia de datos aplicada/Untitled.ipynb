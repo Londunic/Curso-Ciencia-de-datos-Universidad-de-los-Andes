{
 "cells": [
  {
   "cell_type": "code",
   "execution_count": 3,
   "id": "2338aee0",
   "metadata": {},
   "outputs": [
    {
     "data": {
      "text/plain": [
       "4.5"
      ]
     },
     "execution_count": 3,
     "metadata": {},
     "output_type": "execute_result"
    }
   ],
   "source": [
    "# Suponga que un punto de alojamiento de la plataforma de Airbnb ha recibido las siguientes calificaciones, 4.7, 4.5 y 3.9 \n",
    "#¿Cuál debería ser la \n",
    "#próxima calificación mínima que debe recibir este punto de alojamiento para lograr un promedio de calificación de 4.5?\n",
    "\n",
    "(4.7+4.5+3.9+4.9)/4"
   ]
  },
  {
   "cell_type": "code",
   "execution_count": 4,
   "id": "6228c064",
   "metadata": {},
   "outputs": [
    {
     "data": {
      "text/plain": [
       "211.25"
      ]
     },
     "execution_count": 4,
     "metadata": {},
     "output_type": "execute_result"
    }
   ],
   "source": [
    "#Pregunta 2\n",
    "#Supongamos que los datos asociados a los precios de los puntos de alojamiento que dispone la plataforma \n",
    "#Airbnb son $10, $20, $15 y $800 por día, ¿cuál de las siguientes afirmaciones es correcta?\n",
    "\n",
    "(10+20+15+800)/4"
   ]
  }
 ],
 "metadata": {
  "kernelspec": {
   "display_name": "Python 3 (ipykernel)",
   "language": "python",
   "name": "python3"
  },
  "language_info": {
   "codemirror_mode": {
    "name": "ipython",
    "version": 3
   },
   "file_extension": ".py",
   "mimetype": "text/x-python",
   "name": "python",
   "nbconvert_exporter": "python",
   "pygments_lexer": "ipython3",
   "version": "3.9.12"
  }
 },
 "nbformat": 4,
 "nbformat_minor": 5
}
